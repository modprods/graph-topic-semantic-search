{
 "cells": [
  {
   "cell_type": "code",
   "execution_count": 3,
   "id": "807877bf",
   "metadata": {},
   "outputs": [],
   "source": [
    "import requests\n",
    "import shutil\n",
    "import gzip\n",
    "from datetime import date\n",
    "import json\n",
    "import getpass\n",
    "from neo4j import GraphDatabase\n",
    "import time\n",
    "from datetime import date"
   ]
  },
  {
   "cell_type": "markdown",
   "id": "6599f097",
   "metadata": {},
   "source": [
    "## Set up connection information"
   ]
  },
  {
   "cell_type": "code",
   "execution_count": 4,
   "id": "cadda4e2",
   "metadata": {},
   "outputs": [
    {
     "name": "stdin",
     "output_type": "stream",
     "text": [
      " ········\n"
     ]
    }
   ],
   "source": [
    "tmdb_api_key = getpass.getpass()"
   ]
  },
  {
   "cell_type": "code",
   "execution_count": 3,
   "id": "06f97a85",
   "metadata": {},
   "outputs": [
    {
     "name": "stdin",
     "output_type": "stream",
     "text": [
      " ········\n"
     ]
    }
   ],
   "source": [
    "neo4j_password = getpass.getpass()"
   ]
  },
  {
   "cell_type": "code",
   "execution_count": 4,
   "id": "d5d59a05",
   "metadata": {},
   "outputs": [],
   "source": [
    "neo4j_database_name = \"neo4j\"\n",
    "neo4j_user = \"neo4j\"\n",
    "bolt_url = \"neo4j+s://2fe3bf28.databases.neo4j.io\""
   ]
  },
  {
   "cell_type": "code",
   "execution_count": 5,
   "id": "2ec3d3bf",
   "metadata": {},
   "outputs": [],
   "source": [
    "driver = GraphDatabase.driver(bolt_url, auth=(neo4j_user, neo4j_password))"
   ]
  },
  {
   "cell_type": "markdown",
   "id": "70160b0c",
   "metadata": {},
   "source": [
    "## Create Neo4j constraints"
   ]
  },
  {
   "cell_type": "code",
   "execution_count": 6,
   "id": "c20c89dc",
   "metadata": {},
   "outputs": [],
   "source": [
    "with driver.session(database = neo4j_database_name) as session:\n",
    "    session.run(\"CREATE CONSTRAINT movie_tmdb_id_node_key IF NOT EXISTS FOR (m:Movie) REQUIRE m.tmdbId IS NODE KEY\")"
   ]
  },
  {
   "cell_type": "markdown",
   "id": "94a64efe",
   "metadata": {},
   "source": [
    "## Import movies"
   ]
  },
  {
   "cell_type": "code",
   "execution_count": 5,
   "id": "af463f18-2a86-4c1f-9124-c74fb0984ce3",
   "metadata": {},
   "outputs": [],
   "source": [
    "def call_discover_api(page, first_release_date):\n",
    "    \"\"\"Get a page of results following a release date.\n",
    "    Exclude video only releases and adult titles.\"\"\"\n",
    "    today = date.today()\n",
    "    formatted_date = today.strftime(\"%Y-%m-%d\")\n",
    "    params = {\"include_adult\":False,\n",
    "              \"include_video\":False,\n",
    "              \"language\":\"en-US\",\n",
    "              \"page\":page,\n",
    "              \"primary_release_date.gte\": first_release_date,\n",
    "              \"primary_release_date.lte\": formatted_date,\n",
    "              \"sort_by\":\"primary_release_date.asc\",\n",
    "              \"api_key\": tmdb_api_key}\n",
    "    movie_url = \"https://api.themoviedb.org/3/discover/movie\"\n",
    "    api_response = requests.get(movie_url, params=params)\n",
    "    return json.loads(api_response.text)"
   ]
  },
  {
   "cell_type": "code",
   "execution_count": 58,
   "id": "723446eb-c429-47b3-843c-927b355eb45f",
   "metadata": {},
   "outputs": [],
   "source": [
    "def send_to_neo4j(result):\n",
    "    \"\"\"Upload movie results to Neo4j\"\"\"\n",
    "    neo4j_keys = ['id', 'overview', 'release_date', 'title']\n",
    "    neo4j_names = {\"id\": \"tmdbId\", \"release_date\": \"releaseDate\"}\n",
    "    neo4j_data = [{neo4j_names.get(k, k): d[k] for k in neo4j_keys} for d in result['results']]\n",
    "    driver.execute_query(\"\"\"\n",
    "    UNWIND $data AS row\n",
    "    MERGE (m:Movie {tmdbId:row['tmdbId']})\n",
    "    ON CREATE SET m += row\n",
    "    \"\"\",\n",
    "                        {\"data\": neo4j_data})\n",
    "    "
   ]
  },
  {
   "cell_type": "code",
   "execution_count": 72,
   "id": "806c5932-da3f-4d47-b214-0ea802be6f63",
   "metadata": {},
   "outputs": [],
   "source": [
    "def process_page(page, first_release_date):\n",
    "    \"\"\"Get a page of results and send them to Neo4j. \n",
    "    If we have hit the API's max number of pages for a release date, start over at the highest released date retrieved so far.\"\"\"\n",
    "    page_data = call_discover_api(page, first_release_date)\n",
    "    movies_returned = len(page_data['results'])\n",
    "    max_date_processed = first_release_date\n",
    "    if movies_returned > 0:\n",
    "        send_to_neo4j(page_data)\n",
    "        max_date_processed = max([r.get(\"release_date\") for r in page_data['results']])\n",
    "    return movies_returned, max_date_processed"
   ]
  },
  {
   "cell_type": "code",
   "execution_count": 83,
   "id": "9a275cbd-5930-4b64-a004-3843871520d8",
   "metadata": {},
   "outputs": [],
   "source": [
    "def process_all_from_date(release_date):\n",
    "    \"\"\"Get all possible movies starting at a release date.\"\"\"\n",
    "    current_release_date = release_date\n",
    "    movies_returned = 1\n",
    "    previous_date = None\n",
    "    while (current_release_date < date.today().strftime(\"%Y-%m-%d\") \n",
    "           and current_release_date != previous_date): \n",
    "        print(f\"Getting movies starting at {current_release_date}\")\n",
    "        page = 1    \n",
    "        while movies_returned > 0 and page <= 500:\n",
    "            movies_returned, max_release_date = process_page(page, current_release_date)\n",
    "            time.sleep(2)\n",
    "            page = page + 1\n",
    "            if page % 5 == 0:\n",
    "                print(f\"Finished page {page} for date {current_release_date} through {max_release_date}\")\n",
    "        previous_date = current_release_date\n",
    "        current_release_date = max_release_date"
   ]
  },
  {
   "cell_type": "code",
   "execution_count": 82,
   "id": "4e2d86eb-8ef8-4eb9-a28b-24294606f77e",
   "metadata": {},
   "outputs": [
    {
     "name": "stdout",
     "output_type": "stream",
     "text": [
      "Getting movies starting at 2023-10-14\n",
      "Finished page 5 for date 2023-10-14 througn 2023-10-14\n",
      "Finished page 10 for date 2023-10-14 througn 2023-10-15\n",
      "Finished page 15 for date 2023-10-14 througn 2023-10-16\n",
      "Finished page 20 for date 2023-10-14 througn 2023-10-18\n",
      "Finished page 25 for date 2023-10-14 througn 2023-10-19\n",
      "Finished page 30 for date 2023-10-14 througn 2023-10-19\n",
      "Finished page 35 for date 2023-10-14 througn 2023-10-20\n",
      "Finished page 40 for date 2023-10-14 througn 2023-10-20\n",
      "Finished page 45 for date 2023-10-14 througn 2023-10-20\n",
      "Finished page 50 for date 2023-10-14 througn 2023-10-21\n",
      "Finished page 55 for date 2023-10-14 througn 2023-10-22\n",
      "Finished page 60 for date 2023-10-14 througn 2023-10-23\n",
      "Finished page 65 for date 2023-10-14 througn 2023-10-24\n",
      "Finished page 70 for date 2023-10-14 througn 2023-10-25\n",
      "Finished page 75 for date 2023-10-14 througn 2023-10-26\n",
      "Finished page 80 for date 2023-10-14 througn 2023-10-26\n",
      "Finished page 85 for date 2023-10-14 througn 2023-10-27\n",
      "Finished page 90 for date 2023-10-14 througn 2023-10-27\n",
      "Finished page 95 for date 2023-10-14 througn 2023-10-28\n",
      "Finished page 100 for date 2023-10-14 througn 2023-10-28\n",
      "Finished page 105 for date 2023-10-14 througn 2023-10-29\n",
      "Finished page 110 for date 2023-10-14 througn 2023-10-31\n",
      "Finished page 115 for date 2023-10-14 througn 2023-10-31\n",
      "Finished page 120 for date 2023-10-14 througn 2023-11-01\n",
      "Finished page 125 for date 2023-10-14 througn 2023-11-01\n",
      "Finished page 130 for date 2023-10-14 througn 2023-11-02\n",
      "Finished page 135 for date 2023-10-14 througn 2023-11-02\n",
      "Finished page 140 for date 2023-10-14 througn 2023-11-03\n",
      "Finished page 145 for date 2023-10-14 througn 2023-11-03\n",
      "Finished page 150 for date 2023-10-14 througn 2023-11-04\n",
      "Finished page 155 for date 2023-10-14 througn 2023-11-05\n",
      "Finished page 160 for date 2023-10-14 througn 2023-11-07\n",
      "Finished page 165 for date 2023-10-14 througn 2023-11-08\n",
      "Finished page 170 for date 2023-10-14 througn 2023-11-08\n",
      "Finished page 175 for date 2023-10-14 througn 2023-11-09\n",
      "Finished page 180 for date 2023-10-14 througn 2023-11-10\n",
      "Finished page 185 for date 2023-10-14 througn 2023-11-10\n",
      "Finished page 190 for date 2023-10-14 througn 2023-11-11\n",
      "Finished page 195 for date 2023-10-14 througn 2023-11-11\n",
      "Finished page 200 for date 2023-10-14 througn 2023-11-12\n",
      "Finished page 205 for date 2023-10-14 througn 2023-11-13\n",
      "Finished page 210 for date 2023-10-14 througn 2023-11-15\n",
      "Finished page 215 for date 2023-10-14 througn 2023-11-15\n",
      "Finished page 220 for date 2023-10-14 througn 2023-11-16\n",
      "Finished page 225 for date 2023-10-14 througn 2023-11-17\n",
      "Finished page 230 for date 2023-10-14 througn 2023-11-17\n",
      "Finished page 235 for date 2023-10-14 througn 2023-11-18\n",
      "Finished page 240 for date 2023-10-14 througn 2023-11-19\n",
      "Finished page 245 for date 2023-10-14 througn 2023-11-20\n",
      "Finished page 250 for date 2023-10-14 througn 2023-11-20\n",
      "Finished page 255 for date 2023-10-14 througn 2023-11-21\n",
      "Finished page 260 for date 2023-10-14 througn 2023-11-22\n",
      "Finished page 265 for date 2023-10-14 througn 2023-11-23\n",
      "Finished page 270 for date 2023-10-14 througn 2023-11-23\n",
      "Finished page 275 for date 2023-10-14 througn 2023-11-24\n",
      "Finished page 280 for date 2023-10-14 througn 2023-11-25\n",
      "Finished page 285 for date 2023-10-14 througn 2023-11-26\n",
      "Finished page 290 for date 2023-10-14 througn 2023-11-26\n",
      "Finished page 295 for date 2023-10-14 througn 2023-11-27\n",
      "Finished page 300 for date 2023-10-14 througn 2023-11-29\n",
      "Finished page 305 for date 2023-10-14 througn 2023-11-30\n",
      "Finished page 310 for date 2023-10-14 througn 2023-11-30\n",
      "Finished page 315 for date 2023-10-14 througn 2023-12-01\n",
      "Finished page 320 for date 2023-10-14 througn 2023-12-01\n",
      "Finished page 325 for date 2023-10-14 througn 2023-12-01\n",
      "Finished page 330 for date 2023-10-14 througn 2023-12-02\n",
      "Finished page 335 for date 2023-10-14 througn 2023-12-03\n",
      "Finished page 340 for date 2023-10-14 througn 2023-12-05\n",
      "Finished page 345 for date 2023-10-14 througn 2023-12-06\n",
      "Finished page 350 for date 2023-10-14 througn 2023-12-07\n",
      "Finished page 355 for date 2023-10-14 througn 2023-12-07\n",
      "Finished page 360 for date 2023-10-14 througn 2023-12-08\n",
      "Finished page 365 for date 2023-10-14 througn 2023-12-09\n",
      "Finished page 370 for date 2023-10-14 througn 2023-12-10\n",
      "Finished page 375 for date 2023-10-14 througn 2023-12-12\n",
      "Finished page 380 for date 2023-10-14 througn 2023-12-13\n",
      "Finished page 385 for date 2023-10-14 througn 2023-12-14\n",
      "Finished page 390 for date 2023-10-14 througn 2023-12-15\n",
      "Finished page 395 for date 2023-10-14 througn 2023-12-15\n",
      "Finished page 400 for date 2023-10-14 througn 2023-12-16\n",
      "Finished page 405 for date 2023-10-14 througn 2023-12-18\n",
      "Finished page 410 for date 2023-10-14 througn 2023-12-19\n",
      "Finished page 415 for date 2023-10-14 througn 2023-12-21\n",
      "Finished page 420 for date 2023-10-14 througn 2023-12-22\n",
      "Finished page 425 for date 2023-10-14 througn 2023-12-23\n",
      "Finished page 430 for date 2023-10-14 througn 2023-12-24\n",
      "Finished page 435 for date 2023-10-14 througn 2023-12-26\n",
      "Finished page 440 for date 2023-10-14 througn 2023-12-28\n",
      "Finished page 445 for date 2023-10-14 througn 2023-12-29\n",
      "Finished page 450 for date 2023-10-14 througn 2023-12-31\n",
      "Finished page 455 for date 2023-10-14 througn 2024-01-01\n",
      "Finished page 460 for date 2023-10-14 througn 2024-01-01\n",
      "Finished page 465 for date 2023-10-14 througn 2024-01-03\n",
      "Finished page 470 for date 2023-10-14 througn 2024-01-04\n",
      "Finished page 475 for date 2023-10-14 througn 2024-01-06\n",
      "Finished page 480 for date 2023-10-14 througn 2024-01-09\n",
      "Finished page 485 for date 2023-10-14 througn 2024-01-11\n",
      "Finished page 490 for date 2023-10-14 througn 2024-01-12\n",
      "Finished page 495 for date 2023-10-14 througn 2024-01-15\n",
      "Finished page 500 for date 2023-10-14 througn 2024-01-17\n",
      "Getting movies starting at 2024-01-18\n",
      "Finished page 5 for date 2024-01-18 througn 2024-01-18\n",
      "Finished page 10 for date 2024-01-18 througn 2024-01-19\n",
      "Finished page 15 for date 2024-01-18 througn 2024-01-20\n",
      "Finished page 20 for date 2024-01-18 througn 2024-01-20\n",
      "Finished page 25 for date 2024-01-18 througn 2024-01-22\n",
      "Finished page 30 for date 2024-01-18 througn 2024-01-23\n",
      "Finished page 35 for date 2024-01-18 througn 2024-01-25\n",
      "Finished page 40 for date 2024-01-18 througn 2024-01-25\n",
      "Finished page 45 for date 2024-01-18 througn 2024-01-25\n",
      "Finished page 50 for date 2024-01-18 througn 2024-01-26\n",
      "Finished page 55 for date 2024-01-18 througn 2024-01-27\n",
      "Finished page 60 for date 2024-01-18 througn 2024-01-28\n",
      "Finished page 65 for date 2024-01-18 througn 2024-01-30\n",
      "Finished page 70 for date 2024-01-18 througn 2024-01-31\n",
      "Finished page 75 for date 2024-01-18 througn 2024-02-01\n",
      "Finished page 80 for date 2024-01-18 througn 2024-02-02\n",
      "Finished page 85 for date 2024-01-18 througn 2024-02-03\n",
      "Finished page 90 for date 2024-01-18 througn 2024-02-05\n",
      "Finished page 95 for date 2024-01-18 througn 2024-02-07\n",
      "Finished page 100 for date 2024-01-18 througn 2024-02-08\n",
      "Finished page 105 for date 2024-01-18 througn 2024-02-09\n",
      "Finished page 110 for date 2024-01-18 througn 2024-02-11\n",
      "Finished page 115 for date 2024-01-18 througn 2024-02-13\n",
      "Finished page 120 for date 2024-01-18 througn 2024-02-14\n",
      "Finished page 125 for date 2024-01-18 througn 2024-02-15\n",
      "Finished page 130 for date 2024-01-18 througn 2024-02-16\n",
      "Finished page 135 for date 2024-01-18 througn 2024-02-18\n",
      "Finished page 140 for date 2024-01-18 througn 2024-02-20\n",
      "Finished page 145 for date 2024-01-18 througn 2024-02-21\n",
      "Finished page 150 for date 2024-01-18 througn 2024-02-22\n",
      "Finished page 155 for date 2024-01-18 througn 2024-02-23\n",
      "Finished page 160 for date 2024-01-18 througn 2024-02-25\n",
      "Finished page 165 for date 2024-01-18 througn 2024-02-27\n",
      "Finished page 170 for date 2024-01-18 througn 2024-02-28\n",
      "Finished page 175 for date 2024-01-18 througn 2024-02-29\n",
      "Finished page 180 for date 2024-01-18 througn 2024-03-01\n",
      "Finished page 185 for date 2024-01-18 througn 2024-03-02\n",
      "Finished page 190 for date 2024-01-18 througn 2024-03-04\n",
      "Finished page 195 for date 2024-01-18 througn 2024-03-06\n",
      "Finished page 200 for date 2024-01-18 througn 2024-03-07\n",
      "Finished page 205 for date 2024-01-18 througn 2024-03-08\n",
      "Finished page 210 for date 2024-01-18 througn 2024-03-09\n"
     ]
    }
   ],
   "source": [
    "process_all_from_date(\"2023-10-14\")"
   ]
  }
 ],
 "metadata": {
  "kernelspec": {
   "display_name": "neo4j",
   "language": "python",
   "name": "neo4j"
  },
  "language_info": {
   "codemirror_mode": {
    "name": "ipython",
    "version": 3
   },
   "file_extension": ".py",
   "mimetype": "text/x-python",
   "name": "python",
   "nbconvert_exporter": "python",
   "pygments_lexer": "ipython3",
   "version": "3.11.7"
  }
 },
 "nbformat": 4,
 "nbformat_minor": 5
}
