{
 "cells": [
  {
   "cell_type": "code",
   "execution_count": 1,
   "id": "f859aead-9923-4f52-81b8-301af581c496",
   "metadata": {},
   "outputs": [
    {
     "name": "stderr",
     "output_type": "stream",
     "text": [
      "/Users/nathansmith/anaconda3/envs/chatbot/lib/python3.11/site-packages/tqdm/auto.py:21: TqdmWarning: IProgress not found. Please update jupyter and ipywidgets. See https://ipywidgets.readthedocs.io/en/stable/user_install.html\n",
      "  from .autonotebook import tqdm as notebook_tqdm\n"
     ]
    }
   ],
   "source": [
    "from langchain.prompts.chat import (\n",
    "    ChatPromptTemplate,\n",
    "    HumanMessagePromptTemplate,\n",
    "    SystemMessagePromptTemplate,\n",
    ")\n",
    "from langchain.schema import HumanMessage, SystemMessage\n",
    "from langchain_anthropic import ChatAnthropic\n",
    "from graphdatascience import GraphDataScience\n",
    "from getpass import getpass\n",
    "import time\n",
    "import numpy as np\n",
    "import nltk"
   ]
  },
  {
   "cell_type": "markdown",
   "id": "51157ce1-851b-4f34-8faa-0e77f41162d2",
   "metadata": {},
   "source": [
    "# Set up connection information"
   ]
  },
  {
   "cell_type": "code",
   "execution_count": 2,
   "id": "251a00fe-085c-49da-bc21-527cb0301e67",
   "metadata": {},
   "outputs": [
    {
     "name": "stdin",
     "output_type": "stream",
     "text": [
      " ········\n"
     ]
    }
   ],
   "source": [
    "anthropic_api_key = getpass()"
   ]
  },
  {
   "cell_type": "code",
   "execution_count": 4,
   "id": "af3763db-04d4-408c-a685-1feed8e6360b",
   "metadata": {},
   "outputs": [
    {
     "name": "stdin",
     "output_type": "stream",
     "text": [
      " ········\n"
     ]
    }
   ],
   "source": [
    "neo4j_password = getpass()"
   ]
  },
  {
   "cell_type": "code",
   "execution_count": 5,
   "id": "90d21499-49a4-4cfa-8eb5-a3a77d68805e",
   "metadata": {},
   "outputs": [],
   "source": [
    "neo4j_uri = \"neo4j+s://2fe3bf28.databases.neo4j.io\"\n",
    "neo4j_user = \"neo4j\"\n",
    "gds = GraphDataScience(neo4j_uri, auth=(neo4j_user, neo4j_password))"
   ]
  },
  {
   "cell_type": "markdown",
   "id": "42c614a8-3e37-43d3-bd0b-2588f6c75ae8",
   "metadata": {},
   "source": [
    "I was curious to experiment with the Claude 3 models for this, but other models should work fine."
   ]
  },
  {
   "cell_type": "code",
   "execution_count": 8,
   "id": "898c03ab-e247-4099-874d-30a8e082e0c6",
   "metadata": {},
   "outputs": [],
   "source": [
    "chat = ChatAnthropic(temperature=0, model=\"claude-3-sonnet-20240229\", anthropic_api_key=anthropic_api_key)"
   ]
  },
  {
   "cell_type": "markdown",
   "id": "2b635bae-428f-43c8-8b2b-1bf682d46b41",
   "metadata": {},
   "source": [
    "# Get movie data"
   ]
  },
  {
   "cell_type": "code",
   "execution_count": 6,
   "id": "204d52ef-b0dd-4d39-b3f6-fe115f8aa277",
   "metadata": {},
   "outputs": [],
   "source": [
    "movie_info = gds.run_cypher(\n",
    "    \"\"\"MATCH (m:Movie) \n",
    "       WHERE NOT EXISTS {(m)-[:HAS_THEME]->()} \n",
    "       AND trim(m.overview) <> ''\n",
    "       RETURN m.tmdbId AS tmdbId, m{.title, .overview} AS description\"\"\" )"
   ]
  },
  {
   "cell_type": "code",
   "execution_count": 7,
   "id": "19cd3c4a-78e7-4725-83cc-1baa70f75a54",
   "metadata": {},
   "outputs": [
    {
     "data": {
      "text/html": [
       "<div>\n",
       "<style scoped>\n",
       "    .dataframe tbody tr th:only-of-type {\n",
       "        vertical-align: middle;\n",
       "    }\n",
       "\n",
       "    .dataframe tbody tr th {\n",
       "        vertical-align: top;\n",
       "    }\n",
       "\n",
       "    .dataframe thead th {\n",
       "        text-align: right;\n",
       "    }\n",
       "</style>\n",
       "<table border=\"1\" class=\"dataframe\">\n",
       "  <thead>\n",
       "    <tr style=\"text-align: right;\">\n",
       "      <th></th>\n",
       "      <th>tmdbId</th>\n",
       "      <th>description</th>\n",
       "    </tr>\n",
       "  </thead>\n",
       "  <tbody>\n",
       "    <tr>\n",
       "      <th>0</th>\n",
       "      <td>1234165</td>\n",
       "      <td>{'title': 'The Buy Bust Queen', 'overview': 'T...</td>\n",
       "    </tr>\n",
       "    <tr>\n",
       "      <th>1</th>\n",
       "      <td>1234196</td>\n",
       "      <td>{'title': 'Sihinayaki Adare', 'overview': 'Thr...</td>\n",
       "    </tr>\n",
       "    <tr>\n",
       "      <th>2</th>\n",
       "      <td>1234203</td>\n",
       "      <td>{'title': 'Vertical Money', 'overview': 'The f...</td>\n",
       "    </tr>\n",
       "    <tr>\n",
       "      <th>3</th>\n",
       "      <td>1234240</td>\n",
       "      <td>{'title': 'God's Lonely Man', 'overview': 'A g...</td>\n",
       "    </tr>\n",
       "    <tr>\n",
       "      <th>4</th>\n",
       "      <td>1234243</td>\n",
       "      <td>{'title': 'Galym Kaliakbarov: When He Grows Up...</td>\n",
       "    </tr>\n",
       "    <tr>\n",
       "      <th>...</th>\n",
       "      <td>...</td>\n",
       "      <td>...</td>\n",
       "    </tr>\n",
       "    <tr>\n",
       "      <th>2518</th>\n",
       "      <td>1256551</td>\n",
       "      <td>{'title': 'Agastya – Chapter 1', 'overview': '...</td>\n",
       "    </tr>\n",
       "    <tr>\n",
       "      <th>2519</th>\n",
       "      <td>1256574</td>\n",
       "      <td>{'title': 'Eye of the Fen', 'overview': 'Far i...</td>\n",
       "    </tr>\n",
       "    <tr>\n",
       "      <th>2520</th>\n",
       "      <td>1256587</td>\n",
       "      <td>{'title': 'Mushrooms', 'overview': 'n Mushroom...</td>\n",
       "    </tr>\n",
       "    <tr>\n",
       "      <th>2521</th>\n",
       "      <td>1256588</td>\n",
       "      <td>{'title': 'How I Trafficked $5 Million Worth o...</td>\n",
       "    </tr>\n",
       "    <tr>\n",
       "      <th>2522</th>\n",
       "      <td>1256606</td>\n",
       "      <td>{'title': 'Il n'y a pas d'Aventure', 'overview...</td>\n",
       "    </tr>\n",
       "  </tbody>\n",
       "</table>\n",
       "<p>2523 rows × 2 columns</p>\n",
       "</div>"
      ],
      "text/plain": [
       "       tmdbId                                        description\n",
       "0     1234165  {'title': 'The Buy Bust Queen', 'overview': 'T...\n",
       "1     1234196  {'title': 'Sihinayaki Adare', 'overview': 'Thr...\n",
       "2     1234203  {'title': 'Vertical Money', 'overview': 'The f...\n",
       "3     1234240  {'title': 'God's Lonely Man', 'overview': 'A g...\n",
       "4     1234243  {'title': 'Galym Kaliakbarov: When He Grows Up...\n",
       "...       ...                                                ...\n",
       "2518  1256551  {'title': 'Agastya – Chapter 1', 'overview': '...\n",
       "2519  1256574  {'title': 'Eye of the Fen', 'overview': 'Far i...\n",
       "2520  1256587  {'title': 'Mushrooms', 'overview': 'n Mushroom...\n",
       "2521  1256588  {'title': 'How I Trafficked $5 Million Worth o...\n",
       "2522  1256606  {'title': 'Il n'y a pas d'Aventure', 'overview...\n",
       "\n",
       "[2523 rows x 2 columns]"
      ]
     },
     "execution_count": 7,
     "metadata": {},
     "output_type": "execute_result"
    }
   ],
   "source": [
    "movie_info"
   ]
  },
  {
   "cell_type": "markdown",
   "id": "54c556ff-20e3-4ead-932f-959c30d964f6",
   "metadata": {},
   "source": [
    "# Create theme extraction pipeline"
   ]
  },
  {
   "cell_type": "code",
   "execution_count": 10,
   "id": "02c9471d-4971-4c90-84a3-d6f216a34310",
   "metadata": {},
   "outputs": [],
   "source": [
    "system_message = SystemMessage(\n",
    "    content=\"\"\"You are a movie expert. \n",
    "    You are given the tile and overview of the plot of a movie.\n",
    "    Summarize the most memorable themes, settings, and public figures in the movie into a list of up to eight one-to-two word phrases. \n",
    "    Only include the names of people if the person is a famous public figure.\n",
    "    Prioritize any phrases that appear in the movie's title.\n",
    "    You can provide fewer than eight phrases.\n",
    "    Return the phrases as a pipe separated list. \n",
    "    Return only the list without a heading.\"\"\")\n",
    "\n",
    "final_prompt = ChatPromptTemplate.from_messages(\n",
    "    [system_message,\n",
    "     (\"human\", \"\"\"title: {title}\n",
    "     overview: {overview}\"\"\")])\n",
    "\n",
    "summary_chain = final_prompt | chat"
   ]
  },
  {
   "cell_type": "code",
   "execution_count": 11,
   "id": "fdb1bbd9-f305-447a-bb25-df96c9bd7534",
   "metadata": {},
   "outputs": [
    {
     "data": {
      "text/plain": [
       "{'title': 'The Buy Bust Queen',\n",
       " 'overview': 'This tale centers on seven exceptional women who defy gender norms, showcasing their unwavering dedication and resilience in joining an institution traditionally dominated by men.  Their commitment stems from a lifetime of virtues, forming an unshakable foundation that cannot be easily replicated.'}"
      ]
     },
     "execution_count": 11,
     "metadata": {},
     "output_type": "execute_result"
    }
   ],
   "source": [
    "movie_info.loc[0, 'description']"
   ]
  },
  {
   "cell_type": "code",
   "execution_count": 12,
   "id": "070b3bb7-234b-4b22-9078-11beaa25833d",
   "metadata": {},
   "outputs": [
    {
     "data": {
      "text/plain": [
       "AIMessage(content='Exceptional women|Gender norms|Resilience|Male-dominated institution|Lifetime virtues')"
      ]
     },
     "execution_count": 12,
     "metadata": {},
     "output_type": "execute_result"
    }
   ],
   "source": [
    "summary_chain.invoke(movie_info.loc[0, 'description'])"
   ]
  },
  {
   "cell_type": "markdown",
   "id": "ff90618c-9856-47e6-bc03-11401430889b",
   "metadata": {},
   "source": [
    "# Extract themes and send to Neo4j\n",
    "Create a node key constraint for the Theme nodes that requires that all Theme nodes have a unique value for the description property."
   ]
  },
  {
   "cell_type": "code",
   "execution_count": 9,
   "id": "3c680e31-a68a-45d1-b498-3f209c7712a0",
   "metadata": {},
   "outputs": [
    {
     "data": {
      "text/html": [
       "<div>\n",
       "<style scoped>\n",
       "    .dataframe tbody tr th:only-of-type {\n",
       "        vertical-align: middle;\n",
       "    }\n",
       "\n",
       "    .dataframe tbody tr th {\n",
       "        vertical-align: top;\n",
       "    }\n",
       "\n",
       "    .dataframe thead th {\n",
       "        text-align: right;\n",
       "    }\n",
       "</style>\n",
       "<table border=\"1\" class=\"dataframe\">\n",
       "  <thead>\n",
       "    <tr style=\"text-align: right;\">\n",
       "      <th></th>\n",
       "    </tr>\n",
       "  </thead>\n",
       "  <tbody>\n",
       "  </tbody>\n",
       "</table>\n",
       "</div>"
      ],
      "text/plain": [
       "Empty DataFrame\n",
       "Columns: []\n",
       "Index: []"
      ]
     },
     "execution_count": 9,
     "metadata": {},
     "output_type": "execute_result"
    }
   ],
   "source": [
    "gds.run_cypher(\"\"\"CREATE CONSTRAINT theme_node_key IF NOT EXISTS FOR (n:Theme) REQUIRE n.description IS NODE KEY\"\"\")"
   ]
  },
  {
   "cell_type": "code",
   "execution_count": 13,
   "id": "1715a287-b63c-4a32-b1e2-e52cdada1d02",
   "metadata": {},
   "outputs": [],
   "source": [
    "def process_theme_batch(start_index, end_index):\n",
    "    rows = movie_info.iloc[start_index: end_index,:].copy()\n",
    "    results = summary_chain.batch(rows['description'].to_list())\n",
    "    rows['themes'] = [result.content.split(\"|\") for result in results]\n",
    "    gds.run_cypher(\"\"\"\n",
    "    UNWIND $data as d\n",
    "    MATCH (m:Movie {tmdbId:d['tmdbId']})\n",
    "    UNWIND d['themes'] AS theme\n",
    "    MERGE (t:Theme {description:trim(theme)})\n",
    "    WITH t, m\n",
    "    MERGE (m)-[:HAS_THEME {prompt: \"v2\"}]->(t)\n",
    "    \"\"\",\n",
    "                   {\"data\": rows[['tmdbId', 'themes']].to_dict(\"records\")})"
   ]
  },
  {
   "cell_type": "code",
   "execution_count": 14,
   "id": "8f181959-6dd3-494b-be19-47dacebf24c2",
   "metadata": {},
   "outputs": [
    {
     "name": "stdout",
     "output_type": "stream",
     "text": [
      "Finished row 25\n",
      "Finished row 50\n",
      "Finished row 75\n",
      "Finished row 100\n",
      "Finished row 125\n",
      "Finished row 150\n",
      "Finished row 175\n",
      "Finished row 200\n",
      "Finished row 225\n",
      "Finished row 250\n",
      "Finished row 275\n",
      "Finished row 300\n",
      "Finished row 325\n",
      "Finished row 350\n",
      "Finished row 375\n",
      "Finished row 400\n",
      "Finished row 425\n",
      "Finished row 450\n",
      "Finished row 475\n",
      "Finished row 500\n",
      "Finished row 525\n",
      "Finished row 550\n",
      "Finished row 575\n",
      "Finished row 600\n",
      "Finished row 625\n",
      "Finished row 650\n",
      "Finished row 675\n",
      "Finished row 700\n",
      "Finished row 725\n",
      "Finished row 750\n",
      "Finished row 775\n",
      "Finished row 800\n",
      "Finished row 825\n",
      "Finished row 850\n",
      "Finished row 875\n",
      "Finished row 900\n",
      "Finished row 925\n",
      "Finished row 950\n",
      "Finished row 975\n",
      "Finished row 1000\n",
      "Finished row 1025\n",
      "Finished row 1050\n",
      "Finished row 1075\n",
      "Finished row 1100\n",
      "Finished row 1125\n",
      "Finished row 1150\n",
      "Finished row 1175\n",
      "Finished row 1200\n",
      "Finished row 1225\n",
      "Finished row 1250\n",
      "Finished row 1275\n",
      "Finished row 1300\n",
      "Finished row 1325\n",
      "Finished row 1350\n",
      "Finished row 1375\n",
      "Finished row 1400\n",
      "Finished row 1425\n",
      "Finished row 1450\n",
      "Finished row 1475\n",
      "Finished row 1500\n",
      "Finished row 1525\n",
      "Finished row 1550\n",
      "Finished row 1575\n",
      "Finished row 1600\n",
      "Finished row 1625\n",
      "Finished row 1650\n",
      "Finished row 1675\n",
      "Finished row 1700\n",
      "Finished row 1725\n",
      "Finished row 1750\n",
      "Finished row 1775\n",
      "Finished row 1800\n",
      "Finished row 1825\n",
      "Finished row 1850\n",
      "Finished row 1875\n",
      "Finished row 1900\n",
      "Finished row 1925\n",
      "Finished row 1950\n",
      "Finished row 1975\n",
      "Finished row 2000\n",
      "Finished row 2025\n",
      "Finished row 2050\n",
      "Finished row 2075\n",
      "Finished row 2100\n",
      "Finished row 2125\n",
      "Finished row 2150\n",
      "Finished row 2175\n",
      "Finished row 2200\n",
      "Finished row 2225\n",
      "Finished row 2250\n",
      "Finished row 2275\n",
      "Finished row 2300\n",
      "Finished row 2325\n",
      "Finished row 2350\n",
      "Finished row 2375\n",
      "Finished row 2400\n",
      "Finished row 2425\n",
      "Finished row 2450\n",
      "Finished row 2475\n",
      "Finished row 2500\n",
      "Finished row 2525\n"
     ]
    }
   ],
   "source": [
    "for i in range(0, int(movie_info.shape[0]/5) + 1):\n",
    "    process_theme_batch(i*5,(i+1)*5)\n",
    "    if (i + 1) % 5 == 0:\n",
    "        print(f\"Finished row {(i+1)*5}\")\n",
    "    time.sleep(8)"
   ]
  },
  {
   "cell_type": "code",
   "execution_count": null,
   "id": "92a11016-6557-4bf8-a3f0-4a38358de00a",
   "metadata": {},
   "outputs": [],
   "source": []
  }
 ],
 "metadata": {
  "kernelspec": {
   "display_name": "chatbot",
   "language": "python",
   "name": "chatbot"
  },
  "language_info": {
   "codemirror_mode": {
    "name": "ipython",
    "version": 3
   },
   "file_extension": ".py",
   "mimetype": "text/x-python",
   "name": "python",
   "nbconvert_exporter": "python",
   "pygments_lexer": "ipython3",
   "version": "3.11.7"
  }
 },
 "nbformat": 4,
 "nbformat_minor": 5
}
