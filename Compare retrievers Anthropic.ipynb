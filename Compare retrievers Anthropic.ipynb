{
 "cells": [
  {
   "cell_type": "code",
   "execution_count": 2,
   "id": "802bc414-f911-4bad-9431-e2e651aeb5c8",
   "metadata": {},
   "outputs": [
    {
     "name": "stderr",
     "output_type": "stream",
     "text": [
      "/Users/nathansmith/anaconda3/envs/chatbot/lib/python3.11/site-packages/tqdm/auto.py:21: TqdmWarning: IProgress not found. Please update jupyter and ipywidgets. See https://ipywidgets.readthedocs.io/en/stable/user_install.html\n",
      "  from .autonotebook import tqdm as notebook_tqdm\n"
     ]
    }
   ],
   "source": [
    "from langchain_openai import OpenAIEmbeddings\n",
    "from langchain_community.vectorstores.neo4j_vector import Neo4jVector\n",
    "from langchain.chains.combine_documents import create_stuff_documents_chain\n",
    "from langchain.chains import create_retrieval_chain\n",
    "from getpass import getpass\n",
    "from langchain.prompts import ChatPromptTemplate, MessagesPlaceholder, HumanMessagePromptTemplate, PromptTemplate\n",
    "from langchain import hub\n",
    "from langchain_anthropic import ChatAnthropic\n",
    "from graphdatascience import GraphDataScience\n",
    "import pandas as pd"
   ]
  },
  {
   "cell_type": "code",
   "execution_count": 3,
   "id": "40155249-2f11-4d97-80b4-6cc6e7e30a1c",
   "metadata": {},
   "outputs": [
    {
     "name": "stdin",
     "output_type": "stream",
     "text": [
      " ········\n"
     ]
    }
   ],
   "source": [
    "anthropic_api_key = getpass()"
   ]
  },
  {
   "cell_type": "code",
   "execution_count": 9,
   "id": "461eebfa-a3e3-460e-aadf-150632c58ab7",
   "metadata": {},
   "outputs": [
    {
     "name": "stdin",
     "output_type": "stream",
     "text": [
      " ········\n"
     ]
    }
   ],
   "source": [
    "openai_api_key = getpass()"
   ]
  },
  {
   "cell_type": "code",
   "execution_count": 4,
   "id": "aa350128-8eb6-4b9f-a059-c1d6abfb2fd6",
   "metadata": {},
   "outputs": [
    {
     "name": "stdin",
     "output_type": "stream",
     "text": [
      " ········\n"
     ]
    }
   ],
   "source": [
    "neo4j_password = getpass()"
   ]
  },
  {
   "cell_type": "code",
   "execution_count": 5,
   "id": "13cdc1e9-316c-4d3b-bc8b-a7066ffed29a",
   "metadata": {},
   "outputs": [],
   "source": [
    "neo4j_uri = \"neo4j+s://2fe3bf28.databases.neo4j.io\"\n",
    "neo4j_user = \"neo4j\""
   ]
  },
  {
   "cell_type": "code",
   "execution_count": 6,
   "id": "204ae571-90a6-497d-9ce5-ab069cf52ad2",
   "metadata": {},
   "outputs": [],
   "source": [
    "gds = GraphDataScience(neo4j_uri, auth=(neo4j_user, neo4j_password))"
   ]
  },
  {
   "cell_type": "code",
   "execution_count": 7,
   "id": "1169a9e3-161e-4349-ab11-0f28573e69da",
   "metadata": {},
   "outputs": [],
   "source": [
    "def query_movies(query_string, query_type):\n",
    "    queries = {\n",
    "        \"movie\": \"\"\"\n",
    "                    WITH genai.vector.encode($queryString, \"OpenAI\", {token:$token, model: \"text-embedding-3-small\"}) as v\n",
    "                    CALL db.index.vector.queryNodes(\"movie_text_vectors\", 50, v) YIELD node, score \n",
    "                    RETURN score, node.title AS title, node.overview AS overview\n",
    "                    ORDER BY score DESC\"\"\",\n",
    "        \"theme\": \"\"\"\n",
    "                    WITH genai.vector.encode($queryString, \"OpenAI\", {token:$token, model: \"text-embedding-3-small\"}) as v\n",
    "                    CALL db.index.vector.queryNodes(\"theme_vectors\", 10, v) YIELD node, score \n",
    "                    MATCH (node)<-[:HAS_THEME]-(m)\n",
    "                    RETURN node.description AS theme, score, m.title AS title, m.overview AS overview\n",
    "                    ORDER BY score DESC\n",
    "                    \"\"\",\n",
    "        \"theme_group\": \"\"\"\n",
    "                    WITH genai.vector.encode($queryString, \"OpenAI\", {token:$token, model: \"text-embedding-3-small\"}) as v\n",
    "                    CALL db.index.vector.queryNodes(\"theme_group_summary_vectors\", 3, v) YIELD node, score \n",
    "                    MATCH (node)<-[:IN_GROUP]-()<-[:HAS_THEME]-(m)\n",
    "                    RETURN node.descriptions AS themes, score, m.title AS title, m.overview AS overview\n",
    "                    ORDER BY score DESC\"\"\"\n",
    "    }\n",
    "        \n",
    "    movie_df = gds.run_cypher(queries[query_type], {\"queryString\": query_string, \"token\":openai_api_key})\n",
    "    return movie_df"
   ]
  },
  {
   "cell_type": "code",
   "execution_count": 75,
   "id": "be351c08-8d97-46cd-9673-20d0ed697555",
   "metadata": {},
   "outputs": [
    {
     "name": "stderr",
     "output_type": "stream",
     "text": [
      "Warning: model not found. Using cl100k_base encoding.\n",
      "Warning: model not found. Using cl100k_base encoding.\n",
      "Warning: model not found. Using cl100k_base encoding.\n"
     ]
    }
   ],
   "source": [
    "theme_group_query = \"\"\"\n",
    "MATCH (node)<-[:IN_GROUP]-()<-[:HAS_THEME]-(m)\n",
    "WITH m, max(score) AS score, collect(node.descriptions)[0] AS themes \n",
    "RETURN m.overview AS text, score, m{.title, themes:themes} AS metadata\n",
    "ORDER BY score DESC \n",
    "LIMIT 50\n",
    "\"\"\"\n",
    "\n",
    "theme_query = \"\"\"\n",
    "MATCH (node)<-[:HAS_THEME]-(m)\n",
    "WITH m, max(score) AS score \n",
    "RETURN m.overview AS text, score, m{.title, .url} AS metadata\n",
    "ORDER BY score DESC\n",
    "limit 50\n",
    "\"\"\"\n",
    "\n",
    "movie_query = \"\"\"\n",
    "MATCH (node)\n",
    "RETURN node.overview AS text, score, node{.title, .url} AS metadata\n",
    "\"\"\"\n",
    "\n",
    "prompt = ChatPromptTemplate.from_messages([\n",
    "    (\"system\", \"\"\"You are a movie expert providing information about movies.\n",
    "                  Be as helpful as possible and return as much information as possible.\n",
    "                  Do not answer any questions that do not relate to movies.\n",
    "                  Provide your answer as a pipe-separated list of movie titles.\n",
    "                  Only output the list of titles.\n",
    "                  Do not inlcude any headings or other introductory words.\n",
    "                  Answer any questions based solely on the context below:\n",
    "                  <context>\n",
    "                  {context}\n",
    "                  </context>\"\"\"),\n",
    "    MessagesPlaceholder(variable_name=\"chat_history\", optional=True),\n",
    "    (\"user\", \"{input}\"),\n",
    "])\n",
    "\n",
    "movie_info_template= \"overview: {page_content}, title: {title}\"\n",
    "document_prompt = PromptTemplate(input_variables=[\"page_content\", \"title\"],\n",
    "                                 template=movie_info_template\n",
    "                                 )\n",
    "\n",
    "combine_docs_chain = create_stuff_documents_chain(\n",
    "    ChatAnthropic(model=\"claude-3-haiku-20240307\", anthropic_api_key=anthropic_api_key), prompt, document_prompt=document_prompt)\n",
    "\n",
    "\n",
    "def make_chain(query, index, k):\n",
    "    vectorstore = Neo4jVector.from_existing_index(\n",
    "        OpenAIEmbeddings(model=\"text-embedding-3-small\", openai_api_key=openai_api_key),\n",
    "        index_name=index,\n",
    "        retrieval_query=query,\n",
    "        url=neo4j_uri,\n",
    "        username=neo4j_user,\n",
    "        password=neo4j_password)\n",
    "    retriever = vectorstore.as_retriever(search_kwargs={\"k\": k})\n",
    "    chain = create_retrieval_chain(retriever, combine_docs_chain)\n",
    "    return chain\n",
    "\n",
    "movie_chain = make_chain(movie_query, \"movie_text_vectors\", 50)\n",
    "theme_chain = make_chain(theme_query, \"theme_vectors\", 25)\n",
    "theme_group_chain = make_chain(theme_group_query, \"theme_group_summary_vectors\", 25)\n"
   ]
  },
  {
   "cell_type": "code",
   "execution_count": 76,
   "id": "d68faf82-e575-4698-8f41-99d82b7e9ff2",
   "metadata": {},
   "outputs": [],
   "source": [
    "def get_selected_movies(response, query, retriever):\n",
    "    context = response['context']\n",
    "    answers = [answer.strip() for answer in response['answer'].split(\"|\") if answer.strip() != \"\"]\n",
    "    movie_list = []\n",
    "    for answer in answers:\n",
    "        matched_context = [{\"title\":answer, \"overview\": doc.page_content}\n",
    "                           for doc in context if doc.metadata['title'] == answer]\n",
    "        if len(matched_context) == 1:\n",
    "            movie_list.append(matched_context[0])\n",
    "        else:\n",
    "            movie_list.append({\"title\":answer, \"overview\": \"Did not match context\"})\n",
    "    selected_movie_df = pd.DataFrame(movie_list)\n",
    "    selected_movie_df['query'] = query\n",
    "    selected_movie_df['retriever'] = retriever\n",
    "    return selected_movie_df\n",
    "\n",
    "def compare_searches(query):\n",
    "    movie_result = movie_chain.invoke({\"input\": query})\n",
    "    theme_result = theme_chain.invoke({\"input\": query})\n",
    "    theme_group_result = theme_group_chain.invoke({\"input\": query})\n",
    "    \n",
    "    movie_selected = get_selected_movies(movie_result, query, \"movie\")\n",
    "    theme_selected = get_selected_movies(theme_result, query, \"theme\")\n",
    "    theme_group_selected = get_selected_movies(theme_group_result, query, \"theme_group\")\n",
    "    selected_df = pd.concat([movie_selected, theme_selected, theme_group_selected])\n",
    "    \n",
    "    movie_set = set([document.metadata['title'] for document in movie_result['context']])\n",
    "    theme_set = set([document.metadata['title'] for document in theme_result['context']])\n",
    "    theme_group_set = set([document.metadata['title'] for document in theme_group_result['context']])\n",
    "\n",
    "    movie_only = movie_set.difference(theme_set.union(theme_group_set))\n",
    "    theme_only = theme_set.difference(movie_set.union(theme_group_set))\n",
    "    theme_group_only = theme_group_set.difference(movie_set.union(theme_set))\n",
    "    movie_theme = movie_set.intersection(theme_set).difference(theme_group_set)\n",
    "    movie_theme_group = movie_set.intersection(theme_group_set).difference(theme_set)\n",
    "    theme_theme_group = theme_set.intersection(theme_group_set).difference(movie_set)\n",
    "    all_lists = movie_set.intersection(theme_set).intersection(theme_group_set)\n",
    "    \n",
    "    output_df = pd.DataFrame()\n",
    "    output_df.loc[\"movie_answer\", \"result\"] = movie_result['answer']\n",
    "    output_df.loc[\"theme_answer\", \"result\"] = theme_result['answer']\n",
    "    output_df.loc[\"theme_group_answer\", \"result\"] = theme_group_result['answer']\n",
    "    output_df.loc[\"movie_only_context\", \"result\"] = movie_only\n",
    "    output_df.loc[\"theme_only_context\", \"result\"] = theme_only\n",
    "    output_df.loc[\"theme_group_only_context\", \"result\"] = theme_group_only\n",
    "    output_df.loc[\"movie_theme_context\", \"result\"] = movie_theme\n",
    "    output_df.loc[\"movie_theme_group_context\", \"result\"] = movie_theme_group\n",
    "    output_df.loc[\"theme_theme_group_context\", \"result\"] = theme_theme_group\n",
    "    output_df.loc[\"all_context\", \"result\"] = all_lists\n",
    "    \n",
    "    return output_df, selected_df"
   ]
  },
  {
   "cell_type": "code",
   "execution_count": 77,
   "id": "f25a6a72-8ef0-41ba-8610-d3ad5f5df5dc",
   "metadata": {},
   "outputs": [],
   "source": [
    "pd.set_option('display.max_colwidth', None)"
   ]
  },
  {
   "cell_type": "code",
   "execution_count": 78,
   "id": "ca876b27-dec6-4490-8db6-1e7feae99150",
   "metadata": {},
   "outputs": [
    {
     "name": "stderr",
     "output_type": "stream",
     "text": [
      "Warning: model not found. Using cl100k_base encoding.\n",
      "Warning: model not found. Using cl100k_base encoding.\n",
      "Warning: model not found. Using cl100k_base encoding.\n"
     ]
    },
    {
     "data": {
      "text/html": [
       "<div>\n",
       "<style scoped>\n",
       "    .dataframe tbody tr th:only-of-type {\n",
       "        vertical-align: middle;\n",
       "    }\n",
       "\n",
       "    .dataframe tbody tr th {\n",
       "        vertical-align: top;\n",
       "    }\n",
       "\n",
       "    .dataframe thead th {\n",
       "        text-align: right;\n",
       "    }\n",
       "</style>\n",
       "<table border=\"1\" class=\"dataframe\">\n",
       "  <thead>\n",
       "    <tr style=\"text-align: right;\">\n",
       "      <th></th>\n",
       "      <th>result</th>\n",
       "    </tr>\n",
       "  </thead>\n",
       "  <tbody>\n",
       "    <tr>\n",
       "      <th>movie_answer</th>\n",
       "      <td>| Beautiful Pleasant Trivial | Pioniere der Filmmusik - Europas Sound für Hollywood | I Hear a Symphony | Poster Child | Lenechka | Symphonic Sketches | Music Genres. Voices of the World | Asfalto che suona | Film Fest Gent | Milestones | The Musical Mind: A Portrait in Process | Fantasymphony II - A Concert of Fire and Magic | A Piano Tune | Nosferatu: A Symphony of Horror | Casanova and The Three Graces | The Battle for Swan Lake | Songs from the Hole | Doraemon the Movie: Nobita's Earth Symphony | The Piper | IN THE BASEMENT OF APOLLO HALL | Sergey Slonimsky. Bells | A Slippage in Five Movements | Cici's Sonata | Living Bach | Shchedrin Suite |</td>\n",
       "    </tr>\n",
       "    <tr>\n",
       "      <th>theme_answer</th>\n",
       "      <td>| Crescendo | Symphony n. 9 by Ludwig van Beethoven in St. Mark's Square | Symphonic Sketches | Als ik zelf de zon ben | Vika! | Angelheaded Hipster: The Songs of Marc Bolan &amp; T. Rex | Pioniere der Filmmusik - Europas Sound für Hollywood | Beautiful Pleasant Trivial | Double Around the Interlude | Boléro |</td>\n",
       "    </tr>\n",
       "    <tr>\n",
       "      <th>theme_group_answer</th>\n",
       "      <td>|Als ik zelf de zon ben|Crescendo|Symphony n. 9 by Ludwig van Beethoven in St. Mark's Square|Symphonic Sketches|The Orchestra Chuck Built|Celtic Woman: 20th Anniversary Show|My Favorite Things: The Rodgers &amp; Hammerstein 80th Anniversary Concert|Mozart's Requiem|The Only Girl in the Orchestra|Do You See Me?|Música!</td>\n",
       "    </tr>\n",
       "    <tr>\n",
       "      <th>movie_only_context</th>\n",
       "      <td>{Reminder, Echo Sonata, The Whale Song, Lenechka, Istanbul Trilogy: Music, Andrey Konchalovsky’s Cinema Odyssey, Milestones, Pandora's Legacy, One For My Baby, Poster Child, A Love Letter to Cinema, Nocturne, Living Bach, Mūza, Symphony of the Holocaust, Was Once One, Film Fest Gent, In the Conservatory, The Nice Trip, Symphony of Suffering, Why Movies?, Cici's Sonata, Shchedrin Suite, The Battle for Swan Lake, Songs from the Hole, Casanova and The Three Graces, Sergey Slonimsky. Bells, A Slippage in Five Movements, Passing Time, The Movie Man, The Piper, Vampire Stories: Bluttanz, Planet Maximus, I. / II. / III., In The Shadow Of The Horns, IN THE BASEMENT OF APOLLO HALL}</td>\n",
       "    </tr>\n",
       "    <tr>\n",
       "      <th>theme_only_context</th>\n",
       "      <td>{The Tragic Death of a Frenchman, Oprah &amp; The Color Purple Journey, Dicks: The Musical, Smosh: Anthony is Dead: The Funeral Roast, Angelheaded Hipster: The Songs of Marc Bolan &amp; T. Rex, Maya! The Musical, Pretty Ugly - The Story Of The Lunachicks, Joker Out - Live from Arena Stožice, Dream Time, Mountainside, Portraits of a New York City Rock Band, Marta, la musical. Una ópera de Dani Umpi., Kikoriki are Making a Movie, Thriller 40, Show Tunes at the BBC, BACKSTAGE: The Movie, The Decline of Southwestern Civilization Pt. 1, The Great Curdling, Kevin Morby: Harlem River 10, Double Around the Interlude, TAYLOR SWIFT | THE ERAS TOUR, Trouble with Johnny, Five Percent, Be Our Guest! Behind the Scenes of Beauty and the Beast: The Musical, Big Night of Musicals by the National Lottery - 2024, Baltimore, Blockbuster, BLACKPINK WORLD TOUR [BORN PINK] FINALE IN SEOUL, Vergeet Barbara - De Musical, A Minor Problem, Maggie Lindemann: SUCKERPUNCH WORLD TOUR, Otto Baxter: Not A F***ing Horror Story, I Love Nancy Meyers, Absolve, Vika!, Cruel Like You, Armin van Buuren Presents This is Me: Feel Again}</td>\n",
       "    </tr>\n",
       "    <tr>\n",
       "      <th>theme_group_only_context</th>\n",
       "      <td>{Do You See Me?, My Name's Ben Folds – I Play Piano, The Runaway, Fanny: The Other Mendelssohn, Ryuichi Sakamoto | Opus, American Symphony, Celtic Woman: 20th Anniversary Show, What If?, Wait and See, Das Märchen von der Zauberflöte, Brilliant A, Dao, Pho Va Piano, Between the Temples, The Devil Went Down To Islington, Carnaval: La Fiesta entre la Carne y el Espíritu, Piano in the Bushes, Mozart's Requiem, The Ukeman, The Orchestra Chuck Built, My Favorite Things: The Rodgers &amp; Hammerstein 80th Anniversary Concert, Bee's Knee's, Trolls Band Together, Keys to the Heart, Benevolence, The Complete Taylor Swift Story, Stars, Eye for an Eye, Lil' Santa's Book Club: The Christmas Reindeer, The Only Girl in the Orchestra, Roots of Fire, Goddess of Speed, Christmas at Graceland, Le Nozze Di Figaro - Opera Ballet Vlaanderen}</td>\n",
       "    </tr>\n",
       "    <tr>\n",
       "      <th>movie_theme_context</th>\n",
       "      <td>{Asfalto che suona, Beautiful Pleasant Trivial, berlinmusik, Pioniere der Filmmusik - Europas Sound für Hollywood}</td>\n",
       "    </tr>\n",
       "    <tr>\n",
       "      <th>movie_theme_group_context</th>\n",
       "      <td>{Horrible Histories: 'Orrible Opera, A Piano Tune, Fantasymphony II - A Concert of Fire and Magic, Doraemon the Movie: Nobita's Earth Symphony, I Hear a Symphony, Música!, Nosferatu: A Symphony of Horror, The Musical Mind: A Portrait in Process}</td>\n",
       "    </tr>\n",
       "    <tr>\n",
       "      <th>theme_theme_group_context</th>\n",
       "      <td>{Symphony n. 9 by Ludwig van Beethoven in St. Mark’s Square, Boléro, Crescendo, We'll be Singing by September, Seotaiji 25 Live Time : Traveler, Als ik zelf de zon ben, Femboy Beat Making: The Making of Trout Jazz}</td>\n",
       "    </tr>\n",
       "    <tr>\n",
       "      <th>all_context</th>\n",
       "      <td>{Symphonic Sketches, Music Genres. Voices of the World}</td>\n",
       "    </tr>\n",
       "  </tbody>\n",
       "</table>\n",
       "</div>"
      ],
      "text/plain": [
       "                                                                                                                                                                                                                                                                                                                                                                                                                                                                                                                                                                                                                                                                                                                                                                                                                                                                                                                                                                                                                                                                                                                                                                     result\n",
       "movie_answer                                                                                                                                                                                                                                                                                                                                                                                                                                                                                | Beautiful Pleasant Trivial | Pioniere der Filmmusik - Europas Sound für Hollywood | I Hear a Symphony | Poster Child | Lenechka | Symphonic Sketches | Music Genres. Voices of the World | Asfalto che suona | Film Fest Gent | Milestones | The Musical Mind: A Portrait in Process | Fantasymphony II - A Concert of Fire and Magic | A Piano Tune | Nosferatu: A Symphony of Horror | Casanova and The Three Graces | The Battle for Swan Lake | Songs from the Hole | Doraemon the Movie: Nobita's Earth Symphony | The Piper | IN THE BASEMENT OF APOLLO HALL | Sergey Slonimsky. Bells | A Slippage in Five Movements | Cici's Sonata | Living Bach | Shchedrin Suite |\n",
       "theme_answer                                                                                                                                                                                                                                                                                                                                                                                                                                                                                                                                                                                                                                                                                                                                                                                                                                            | Crescendo | Symphony n. 9 by Ludwig van Beethoven in St. Mark's Square | Symphonic Sketches | Als ik zelf de zon ben | Vika! | Angelheaded Hipster: The Songs of Marc Bolan & T. Rex | Pioniere der Filmmusik - Europas Sound für Hollywood | Beautiful Pleasant Trivial | Double Around the Interlude | Boléro |\n",
       "theme_group_answer                                                                                                                                                                                                                                                                                                                                                                                                                                                                                                                                                                                                                                                                                                                                                                                                                              |Als ik zelf de zon ben|Crescendo|Symphony n. 9 by Ludwig van Beethoven in St. Mark's Square|Symphonic Sketches|The Orchestra Chuck Built|Celtic Woman: 20th Anniversary Show|My Favorite Things: The Rodgers & Hammerstein 80th Anniversary Concert|Mozart's Requiem|The Only Girl in the Orchestra|Do You See Me?|Música!\n",
       "movie_only_context                                                                                                                                                                                                                                                                                                                                                                                                                                                {Reminder, Echo Sonata, The Whale Song, Lenechka, Istanbul Trilogy: Music, Andrey Konchalovsky’s Cinema Odyssey, Milestones, Pandora's Legacy, One For My Baby, Poster Child, A Love Letter to Cinema, Nocturne, Living Bach, Mūza, Symphony of the Holocaust, Was Once One, Film Fest Gent, In the Conservatory, The Nice Trip, Symphony of Suffering, Why Movies?, Cici's Sonata, Shchedrin Suite, The Battle for Swan Lake, Songs from the Hole, Casanova and The Three Graces, Sergey Slonimsky. Bells, A Slippage in Five Movements, Passing Time, The Movie Man, The Piper, Vampire Stories: Bluttanz, Planet Maximus, I. / II. / III., In The Shadow Of The Horns, IN THE BASEMENT OF APOLLO HALL}\n",
       "theme_only_context         {The Tragic Death of a Frenchman, Oprah & The Color Purple Journey, Dicks: The Musical, Smosh: Anthony is Dead: The Funeral Roast, Angelheaded Hipster: The Songs of Marc Bolan & T. Rex, Maya! The Musical, Pretty Ugly - The Story Of The Lunachicks, Joker Out - Live from Arena Stožice, Dream Time, Mountainside, Portraits of a New York City Rock Band, Marta, la musical. Una ópera de Dani Umpi., Kikoriki are Making a Movie, Thriller 40, Show Tunes at the BBC, BACKSTAGE: The Movie, The Decline of Southwestern Civilization Pt. 1, The Great Curdling, Kevin Morby: Harlem River 10, Double Around the Interlude, TAYLOR SWIFT | THE ERAS TOUR, Trouble with Johnny, Five Percent, Be Our Guest! Behind the Scenes of Beauty and the Beast: The Musical, Big Night of Musicals by the National Lottery - 2024, Baltimore, Blockbuster, BLACKPINK WORLD TOUR [BORN PINK] FINALE IN SEOUL, Vergeet Barbara - De Musical, A Minor Problem, Maggie Lindemann: SUCKERPUNCH WORLD TOUR, Otto Baxter: Not A F***ing Horror Story, I Love Nancy Meyers, Absolve, Vika!, Cruel Like You, Armin van Buuren Presents This is Me: Feel Again}\n",
       "theme_group_only_context                                                                                                                                                                                                                                                                                        {Do You See Me?, My Name's Ben Folds – I Play Piano, The Runaway, Fanny: The Other Mendelssohn, Ryuichi Sakamoto | Opus, American Symphony, Celtic Woman: 20th Anniversary Show, What If?, Wait and See, Das Märchen von der Zauberflöte, Brilliant A, Dao, Pho Va Piano, Between the Temples, The Devil Went Down To Islington, Carnaval: La Fiesta entre la Carne y el Espíritu, Piano in the Bushes, Mozart's Requiem, The Ukeman, The Orchestra Chuck Built, My Favorite Things: The Rodgers & Hammerstein 80th Anniversary Concert, Bee's Knee's, Trolls Band Together, Keys to the Heart, Benevolence, The Complete Taylor Swift Story, Stars, Eye for an Eye, Lil' Santa's Book Club: The Christmas Reindeer, The Only Girl in the Orchestra, Roots of Fire, Goddess of Speed, Christmas at Graceland, Le Nozze Di Figaro - Opera Ballet Vlaanderen}\n",
       "movie_theme_context                                                                                                                                                                                                                                                                                                                                                                                                                                                                                                                                                                                                                                                                                                                                                                                                                                                                                                                                                                                                                                      {Asfalto che suona, Beautiful Pleasant Trivial, berlinmusik, Pioniere der Filmmusik - Europas Sound für Hollywood}\n",
       "movie_theme_group_context                                                                                                                                                                                                                                                                                                                                                                                                                                                                                                                                                                                                                                                                                                                                                                                                                                                                                             {Horrible Histories: 'Orrible Opera, A Piano Tune, Fantasymphony II - A Concert of Fire and Magic, Doraemon the Movie: Nobita's Earth Symphony, I Hear a Symphony, Música!, Nosferatu: A Symphony of Horror, The Musical Mind: A Portrait in Process}\n",
       "theme_theme_group_context                                                                                                                                                                                                                                                                                                                                                                                                                                                                                                                                                                                                                                                                                                                                                                                                                                                                                                                            {Symphony n. 9 by Ludwig van Beethoven in St. Mark’s Square, Boléro, Crescendo, We'll be Singing by September, Seotaiji 25 Live Time : Traveler, Als ik zelf de zon ben, Femboy Beat Making: The Making of Trout Jazz}\n",
       "all_context                                                                                                                                                                                                                                                                                                                                                                                                                                                                                                                                                                                                                                                                                                                                                                                                                                                                                                                                                                                                                                                                                                         {Symphonic Sketches, Music Genres. Voices of the World}"
      ]
     },
     "execution_count": 78,
     "metadata": {},
     "output_type": "execute_result"
    }
   ],
   "source": [
    "output_df, current_selected_df = compare_searches(\"What are some titles of movies about classical music?\")\n",
    "selected_df = current_selected_df\n",
    "output_df"
   ]
  },
  {
   "cell_type": "code",
   "execution_count": 79,
   "id": "dc334ecb-7af4-42c3-b49e-f20c908bc068",
   "metadata": {},
   "outputs": [
    {
     "name": "stderr",
     "output_type": "stream",
     "text": [
      "Warning: model not found. Using cl100k_base encoding.\n",
      "Warning: model not found. Using cl100k_base encoding.\n",
      "Warning: model not found. Using cl100k_base encoding.\n"
     ]
    },
    {
     "data": {
      "text/html": [
       "<div>\n",
       "<style scoped>\n",
       "    .dataframe tbody tr th:only-of-type {\n",
       "        vertical-align: middle;\n",
       "    }\n",
       "\n",
       "    .dataframe tbody tr th {\n",
       "        vertical-align: top;\n",
       "    }\n",
       "\n",
       "    .dataframe thead th {\n",
       "        text-align: right;\n",
       "    }\n",
       "</style>\n",
       "<table border=\"1\" class=\"dataframe\">\n",
       "  <thead>\n",
       "    <tr style=\"text-align: right;\">\n",
       "      <th></th>\n",
       "      <th>result</th>\n",
       "    </tr>\n",
       "  </thead>\n",
       "  <tbody>\n",
       "    <tr>\n",
       "      <th>movie_answer</th>\n",
       "      <td>| Young Again | Thunder Rolls! The World of Blind Baseball | Shohei Ohtani: Beyond the Dream | Monster Under The River | The Astros Edge | Indoor Baseball | unDEFILED | Below the Rim |</td>\n",
       "    </tr>\n",
       "    <tr>\n",
       "      <th>theme_answer</th>\n",
       "      <td>|Carson Bigbee: The Pirate of America's Pastime|unDEFILED|Monster Under The River|Heritage Minutes: Mary \"Bonnie\" Baker|Samurai Japan: The Story Behind the WBC Clean Sweep|The Astros Edge|Shohei Ohtani: Beyond the Dream|Young Again|Thunder Rolls! The World of Blind Baseball</td>\n",
       "    </tr>\n",
       "    <tr>\n",
       "      <th>theme_group_answer</th>\n",
       "      <td>| Samurai Japan: The Story Behind the WBC Clean Sweep | Carson Bigbee: The Pirate of America's Pastime | unDEFILED | Monster Under The River | Heritage Minutes: Mary \"Bonnie\" Baker | Smashing Pumpkins | The Astros Edge | Shame |</td>\n",
       "    </tr>\n",
       "    <tr>\n",
       "      <th>movie_only_context</th>\n",
       "      <td>{Butchy's Big Pitch, Groundbreakers, Sole: The Movie, I'll Crush Y'all, A Movie With No Views On Letterboxd, How India Stole and Killed Cricket, Humbly Super Famous, Swing Bout, Holiday Heist, Made in Massachusetts: 100 Years of Filmmaking in the Bay State, Fuggeddaboutitt, Brothers, Heads and Tails, Below the Rim, The Godfrey Project, Ethan the Roid Junkie, The Big Catch, Squatch Junkies, Frank Capra: Mr. America, Blue Star, Why Movies?, Diamante – Fussballgott, Falling in Love Like in Movies, The Power of the Strike, No Ball Games, Because They Believed, Movie (Choke), The Movie Man, Labranza, Joe, Left Brain, Blood Money, BRADMAN: The Movie, Bowlhead, The Hurler: A Campion's Tale}</td>\n",
       "    </tr>\n",
       "    <tr>\n",
       "      <th>theme_only_context</th>\n",
       "      <td>{Adventures in Perception, We Joined A Cult, The Tragic Death of a Frenchman, Oprah &amp; The Color Purple Journey, Swimming in a Sand Pool, Strade perdute - Filmmaker 23, Sharko, Živko Nikolić - Unfulfilled Dream, La stoccata vincente, Mountainside, Mi Ópera Prima, Trouble with Johnny, Love &amp; Films, Merchant Ivory, MARN, dressed in nudity, Three Solar Exercises, Dans le Film, le Film des Films au Cinema Pour le Cinema qui Joue des Films, Consumed, Singapore Films: To The World &amp; Back}</td>\n",
       "    </tr>\n",
       "    <tr>\n",
       "      <th>theme_group_only_context</th>\n",
       "      <td>{Charles Barkley Comes Out, Wardell Stephen Curry, Young Guns: The New Tennis Titans, Kingdome, Warrior Strong, Out of Bounds, Al Chile!, Backboard, NFL Films - The History of Player Introductions, The Netflix Slam, Pickup, Djokovic Unmasked, The Minister of Defense, After Dawn, Terrion Arnold: Prolific, One More Shot, The Ticket, Hada, Hard Feelings, Triangle Park, La cancha, 5th QTR, Leo, Bye Bye Barry, Dealova, Rally, Big Time, Sue Bird: In the Clutch, Divine Providence, Eureka, Hoop Cities - NBA Feature Documentary, Home and Away, Giannis: The Marvelous Journey, Imbroda, el legado del maestro, Rudy Gobert N°27}</td>\n",
       "    </tr>\n",
       "    <tr>\n",
       "      <th>movie_theme_context</th>\n",
       "      <td>{Young Again, Thunder Rolls! The World of Blind Baseball, Shohei Ohtani: Beyond the Dream, Kanashimi, Indoor Baseball}</td>\n",
       "    </tr>\n",
       "    <tr>\n",
       "      <th>movie_theme_group_context</th>\n",
       "      <td>{Iceman: A George Gervin Story, Lady Ballers, GROUNDED., Freaky Tales, Gold Blooded - NBA Feature Documentary}</td>\n",
       "    </tr>\n",
       "    <tr>\n",
       "      <th>theme_theme_group_context</th>\n",
       "      <td>{The Hoop Dreams Holiday Special, Heritage Minutes: Mary \"Bonnie\" Baker, Smashing Pumpkins, Shame, The Many Worlds of George Goodman}</td>\n",
       "    </tr>\n",
       "    <tr>\n",
       "      <th>all_context</th>\n",
       "      <td>{Carson Bigbee: The Pirate of America's Pastime, Monster Under The River, Samurai Japan: The Story Behind the WBC Clean Sweep, unDEFILED, The Astros Edge}</td>\n",
       "    </tr>\n",
       "  </tbody>\n",
       "</table>\n",
       "</div>"
      ],
      "text/plain": [
       "                                                                                                                                                                                                                                                                                                                                                                                                                                                                                                                                                                                                                                                                                                                                         result\n",
       "movie_answer                                                                                                                                                                                                                                                                                                                                                                                                                                                                                                                                           | Young Again | Thunder Rolls! The World of Blind Baseball | Shohei Ohtani: Beyond the Dream | Monster Under The River | The Astros Edge | Indoor Baseball | unDEFILED | Below the Rim |\n",
       "theme_answer                                                                                                                                                                                                                                                                                                                                                                                                                                                 |Carson Bigbee: The Pirate of America's Pastime|unDEFILED|Monster Under The River|Heritage Minutes: Mary \"Bonnie\" Baker|Samurai Japan: The Story Behind the WBC Clean Sweep|The Astros Edge|Shohei Ohtani: Beyond the Dream|Young Again|Thunder Rolls! The World of Blind Baseball\n",
       "theme_group_answer                                                                                                                                                                                                                                                                                                                                                                                                                                                                                         | Samurai Japan: The Story Behind the WBC Clean Sweep | Carson Bigbee: The Pirate of America's Pastime | unDEFILED | Monster Under The River | Heritage Minutes: Mary \"Bonnie\" Baker | Smashing Pumpkins | The Astros Edge | Shame |\n",
       "movie_only_context         {Butchy's Big Pitch, Groundbreakers, Sole: The Movie, I'll Crush Y'all, A Movie With No Views On Letterboxd, How India Stole and Killed Cricket, Humbly Super Famous, Swing Bout, Holiday Heist, Made in Massachusetts: 100 Years of Filmmaking in the Bay State, Fuggeddaboutitt, Brothers, Heads and Tails, Below the Rim, The Godfrey Project, Ethan the Roid Junkie, The Big Catch, Squatch Junkies, Frank Capra: Mr. America, Blue Star, Why Movies?, Diamante – Fussballgott, Falling in Love Like in Movies, The Power of the Strike, No Ball Games, Because They Believed, Movie (Choke), The Movie Man, Labranza, Joe, Left Brain, Blood Money, BRADMAN: The Movie, Bowlhead, The Hurler: A Campion's Tale}\n",
       "theme_only_context                                                                                                                                                                                                                       {Adventures in Perception, We Joined A Cult, The Tragic Death of a Frenchman, Oprah & The Color Purple Journey, Swimming in a Sand Pool, Strade perdute - Filmmaker 23, Sharko, Živko Nikolić - Unfulfilled Dream, La stoccata vincente, Mountainside, Mi Ópera Prima, Trouble with Johnny, Love & Films, Merchant Ivory, MARN, dressed in nudity, Three Solar Exercises, Dans le Film, le Film des Films au Cinema Pour le Cinema qui Joue des Films, Consumed, Singapore Films: To The World & Back}\n",
       "theme_group_only_context                                                                         {Charles Barkley Comes Out, Wardell Stephen Curry, Young Guns: The New Tennis Titans, Kingdome, Warrior Strong, Out of Bounds, Al Chile!, Backboard, NFL Films - The History of Player Introductions, The Netflix Slam, Pickup, Djokovic Unmasked, The Minister of Defense, After Dawn, Terrion Arnold: Prolific, One More Shot, The Ticket, Hada, Hard Feelings, Triangle Park, La cancha, 5th QTR, Leo, Bye Bye Barry, Dealova, Rally, Big Time, Sue Bird: In the Clutch, Divine Providence, Eureka, Hoop Cities - NBA Feature Documentary, Home and Away, Giannis: The Marvelous Journey, Imbroda, el legado del maestro, Rudy Gobert N°27}\n",
       "movie_theme_context                                                                                                                                                                                                                                                                                                                                                                                                                                                                                                                                                                                                      {Young Again, Thunder Rolls! The World of Blind Baseball, Shohei Ohtani: Beyond the Dream, Kanashimi, Indoor Baseball}\n",
       "movie_theme_group_context                                                                                                                                                                                                                                                                                                                                                                                                                                                                                                                                                                                                        {Iceman: A George Gervin Story, Lady Ballers, GROUNDED., Freaky Tales, Gold Blooded - NBA Feature Documentary}\n",
       "theme_theme_group_context                                                                                                                                                                                                                                                                                                                                                                                                                                                                                                                                                                                 {The Hoop Dreams Holiday Special, Heritage Minutes: Mary \"Bonnie\" Baker, Smashing Pumpkins, Shame, The Many Worlds of George Goodman}\n",
       "all_context                                                                                                                                                                                                                                                                                                                                                                                                                                                                                                                                                                          {Carson Bigbee: The Pirate of America's Pastime, Monster Under The River, Samurai Japan: The Story Behind the WBC Clean Sweep, unDEFILED, The Astros Edge}"
      ]
     },
     "execution_count": 79,
     "metadata": {},
     "output_type": "execute_result"
    }
   ],
   "source": [
    "output_df, current_selected_df = compare_searches(\"What are some titles of movies about baseball?\")\n",
    "selected_df = pd.concat([selected_df, current_selected_df])\n",
    "output_df"
   ]
  },
  {
   "cell_type": "code",
   "execution_count": 80,
   "id": "ec850ff5-d658-4a65-9687-f0a2135b6bb2",
   "metadata": {},
   "outputs": [
    {
     "name": "stderr",
     "output_type": "stream",
     "text": [
      "Warning: model not found. Using cl100k_base encoding.\n",
      "Warning: model not found. Using cl100k_base encoding.\n",
      "Warning: model not found. Using cl100k_base encoding.\n"
     ]
    },
    {
     "data": {
      "text/html": [
       "<div>\n",
       "<style scoped>\n",
       "    .dataframe tbody tr th:only-of-type {\n",
       "        vertical-align: middle;\n",
       "    }\n",
       "\n",
       "    .dataframe tbody tr th {\n",
       "        vertical-align: top;\n",
       "    }\n",
       "\n",
       "    .dataframe thead th {\n",
       "        text-align: right;\n",
       "    }\n",
       "</style>\n",
       "<table border=\"1\" class=\"dataframe\">\n",
       "  <thead>\n",
       "    <tr style=\"text-align: right;\">\n",
       "      <th></th>\n",
       "      <th>result</th>\n",
       "    </tr>\n",
       "  </thead>\n",
       "  <tbody>\n",
       "    <tr>\n",
       "      <th>movie_answer</th>\n",
       "      <td>|Liberty|Naked Nations|American Outlaws|FOUR DAYS FOR FREEDOM: NAPLES 1943|If Everyone Just Leaves|Celluloid Underground|Poor Things|Silent Cries|Here and Nowhere|Nobody Leaves Alive|Fly Free|My Sister's Keeper|Letters To Freedom|Infinity!|Waterbird|In Freedom</td>\n",
       "    </tr>\n",
       "    <tr>\n",
       "      <th>theme_answer</th>\n",
       "      <td>|FREEDOM MAN: THE BALLAD OF THE BRICK|1521: The Quest for Love and Freedom|It's A Gray Gray World!|Yesterday|Sedin Kuyasha Chilo|Shyamchi Aai|Sabittri|The Ticket|Breaking the Ice|The History of Indian Elections|4 Walls|Notes on a Summer|The Prince of Egypt: The Musical|Hunting Party|1989: Chceme dýchat|My Freedom|Rise|Transformation|Blue|Defend Your Name|Metal Belt|Amanita|Night in Newark|Getting Fired From Office|Zindagi Zindabaad|Fille Fleur|Water Baby|Code Break|Breath|Feet Fear Freedom|Not Born Yesterday|Gendelyk|Free Beats: The Musical Journey of CHEN Ming Chang|Ukrainian Identity|Our Land, Our Freedom</td>\n",
       "    </tr>\n",
       "    <tr>\n",
       "      <th>theme_group_answer</th>\n",
       "      <td>|Bad Romance: The Vicky White Story|Two Balloons|Freedom|Metal Belt|My Freedom|Rise|4 Walls|Defend Your Name|The Prisoner of Wakhan|Zindagi Zindabaad|Water Baby|1989: Chceme dýchat|Breath|Nyanga|Flowing - My Dream of More Freedom|The Last Thread</td>\n",
       "    </tr>\n",
       "    <tr>\n",
       "      <th>movie_only_context</th>\n",
       "      <td>{If Everyone Just Leaves, Kanaani, Poor Things, PRODUCT, Communist Osman, Fly Free, The Busy World Around Me., Che, In Freedom, Exit, Winner, A Long Shot, Exile, Landless, Naked Nations – Tribe Hong Kong, Letters To Freedom, The Conqueror (Hollywood Fallout), Love of the Soviet Union, When We Return, Lines of Resistence, Silent Cries, Happy Places, Air Force Two, Celluloid Underground, From 8 Movies To 1, I Believe in America, Cine Libre, Waterbird, The Godfrey Project, American Outlaws, The Nice Trip, Infinity!, Trailer of a Film That Will Never Exist: Phony Wars, My Sister's Keeper, Why Movies?, Little Death, Nobody Leaves Alive, Liberty, Fly Hard, Memories, Prisoners, Land of My Dreams, The Movie Man, Movie (Choke), Showdown at the Grand, Kannagi, Here and Nowhere, Under a Blue Sun, What is the Point?}</td>\n",
       "    </tr>\n",
       "    <tr>\n",
       "      <th>theme_only_context</th>\n",
       "      <td>{Sabittri, FREEDOM MAN: THE BALLAD OF THE BRICK, It's A Gray Gray World!, 1521: The Quest for Love and Freedom, Shyamchi Aai, The Ticket, Yesterday, Sedin Kuyasha Chilo}</td>\n",
       "    </tr>\n",
       "    <tr>\n",
       "      <th>theme_group_only_context</th>\n",
       "      <td>{El Grito De Emma, Ex You, No Way Through, The Last Thread, Flowing - My Dream of More Freedom, Nyanga, Boots On The Ground, The Strike}</td>\n",
       "    </tr>\n",
       "    <tr>\n",
       "      <th>movie_theme_context</th>\n",
       "      <td>{}</td>\n",
       "    </tr>\n",
       "    <tr>\n",
       "      <th>movie_theme_group_context</th>\n",
       "      <td>{}</td>\n",
       "    </tr>\n",
       "    <tr>\n",
       "      <th>theme_theme_group_context</th>\n",
       "      <td>{Water Baby, Hunting Party, Feather Family, Metal Belt, Zindagi Zindabaad, Blue, Free Beats: The Musical Journey of CHEN Ming Chang, The Prince of Egypt: The Musical, Fille Fleur, Bad Romance: The Vicky White Story, Girl, Not Born Yesterday, Dealer, Gendelyk, Sorbeltza, Rise, Psychedelic Revolution: The Secret History of the LSD Trade, My Freedom, Paradise Is Burning, Amanita, Two Balloons, Stamp Our Story, Ukrainian Identity, Rencores, Notes on a Summer, The Prisoner of Wakhan, Feet Fear Freedom, Code Break, Ado Japan Tour 2023 \"MARS\", 4 Walls, Defend Your Name, Breaking the Ice, Night in Newark, 1989: Chceme dýchat, Getting Fired From Office, Breath, Transformation, The History of Indian Elections, Our Land, Our Freedom, Decisions Decisions, Bloc Party: So Here We Are}</td>\n",
       "    </tr>\n",
       "    <tr>\n",
       "      <th>all_context</th>\n",
       "      <td>{FOUR DAYS FOR FREEDOM: NAPLES 1943}</td>\n",
       "    </tr>\n",
       "  </tbody>\n",
       "</table>\n",
       "</div>"
      ],
      "text/plain": [
       "                                                                                                                                                                                                                                                                                                                                                                                                                                                                                                                                                                                                                                                                                                                                                                                                                                                                     result\n",
       "movie_answer                                                                                                                                                                                                                                                                                                                                                                                                                                                                                                                                                                                           |Liberty|Naked Nations|American Outlaws|FOUR DAYS FOR FREEDOM: NAPLES 1943|If Everyone Just Leaves|Celluloid Underground|Poor Things|Silent Cries|Here and Nowhere|Nobody Leaves Alive|Fly Free|My Sister's Keeper|Letters To Freedom|Infinity!|Waterbird|In Freedom\n",
       "theme_answer                                                                                                                                                                                                                         |FREEDOM MAN: THE BALLAD OF THE BRICK|1521: The Quest for Love and Freedom|It's A Gray Gray World!|Yesterday|Sedin Kuyasha Chilo|Shyamchi Aai|Sabittri|The Ticket|Breaking the Ice|The History of Indian Elections|4 Walls|Notes on a Summer|The Prince of Egypt: The Musical|Hunting Party|1989: Chceme dýchat|My Freedom|Rise|Transformation|Blue|Defend Your Name|Metal Belt|Amanita|Night in Newark|Getting Fired From Office|Zindagi Zindabaad|Fille Fleur|Water Baby|Code Break|Breath|Feet Fear Freedom|Not Born Yesterday|Gendelyk|Free Beats: The Musical Journey of CHEN Ming Chang|Ukrainian Identity|Our Land, Our Freedom\n",
       "theme_group_answer                                                                                                                                                                                                                                                                                                                                                                                                                                                                                                                                                                                                    |Bad Romance: The Vicky White Story|Two Balloons|Freedom|Metal Belt|My Freedom|Rise|4 Walls|Defend Your Name|The Prisoner of Wakhan|Zindagi Zindabaad|Water Baby|1989: Chceme dýchat|Breath|Nyanga|Flowing - My Dream of More Freedom|The Last Thread\n",
       "movie_only_context         {If Everyone Just Leaves, Kanaani, Poor Things, PRODUCT, Communist Osman, Fly Free, The Busy World Around Me., Che, In Freedom, Exit, Winner, A Long Shot, Exile, Landless, Naked Nations – Tribe Hong Kong, Letters To Freedom, The Conqueror (Hollywood Fallout), Love of the Soviet Union, When We Return, Lines of Resistence, Silent Cries, Happy Places, Air Force Two, Celluloid Underground, From 8 Movies To 1, I Believe in America, Cine Libre, Waterbird, The Godfrey Project, American Outlaws, The Nice Trip, Infinity!, Trailer of a Film That Will Never Exist: Phony Wars, My Sister's Keeper, Why Movies?, Little Death, Nobody Leaves Alive, Liberty, Fly Hard, Memories, Prisoners, Land of My Dreams, The Movie Man, Movie (Choke), Showdown at the Grand, Kannagi, Here and Nowhere, Under a Blue Sun, What is the Point?}\n",
       "theme_only_context                                                                                                                                                                                                                                                                                                                                                                                                                                                                                                                                                                                                                                                                                {Sabittri, FREEDOM MAN: THE BALLAD OF THE BRICK, It's A Gray Gray World!, 1521: The Quest for Love and Freedom, Shyamchi Aai, The Ticket, Yesterday, Sedin Kuyasha Chilo}\n",
       "theme_group_only_context                                                                                                                                                                                                                                                                                                                                                                                                                                                                                                                                                                                                                                                                                                           {El Grito De Emma, Ex You, No Way Through, The Last Thread, Flowing - My Dream of More Freedom, Nyanga, Boots On The Ground, The Strike}\n",
       "movie_theme_context                                                                                                                                                                                                                                                                                                                                                                                                                                                                                                                                                                                                                                                                                                                                                                                                                                                      {}\n",
       "movie_theme_group_context                                                                                                                                                                                                                                                                                                                                                                                                                                                                                                                                                                                                                                                                                                                                                                                                                                                {}\n",
       "theme_theme_group_context                                     {Water Baby, Hunting Party, Feather Family, Metal Belt, Zindagi Zindabaad, Blue, Free Beats: The Musical Journey of CHEN Ming Chang, The Prince of Egypt: The Musical, Fille Fleur, Bad Romance: The Vicky White Story, Girl, Not Born Yesterday, Dealer, Gendelyk, Sorbeltza, Rise, Psychedelic Revolution: The Secret History of the LSD Trade, My Freedom, Paradise Is Burning, Amanita, Two Balloons, Stamp Our Story, Ukrainian Identity, Rencores, Notes on a Summer, The Prisoner of Wakhan, Feet Fear Freedom, Code Break, Ado Japan Tour 2023 \"MARS\", 4 Walls, Defend Your Name, Breaking the Ice, Night in Newark, 1989: Chceme dýchat, Getting Fired From Office, Breath, Transformation, The History of Indian Elections, Our Land, Our Freedom, Decisions Decisions, Bloc Party: So Here We Are}\n",
       "all_context                                                                                                                                                                                                                                                                                                                                                                                                                                                                                                                                                                                                                                                                                                                                                                                                                            {FOUR DAYS FOR FREEDOM: NAPLES 1943}"
      ]
     },
     "execution_count": 80,
     "metadata": {},
     "output_type": "execute_result"
    }
   ],
   "source": [
    "output_df, current_selected_df = compare_searches(\"What are some movie titles about freedom?\")\n",
    "selected_df = pd.concat([selected_df, current_selected_df])\n",
    "output_df"
   ]
  },
  {
   "cell_type": "code",
   "execution_count": 81,
   "id": "29b75f70-7278-46f9-801c-f2205b9e82f7",
   "metadata": {},
   "outputs": [
    {
     "name": "stderr",
     "output_type": "stream",
     "text": [
      "Warning: model not found. Using cl100k_base encoding.\n",
      "Warning: model not found. Using cl100k_base encoding.\n",
      "Warning: model not found. Using cl100k_base encoding.\n"
     ]
    },
    {
     "data": {
      "text/html": [
       "<div>\n",
       "<style scoped>\n",
       "    .dataframe tbody tr th:only-of-type {\n",
       "        vertical-align: middle;\n",
       "    }\n",
       "\n",
       "    .dataframe tbody tr th {\n",
       "        vertical-align: top;\n",
       "    }\n",
       "\n",
       "    .dataframe thead th {\n",
       "        text-align: right;\n",
       "    }\n",
       "</style>\n",
       "<table border=\"1\" class=\"dataframe\">\n",
       "  <thead>\n",
       "    <tr style=\"text-align: right;\">\n",
       "      <th></th>\n",
       "      <th>result</th>\n",
       "    </tr>\n",
       "  </thead>\n",
       "  <tbody>\n",
       "    <tr>\n",
       "      <th>movie_answer</th>\n",
       "      <td>|Night|The Beast of Comedy|Silence|The Darker The Shadow, The Brighter The Light|My Movie|Et Tu|Movie (Choke)|The Butler|Affirmations|Ab Absurdo|DarkGame|What Happens in the Dark|Elegy - Director's Cut|End All, Say All|Her Dark Reflection|The Day Is Long and Dark|Brave the Dark|Death Perception|Little Death|Stitches|In The Shadow Of The Horns|The Electric Fleapit|Accessory|The Critic|mother, son, Comedy!|Dindin|Stand-Up - My Life Is A Joke|To the Brink|Power Cut|Død af grin|Dead Serious|For When You Get Lost|Into the Darkness|Murder In The Theater|Date Night|Darkling|Pattaya Explicit|In Search Of...Detective Barnaby And His Descent Into The Haunted Mansion|Holiday Heist|The Martini Shot|Egun|GrimTrax|Kill The Lights|MrMrMILKMAN in Donnie Darko|What's Behind You|The Roommate</td>\n",
       "    </tr>\n",
       "    <tr>\n",
       "      <th>theme_answer</th>\n",
       "      <td>| Funny Not Funny | Sleepyhead | Død af grin | Natural Causes | Fishmonger | Do Not Expect Too Much from the End of the World | Mole | Klokkenluider | Death Perception | Accessory | Triple Oh! | Deal of a Lifetime | The Year of Staring at Noses | World's Greatest Dad | Stand-Up - My Life Is A Joke | Mike Ward : Noir | Dindin | Sheryl | Eppura | Barely Breathing | Irish Catholic | End All, Say All | Silence | Affirmations | Anemone: A Fairy Tale for No Kids | Double Trouble | Thiraiyin Marupakkam | Abomination | Sam Jay: Salute Me or Shoot Me | Sweet Dreams | Otto Baxter: Not A F***ing Horror Story | Should Be Long Gone | Holiday Heist | Au Revoir, Slumdogz | The Emu War | The Choice Has Been Made | Void | The Moon Is Upside Down | Home Town Down Time | The Treasure of the Cyclops | The Puppet Asylum | Cannibal Mukbang | Ghost Babe | Dare! | The Haunted Baby Carriage From Hell | Shaky Shivers | Paranormal Drunktivity | In Search Of...Detective Barnaby And His Descent Into The Haunted Mansion | The Happy Hotel | Red Light District Shark Attack</td>\n",
       "    </tr>\n",
       "    <tr>\n",
       "      <th>theme_group_answer</th>\n",
       "      <td>| Dindin | Stand-Up - My Life Is A Joke | World's Greatest Dad | Silence | Fishmonger | End All, Say All | Barely Breathing | Klokkenluider | Mole | Død af grin | Mike Ward : Noir | Do Not Expect Too Much from the End of the World | Natural Causes | Triple Oh! | Accessory | The Choice Has Been Made | Funny Not Funny | Deal of a Lifetime | Sheryl | Home Town Down Time | The Moon Is Upside Down | Death Perception | Irish Catholic | Void | The Year of Staring at Noses | Affirmations | Eppura | With Love, from AIDAN | I'm Not a Robot | Lessons of Tolerance | Los | The End of Voyage | Sleepyhead | Double Trouble | Thiraiyin Marupakkam | Abomination | Sam Jay: Salute Me or Shoot Me | Anemone: A Fairy Tale for No Kids | Sweet Dreams | Au Revoir, Slumdogz | Holiday Heist | Should Be Long Gone | The Haunted Baby Carriage From Hell | Shaky Shivers | Paranormal Drunktivity | In Search Of...Detective Barnaby And His Descent Into The Haunted Mansion | The Happy Hotel | Red Light District Shark Attack | Honto ni Atta! Noroi no Video 103 | Otto Baxter: Not A F***ing Horror Story</td>\n",
       "    </tr>\n",
       "    <tr>\n",
       "      <th>movie_only_context</th>\n",
       "      <td>{What the Blood Moon Brings: Messiah of Evil, A New American Nightmare, Night, The Roommate, The Critic, The Terror of Tarheel State: Making The Dark Power, Kill The Lights, GrimTrax, Brave the Dark, Tastes of Horror, mother, son, Comedy!, Et Tu, Date Night, The Electric Fleapit, DarkGame, What Happens in the Dark, Murder In The Theater, The Day Is Long and Dark, The Martini Shot, The Darker The Shadow, The Brighter The Light, Into the Darkness, Ab Absurdo, Little Death, Egun, Stitches, The Butler, The Beast of Comedy, My Movie, Dead Serious, Elegy - Director's Cut, To the Brink, MrMrMILKMAN in Donnie Darko, American Comedy, Movie (Choke), Her Dark Reflection, Power Cut, What's Behind You, Pattaya Explicit, Darkling, For When You Get Lost, In The Shadow Of The Horns}</td>\n",
       "    </tr>\n",
       "    <tr>\n",
       "      <th>theme_only_context</th>\n",
       "      <td>{The Emu War, Dare!, Ghost Babe, The Treasure of the Cyclops, The Puppet Asylum, Cannibal Mukbang}</td>\n",
       "    </tr>\n",
       "    <tr>\n",
       "      <th>theme_group_only_context</th>\n",
       "      <td>{Lessons of Tolerance, Los, I'm Not a Robot, The End of Voyage, With Love, from AIDAN, Honto ni Atta! Noroi no Video 103}</td>\n",
       "    </tr>\n",
       "    <tr>\n",
       "      <th>movie_theme_context</th>\n",
       "      <td>{}</td>\n",
       "    </tr>\n",
       "    <tr>\n",
       "      <th>movie_theme_group_context</th>\n",
       "      <td>{}</td>\n",
       "    </tr>\n",
       "    <tr>\n",
       "      <th>theme_theme_group_context</th>\n",
       "      <td>{Should Be Long Gone, Eppura, Mike Ward : Noir, Paranormal Drunktivity, Sleepyhead, The Haunted Baby Carriage From Hell, Au Revoir, Slumdogz, Sam Jay: Salute Me or Shoot Me, Do Not Expect Too Much from the End of the World, Anemone: A Fairy Tale for No Kids, Void, Home Town Down Time, Triple Oh!, Double Trouble, Fishmonger, The Moon Is Upside Down, Sheryl, Klokkenluider, Abomination, Irish Catholic, The Choice Has Been Made, Deal of a Lifetime, Natural Causes, Thiraiyin Marupakkam, The Year of Staring at Noses, The Happy Hotel, Funny Not Funny, Otto Baxter: Not A F***ing Horror Story, Red Light District Shark Attack, Barely Breathing, Sweet Dreams, Mole, World's Greatest Dad, Shaky Shivers}</td>\n",
       "    </tr>\n",
       "    <tr>\n",
       "      <th>all_context</th>\n",
       "      <td>{Accessory, Death Perception, Dindin, In Search Of...Detective Barnaby And His Descent Into The Haunted Mansion, Død af grin, Holiday Heist, Silence, Stand-Up - My Life Is A Joke, End All, Say All, Affirmations}</td>\n",
       "    </tr>\n",
       "  </tbody>\n",
       "</table>\n",
       "</div>"
      ],
      "text/plain": [
       "                                                                                                                                                                                                                                                                                                                                                                                                                                                                                                                                                                                                                                                                                                                                                                                                                                                                                                                                                                                                                                                                                                                                             result\n",
       "movie_answer                                                                                                                                                                                                                                                                                                                       |Night|The Beast of Comedy|Silence|The Darker The Shadow, The Brighter The Light|My Movie|Et Tu|Movie (Choke)|The Butler|Affirmations|Ab Absurdo|DarkGame|What Happens in the Dark|Elegy - Director's Cut|End All, Say All|Her Dark Reflection|The Day Is Long and Dark|Brave the Dark|Death Perception|Little Death|Stitches|In The Shadow Of The Horns|The Electric Fleapit|Accessory|The Critic|mother, son, Comedy!|Dindin|Stand-Up - My Life Is A Joke|To the Brink|Power Cut|Død af grin|Dead Serious|For When You Get Lost|Into the Darkness|Murder In The Theater|Date Night|Darkling|Pattaya Explicit|In Search Of...Detective Barnaby And His Descent Into The Haunted Mansion|Holiday Heist|The Martini Shot|Egun|GrimTrax|Kill The Lights|MrMrMILKMAN in Donnie Darko|What's Behind You|The Roommate\n",
       "theme_answer                                      | Funny Not Funny | Sleepyhead | Død af grin | Natural Causes | Fishmonger | Do Not Expect Too Much from the End of the World | Mole | Klokkenluider | Death Perception | Accessory | Triple Oh! | Deal of a Lifetime | The Year of Staring at Noses | World's Greatest Dad | Stand-Up - My Life Is A Joke | Mike Ward : Noir | Dindin | Sheryl | Eppura | Barely Breathing | Irish Catholic | End All, Say All | Silence | Affirmations | Anemone: A Fairy Tale for No Kids | Double Trouble | Thiraiyin Marupakkam | Abomination | Sam Jay: Salute Me or Shoot Me | Sweet Dreams | Otto Baxter: Not A F***ing Horror Story | Should Be Long Gone | Holiday Heist | Au Revoir, Slumdogz | The Emu War | The Choice Has Been Made | Void | The Moon Is Upside Down | Home Town Down Time | The Treasure of the Cyclops | The Puppet Asylum | Cannibal Mukbang | Ghost Babe | Dare! | The Haunted Baby Carriage From Hell | Shaky Shivers | Paranormal Drunktivity | In Search Of...Detective Barnaby And His Descent Into The Haunted Mansion | The Happy Hotel | Red Light District Shark Attack\n",
       "theme_group_answer         | Dindin | Stand-Up - My Life Is A Joke | World's Greatest Dad | Silence | Fishmonger | End All, Say All | Barely Breathing | Klokkenluider | Mole | Død af grin | Mike Ward : Noir | Do Not Expect Too Much from the End of the World | Natural Causes | Triple Oh! | Accessory | The Choice Has Been Made | Funny Not Funny | Deal of a Lifetime | Sheryl | Home Town Down Time | The Moon Is Upside Down | Death Perception | Irish Catholic | Void | The Year of Staring at Noses | Affirmations | Eppura | With Love, from AIDAN | I'm Not a Robot | Lessons of Tolerance | Los | The End of Voyage | Sleepyhead | Double Trouble | Thiraiyin Marupakkam | Abomination | Sam Jay: Salute Me or Shoot Me | Anemone: A Fairy Tale for No Kids | Sweet Dreams | Au Revoir, Slumdogz | Holiday Heist | Should Be Long Gone | The Haunted Baby Carriage From Hell | Shaky Shivers | Paranormal Drunktivity | In Search Of...Detective Barnaby And His Descent Into The Haunted Mansion | The Happy Hotel | Red Light District Shark Attack | Honto ni Atta! Noroi no Video 103 | Otto Baxter: Not A F***ing Horror Story\n",
       "movie_only_context                                                                                                                                                                                                                                                                                                                        {What the Blood Moon Brings: Messiah of Evil, A New American Nightmare, Night, The Roommate, The Critic, The Terror of Tarheel State: Making The Dark Power, Kill The Lights, GrimTrax, Brave the Dark, Tastes of Horror, mother, son, Comedy!, Et Tu, Date Night, The Electric Fleapit, DarkGame, What Happens in the Dark, Murder In The Theater, The Day Is Long and Dark, The Martini Shot, The Darker The Shadow, The Brighter The Light, Into the Darkness, Ab Absurdo, Little Death, Egun, Stitches, The Butler, The Beast of Comedy, My Movie, Dead Serious, Elegy - Director's Cut, To the Brink, MrMrMILKMAN in Donnie Darko, American Comedy, Movie (Choke), Her Dark Reflection, Power Cut, What's Behind You, Pattaya Explicit, Darkling, For When You Get Lost, In The Shadow Of The Horns}\n",
       "theme_only_context                                                                                                                                                                                                                                                                                                                                                                                                                                                                                                                                                                                                                                                                                                                                                                                                                                                                                                                                                                                                                               {The Emu War, Dare!, Ghost Babe, The Treasure of the Cyclops, The Puppet Asylum, Cannibal Mukbang}\n",
       "theme_group_only_context                                                                                                                                                                                                                                                                                                                                                                                                                                                                                                                                                                                                                                                                                                                                                                                                                                                                                                                                                                                                  {Lessons of Tolerance, Los, I'm Not a Robot, The End of Voyage, With Love, from AIDAN, Honto ni Atta! Noroi no Video 103}\n",
       "movie_theme_context                                                                                                                                                                                                                                                                                                                                                                                                                                                                                                                                                                                                                                                                                                                                                                                                                                                                                                                                                                                                                                                                                                                              {}\n",
       "movie_theme_group_context                                                                                                                                                                                                                                                                                                                                                                                                                                                                                                                                                                                                                                                                                                                                                                                                                                                                                                                                                                                                                                                                                                                        {}\n",
       "theme_theme_group_context                                                                                                                                                                                                                                                                                                                                                                                               {Should Be Long Gone, Eppura, Mike Ward : Noir, Paranormal Drunktivity, Sleepyhead, The Haunted Baby Carriage From Hell, Au Revoir, Slumdogz, Sam Jay: Salute Me or Shoot Me, Do Not Expect Too Much from the End of the World, Anemone: A Fairy Tale for No Kids, Void, Home Town Down Time, Triple Oh!, Double Trouble, Fishmonger, The Moon Is Upside Down, Sheryl, Klokkenluider, Abomination, Irish Catholic, The Choice Has Been Made, Deal of a Lifetime, Natural Causes, Thiraiyin Marupakkam, The Year of Staring at Noses, The Happy Hotel, Funny Not Funny, Otto Baxter: Not A F***ing Horror Story, Red Light District Shark Attack, Barely Breathing, Sweet Dreams, Mole, World's Greatest Dad, Shaky Shivers}\n",
       "all_context                                                                                                                                                                                                                                                                                                                                                                                                                                                                                                                                                                                                                                                                                                                                                                                                                                                                                                                     {Accessory, Death Perception, Dindin, In Search Of...Detective Barnaby And His Descent Into The Haunted Mansion, Død af grin, Holiday Heist, Silence, Stand-Up - My Life Is A Joke, End All, Say All, Affirmations}"
      ]
     },
     "execution_count": 81,
     "metadata": {},
     "output_type": "execute_result"
    }
   ],
   "source": [
    "output_df, current_selected_df = compare_searches(\"What are some titles of dark comedy movies?\")\n",
    "selected_df = pd.concat([selected_df, current_selected_df])\n",
    "output_df"
   ]
  },
  {
   "cell_type": "code",
   "execution_count": 82,
   "id": "24ad987a-e10f-41f0-a645-bb4d399090be",
   "metadata": {},
   "outputs": [
    {
     "name": "stderr",
     "output_type": "stream",
     "text": [
      "Warning: model not found. Using cl100k_base encoding.\n",
      "Warning: model not found. Using cl100k_base encoding.\n",
      "Warning: model not found. Using cl100k_base encoding.\n"
     ]
    },
    {
     "data": {
      "text/html": [
       "<div>\n",
       "<style scoped>\n",
       "    .dataframe tbody tr th:only-of-type {\n",
       "        vertical-align: middle;\n",
       "    }\n",
       "\n",
       "    .dataframe tbody tr th {\n",
       "        vertical-align: top;\n",
       "    }\n",
       "\n",
       "    .dataframe thead th {\n",
       "        text-align: right;\n",
       "    }\n",
       "</style>\n",
       "<table border=\"1\" class=\"dataframe\">\n",
       "  <thead>\n",
       "    <tr style=\"text-align: right;\">\n",
       "      <th></th>\n",
       "      <th>result</th>\n",
       "    </tr>\n",
       "  </thead>\n",
       "  <tbody>\n",
       "    <tr>\n",
       "      <th>movie_answer</th>\n",
       "      <td>| So Unreal | Artificial Intelligence, 2023 | The AI Report | The Diary of Sisyphus | Synthesis | Original Short Film | The Conscious \"I\" | Mad Scientists: A.I. Maxima | The Creator | AI History 1890-2090 | Illusions of Movement | With Love, from AIDAN | William Quail's Pyramid | Fair Weather Friends | A.I. Perversion | Flash Wars - Autonomous Weapons, A.I. and the Future of Warfare | To Live and Die in AI | Blue Fire | Primacy | Ilya | AI Lobotomy | 512X512 | Double iSmart | Cyborg Society | Love Machina | Human or AI? The future of beauty standards | 4°C | EDDY BAIR | T-130 | The Perfect Human | Telephones 4 Eyes | The Electric Kiss | Literally No Place | Sci-fi Silence | Two Gracious Uncles Smooched to the Beat | To The Future: The Movie | Deep Fake Love | The Beast | Teri Baaton Mein Aisa Uljha Jiya | The Vivid Unknown | AIMEE: The Visitor | A.I. Made Me Do It: Ophelia | Cosmic Miniatures | Storyteller | H-151: Perfect Machine | Aire: Just Breathe | Intercept: A Century of Signals Intelligence | Death Cleaning | Impossible Decision</td>\n",
       "    </tr>\n",
       "    <tr>\n",
       "      <th>theme_answer</th>\n",
       "      <td>| CAPTCHA | Primacy | You Are Human, and You Are Lover | 3 Dialogues About the Future | The Female Side Effect | Pesudo | Landless | The Creator | CCC | Illusions of Movement | Love Me | The Beast | Lady | So Unreal | Cyborg Society | A.I. Perversion | Two Gracious Uncles Smooched to the Beat | Lights Over Montgomery County | H.O.M.E. | Blue Fire | The Conscious \"I\" | Ilya | Love Machina | Sucker | Mad Scientists: A.I. Maxima | JUST DESSERTS | Original Short Film |</td>\n",
       "    </tr>\n",
       "    <tr>\n",
       "      <th>theme_group_answer</th>\n",
       "      <td>| Pesudo | The Perfect Human | CAPTCHA | i ai | Love Me | So Unreal | The Female Side Effect | Mad Scientists: A.I. Maxima | Lady | Cyborg Society | 3 Dialogues About the Future | The Beast | Primacy | CCC | You Are Human, and You Are Lover | Illusions of Movement | The Creator | Ilya | Landless | The Electric Kiss | Flash Wars - Autonomous Weapons, A.I. and the Future of Warfare | Smog | EDDY BAIR | Synthesis | Whisper of a Butterfly | A.I. Made Me Do It: Ophelia | Agents | Exit Pangea | Artificial Intelligence, 2023 | 4°C | Fair Weather Friends | AIMEE: The Visitor | AI History 1890-2090 | To Live and Die in AI | Dotty and the Tower of Eternity | The AI Report | A Tree Once Grew Here | Ghost in the Shell: SAC_2045 The Last Human | Voice in My Head | With Love, from AIDAN | Cosmic Miniatures | Aire: Just Breathe | MOVE | Literally No Place | Human or AI? The future of beauty standards | Storyteller | AI Lobotomy | H.O.M.E. | Blue Fire | JUST DESSERTS</td>\n",
       "    </tr>\n",
       "    <tr>\n",
       "      <th>movie_only_context</th>\n",
       "      <td>{The Vivid Unknown, The Diary of Sisyphus, To The Future: The Movie, Telephones 4 Eyes, H-151: Perfect Machine, Intercept: A Century of Signals Intelligence, Double iSmart, William Quail’s Pyramid, Impossible Decision, Death Cleaning, Deep Fake Love, T-130}</td>\n",
       "    </tr>\n",
       "    <tr>\n",
       "      <th>theme_only_context</th>\n",
       "      <td>{The Tragic Death of a Frenchman, FU*AB, Lights Over Montgomery County, Head Scientist, Dead Again, Night Run, Ultraseven IF Story: The Future 55 Years Ago, Sucker, Bell Jingler 2023, Mountainside, Cybergrime, Anomaly, Kikoriki are Making a Movie, Postcard From Earth, The Olaria Chronicles, Doctor Who: 60 Years of Secrets &amp; Scandals, Cirkuit Breac, Eternal return / op.1 wonderful world, AI Generated These I Had No Hands}</td>\n",
       "    </tr>\n",
       "    <tr>\n",
       "      <th>theme_group_only_context</th>\n",
       "      <td>{Exit Pangea, Ghost in the Shell: SAC_2045 The Last Human, Agents, MOVE, A Tree Once Grew Here, Smog, Voice in My Head, Whisper of a Butterfly, Dotty and the Tower of Eternity}</td>\n",
       "    </tr>\n",
       "    <tr>\n",
       "      <th>movie_theme_context</th>\n",
       "      <td>{Love Machina, Teri Baaton Mein Aisa Uljha Jiya, A.I. Perversion, Original Short Film, Sci-fi Silence, 512X512, Two Gracious Uncles Smooched to the Beat, The Conscious \"I\"}</td>\n",
       "    </tr>\n",
       "    <tr>\n",
       "      <th>movie_theme_group_context</th>\n",
       "      <td>{Synthesis, Artificial Intelligence, 2023, Aire: Just Breathe, Flash Wars - Autonomous Weapons, A.I. and the Future of Warfare, 4°C, Fair Weather Friends, Storyteller, AIMEE: The Visitor, The Electric Kiss, EDDY BAIR, A.I. Made Me Do It: Ophelia, Human or AI? The future of beauty standards, With Love, from AIDAN, The AI Report, AI Lobotomy, To Live and Die in AI, Cosmic Miniatures, The Perfect Human, Literally No Place, AI History 1890-2090}</td>\n",
       "    </tr>\n",
       "    <tr>\n",
       "      <th>theme_theme_group_context</th>\n",
       "      <td>{Love Me, CCC, Lady, Landless, Pesudo, You Are Human, and You Are Lover, The Female Side Effect, CAPTCHA, JUST DESSERTS, i ai, H.O.M.E.}</td>\n",
       "    </tr>\n",
       "    <tr>\n",
       "      <th>all_context</th>\n",
       "      <td>{Illusions of Movement, Blue Fire, Mad Scientists: A.I. Maxima, Primacy, The Creator, Ilya, The Beast, 3 Dialogues About the Future, So Unreal, Cyborg Society}</td>\n",
       "    </tr>\n",
       "  </tbody>\n",
       "</table>\n",
       "</div>"
      ],
      "text/plain": [
       "                                                                                                                                                                                                                                                                                                                                                                                                                                                                                                                                                                                                                                                                                                                                                                                                                                                                                                                                                                                                                                                                                                                result\n",
       "movie_answer               | So Unreal | Artificial Intelligence, 2023 | The AI Report | The Diary of Sisyphus | Synthesis | Original Short Film | The Conscious \"I\" | Mad Scientists: A.I. Maxima | The Creator | AI History 1890-2090 | Illusions of Movement | With Love, from AIDAN | William Quail's Pyramid | Fair Weather Friends | A.I. Perversion | Flash Wars - Autonomous Weapons, A.I. and the Future of Warfare | To Live and Die in AI | Blue Fire | Primacy | Ilya | AI Lobotomy | 512X512 | Double iSmart | Cyborg Society | Love Machina | Human or AI? The future of beauty standards | 4°C | EDDY BAIR | T-130 | The Perfect Human | Telephones 4 Eyes | The Electric Kiss | Literally No Place | Sci-fi Silence | Two Gracious Uncles Smooched to the Beat | To The Future: The Movie | Deep Fake Love | The Beast | Teri Baaton Mein Aisa Uljha Jiya | The Vivid Unknown | AIMEE: The Visitor | A.I. Made Me Do It: Ophelia | Cosmic Miniatures | Storyteller | H-151: Perfect Machine | Aire: Just Breathe | Intercept: A Century of Signals Intelligence | Death Cleaning | Impossible Decision\n",
       "theme_answer                                                                                                                                                                                                                                                                                                                                                                                                                                                                                                                                                                                                                     | CAPTCHA | Primacy | You Are Human, and You Are Lover | 3 Dialogues About the Future | The Female Side Effect | Pesudo | Landless | The Creator | CCC | Illusions of Movement | Love Me | The Beast | Lady | So Unreal | Cyborg Society | A.I. Perversion | Two Gracious Uncles Smooched to the Beat | Lights Over Montgomery County | H.O.M.E. | Blue Fire | The Conscious \"I\" | Ilya | Love Machina | Sucker | Mad Scientists: A.I. Maxima | JUST DESSERTS | Original Short Film |\n",
       "theme_group_answer                                                                                               | Pesudo | The Perfect Human | CAPTCHA | i ai | Love Me | So Unreal | The Female Side Effect | Mad Scientists: A.I. Maxima | Lady | Cyborg Society | 3 Dialogues About the Future | The Beast | Primacy | CCC | You Are Human, and You Are Lover | Illusions of Movement | The Creator | Ilya | Landless | The Electric Kiss | Flash Wars - Autonomous Weapons, A.I. and the Future of Warfare | Smog | EDDY BAIR | Synthesis | Whisper of a Butterfly | A.I. Made Me Do It: Ophelia | Agents | Exit Pangea | Artificial Intelligence, 2023 | 4°C | Fair Weather Friends | AIMEE: The Visitor | AI History 1890-2090 | To Live and Die in AI | Dotty and the Tower of Eternity | The AI Report | A Tree Once Grew Here | Ghost in the Shell: SAC_2045 The Last Human | Voice in My Head | With Love, from AIDAN | Cosmic Miniatures | Aire: Just Breathe | MOVE | Literally No Place | Human or AI? The future of beauty standards | Storyteller | AI Lobotomy | H.O.M.E. | Blue Fire | JUST DESSERTS\n",
       "movie_only_context                                                                                                                                                                                                                                                                                                                                                                                                                                                                                                                                                                                                                                                                                                                                                                                                                                   {The Vivid Unknown, The Diary of Sisyphus, To The Future: The Movie, Telephones 4 Eyes, H-151: Perfect Machine, Intercept: A Century of Signals Intelligence, Double iSmart, William Quail’s Pyramid, Impossible Decision, Death Cleaning, Deep Fake Love, T-130}\n",
       "theme_only_context                                                                                                                                                                                                                                                                                                                                                                                                                                                                                                                                                                                                                                                            {The Tragic Death of a Frenchman, FU*AB, Lights Over Montgomery County, Head Scientist, Dead Again, Night Run, Ultraseven IF Story: The Future 55 Years Ago, Sucker, Bell Jingler 2023, Mountainside, Cybergrime, Anomaly, Kikoriki are Making a Movie, Postcard From Earth, The Olaria Chronicles, Doctor Who: 60 Years of Secrets & Scandals, Cirkuit Breac, Eternal return / op.1 wonderful world, AI Generated These I Had No Hands}\n",
       "theme_group_only_context                                                                                                                                                                                                                                                                                                                                                                                                                                                                                                                                                                                                                                                                                                                                                                                                                                                                                                              {Exit Pangea, Ghost in the Shell: SAC_2045 The Last Human, Agents, MOVE, A Tree Once Grew Here, Smog, Voice in My Head, Whisper of a Butterfly, Dotty and the Tower of Eternity}\n",
       "movie_theme_context                                                                                                                                                                                                                                                                                                                                                                                                                                                                                                                                                                                                                                                                                                                                                                                                                                                                                                                       {Love Machina, Teri Baaton Mein Aisa Uljha Jiya, A.I. Perversion, Original Short Film, Sci-fi Silence, 512X512, Two Gracious Uncles Smooched to the Beat, The Conscious \"I\"}\n",
       "movie_theme_group_context                                                                                                                                                                                                                                                                                                                                                                                                                                                                                                                                                                                                                                {Synthesis, Artificial Intelligence, 2023, Aire: Just Breathe, Flash Wars - Autonomous Weapons, A.I. and the Future of Warfare, 4°C, Fair Weather Friends, Storyteller, AIMEE: The Visitor, The Electric Kiss, EDDY BAIR, A.I. Made Me Do It: Ophelia, Human or AI? The future of beauty standards, With Love, from AIDAN, The AI Report, AI Lobotomy, To Live and Die in AI, Cosmic Miniatures, The Perfect Human, Literally No Place, AI History 1890-2090}\n",
       "theme_theme_group_context                                                                                                                                                                                                                                                                                                                                                                                                                                                                                                                                                                                                                                                                                                                                                                                                                                                                                                                                                     {Love Me, CCC, Lady, Landless, Pesudo, You Are Human, and You Are Lover, The Female Side Effect, CAPTCHA, JUST DESSERTS, i ai, H.O.M.E.}\n",
       "all_context                                                                                                                                                                                                                                                                                                                                                                                                                                                                                                                                                                                                                                                                                                                                                                                                                                                                                                                                            {Illusions of Movement, Blue Fire, Mad Scientists: A.I. Maxima, Primacy, The Creator, Ilya, The Beast, 3 Dialogues About the Future, So Unreal, Cyborg Society}"
      ]
     },
     "execution_count": 82,
     "metadata": {},
     "output_type": "execute_result"
    }
   ],
   "source": [
    "output_df, current_selected_df = compare_searches(\"What are some movies about artificial intelligence?\")\n",
    "selected_df = pd.concat([selected_df, current_selected_df])\n",
    "output_df"
   ]
  },
  {
   "cell_type": "code",
   "execution_count": 83,
   "id": "23a4fc12-5f2a-49b1-8344-d500958c0bf8",
   "metadata": {},
   "outputs": [
    {
     "name": "stderr",
     "output_type": "stream",
     "text": [
      "Warning: model not found. Using cl100k_base encoding.\n"
     ]
    },
    {
     "ename": "RateLimitError",
     "evalue": "Error code: 429 - {'type': 'error', 'error': {'type': 'rate_limit_error', 'message': 'Number of request tokens has exceeded your rate limit (https://docs.anthropic.com/claude/reference/rate-limits). Please reduce the the prompt length or the maximum tokens requested, or try again later. You may also contact sales at https://www.anthropic.com/contact-sales to discuss your options for a rate limit increase.'}}",
     "output_type": "error",
     "traceback": [
      "\u001b[0;31m---------------------------------------------------------------------------\u001b[0m",
      "\u001b[0;31mRateLimitError\u001b[0m                            Traceback (most recent call last)",
      "Cell \u001b[0;32mIn[83], line 1\u001b[0m\n\u001b[0;32m----> 1\u001b[0m output_df, current_selected_df \u001b[38;5;241m=\u001b[39m \u001b[43mcompare_searches\u001b[49m\u001b[43m(\u001b[49m\u001b[38;5;124;43m\"\u001b[39;49m\u001b[38;5;124;43mWhat are some movies about growing up in a small town?\u001b[39;49m\u001b[38;5;124;43m\"\u001b[39;49m\u001b[43m)\u001b[49m\n\u001b[1;32m      2\u001b[0m selected_df \u001b[38;5;241m=\u001b[39m pd\u001b[38;5;241m.\u001b[39mconcat([selected_df, current_selected_df])\n\u001b[1;32m      3\u001b[0m output_df\n",
      "Cell \u001b[0;32mIn[76], line 18\u001b[0m, in \u001b[0;36mcompare_searches\u001b[0;34m(query)\u001b[0m\n\u001b[1;32m     17\u001b[0m \u001b[38;5;28;01mdef\u001b[39;00m \u001b[38;5;21mcompare_searches\u001b[39m(query):\n\u001b[0;32m---> 18\u001b[0m     movie_result \u001b[38;5;241m=\u001b[39m \u001b[43mmovie_chain\u001b[49m\u001b[38;5;241;43m.\u001b[39;49m\u001b[43minvoke\u001b[49m\u001b[43m(\u001b[49m\u001b[43m{\u001b[49m\u001b[38;5;124;43m\"\u001b[39;49m\u001b[38;5;124;43minput\u001b[39;49m\u001b[38;5;124;43m\"\u001b[39;49m\u001b[43m:\u001b[49m\u001b[43m \u001b[49m\u001b[43mquery\u001b[49m\u001b[43m}\u001b[49m\u001b[43m)\u001b[49m\n\u001b[1;32m     19\u001b[0m     theme_result \u001b[38;5;241m=\u001b[39m theme_chain\u001b[38;5;241m.\u001b[39minvoke({\u001b[38;5;124m\"\u001b[39m\u001b[38;5;124minput\u001b[39m\u001b[38;5;124m\"\u001b[39m: query})\n\u001b[1;32m     20\u001b[0m     theme_group_result \u001b[38;5;241m=\u001b[39m theme_group_chain\u001b[38;5;241m.\u001b[39minvoke({\u001b[38;5;124m\"\u001b[39m\u001b[38;5;124minput\u001b[39m\u001b[38;5;124m\"\u001b[39m: query})\n",
      "File \u001b[0;32m~/anaconda3/envs/chatbot/lib/python3.11/site-packages/langchain_core/runnables/base.py:4060\u001b[0m, in \u001b[0;36mRunnableBindingBase.invoke\u001b[0;34m(self, input, config, **kwargs)\u001b[0m\n\u001b[1;32m   4054\u001b[0m \u001b[38;5;28;01mdef\u001b[39;00m \u001b[38;5;21minvoke\u001b[39m(\n\u001b[1;32m   4055\u001b[0m     \u001b[38;5;28mself\u001b[39m,\n\u001b[1;32m   4056\u001b[0m     \u001b[38;5;28minput\u001b[39m: Input,\n\u001b[1;32m   4057\u001b[0m     config: Optional[RunnableConfig] \u001b[38;5;241m=\u001b[39m \u001b[38;5;28;01mNone\u001b[39;00m,\n\u001b[1;32m   4058\u001b[0m     \u001b[38;5;241m*\u001b[39m\u001b[38;5;241m*\u001b[39mkwargs: Optional[Any],\n\u001b[1;32m   4059\u001b[0m ) \u001b[38;5;241m-\u001b[39m\u001b[38;5;241m>\u001b[39m Output:\n\u001b[0;32m-> 4060\u001b[0m     \u001b[38;5;28;01mreturn\u001b[39;00m \u001b[38;5;28;43mself\u001b[39;49m\u001b[38;5;241;43m.\u001b[39;49m\u001b[43mbound\u001b[49m\u001b[38;5;241;43m.\u001b[39;49m\u001b[43minvoke\u001b[49m\u001b[43m(\u001b[49m\n\u001b[1;32m   4061\u001b[0m \u001b[43m        \u001b[49m\u001b[38;5;28;43minput\u001b[39;49m\u001b[43m,\u001b[49m\n\u001b[1;32m   4062\u001b[0m \u001b[43m        \u001b[49m\u001b[38;5;28;43mself\u001b[39;49m\u001b[38;5;241;43m.\u001b[39;49m\u001b[43m_merge_configs\u001b[49m\u001b[43m(\u001b[49m\u001b[43mconfig\u001b[49m\u001b[43m)\u001b[49m\u001b[43m,\u001b[49m\n\u001b[1;32m   4063\u001b[0m \u001b[43m        \u001b[49m\u001b[38;5;241;43m*\u001b[39;49m\u001b[38;5;241;43m*\u001b[39;49m\u001b[43m{\u001b[49m\u001b[38;5;241;43m*\u001b[39;49m\u001b[38;5;241;43m*\u001b[39;49m\u001b[38;5;28;43mself\u001b[39;49m\u001b[38;5;241;43m.\u001b[39;49m\u001b[43mkwargs\u001b[49m\u001b[43m,\u001b[49m\u001b[43m \u001b[49m\u001b[38;5;241;43m*\u001b[39;49m\u001b[38;5;241;43m*\u001b[39;49m\u001b[43mkwargs\u001b[49m\u001b[43m}\u001b[49m\u001b[43m,\u001b[49m\n\u001b[1;32m   4064\u001b[0m \u001b[43m    \u001b[49m\u001b[43m)\u001b[49m\n",
      "File \u001b[0;32m~/anaconda3/envs/chatbot/lib/python3.11/site-packages/langchain_core/runnables/base.py:2056\u001b[0m, in \u001b[0;36mRunnableSequence.invoke\u001b[0;34m(self, input, config)\u001b[0m\n\u001b[1;32m   2054\u001b[0m \u001b[38;5;28;01mtry\u001b[39;00m:\n\u001b[1;32m   2055\u001b[0m     \u001b[38;5;28;01mfor\u001b[39;00m i, step \u001b[38;5;129;01min\u001b[39;00m \u001b[38;5;28menumerate\u001b[39m(\u001b[38;5;28mself\u001b[39m\u001b[38;5;241m.\u001b[39msteps):\n\u001b[0;32m-> 2056\u001b[0m         \u001b[38;5;28minput\u001b[39m \u001b[38;5;241m=\u001b[39m \u001b[43mstep\u001b[49m\u001b[38;5;241;43m.\u001b[39;49m\u001b[43minvoke\u001b[49m\u001b[43m(\u001b[49m\n\u001b[1;32m   2057\u001b[0m \u001b[43m            \u001b[49m\u001b[38;5;28;43minput\u001b[39;49m\u001b[43m,\u001b[49m\n\u001b[1;32m   2058\u001b[0m \u001b[43m            \u001b[49m\u001b[38;5;66;43;03m# mark each step as a child run\u001b[39;49;00m\n\u001b[1;32m   2059\u001b[0m \u001b[43m            \u001b[49m\u001b[43mpatch_config\u001b[49m\u001b[43m(\u001b[49m\n\u001b[1;32m   2060\u001b[0m \u001b[43m                \u001b[49m\u001b[43mconfig\u001b[49m\u001b[43m,\u001b[49m\u001b[43m \u001b[49m\u001b[43mcallbacks\u001b[49m\u001b[38;5;241;43m=\u001b[39;49m\u001b[43mrun_manager\u001b[49m\u001b[38;5;241;43m.\u001b[39;49m\u001b[43mget_child\u001b[49m\u001b[43m(\u001b[49m\u001b[38;5;124;43mf\u001b[39;49m\u001b[38;5;124;43m\"\u001b[39;49m\u001b[38;5;124;43mseq:step:\u001b[39;49m\u001b[38;5;132;43;01m{\u001b[39;49;00m\u001b[43mi\u001b[49m\u001b[38;5;241;43m+\u001b[39;49m\u001b[38;5;241;43m1\u001b[39;49m\u001b[38;5;132;43;01m}\u001b[39;49;00m\u001b[38;5;124;43m\"\u001b[39;49m\u001b[43m)\u001b[49m\n\u001b[1;32m   2061\u001b[0m \u001b[43m            \u001b[49m\u001b[43m)\u001b[49m\u001b[43m,\u001b[49m\n\u001b[1;32m   2062\u001b[0m \u001b[43m        \u001b[49m\u001b[43m)\u001b[49m\n\u001b[1;32m   2063\u001b[0m \u001b[38;5;66;03m# finish the root run\u001b[39;00m\n\u001b[1;32m   2064\u001b[0m \u001b[38;5;28;01mexcept\u001b[39;00m \u001b[38;5;167;01mBaseException\u001b[39;00m \u001b[38;5;28;01mas\u001b[39;00m e:\n",
      "File \u001b[0;32m~/anaconda3/envs/chatbot/lib/python3.11/site-packages/langchain_core/runnables/passthrough.py:419\u001b[0m, in \u001b[0;36mRunnableAssign.invoke\u001b[0;34m(self, input, config, **kwargs)\u001b[0m\n\u001b[1;32m    413\u001b[0m \u001b[38;5;28;01mdef\u001b[39;00m \u001b[38;5;21minvoke\u001b[39m(\n\u001b[1;32m    414\u001b[0m     \u001b[38;5;28mself\u001b[39m,\n\u001b[1;32m    415\u001b[0m     \u001b[38;5;28minput\u001b[39m: Dict[\u001b[38;5;28mstr\u001b[39m, Any],\n\u001b[1;32m    416\u001b[0m     config: Optional[RunnableConfig] \u001b[38;5;241m=\u001b[39m \u001b[38;5;28;01mNone\u001b[39;00m,\n\u001b[1;32m    417\u001b[0m     \u001b[38;5;241m*\u001b[39m\u001b[38;5;241m*\u001b[39mkwargs: Any,\n\u001b[1;32m    418\u001b[0m ) \u001b[38;5;241m-\u001b[39m\u001b[38;5;241m>\u001b[39m Dict[\u001b[38;5;28mstr\u001b[39m, Any]:\n\u001b[0;32m--> 419\u001b[0m     \u001b[38;5;28;01mreturn\u001b[39;00m \u001b[38;5;28;43mself\u001b[39;49m\u001b[38;5;241;43m.\u001b[39;49m\u001b[43m_call_with_config\u001b[49m\u001b[43m(\u001b[49m\u001b[38;5;28;43mself\u001b[39;49m\u001b[38;5;241;43m.\u001b[39;49m\u001b[43m_invoke\u001b[49m\u001b[43m,\u001b[49m\u001b[43m \u001b[49m\u001b[38;5;28;43minput\u001b[39;49m\u001b[43m,\u001b[49m\u001b[43m \u001b[49m\u001b[43mconfig\u001b[49m\u001b[43m,\u001b[49m\u001b[43m \u001b[49m\u001b[38;5;241;43m*\u001b[39;49m\u001b[38;5;241;43m*\u001b[39;49m\u001b[43mkwargs\u001b[49m\u001b[43m)\u001b[49m\n",
      "File \u001b[0;32m~/anaconda3/envs/chatbot/lib/python3.11/site-packages/langchain_core/runnables/base.py:1243\u001b[0m, in \u001b[0;36mRunnable._call_with_config\u001b[0;34m(self, func, input, config, run_type, **kwargs)\u001b[0m\n\u001b[1;32m   1239\u001b[0m     context \u001b[38;5;241m=\u001b[39m copy_context()\n\u001b[1;32m   1240\u001b[0m     context\u001b[38;5;241m.\u001b[39mrun(var_child_runnable_config\u001b[38;5;241m.\u001b[39mset, child_config)\n\u001b[1;32m   1241\u001b[0m     output \u001b[38;5;241m=\u001b[39m cast(\n\u001b[1;32m   1242\u001b[0m         Output,\n\u001b[0;32m-> 1243\u001b[0m         \u001b[43mcontext\u001b[49m\u001b[38;5;241;43m.\u001b[39;49m\u001b[43mrun\u001b[49m\u001b[43m(\u001b[49m\n\u001b[1;32m   1244\u001b[0m \u001b[43m            \u001b[49m\u001b[43mcall_func_with_variable_args\u001b[49m\u001b[43m,\u001b[49m\n\u001b[1;32m   1245\u001b[0m \u001b[43m            \u001b[49m\u001b[43mfunc\u001b[49m\u001b[43m,\u001b[49m\u001b[43m  \u001b[49m\u001b[38;5;66;43;03m# type: ignore[arg-type]\u001b[39;49;00m\n\u001b[1;32m   1246\u001b[0m \u001b[43m            \u001b[49m\u001b[38;5;28;43minput\u001b[39;49m\u001b[43m,\u001b[49m\u001b[43m  \u001b[49m\u001b[38;5;66;43;03m# type: ignore[arg-type]\u001b[39;49;00m\n\u001b[1;32m   1247\u001b[0m \u001b[43m            \u001b[49m\u001b[43mconfig\u001b[49m\u001b[43m,\u001b[49m\n\u001b[1;32m   1248\u001b[0m \u001b[43m            \u001b[49m\u001b[43mrun_manager\u001b[49m\u001b[43m,\u001b[49m\n\u001b[1;32m   1249\u001b[0m \u001b[43m            \u001b[49m\u001b[38;5;241;43m*\u001b[39;49m\u001b[38;5;241;43m*\u001b[39;49m\u001b[43mkwargs\u001b[49m\u001b[43m,\u001b[49m\n\u001b[1;32m   1250\u001b[0m \u001b[43m        \u001b[49m\u001b[43m)\u001b[49m,\n\u001b[1;32m   1251\u001b[0m     )\n\u001b[1;32m   1252\u001b[0m \u001b[38;5;28;01mexcept\u001b[39;00m \u001b[38;5;167;01mBaseException\u001b[39;00m \u001b[38;5;28;01mas\u001b[39;00m e:\n\u001b[1;32m   1253\u001b[0m     run_manager\u001b[38;5;241m.\u001b[39mon_chain_error(e)\n",
      "File \u001b[0;32m~/anaconda3/envs/chatbot/lib/python3.11/site-packages/langchain_core/runnables/config.py:326\u001b[0m, in \u001b[0;36mcall_func_with_variable_args\u001b[0;34m(func, input, config, run_manager, **kwargs)\u001b[0m\n\u001b[1;32m    324\u001b[0m \u001b[38;5;28;01mif\u001b[39;00m run_manager \u001b[38;5;129;01mis\u001b[39;00m \u001b[38;5;129;01mnot\u001b[39;00m \u001b[38;5;28;01mNone\u001b[39;00m \u001b[38;5;129;01mand\u001b[39;00m accepts_run_manager(func):\n\u001b[1;32m    325\u001b[0m     kwargs[\u001b[38;5;124m\"\u001b[39m\u001b[38;5;124mrun_manager\u001b[39m\u001b[38;5;124m\"\u001b[39m] \u001b[38;5;241m=\u001b[39m run_manager\n\u001b[0;32m--> 326\u001b[0m \u001b[38;5;28;01mreturn\u001b[39;00m \u001b[43mfunc\u001b[49m\u001b[43m(\u001b[49m\u001b[38;5;28;43minput\u001b[39;49m\u001b[43m,\u001b[49m\u001b[43m \u001b[49m\u001b[38;5;241;43m*\u001b[39;49m\u001b[38;5;241;43m*\u001b[39;49m\u001b[43mkwargs\u001b[49m\u001b[43m)\u001b[49m\n",
      "File \u001b[0;32m~/anaconda3/envs/chatbot/lib/python3.11/site-packages/langchain_core/runnables/passthrough.py:406\u001b[0m, in \u001b[0;36mRunnableAssign._invoke\u001b[0;34m(self, input, run_manager, config, **kwargs)\u001b[0m\n\u001b[1;32m    393\u001b[0m \u001b[38;5;28;01mdef\u001b[39;00m \u001b[38;5;21m_invoke\u001b[39m(\n\u001b[1;32m    394\u001b[0m     \u001b[38;5;28mself\u001b[39m,\n\u001b[1;32m    395\u001b[0m     \u001b[38;5;28minput\u001b[39m: Dict[\u001b[38;5;28mstr\u001b[39m, Any],\n\u001b[0;32m   (...)\u001b[0m\n\u001b[1;32m    398\u001b[0m     \u001b[38;5;241m*\u001b[39m\u001b[38;5;241m*\u001b[39mkwargs: Any,\n\u001b[1;32m    399\u001b[0m ) \u001b[38;5;241m-\u001b[39m\u001b[38;5;241m>\u001b[39m Dict[\u001b[38;5;28mstr\u001b[39m, Any]:\n\u001b[1;32m    400\u001b[0m     \u001b[38;5;28;01massert\u001b[39;00m \u001b[38;5;28misinstance\u001b[39m(\n\u001b[1;32m    401\u001b[0m         \u001b[38;5;28minput\u001b[39m, \u001b[38;5;28mdict\u001b[39m\n\u001b[1;32m    402\u001b[0m     ), \u001b[38;5;124m\"\u001b[39m\u001b[38;5;124mThe input to RunnablePassthrough.assign() must be a dict.\u001b[39m\u001b[38;5;124m\"\u001b[39m\n\u001b[1;32m    404\u001b[0m     \u001b[38;5;28;01mreturn\u001b[39;00m {\n\u001b[1;32m    405\u001b[0m         \u001b[38;5;241m*\u001b[39m\u001b[38;5;241m*\u001b[39m\u001b[38;5;28minput\u001b[39m,\n\u001b[0;32m--> 406\u001b[0m         \u001b[38;5;241m*\u001b[39m\u001b[38;5;241m*\u001b[39m\u001b[38;5;28;43mself\u001b[39;49m\u001b[38;5;241;43m.\u001b[39;49m\u001b[43mmapper\u001b[49m\u001b[38;5;241;43m.\u001b[39;49m\u001b[43minvoke\u001b[49m\u001b[43m(\u001b[49m\n\u001b[1;32m    407\u001b[0m \u001b[43m            \u001b[49m\u001b[38;5;28;43minput\u001b[39;49m\u001b[43m,\u001b[49m\n\u001b[1;32m    408\u001b[0m \u001b[43m            \u001b[49m\u001b[43mpatch_config\u001b[49m\u001b[43m(\u001b[49m\u001b[43mconfig\u001b[49m\u001b[43m,\u001b[49m\u001b[43m \u001b[49m\u001b[43mcallbacks\u001b[49m\u001b[38;5;241;43m=\u001b[39;49m\u001b[43mrun_manager\u001b[49m\u001b[38;5;241;43m.\u001b[39;49m\u001b[43mget_child\u001b[49m\u001b[43m(\u001b[49m\u001b[43m)\u001b[49m\u001b[43m)\u001b[49m\u001b[43m,\u001b[49m\n\u001b[1;32m    409\u001b[0m \u001b[43m            \u001b[49m\u001b[38;5;241;43m*\u001b[39;49m\u001b[38;5;241;43m*\u001b[39;49m\u001b[43mkwargs\u001b[49m\u001b[43m,\u001b[49m\n\u001b[1;32m    410\u001b[0m \u001b[43m        \u001b[49m\u001b[43m)\u001b[49m,\n\u001b[1;32m    411\u001b[0m     }\n",
      "File \u001b[0;32m~/anaconda3/envs/chatbot/lib/python3.11/site-packages/langchain_core/runnables/base.py:2693\u001b[0m, in \u001b[0;36mRunnableParallel.invoke\u001b[0;34m(self, input, config)\u001b[0m\n\u001b[1;32m   2680\u001b[0m     \u001b[38;5;28;01mwith\u001b[39;00m get_executor_for_config(config) \u001b[38;5;28;01mas\u001b[39;00m executor:\n\u001b[1;32m   2681\u001b[0m         futures \u001b[38;5;241m=\u001b[39m [\n\u001b[1;32m   2682\u001b[0m             executor\u001b[38;5;241m.\u001b[39msubmit(\n\u001b[1;32m   2683\u001b[0m                 step\u001b[38;5;241m.\u001b[39minvoke,\n\u001b[0;32m   (...)\u001b[0m\n\u001b[1;32m   2691\u001b[0m             \u001b[38;5;28;01mfor\u001b[39;00m key, step \u001b[38;5;129;01min\u001b[39;00m steps\u001b[38;5;241m.\u001b[39mitems()\n\u001b[1;32m   2692\u001b[0m         ]\n\u001b[0;32m-> 2693\u001b[0m         output \u001b[38;5;241m=\u001b[39m \u001b[43m{\u001b[49m\u001b[43mkey\u001b[49m\u001b[43m:\u001b[49m\u001b[43m \u001b[49m\u001b[43mfuture\u001b[49m\u001b[38;5;241;43m.\u001b[39;49m\u001b[43mresult\u001b[49m\u001b[43m(\u001b[49m\u001b[43m)\u001b[49m\u001b[43m \u001b[49m\u001b[38;5;28;43;01mfor\u001b[39;49;00m\u001b[43m \u001b[49m\u001b[43mkey\u001b[49m\u001b[43m,\u001b[49m\u001b[43m \u001b[49m\u001b[43mfuture\u001b[49m\u001b[43m \u001b[49m\u001b[38;5;129;43;01min\u001b[39;49;00m\u001b[43m \u001b[49m\u001b[38;5;28;43mzip\u001b[39;49m\u001b[43m(\u001b[49m\u001b[43msteps\u001b[49m\u001b[43m,\u001b[49m\u001b[43m \u001b[49m\u001b[43mfutures\u001b[49m\u001b[43m)\u001b[49m\u001b[43m}\u001b[49m\n\u001b[1;32m   2694\u001b[0m \u001b[38;5;66;03m# finish the root run\u001b[39;00m\n\u001b[1;32m   2695\u001b[0m \u001b[38;5;28;01mexcept\u001b[39;00m \u001b[38;5;167;01mBaseException\u001b[39;00m \u001b[38;5;28;01mas\u001b[39;00m e:\n",
      "File \u001b[0;32m~/anaconda3/envs/chatbot/lib/python3.11/site-packages/langchain_core/runnables/base.py:2693\u001b[0m, in \u001b[0;36m<dictcomp>\u001b[0;34m(.0)\u001b[0m\n\u001b[1;32m   2680\u001b[0m     \u001b[38;5;28;01mwith\u001b[39;00m get_executor_for_config(config) \u001b[38;5;28;01mas\u001b[39;00m executor:\n\u001b[1;32m   2681\u001b[0m         futures \u001b[38;5;241m=\u001b[39m [\n\u001b[1;32m   2682\u001b[0m             executor\u001b[38;5;241m.\u001b[39msubmit(\n\u001b[1;32m   2683\u001b[0m                 step\u001b[38;5;241m.\u001b[39minvoke,\n\u001b[0;32m   (...)\u001b[0m\n\u001b[1;32m   2691\u001b[0m             \u001b[38;5;28;01mfor\u001b[39;00m key, step \u001b[38;5;129;01min\u001b[39;00m steps\u001b[38;5;241m.\u001b[39mitems()\n\u001b[1;32m   2692\u001b[0m         ]\n\u001b[0;32m-> 2693\u001b[0m         output \u001b[38;5;241m=\u001b[39m {key: \u001b[43mfuture\u001b[49m\u001b[38;5;241;43m.\u001b[39;49m\u001b[43mresult\u001b[49m\u001b[43m(\u001b[49m\u001b[43m)\u001b[49m \u001b[38;5;28;01mfor\u001b[39;00m key, future \u001b[38;5;129;01min\u001b[39;00m \u001b[38;5;28mzip\u001b[39m(steps, futures)}\n\u001b[1;32m   2694\u001b[0m \u001b[38;5;66;03m# finish the root run\u001b[39;00m\n\u001b[1;32m   2695\u001b[0m \u001b[38;5;28;01mexcept\u001b[39;00m \u001b[38;5;167;01mBaseException\u001b[39;00m \u001b[38;5;28;01mas\u001b[39;00m e:\n",
      "File \u001b[0;32m~/anaconda3/envs/chatbot/lib/python3.11/concurrent/futures/_base.py:456\u001b[0m, in \u001b[0;36mFuture.result\u001b[0;34m(self, timeout)\u001b[0m\n\u001b[1;32m    454\u001b[0m     \u001b[38;5;28;01mraise\u001b[39;00m CancelledError()\n\u001b[1;32m    455\u001b[0m \u001b[38;5;28;01melif\u001b[39;00m \u001b[38;5;28mself\u001b[39m\u001b[38;5;241m.\u001b[39m_state \u001b[38;5;241m==\u001b[39m FINISHED:\n\u001b[0;32m--> 456\u001b[0m     \u001b[38;5;28;01mreturn\u001b[39;00m \u001b[38;5;28;43mself\u001b[39;49m\u001b[38;5;241;43m.\u001b[39;49m\u001b[43m__get_result\u001b[49m\u001b[43m(\u001b[49m\u001b[43m)\u001b[49m\n\u001b[1;32m    457\u001b[0m \u001b[38;5;28;01melse\u001b[39;00m:\n\u001b[1;32m    458\u001b[0m     \u001b[38;5;28;01mraise\u001b[39;00m \u001b[38;5;167;01mTimeoutError\u001b[39;00m()\n",
      "File \u001b[0;32m~/anaconda3/envs/chatbot/lib/python3.11/concurrent/futures/_base.py:401\u001b[0m, in \u001b[0;36mFuture.__get_result\u001b[0;34m(self)\u001b[0m\n\u001b[1;32m    399\u001b[0m \u001b[38;5;28;01mif\u001b[39;00m \u001b[38;5;28mself\u001b[39m\u001b[38;5;241m.\u001b[39m_exception:\n\u001b[1;32m    400\u001b[0m     \u001b[38;5;28;01mtry\u001b[39;00m:\n\u001b[0;32m--> 401\u001b[0m         \u001b[38;5;28;01mraise\u001b[39;00m \u001b[38;5;28mself\u001b[39m\u001b[38;5;241m.\u001b[39m_exception\n\u001b[1;32m    402\u001b[0m     \u001b[38;5;28;01mfinally\u001b[39;00m:\n\u001b[1;32m    403\u001b[0m         \u001b[38;5;66;03m# Break a reference cycle with the exception in self._exception\u001b[39;00m\n\u001b[1;32m    404\u001b[0m         \u001b[38;5;28mself\u001b[39m \u001b[38;5;241m=\u001b[39m \u001b[38;5;28;01mNone\u001b[39;00m\n",
      "File \u001b[0;32m~/anaconda3/envs/chatbot/lib/python3.11/concurrent/futures/thread.py:58\u001b[0m, in \u001b[0;36m_WorkItem.run\u001b[0;34m(self)\u001b[0m\n\u001b[1;32m     55\u001b[0m     \u001b[38;5;28;01mreturn\u001b[39;00m\n\u001b[1;32m     57\u001b[0m \u001b[38;5;28;01mtry\u001b[39;00m:\n\u001b[0;32m---> 58\u001b[0m     result \u001b[38;5;241m=\u001b[39m \u001b[38;5;28;43mself\u001b[39;49m\u001b[38;5;241;43m.\u001b[39;49m\u001b[43mfn\u001b[49m\u001b[43m(\u001b[49m\u001b[38;5;241;43m*\u001b[39;49m\u001b[38;5;28;43mself\u001b[39;49m\u001b[38;5;241;43m.\u001b[39;49m\u001b[43margs\u001b[49m\u001b[43m,\u001b[49m\u001b[43m \u001b[49m\u001b[38;5;241;43m*\u001b[39;49m\u001b[38;5;241;43m*\u001b[39;49m\u001b[38;5;28;43mself\u001b[39;49m\u001b[38;5;241;43m.\u001b[39;49m\u001b[43mkwargs\u001b[49m\u001b[43m)\u001b[49m\n\u001b[1;32m     59\u001b[0m \u001b[38;5;28;01mexcept\u001b[39;00m \u001b[38;5;167;01mBaseException\u001b[39;00m \u001b[38;5;28;01mas\u001b[39;00m exc:\n\u001b[1;32m     60\u001b[0m     \u001b[38;5;28mself\u001b[39m\u001b[38;5;241m.\u001b[39mfuture\u001b[38;5;241m.\u001b[39mset_exception(exc)\n",
      "File \u001b[0;32m~/anaconda3/envs/chatbot/lib/python3.11/site-packages/langchain_core/runnables/base.py:4060\u001b[0m, in \u001b[0;36mRunnableBindingBase.invoke\u001b[0;34m(self, input, config, **kwargs)\u001b[0m\n\u001b[1;32m   4054\u001b[0m \u001b[38;5;28;01mdef\u001b[39;00m \u001b[38;5;21minvoke\u001b[39m(\n\u001b[1;32m   4055\u001b[0m     \u001b[38;5;28mself\u001b[39m,\n\u001b[1;32m   4056\u001b[0m     \u001b[38;5;28minput\u001b[39m: Input,\n\u001b[1;32m   4057\u001b[0m     config: Optional[RunnableConfig] \u001b[38;5;241m=\u001b[39m \u001b[38;5;28;01mNone\u001b[39;00m,\n\u001b[1;32m   4058\u001b[0m     \u001b[38;5;241m*\u001b[39m\u001b[38;5;241m*\u001b[39mkwargs: Optional[Any],\n\u001b[1;32m   4059\u001b[0m ) \u001b[38;5;241m-\u001b[39m\u001b[38;5;241m>\u001b[39m Output:\n\u001b[0;32m-> 4060\u001b[0m     \u001b[38;5;28;01mreturn\u001b[39;00m \u001b[38;5;28;43mself\u001b[39;49m\u001b[38;5;241;43m.\u001b[39;49m\u001b[43mbound\u001b[49m\u001b[38;5;241;43m.\u001b[39;49m\u001b[43minvoke\u001b[49m\u001b[43m(\u001b[49m\n\u001b[1;32m   4061\u001b[0m \u001b[43m        \u001b[49m\u001b[38;5;28;43minput\u001b[39;49m\u001b[43m,\u001b[49m\n\u001b[1;32m   4062\u001b[0m \u001b[43m        \u001b[49m\u001b[38;5;28;43mself\u001b[39;49m\u001b[38;5;241;43m.\u001b[39;49m\u001b[43m_merge_configs\u001b[49m\u001b[43m(\u001b[49m\u001b[43mconfig\u001b[49m\u001b[43m)\u001b[49m\u001b[43m,\u001b[49m\n\u001b[1;32m   4063\u001b[0m \u001b[43m        \u001b[49m\u001b[38;5;241;43m*\u001b[39;49m\u001b[38;5;241;43m*\u001b[39;49m\u001b[43m{\u001b[49m\u001b[38;5;241;43m*\u001b[39;49m\u001b[38;5;241;43m*\u001b[39;49m\u001b[38;5;28;43mself\u001b[39;49m\u001b[38;5;241;43m.\u001b[39;49m\u001b[43mkwargs\u001b[49m\u001b[43m,\u001b[49m\u001b[43m \u001b[49m\u001b[38;5;241;43m*\u001b[39;49m\u001b[38;5;241;43m*\u001b[39;49m\u001b[43mkwargs\u001b[49m\u001b[43m}\u001b[49m\u001b[43m,\u001b[49m\n\u001b[1;32m   4064\u001b[0m \u001b[43m    \u001b[49m\u001b[43m)\u001b[49m\n",
      "File \u001b[0;32m~/anaconda3/envs/chatbot/lib/python3.11/site-packages/langchain_core/runnables/base.py:2056\u001b[0m, in \u001b[0;36mRunnableSequence.invoke\u001b[0;34m(self, input, config)\u001b[0m\n\u001b[1;32m   2054\u001b[0m \u001b[38;5;28;01mtry\u001b[39;00m:\n\u001b[1;32m   2055\u001b[0m     \u001b[38;5;28;01mfor\u001b[39;00m i, step \u001b[38;5;129;01min\u001b[39;00m \u001b[38;5;28menumerate\u001b[39m(\u001b[38;5;28mself\u001b[39m\u001b[38;5;241m.\u001b[39msteps):\n\u001b[0;32m-> 2056\u001b[0m         \u001b[38;5;28minput\u001b[39m \u001b[38;5;241m=\u001b[39m \u001b[43mstep\u001b[49m\u001b[38;5;241;43m.\u001b[39;49m\u001b[43minvoke\u001b[49m\u001b[43m(\u001b[49m\n\u001b[1;32m   2057\u001b[0m \u001b[43m            \u001b[49m\u001b[38;5;28;43minput\u001b[39;49m\u001b[43m,\u001b[49m\n\u001b[1;32m   2058\u001b[0m \u001b[43m            \u001b[49m\u001b[38;5;66;43;03m# mark each step as a child run\u001b[39;49;00m\n\u001b[1;32m   2059\u001b[0m \u001b[43m            \u001b[49m\u001b[43mpatch_config\u001b[49m\u001b[43m(\u001b[49m\n\u001b[1;32m   2060\u001b[0m \u001b[43m                \u001b[49m\u001b[43mconfig\u001b[49m\u001b[43m,\u001b[49m\u001b[43m \u001b[49m\u001b[43mcallbacks\u001b[49m\u001b[38;5;241;43m=\u001b[39;49m\u001b[43mrun_manager\u001b[49m\u001b[38;5;241;43m.\u001b[39;49m\u001b[43mget_child\u001b[49m\u001b[43m(\u001b[49m\u001b[38;5;124;43mf\u001b[39;49m\u001b[38;5;124;43m\"\u001b[39;49m\u001b[38;5;124;43mseq:step:\u001b[39;49m\u001b[38;5;132;43;01m{\u001b[39;49;00m\u001b[43mi\u001b[49m\u001b[38;5;241;43m+\u001b[39;49m\u001b[38;5;241;43m1\u001b[39;49m\u001b[38;5;132;43;01m}\u001b[39;49;00m\u001b[38;5;124;43m\"\u001b[39;49m\u001b[43m)\u001b[49m\n\u001b[1;32m   2061\u001b[0m \u001b[43m            \u001b[49m\u001b[43m)\u001b[49m\u001b[43m,\u001b[49m\n\u001b[1;32m   2062\u001b[0m \u001b[43m        \u001b[49m\u001b[43m)\u001b[49m\n\u001b[1;32m   2063\u001b[0m \u001b[38;5;66;03m# finish the root run\u001b[39;00m\n\u001b[1;32m   2064\u001b[0m \u001b[38;5;28;01mexcept\u001b[39;00m \u001b[38;5;167;01mBaseException\u001b[39;00m \u001b[38;5;28;01mas\u001b[39;00m e:\n",
      "File \u001b[0;32m~/anaconda3/envs/chatbot/lib/python3.11/site-packages/langchain_core/language_models/chat_models.py:166\u001b[0m, in \u001b[0;36mBaseChatModel.invoke\u001b[0;34m(self, input, config, stop, **kwargs)\u001b[0m\n\u001b[1;32m    155\u001b[0m \u001b[38;5;28;01mdef\u001b[39;00m \u001b[38;5;21minvoke\u001b[39m(\n\u001b[1;32m    156\u001b[0m     \u001b[38;5;28mself\u001b[39m,\n\u001b[1;32m    157\u001b[0m     \u001b[38;5;28minput\u001b[39m: LanguageModelInput,\n\u001b[0;32m   (...)\u001b[0m\n\u001b[1;32m    161\u001b[0m     \u001b[38;5;241m*\u001b[39m\u001b[38;5;241m*\u001b[39mkwargs: Any,\n\u001b[1;32m    162\u001b[0m ) \u001b[38;5;241m-\u001b[39m\u001b[38;5;241m>\u001b[39m BaseMessage:\n\u001b[1;32m    163\u001b[0m     config \u001b[38;5;241m=\u001b[39m ensure_config(config)\n\u001b[1;32m    164\u001b[0m     \u001b[38;5;28;01mreturn\u001b[39;00m cast(\n\u001b[1;32m    165\u001b[0m         ChatGeneration,\n\u001b[0;32m--> 166\u001b[0m         \u001b[38;5;28;43mself\u001b[39;49m\u001b[38;5;241;43m.\u001b[39;49m\u001b[43mgenerate_prompt\u001b[49m\u001b[43m(\u001b[49m\n\u001b[1;32m    167\u001b[0m \u001b[43m            \u001b[49m\u001b[43m[\u001b[49m\u001b[38;5;28;43mself\u001b[39;49m\u001b[38;5;241;43m.\u001b[39;49m\u001b[43m_convert_input\u001b[49m\u001b[43m(\u001b[49m\u001b[38;5;28;43minput\u001b[39;49m\u001b[43m)\u001b[49m\u001b[43m]\u001b[49m\u001b[43m,\u001b[49m\n\u001b[1;32m    168\u001b[0m \u001b[43m            \u001b[49m\u001b[43mstop\u001b[49m\u001b[38;5;241;43m=\u001b[39;49m\u001b[43mstop\u001b[49m\u001b[43m,\u001b[49m\n\u001b[1;32m    169\u001b[0m \u001b[43m            \u001b[49m\u001b[43mcallbacks\u001b[49m\u001b[38;5;241;43m=\u001b[39;49m\u001b[43mconfig\u001b[49m\u001b[38;5;241;43m.\u001b[39;49m\u001b[43mget\u001b[49m\u001b[43m(\u001b[49m\u001b[38;5;124;43m\"\u001b[39;49m\u001b[38;5;124;43mcallbacks\u001b[39;49m\u001b[38;5;124;43m\"\u001b[39;49m\u001b[43m)\u001b[49m\u001b[43m,\u001b[49m\n\u001b[1;32m    170\u001b[0m \u001b[43m            \u001b[49m\u001b[43mtags\u001b[49m\u001b[38;5;241;43m=\u001b[39;49m\u001b[43mconfig\u001b[49m\u001b[38;5;241;43m.\u001b[39;49m\u001b[43mget\u001b[49m\u001b[43m(\u001b[49m\u001b[38;5;124;43m\"\u001b[39;49m\u001b[38;5;124;43mtags\u001b[39;49m\u001b[38;5;124;43m\"\u001b[39;49m\u001b[43m)\u001b[49m\u001b[43m,\u001b[49m\n\u001b[1;32m    171\u001b[0m \u001b[43m            \u001b[49m\u001b[43mmetadata\u001b[49m\u001b[38;5;241;43m=\u001b[39;49m\u001b[43mconfig\u001b[49m\u001b[38;5;241;43m.\u001b[39;49m\u001b[43mget\u001b[49m\u001b[43m(\u001b[49m\u001b[38;5;124;43m\"\u001b[39;49m\u001b[38;5;124;43mmetadata\u001b[39;49m\u001b[38;5;124;43m\"\u001b[39;49m\u001b[43m)\u001b[49m\u001b[43m,\u001b[49m\n\u001b[1;32m    172\u001b[0m \u001b[43m            \u001b[49m\u001b[43mrun_name\u001b[49m\u001b[38;5;241;43m=\u001b[39;49m\u001b[43mconfig\u001b[49m\u001b[38;5;241;43m.\u001b[39;49m\u001b[43mget\u001b[49m\u001b[43m(\u001b[49m\u001b[38;5;124;43m\"\u001b[39;49m\u001b[38;5;124;43mrun_name\u001b[39;49m\u001b[38;5;124;43m\"\u001b[39;49m\u001b[43m)\u001b[49m\u001b[43m,\u001b[49m\n\u001b[1;32m    173\u001b[0m \u001b[43m            \u001b[49m\u001b[38;5;241;43m*\u001b[39;49m\u001b[38;5;241;43m*\u001b[39;49m\u001b[43mkwargs\u001b[49m\u001b[43m,\u001b[49m\n\u001b[1;32m    174\u001b[0m \u001b[43m        \u001b[49m\u001b[43m)\u001b[49m\u001b[38;5;241m.\u001b[39mgenerations[\u001b[38;5;241m0\u001b[39m][\u001b[38;5;241m0\u001b[39m],\n\u001b[1;32m    175\u001b[0m     )\u001b[38;5;241m.\u001b[39mmessage\n",
      "File \u001b[0;32m~/anaconda3/envs/chatbot/lib/python3.11/site-packages/langchain_core/language_models/chat_models.py:544\u001b[0m, in \u001b[0;36mBaseChatModel.generate_prompt\u001b[0;34m(self, prompts, stop, callbacks, **kwargs)\u001b[0m\n\u001b[1;32m    536\u001b[0m \u001b[38;5;28;01mdef\u001b[39;00m \u001b[38;5;21mgenerate_prompt\u001b[39m(\n\u001b[1;32m    537\u001b[0m     \u001b[38;5;28mself\u001b[39m,\n\u001b[1;32m    538\u001b[0m     prompts: List[PromptValue],\n\u001b[0;32m   (...)\u001b[0m\n\u001b[1;32m    541\u001b[0m     \u001b[38;5;241m*\u001b[39m\u001b[38;5;241m*\u001b[39mkwargs: Any,\n\u001b[1;32m    542\u001b[0m ) \u001b[38;5;241m-\u001b[39m\u001b[38;5;241m>\u001b[39m LLMResult:\n\u001b[1;32m    543\u001b[0m     prompt_messages \u001b[38;5;241m=\u001b[39m [p\u001b[38;5;241m.\u001b[39mto_messages() \u001b[38;5;28;01mfor\u001b[39;00m p \u001b[38;5;129;01min\u001b[39;00m prompts]\n\u001b[0;32m--> 544\u001b[0m     \u001b[38;5;28;01mreturn\u001b[39;00m \u001b[38;5;28;43mself\u001b[39;49m\u001b[38;5;241;43m.\u001b[39;49m\u001b[43mgenerate\u001b[49m\u001b[43m(\u001b[49m\u001b[43mprompt_messages\u001b[49m\u001b[43m,\u001b[49m\u001b[43m \u001b[49m\u001b[43mstop\u001b[49m\u001b[38;5;241;43m=\u001b[39;49m\u001b[43mstop\u001b[49m\u001b[43m,\u001b[49m\u001b[43m \u001b[49m\u001b[43mcallbacks\u001b[49m\u001b[38;5;241;43m=\u001b[39;49m\u001b[43mcallbacks\u001b[49m\u001b[43m,\u001b[49m\u001b[43m \u001b[49m\u001b[38;5;241;43m*\u001b[39;49m\u001b[38;5;241;43m*\u001b[39;49m\u001b[43mkwargs\u001b[49m\u001b[43m)\u001b[49m\n",
      "File \u001b[0;32m~/anaconda3/envs/chatbot/lib/python3.11/site-packages/langchain_core/language_models/chat_models.py:408\u001b[0m, in \u001b[0;36mBaseChatModel.generate\u001b[0;34m(self, messages, stop, callbacks, tags, metadata, run_name, **kwargs)\u001b[0m\n\u001b[1;32m    406\u001b[0m         \u001b[38;5;28;01mif\u001b[39;00m run_managers:\n\u001b[1;32m    407\u001b[0m             run_managers[i]\u001b[38;5;241m.\u001b[39mon_llm_error(e, response\u001b[38;5;241m=\u001b[39mLLMResult(generations\u001b[38;5;241m=\u001b[39m[]))\n\u001b[0;32m--> 408\u001b[0m         \u001b[38;5;28;01mraise\u001b[39;00m e\n\u001b[1;32m    409\u001b[0m flattened_outputs \u001b[38;5;241m=\u001b[39m [\n\u001b[1;32m    410\u001b[0m     LLMResult(generations\u001b[38;5;241m=\u001b[39m[res\u001b[38;5;241m.\u001b[39mgenerations], llm_output\u001b[38;5;241m=\u001b[39mres\u001b[38;5;241m.\u001b[39mllm_output)\n\u001b[1;32m    411\u001b[0m     \u001b[38;5;28;01mfor\u001b[39;00m res \u001b[38;5;129;01min\u001b[39;00m results\n\u001b[1;32m    412\u001b[0m ]\n\u001b[1;32m    413\u001b[0m llm_output \u001b[38;5;241m=\u001b[39m \u001b[38;5;28mself\u001b[39m\u001b[38;5;241m.\u001b[39m_combine_llm_outputs([res\u001b[38;5;241m.\u001b[39mllm_output \u001b[38;5;28;01mfor\u001b[39;00m res \u001b[38;5;129;01min\u001b[39;00m results])\n",
      "File \u001b[0;32m~/anaconda3/envs/chatbot/lib/python3.11/site-packages/langchain_core/language_models/chat_models.py:398\u001b[0m, in \u001b[0;36mBaseChatModel.generate\u001b[0;34m(self, messages, stop, callbacks, tags, metadata, run_name, **kwargs)\u001b[0m\n\u001b[1;32m    395\u001b[0m \u001b[38;5;28;01mfor\u001b[39;00m i, m \u001b[38;5;129;01min\u001b[39;00m \u001b[38;5;28menumerate\u001b[39m(messages):\n\u001b[1;32m    396\u001b[0m     \u001b[38;5;28;01mtry\u001b[39;00m:\n\u001b[1;32m    397\u001b[0m         results\u001b[38;5;241m.\u001b[39mappend(\n\u001b[0;32m--> 398\u001b[0m             \u001b[38;5;28;43mself\u001b[39;49m\u001b[38;5;241;43m.\u001b[39;49m\u001b[43m_generate_with_cache\u001b[49m\u001b[43m(\u001b[49m\n\u001b[1;32m    399\u001b[0m \u001b[43m                \u001b[49m\u001b[43mm\u001b[49m\u001b[43m,\u001b[49m\n\u001b[1;32m    400\u001b[0m \u001b[43m                \u001b[49m\u001b[43mstop\u001b[49m\u001b[38;5;241;43m=\u001b[39;49m\u001b[43mstop\u001b[49m\u001b[43m,\u001b[49m\n\u001b[1;32m    401\u001b[0m \u001b[43m                \u001b[49m\u001b[43mrun_manager\u001b[49m\u001b[38;5;241;43m=\u001b[39;49m\u001b[43mrun_managers\u001b[49m\u001b[43m[\u001b[49m\u001b[43mi\u001b[49m\u001b[43m]\u001b[49m\u001b[43m \u001b[49m\u001b[38;5;28;43;01mif\u001b[39;49;00m\u001b[43m \u001b[49m\u001b[43mrun_managers\u001b[49m\u001b[43m \u001b[49m\u001b[38;5;28;43;01melse\u001b[39;49;00m\u001b[43m \u001b[49m\u001b[38;5;28;43;01mNone\u001b[39;49;00m\u001b[43m,\u001b[49m\n\u001b[1;32m    402\u001b[0m \u001b[43m                \u001b[49m\u001b[38;5;241;43m*\u001b[39;49m\u001b[38;5;241;43m*\u001b[39;49m\u001b[43mkwargs\u001b[49m\u001b[43m,\u001b[49m\n\u001b[1;32m    403\u001b[0m \u001b[43m            \u001b[49m\u001b[43m)\u001b[49m\n\u001b[1;32m    404\u001b[0m         )\n\u001b[1;32m    405\u001b[0m     \u001b[38;5;28;01mexcept\u001b[39;00m \u001b[38;5;167;01mBaseException\u001b[39;00m \u001b[38;5;28;01mas\u001b[39;00m e:\n\u001b[1;32m    406\u001b[0m         \u001b[38;5;28;01mif\u001b[39;00m run_managers:\n",
      "File \u001b[0;32m~/anaconda3/envs/chatbot/lib/python3.11/site-packages/langchain_core/language_models/chat_models.py:577\u001b[0m, in \u001b[0;36mBaseChatModel._generate_with_cache\u001b[0;34m(self, messages, stop, run_manager, **kwargs)\u001b[0m\n\u001b[1;32m    573\u001b[0m     \u001b[38;5;28;01mraise\u001b[39;00m \u001b[38;5;167;01mValueError\u001b[39;00m(\n\u001b[1;32m    574\u001b[0m         \u001b[38;5;124m\"\u001b[39m\u001b[38;5;124mAsked to cache, but no cache found at `langchain.cache`.\u001b[39m\u001b[38;5;124m\"\u001b[39m\n\u001b[1;32m    575\u001b[0m     )\n\u001b[1;32m    576\u001b[0m \u001b[38;5;28;01mif\u001b[39;00m new_arg_supported:\n\u001b[0;32m--> 577\u001b[0m     \u001b[38;5;28;01mreturn\u001b[39;00m \u001b[38;5;28;43mself\u001b[39;49m\u001b[38;5;241;43m.\u001b[39;49m\u001b[43m_generate\u001b[49m\u001b[43m(\u001b[49m\n\u001b[1;32m    578\u001b[0m \u001b[43m        \u001b[49m\u001b[43mmessages\u001b[49m\u001b[43m,\u001b[49m\u001b[43m \u001b[49m\u001b[43mstop\u001b[49m\u001b[38;5;241;43m=\u001b[39;49m\u001b[43mstop\u001b[49m\u001b[43m,\u001b[49m\u001b[43m \u001b[49m\u001b[43mrun_manager\u001b[49m\u001b[38;5;241;43m=\u001b[39;49m\u001b[43mrun_manager\u001b[49m\u001b[43m,\u001b[49m\u001b[43m \u001b[49m\u001b[38;5;241;43m*\u001b[39;49m\u001b[38;5;241;43m*\u001b[39;49m\u001b[43mkwargs\u001b[49m\n\u001b[1;32m    579\u001b[0m \u001b[43m    \u001b[49m\u001b[43m)\u001b[49m\n\u001b[1;32m    580\u001b[0m \u001b[38;5;28;01melse\u001b[39;00m:\n\u001b[1;32m    581\u001b[0m     \u001b[38;5;28;01mreturn\u001b[39;00m \u001b[38;5;28mself\u001b[39m\u001b[38;5;241m.\u001b[39m_generate(messages, stop\u001b[38;5;241m=\u001b[39mstop, \u001b[38;5;241m*\u001b[39m\u001b[38;5;241m*\u001b[39mkwargs)\n",
      "File \u001b[0;32m~/anaconda3/envs/chatbot/lib/python3.11/site-packages/langchain_anthropic/chat_models.py:291\u001b[0m, in \u001b[0;36mChatAnthropic._generate\u001b[0;34m(self, messages, stop, run_manager, **kwargs)\u001b[0m\n\u001b[1;32m    289\u001b[0m     \u001b[38;5;28;01mreturn\u001b[39;00m generate_from_stream(stream_iter)\n\u001b[1;32m    290\u001b[0m params \u001b[38;5;241m=\u001b[39m \u001b[38;5;28mself\u001b[39m\u001b[38;5;241m.\u001b[39m_format_params(messages\u001b[38;5;241m=\u001b[39mmessages, stop\u001b[38;5;241m=\u001b[39mstop, \u001b[38;5;241m*\u001b[39m\u001b[38;5;241m*\u001b[39mkwargs)\n\u001b[0;32m--> 291\u001b[0m data \u001b[38;5;241m=\u001b[39m \u001b[38;5;28;43mself\u001b[39;49m\u001b[38;5;241;43m.\u001b[39;49m\u001b[43m_client\u001b[49m\u001b[38;5;241;43m.\u001b[39;49m\u001b[43mmessages\u001b[49m\u001b[38;5;241;43m.\u001b[39;49m\u001b[43mcreate\u001b[49m\u001b[43m(\u001b[49m\u001b[38;5;241;43m*\u001b[39;49m\u001b[38;5;241;43m*\u001b[39;49m\u001b[43mparams\u001b[49m\u001b[43m)\u001b[49m\n\u001b[1;32m    292\u001b[0m \u001b[38;5;28;01mreturn\u001b[39;00m \u001b[38;5;28mself\u001b[39m\u001b[38;5;241m.\u001b[39m_format_output(data, \u001b[38;5;241m*\u001b[39m\u001b[38;5;241m*\u001b[39mkwargs)\n",
      "File \u001b[0;32m~/anaconda3/envs/chatbot/lib/python3.11/site-packages/anthropic/_utils/_utils.py:275\u001b[0m, in \u001b[0;36mrequired_args.<locals>.inner.<locals>.wrapper\u001b[0;34m(*args, **kwargs)\u001b[0m\n\u001b[1;32m    273\u001b[0m             msg \u001b[38;5;241m=\u001b[39m \u001b[38;5;124mf\u001b[39m\u001b[38;5;124m\"\u001b[39m\u001b[38;5;124mMissing required argument: \u001b[39m\u001b[38;5;132;01m{\u001b[39;00mquote(missing[\u001b[38;5;241m0\u001b[39m])\u001b[38;5;132;01m}\u001b[39;00m\u001b[38;5;124m\"\u001b[39m\n\u001b[1;32m    274\u001b[0m     \u001b[38;5;28;01mraise\u001b[39;00m \u001b[38;5;167;01mTypeError\u001b[39;00m(msg)\n\u001b[0;32m--> 275\u001b[0m \u001b[38;5;28;01mreturn\u001b[39;00m \u001b[43mfunc\u001b[49m\u001b[43m(\u001b[49m\u001b[38;5;241;43m*\u001b[39;49m\u001b[43margs\u001b[49m\u001b[43m,\u001b[49m\u001b[43m \u001b[49m\u001b[38;5;241;43m*\u001b[39;49m\u001b[38;5;241;43m*\u001b[39;49m\u001b[43mkwargs\u001b[49m\u001b[43m)\u001b[49m\n",
      "File \u001b[0;32m~/anaconda3/envs/chatbot/lib/python3.11/site-packages/anthropic/resources/messages.py:658\u001b[0m, in \u001b[0;36mMessages.create\u001b[0;34m(self, max_tokens, messages, model, metadata, stop_sequences, stream, system, temperature, top_k, top_p, extra_headers, extra_query, extra_body, timeout)\u001b[0m\n\u001b[1;32m    632\u001b[0m \u001b[38;5;129m@required_args\u001b[39m([\u001b[38;5;124m\"\u001b[39m\u001b[38;5;124mmax_tokens\u001b[39m\u001b[38;5;124m\"\u001b[39m, \u001b[38;5;124m\"\u001b[39m\u001b[38;5;124mmessages\u001b[39m\u001b[38;5;124m\"\u001b[39m, \u001b[38;5;124m\"\u001b[39m\u001b[38;5;124mmodel\u001b[39m\u001b[38;5;124m\"\u001b[39m], [\u001b[38;5;124m\"\u001b[39m\u001b[38;5;124mmax_tokens\u001b[39m\u001b[38;5;124m\"\u001b[39m, \u001b[38;5;124m\"\u001b[39m\u001b[38;5;124mmessages\u001b[39m\u001b[38;5;124m\"\u001b[39m, \u001b[38;5;124m\"\u001b[39m\u001b[38;5;124mmodel\u001b[39m\u001b[38;5;124m\"\u001b[39m, \u001b[38;5;124m\"\u001b[39m\u001b[38;5;124mstream\u001b[39m\u001b[38;5;124m\"\u001b[39m])\n\u001b[1;32m    633\u001b[0m \u001b[38;5;28;01mdef\u001b[39;00m \u001b[38;5;21mcreate\u001b[39m(\n\u001b[1;32m    634\u001b[0m     \u001b[38;5;28mself\u001b[39m,\n\u001b[0;32m   (...)\u001b[0m\n\u001b[1;32m    656\u001b[0m     timeout: \u001b[38;5;28mfloat\u001b[39m \u001b[38;5;241m|\u001b[39m httpx\u001b[38;5;241m.\u001b[39mTimeout \u001b[38;5;241m|\u001b[39m \u001b[38;5;28;01mNone\u001b[39;00m \u001b[38;5;241m|\u001b[39m NotGiven \u001b[38;5;241m=\u001b[39m \u001b[38;5;241m600\u001b[39m,\n\u001b[1;32m    657\u001b[0m ) \u001b[38;5;241m-\u001b[39m\u001b[38;5;241m>\u001b[39m Message \u001b[38;5;241m|\u001b[39m Stream[MessageStreamEvent]:\n\u001b[0;32m--> 658\u001b[0m     \u001b[38;5;28;01mreturn\u001b[39;00m \u001b[38;5;28;43mself\u001b[39;49m\u001b[38;5;241;43m.\u001b[39;49m\u001b[43m_post\u001b[49m\u001b[43m(\u001b[49m\n\u001b[1;32m    659\u001b[0m \u001b[43m        \u001b[49m\u001b[38;5;124;43m\"\u001b[39;49m\u001b[38;5;124;43m/v1/messages\u001b[39;49m\u001b[38;5;124;43m\"\u001b[39;49m\u001b[43m,\u001b[49m\n\u001b[1;32m    660\u001b[0m \u001b[43m        \u001b[49m\u001b[43mbody\u001b[49m\u001b[38;5;241;43m=\u001b[39;49m\u001b[43mmaybe_transform\u001b[49m\u001b[43m(\u001b[49m\n\u001b[1;32m    661\u001b[0m \u001b[43m            \u001b[49m\u001b[43m{\u001b[49m\n\u001b[1;32m    662\u001b[0m \u001b[43m                \u001b[49m\u001b[38;5;124;43m\"\u001b[39;49m\u001b[38;5;124;43mmax_tokens\u001b[39;49m\u001b[38;5;124;43m\"\u001b[39;49m\u001b[43m:\u001b[49m\u001b[43m \u001b[49m\u001b[43mmax_tokens\u001b[49m\u001b[43m,\u001b[49m\n\u001b[1;32m    663\u001b[0m \u001b[43m                \u001b[49m\u001b[38;5;124;43m\"\u001b[39;49m\u001b[38;5;124;43mmessages\u001b[39;49m\u001b[38;5;124;43m\"\u001b[39;49m\u001b[43m:\u001b[49m\u001b[43m \u001b[49m\u001b[43mmessages\u001b[49m\u001b[43m,\u001b[49m\n\u001b[1;32m    664\u001b[0m \u001b[43m                \u001b[49m\u001b[38;5;124;43m\"\u001b[39;49m\u001b[38;5;124;43mmodel\u001b[39;49m\u001b[38;5;124;43m\"\u001b[39;49m\u001b[43m:\u001b[49m\u001b[43m \u001b[49m\u001b[43mmodel\u001b[49m\u001b[43m,\u001b[49m\n\u001b[1;32m    665\u001b[0m \u001b[43m                \u001b[49m\u001b[38;5;124;43m\"\u001b[39;49m\u001b[38;5;124;43mmetadata\u001b[39;49m\u001b[38;5;124;43m\"\u001b[39;49m\u001b[43m:\u001b[49m\u001b[43m \u001b[49m\u001b[43mmetadata\u001b[49m\u001b[43m,\u001b[49m\n\u001b[1;32m    666\u001b[0m \u001b[43m                \u001b[49m\u001b[38;5;124;43m\"\u001b[39;49m\u001b[38;5;124;43mstop_sequences\u001b[39;49m\u001b[38;5;124;43m\"\u001b[39;49m\u001b[43m:\u001b[49m\u001b[43m \u001b[49m\u001b[43mstop_sequences\u001b[49m\u001b[43m,\u001b[49m\n\u001b[1;32m    667\u001b[0m \u001b[43m                \u001b[49m\u001b[38;5;124;43m\"\u001b[39;49m\u001b[38;5;124;43mstream\u001b[39;49m\u001b[38;5;124;43m\"\u001b[39;49m\u001b[43m:\u001b[49m\u001b[43m \u001b[49m\u001b[43mstream\u001b[49m\u001b[43m,\u001b[49m\n\u001b[1;32m    668\u001b[0m \u001b[43m                \u001b[49m\u001b[38;5;124;43m\"\u001b[39;49m\u001b[38;5;124;43msystem\u001b[39;49m\u001b[38;5;124;43m\"\u001b[39;49m\u001b[43m:\u001b[49m\u001b[43m \u001b[49m\u001b[43msystem\u001b[49m\u001b[43m,\u001b[49m\n\u001b[1;32m    669\u001b[0m \u001b[43m                \u001b[49m\u001b[38;5;124;43m\"\u001b[39;49m\u001b[38;5;124;43mtemperature\u001b[39;49m\u001b[38;5;124;43m\"\u001b[39;49m\u001b[43m:\u001b[49m\u001b[43m \u001b[49m\u001b[43mtemperature\u001b[49m\u001b[43m,\u001b[49m\n\u001b[1;32m    670\u001b[0m \u001b[43m                \u001b[49m\u001b[38;5;124;43m\"\u001b[39;49m\u001b[38;5;124;43mtop_k\u001b[39;49m\u001b[38;5;124;43m\"\u001b[39;49m\u001b[43m:\u001b[49m\u001b[43m \u001b[49m\u001b[43mtop_k\u001b[49m\u001b[43m,\u001b[49m\n\u001b[1;32m    671\u001b[0m \u001b[43m                \u001b[49m\u001b[38;5;124;43m\"\u001b[39;49m\u001b[38;5;124;43mtop_p\u001b[39;49m\u001b[38;5;124;43m\"\u001b[39;49m\u001b[43m:\u001b[49m\u001b[43m \u001b[49m\u001b[43mtop_p\u001b[49m\u001b[43m,\u001b[49m\n\u001b[1;32m    672\u001b[0m \u001b[43m            \u001b[49m\u001b[43m}\u001b[49m\u001b[43m,\u001b[49m\n\u001b[1;32m    673\u001b[0m \u001b[43m            \u001b[49m\u001b[43mmessage_create_params\u001b[49m\u001b[38;5;241;43m.\u001b[39;49m\u001b[43mMessageCreateParams\u001b[49m\u001b[43m,\u001b[49m\n\u001b[1;32m    674\u001b[0m \u001b[43m        \u001b[49m\u001b[43m)\u001b[49m\u001b[43m,\u001b[49m\n\u001b[1;32m    675\u001b[0m \u001b[43m        \u001b[49m\u001b[43moptions\u001b[49m\u001b[38;5;241;43m=\u001b[39;49m\u001b[43mmake_request_options\u001b[49m\u001b[43m(\u001b[49m\n\u001b[1;32m    676\u001b[0m \u001b[43m            \u001b[49m\u001b[43mextra_headers\u001b[49m\u001b[38;5;241;43m=\u001b[39;49m\u001b[43mextra_headers\u001b[49m\u001b[43m,\u001b[49m\u001b[43m \u001b[49m\u001b[43mextra_query\u001b[49m\u001b[38;5;241;43m=\u001b[39;49m\u001b[43mextra_query\u001b[49m\u001b[43m,\u001b[49m\u001b[43m \u001b[49m\u001b[43mextra_body\u001b[49m\u001b[38;5;241;43m=\u001b[39;49m\u001b[43mextra_body\u001b[49m\u001b[43m,\u001b[49m\u001b[43m \u001b[49m\u001b[43mtimeout\u001b[49m\u001b[38;5;241;43m=\u001b[39;49m\u001b[43mtimeout\u001b[49m\n\u001b[1;32m    677\u001b[0m \u001b[43m        \u001b[49m\u001b[43m)\u001b[49m\u001b[43m,\u001b[49m\n\u001b[1;32m    678\u001b[0m \u001b[43m        \u001b[49m\u001b[43mcast_to\u001b[49m\u001b[38;5;241;43m=\u001b[39;49m\u001b[43mMessage\u001b[49m\u001b[43m,\u001b[49m\n\u001b[1;32m    679\u001b[0m \u001b[43m        \u001b[49m\u001b[43mstream\u001b[49m\u001b[38;5;241;43m=\u001b[39;49m\u001b[43mstream\u001b[49m\u001b[43m \u001b[49m\u001b[38;5;129;43;01mor\u001b[39;49;00m\u001b[43m \u001b[49m\u001b[38;5;28;43;01mFalse\u001b[39;49;00m\u001b[43m,\u001b[49m\n\u001b[1;32m    680\u001b[0m \u001b[43m        \u001b[49m\u001b[43mstream_cls\u001b[49m\u001b[38;5;241;43m=\u001b[39;49m\u001b[43mStream\u001b[49m\u001b[43m[\u001b[49m\u001b[43mMessageStreamEvent\u001b[49m\u001b[43m]\u001b[49m\u001b[43m,\u001b[49m\n\u001b[1;32m    681\u001b[0m \u001b[43m    \u001b[49m\u001b[43m)\u001b[49m\n",
      "File \u001b[0;32m~/anaconda3/envs/chatbot/lib/python3.11/site-packages/anthropic/_base_client.py:1208\u001b[0m, in \u001b[0;36mSyncAPIClient.post\u001b[0;34m(self, path, cast_to, body, options, files, stream, stream_cls)\u001b[0m\n\u001b[1;32m   1194\u001b[0m \u001b[38;5;28;01mdef\u001b[39;00m \u001b[38;5;21mpost\u001b[39m(\n\u001b[1;32m   1195\u001b[0m     \u001b[38;5;28mself\u001b[39m,\n\u001b[1;32m   1196\u001b[0m     path: \u001b[38;5;28mstr\u001b[39m,\n\u001b[0;32m   (...)\u001b[0m\n\u001b[1;32m   1203\u001b[0m     stream_cls: \u001b[38;5;28mtype\u001b[39m[_StreamT] \u001b[38;5;241m|\u001b[39m \u001b[38;5;28;01mNone\u001b[39;00m \u001b[38;5;241m=\u001b[39m \u001b[38;5;28;01mNone\u001b[39;00m,\n\u001b[1;32m   1204\u001b[0m ) \u001b[38;5;241m-\u001b[39m\u001b[38;5;241m>\u001b[39m ResponseT \u001b[38;5;241m|\u001b[39m _StreamT:\n\u001b[1;32m   1205\u001b[0m     opts \u001b[38;5;241m=\u001b[39m FinalRequestOptions\u001b[38;5;241m.\u001b[39mconstruct(\n\u001b[1;32m   1206\u001b[0m         method\u001b[38;5;241m=\u001b[39m\u001b[38;5;124m\"\u001b[39m\u001b[38;5;124mpost\u001b[39m\u001b[38;5;124m\"\u001b[39m, url\u001b[38;5;241m=\u001b[39mpath, json_data\u001b[38;5;241m=\u001b[39mbody, files\u001b[38;5;241m=\u001b[39mto_httpx_files(files), \u001b[38;5;241m*\u001b[39m\u001b[38;5;241m*\u001b[39moptions\n\u001b[1;32m   1207\u001b[0m     )\n\u001b[0;32m-> 1208\u001b[0m     \u001b[38;5;28;01mreturn\u001b[39;00m cast(ResponseT, \u001b[38;5;28;43mself\u001b[39;49m\u001b[38;5;241;43m.\u001b[39;49m\u001b[43mrequest\u001b[49m\u001b[43m(\u001b[49m\u001b[43mcast_to\u001b[49m\u001b[43m,\u001b[49m\u001b[43m \u001b[49m\u001b[43mopts\u001b[49m\u001b[43m,\u001b[49m\u001b[43m \u001b[49m\u001b[43mstream\u001b[49m\u001b[38;5;241;43m=\u001b[39;49m\u001b[43mstream\u001b[49m\u001b[43m,\u001b[49m\u001b[43m \u001b[49m\u001b[43mstream_cls\u001b[49m\u001b[38;5;241;43m=\u001b[39;49m\u001b[43mstream_cls\u001b[49m\u001b[43m)\u001b[49m)\n",
      "File \u001b[0;32m~/anaconda3/envs/chatbot/lib/python3.11/site-packages/anthropic/_base_client.py:897\u001b[0m, in \u001b[0;36mSyncAPIClient.request\u001b[0;34m(self, cast_to, options, remaining_retries, stream, stream_cls)\u001b[0m\n\u001b[1;32m    888\u001b[0m \u001b[38;5;28;01mdef\u001b[39;00m \u001b[38;5;21mrequest\u001b[39m(\n\u001b[1;32m    889\u001b[0m     \u001b[38;5;28mself\u001b[39m,\n\u001b[1;32m    890\u001b[0m     cast_to: Type[ResponseT],\n\u001b[0;32m   (...)\u001b[0m\n\u001b[1;32m    895\u001b[0m     stream_cls: \u001b[38;5;28mtype\u001b[39m[_StreamT] \u001b[38;5;241m|\u001b[39m \u001b[38;5;28;01mNone\u001b[39;00m \u001b[38;5;241m=\u001b[39m \u001b[38;5;28;01mNone\u001b[39;00m,\n\u001b[1;32m    896\u001b[0m ) \u001b[38;5;241m-\u001b[39m\u001b[38;5;241m>\u001b[39m ResponseT \u001b[38;5;241m|\u001b[39m _StreamT:\n\u001b[0;32m--> 897\u001b[0m     \u001b[38;5;28;01mreturn\u001b[39;00m \u001b[38;5;28;43mself\u001b[39;49m\u001b[38;5;241;43m.\u001b[39;49m\u001b[43m_request\u001b[49m\u001b[43m(\u001b[49m\n\u001b[1;32m    898\u001b[0m \u001b[43m        \u001b[49m\u001b[43mcast_to\u001b[49m\u001b[38;5;241;43m=\u001b[39;49m\u001b[43mcast_to\u001b[49m\u001b[43m,\u001b[49m\n\u001b[1;32m    899\u001b[0m \u001b[43m        \u001b[49m\u001b[43moptions\u001b[49m\u001b[38;5;241;43m=\u001b[39;49m\u001b[43moptions\u001b[49m\u001b[43m,\u001b[49m\n\u001b[1;32m    900\u001b[0m \u001b[43m        \u001b[49m\u001b[43mstream\u001b[49m\u001b[38;5;241;43m=\u001b[39;49m\u001b[43mstream\u001b[49m\u001b[43m,\u001b[49m\n\u001b[1;32m    901\u001b[0m \u001b[43m        \u001b[49m\u001b[43mstream_cls\u001b[49m\u001b[38;5;241;43m=\u001b[39;49m\u001b[43mstream_cls\u001b[49m\u001b[43m,\u001b[49m\n\u001b[1;32m    902\u001b[0m \u001b[43m        \u001b[49m\u001b[43mremaining_retries\u001b[49m\u001b[38;5;241;43m=\u001b[39;49m\u001b[43mremaining_retries\u001b[49m\u001b[43m,\u001b[49m\n\u001b[1;32m    903\u001b[0m \u001b[43m    \u001b[49m\u001b[43m)\u001b[49m\n",
      "File \u001b[0;32m~/anaconda3/envs/chatbot/lib/python3.11/site-packages/anthropic/_base_client.py:973\u001b[0m, in \u001b[0;36mSyncAPIClient._request\u001b[0;34m(self, cast_to, options, remaining_retries, stream, stream_cls)\u001b[0m\n\u001b[1;32m    971\u001b[0m \u001b[38;5;28;01mif\u001b[39;00m retries \u001b[38;5;241m>\u001b[39m \u001b[38;5;241m0\u001b[39m \u001b[38;5;129;01mand\u001b[39;00m \u001b[38;5;28mself\u001b[39m\u001b[38;5;241m.\u001b[39m_should_retry(err\u001b[38;5;241m.\u001b[39mresponse):\n\u001b[1;32m    972\u001b[0m     err\u001b[38;5;241m.\u001b[39mresponse\u001b[38;5;241m.\u001b[39mclose()\n\u001b[0;32m--> 973\u001b[0m     \u001b[38;5;28;01mreturn\u001b[39;00m \u001b[38;5;28;43mself\u001b[39;49m\u001b[38;5;241;43m.\u001b[39;49m\u001b[43m_retry_request\u001b[49m\u001b[43m(\u001b[49m\n\u001b[1;32m    974\u001b[0m \u001b[43m        \u001b[49m\u001b[43moptions\u001b[49m\u001b[43m,\u001b[49m\n\u001b[1;32m    975\u001b[0m \u001b[43m        \u001b[49m\u001b[43mcast_to\u001b[49m\u001b[43m,\u001b[49m\n\u001b[1;32m    976\u001b[0m \u001b[43m        \u001b[49m\u001b[43mretries\u001b[49m\u001b[43m,\u001b[49m\n\u001b[1;32m    977\u001b[0m \u001b[43m        \u001b[49m\u001b[43merr\u001b[49m\u001b[38;5;241;43m.\u001b[39;49m\u001b[43mresponse\u001b[49m\u001b[38;5;241;43m.\u001b[39;49m\u001b[43mheaders\u001b[49m\u001b[43m,\u001b[49m\n\u001b[1;32m    978\u001b[0m \u001b[43m        \u001b[49m\u001b[43mstream\u001b[49m\u001b[38;5;241;43m=\u001b[39;49m\u001b[43mstream\u001b[49m\u001b[43m,\u001b[49m\n\u001b[1;32m    979\u001b[0m \u001b[43m        \u001b[49m\u001b[43mstream_cls\u001b[49m\u001b[38;5;241;43m=\u001b[39;49m\u001b[43mstream_cls\u001b[49m\u001b[43m,\u001b[49m\n\u001b[1;32m    980\u001b[0m \u001b[43m    \u001b[49m\u001b[43m)\u001b[49m\n\u001b[1;32m    982\u001b[0m \u001b[38;5;66;03m# If the response is streamed then we need to explicitly read the response\u001b[39;00m\n\u001b[1;32m    983\u001b[0m \u001b[38;5;66;03m# to completion before attempting to access the response text.\u001b[39;00m\n\u001b[1;32m    984\u001b[0m \u001b[38;5;28;01mif\u001b[39;00m \u001b[38;5;129;01mnot\u001b[39;00m err\u001b[38;5;241m.\u001b[39mresponse\u001b[38;5;241m.\u001b[39mis_closed:\n",
      "File \u001b[0;32m~/anaconda3/envs/chatbot/lib/python3.11/site-packages/anthropic/_base_client.py:1021\u001b[0m, in \u001b[0;36mSyncAPIClient._retry_request\u001b[0;34m(self, options, cast_to, remaining_retries, response_headers, stream, stream_cls)\u001b[0m\n\u001b[1;32m   1017\u001b[0m \u001b[38;5;66;03m# In a synchronous context we are blocking the entire thread. Up to the library user to run the client in a\u001b[39;00m\n\u001b[1;32m   1018\u001b[0m \u001b[38;5;66;03m# different thread if necessary.\u001b[39;00m\n\u001b[1;32m   1019\u001b[0m time\u001b[38;5;241m.\u001b[39msleep(timeout)\n\u001b[0;32m-> 1021\u001b[0m \u001b[38;5;28;01mreturn\u001b[39;00m \u001b[38;5;28;43mself\u001b[39;49m\u001b[38;5;241;43m.\u001b[39;49m\u001b[43m_request\u001b[49m\u001b[43m(\u001b[49m\n\u001b[1;32m   1022\u001b[0m \u001b[43m    \u001b[49m\u001b[43moptions\u001b[49m\u001b[38;5;241;43m=\u001b[39;49m\u001b[43moptions\u001b[49m\u001b[43m,\u001b[49m\n\u001b[1;32m   1023\u001b[0m \u001b[43m    \u001b[49m\u001b[43mcast_to\u001b[49m\u001b[38;5;241;43m=\u001b[39;49m\u001b[43mcast_to\u001b[49m\u001b[43m,\u001b[49m\n\u001b[1;32m   1024\u001b[0m \u001b[43m    \u001b[49m\u001b[43mremaining_retries\u001b[49m\u001b[38;5;241;43m=\u001b[39;49m\u001b[43mremaining\u001b[49m\u001b[43m,\u001b[49m\n\u001b[1;32m   1025\u001b[0m \u001b[43m    \u001b[49m\u001b[43mstream\u001b[49m\u001b[38;5;241;43m=\u001b[39;49m\u001b[43mstream\u001b[49m\u001b[43m,\u001b[49m\n\u001b[1;32m   1026\u001b[0m \u001b[43m    \u001b[49m\u001b[43mstream_cls\u001b[49m\u001b[38;5;241;43m=\u001b[39;49m\u001b[43mstream_cls\u001b[49m\u001b[43m,\u001b[49m\n\u001b[1;32m   1027\u001b[0m \u001b[43m\u001b[49m\u001b[43m)\u001b[49m\n",
      "File \u001b[0;32m~/anaconda3/envs/chatbot/lib/python3.11/site-packages/anthropic/_base_client.py:973\u001b[0m, in \u001b[0;36mSyncAPIClient._request\u001b[0;34m(self, cast_to, options, remaining_retries, stream, stream_cls)\u001b[0m\n\u001b[1;32m    971\u001b[0m \u001b[38;5;28;01mif\u001b[39;00m retries \u001b[38;5;241m>\u001b[39m \u001b[38;5;241m0\u001b[39m \u001b[38;5;129;01mand\u001b[39;00m \u001b[38;5;28mself\u001b[39m\u001b[38;5;241m.\u001b[39m_should_retry(err\u001b[38;5;241m.\u001b[39mresponse):\n\u001b[1;32m    972\u001b[0m     err\u001b[38;5;241m.\u001b[39mresponse\u001b[38;5;241m.\u001b[39mclose()\n\u001b[0;32m--> 973\u001b[0m     \u001b[38;5;28;01mreturn\u001b[39;00m \u001b[38;5;28;43mself\u001b[39;49m\u001b[38;5;241;43m.\u001b[39;49m\u001b[43m_retry_request\u001b[49m\u001b[43m(\u001b[49m\n\u001b[1;32m    974\u001b[0m \u001b[43m        \u001b[49m\u001b[43moptions\u001b[49m\u001b[43m,\u001b[49m\n\u001b[1;32m    975\u001b[0m \u001b[43m        \u001b[49m\u001b[43mcast_to\u001b[49m\u001b[43m,\u001b[49m\n\u001b[1;32m    976\u001b[0m \u001b[43m        \u001b[49m\u001b[43mretries\u001b[49m\u001b[43m,\u001b[49m\n\u001b[1;32m    977\u001b[0m \u001b[43m        \u001b[49m\u001b[43merr\u001b[49m\u001b[38;5;241;43m.\u001b[39;49m\u001b[43mresponse\u001b[49m\u001b[38;5;241;43m.\u001b[39;49m\u001b[43mheaders\u001b[49m\u001b[43m,\u001b[49m\n\u001b[1;32m    978\u001b[0m \u001b[43m        \u001b[49m\u001b[43mstream\u001b[49m\u001b[38;5;241;43m=\u001b[39;49m\u001b[43mstream\u001b[49m\u001b[43m,\u001b[49m\n\u001b[1;32m    979\u001b[0m \u001b[43m        \u001b[49m\u001b[43mstream_cls\u001b[49m\u001b[38;5;241;43m=\u001b[39;49m\u001b[43mstream_cls\u001b[49m\u001b[43m,\u001b[49m\n\u001b[1;32m    980\u001b[0m \u001b[43m    \u001b[49m\u001b[43m)\u001b[49m\n\u001b[1;32m    982\u001b[0m \u001b[38;5;66;03m# If the response is streamed then we need to explicitly read the response\u001b[39;00m\n\u001b[1;32m    983\u001b[0m \u001b[38;5;66;03m# to completion before attempting to access the response text.\u001b[39;00m\n\u001b[1;32m    984\u001b[0m \u001b[38;5;28;01mif\u001b[39;00m \u001b[38;5;129;01mnot\u001b[39;00m err\u001b[38;5;241m.\u001b[39mresponse\u001b[38;5;241m.\u001b[39mis_closed:\n",
      "File \u001b[0;32m~/anaconda3/envs/chatbot/lib/python3.11/site-packages/anthropic/_base_client.py:1021\u001b[0m, in \u001b[0;36mSyncAPIClient._retry_request\u001b[0;34m(self, options, cast_to, remaining_retries, response_headers, stream, stream_cls)\u001b[0m\n\u001b[1;32m   1017\u001b[0m \u001b[38;5;66;03m# In a synchronous context we are blocking the entire thread. Up to the library user to run the client in a\u001b[39;00m\n\u001b[1;32m   1018\u001b[0m \u001b[38;5;66;03m# different thread if necessary.\u001b[39;00m\n\u001b[1;32m   1019\u001b[0m time\u001b[38;5;241m.\u001b[39msleep(timeout)\n\u001b[0;32m-> 1021\u001b[0m \u001b[38;5;28;01mreturn\u001b[39;00m \u001b[38;5;28;43mself\u001b[39;49m\u001b[38;5;241;43m.\u001b[39;49m\u001b[43m_request\u001b[49m\u001b[43m(\u001b[49m\n\u001b[1;32m   1022\u001b[0m \u001b[43m    \u001b[49m\u001b[43moptions\u001b[49m\u001b[38;5;241;43m=\u001b[39;49m\u001b[43moptions\u001b[49m\u001b[43m,\u001b[49m\n\u001b[1;32m   1023\u001b[0m \u001b[43m    \u001b[49m\u001b[43mcast_to\u001b[49m\u001b[38;5;241;43m=\u001b[39;49m\u001b[43mcast_to\u001b[49m\u001b[43m,\u001b[49m\n\u001b[1;32m   1024\u001b[0m \u001b[43m    \u001b[49m\u001b[43mremaining_retries\u001b[49m\u001b[38;5;241;43m=\u001b[39;49m\u001b[43mremaining\u001b[49m\u001b[43m,\u001b[49m\n\u001b[1;32m   1025\u001b[0m \u001b[43m    \u001b[49m\u001b[43mstream\u001b[49m\u001b[38;5;241;43m=\u001b[39;49m\u001b[43mstream\u001b[49m\u001b[43m,\u001b[49m\n\u001b[1;32m   1026\u001b[0m \u001b[43m    \u001b[49m\u001b[43mstream_cls\u001b[49m\u001b[38;5;241;43m=\u001b[39;49m\u001b[43mstream_cls\u001b[49m\u001b[43m,\u001b[49m\n\u001b[1;32m   1027\u001b[0m \u001b[43m\u001b[49m\u001b[43m)\u001b[49m\n",
      "File \u001b[0;32m~/anaconda3/envs/chatbot/lib/python3.11/site-packages/anthropic/_base_client.py:988\u001b[0m, in \u001b[0;36mSyncAPIClient._request\u001b[0;34m(self, cast_to, options, remaining_retries, stream, stream_cls)\u001b[0m\n\u001b[1;32m    985\u001b[0m         err\u001b[38;5;241m.\u001b[39mresponse\u001b[38;5;241m.\u001b[39mread()\n\u001b[1;32m    987\u001b[0m     log\u001b[38;5;241m.\u001b[39mdebug(\u001b[38;5;124m\"\u001b[39m\u001b[38;5;124mRe-raising status error\u001b[39m\u001b[38;5;124m\"\u001b[39m)\n\u001b[0;32m--> 988\u001b[0m     \u001b[38;5;28;01mraise\u001b[39;00m \u001b[38;5;28mself\u001b[39m\u001b[38;5;241m.\u001b[39m_make_status_error_from_response(err\u001b[38;5;241m.\u001b[39mresponse) \u001b[38;5;28;01mfrom\u001b[39;00m \u001b[38;5;28;01mNone\u001b[39;00m\n\u001b[1;32m    990\u001b[0m \u001b[38;5;28;01mreturn\u001b[39;00m \u001b[38;5;28mself\u001b[39m\u001b[38;5;241m.\u001b[39m_process_response(\n\u001b[1;32m    991\u001b[0m     cast_to\u001b[38;5;241m=\u001b[39mcast_to,\n\u001b[1;32m    992\u001b[0m     options\u001b[38;5;241m=\u001b[39moptions,\n\u001b[0;32m   (...)\u001b[0m\n\u001b[1;32m    995\u001b[0m     stream_cls\u001b[38;5;241m=\u001b[39mstream_cls,\n\u001b[1;32m    996\u001b[0m )\n",
      "\u001b[0;31mRateLimitError\u001b[0m: Error code: 429 - {'type': 'error', 'error': {'type': 'rate_limit_error', 'message': 'Number of request tokens has exceeded your rate limit (https://docs.anthropic.com/claude/reference/rate-limits). Please reduce the the prompt length or the maximum tokens requested, or try again later. You may also contact sales at https://www.anthropic.com/contact-sales to discuss your options for a rate limit increase.'}}"
     ]
    }
   ],
   "source": [
    "output_df, current_selected_df = compare_searches(\"What are some movies about growing up in a small town?\")\n",
    "selected_df = pd.concat([selected_df, current_selected_df])\n",
    "output_df"
   ]
  },
  {
   "cell_type": "code",
   "execution_count": null,
   "id": "d0c38346-b2cc-4628-9e5a-b1404c539af5",
   "metadata": {},
   "outputs": [],
   "source": [
    "output_df, current_selected_df = compare_searches(\"What are some movies about dogs?\")\n",
    "selected_df = pd.concat([selected_df, current_selected_df])\n",
    "output_df"
   ]
  },
  {
   "cell_type": "code",
   "execution_count": null,
   "id": "ac7b26e1-b192-4cd6-8f43-81383bcd0d03",
   "metadata": {},
   "outputs": [],
   "source": [
    "output_df, current_selected_df = compare_searches(\"What are some movies about Europe in the 1960s?\")\n",
    "selected_df = pd.concat([selected_df, current_selected_df])\n",
    "output_df"
   ]
  },
  {
   "cell_type": "code",
   "execution_count": null,
   "id": "c4fcf2ef-f706-49ff-b80f-9cdc0a781ba8",
   "metadata": {},
   "outputs": [],
   "source": [
    "output_df, current_selected_df = compare_searches(\"What are some movies set in the Amazon rain forest?\")\n",
    "selected_df = pd.concat([selected_df, current_selected_df])\n",
    "output_df"
   ]
  },
  {
   "cell_type": "code",
   "execution_count": null,
   "id": "4f6d22a6-7080-4126-9b74-f789e7b658e5",
   "metadata": {},
   "outputs": [],
   "source": [
    "output_df, current_selected_df = compare_searches(\"What are some movies about the president of the United States?\")\n",
    "selected_df = pd.concat([selected_df, current_selected_df])\n",
    "output_df"
   ]
  },
  {
   "cell_type": "code",
   "execution_count": null,
   "id": "fc75b746-499d-43d7-93c0-9dcf415281ac",
   "metadata": {},
   "outputs": [],
   "source": [
    "selected_df"
   ]
  },
  {
   "cell_type": "code",
   "execution_count": null,
   "id": "d4423308-b564-409e-ac38-82bfcd192d51",
   "metadata": {},
   "outputs": [],
   "source": [
    "selected_df.to_csv(\"movie_answers.csv\", index=False, header=True)"
   ]
  },
  {
   "cell_type": "code",
   "execution_count": 57,
   "id": "9f80ba5c-3a57-430e-a41a-720ce567cc1b",
   "metadata": {},
   "outputs": [],
   "source": [
    "pd.set_option('display.max_colwidth', None)"
   ]
  },
  {
   "cell_type": "code",
   "execution_count": 8,
   "id": "36fa3afd-e1df-4b2f-beaf-f37a11ce2abc",
   "metadata": {},
   "outputs": [
    {
     "name": "stderr",
     "output_type": "stream",
     "text": [
      "Warning: model not found. Using cl100k_base encoding.\n"
     ]
    }
   ],
   "source": [
    "movie_query = \"\"\"\n",
    "MATCH (node)\n",
    "RETURN node.overview AS text, score, node{.title, .tagline} AS metadata\n",
    "\"\"\"\n",
    "\n",
    "movie_vectorstore = Neo4jVector.from_existing_index(\n",
    "    OpenAIEmbeddings(model=\"text-embedding-3-small\", openai_api_key=openai_api_key),\n",
    "    index_name=\"movie_text_vectors\",\n",
    "    retrieval_query=movie_query,\n",
    "    url=neo4j_uri,\n",
    "    username=neo4j_user,\n",
    "    password=neo4j_password\n",
    ")"
   ]
  },
  {
   "cell_type": "code",
   "execution_count": 26,
   "id": "4b44ee0e-323d-4a91-9ef1-31f3d417d65e",
   "metadata": {},
   "outputs": [],
   "source": [
    "prompt = ChatPromptTemplate.from_messages([\n",
    "    (\"system\", \"\"\"You are a movie expert providing information about movies.\n",
    "                  Be as helpful as possible and return as much information as possible.\n",
    "                  Do not answer any questions that do not relate to movies.\n",
    "                  Always include the title of the movie in your answer.\n",
    "                  Answer any questions based solely on the context below:\n",
    "                  <context>\n",
    "                  {context}\n",
    "                  </context>\"\"\"),\n",
    "    MessagesPlaceholder(variable_name=\"chat_history\", optional=True),\n",
    "    (\"user\", \"{input}\"),\n",
    "])"
   ]
  },
  {
   "cell_type": "code",
   "execution_count": 10,
   "id": "feb600a3-bf43-4d36-b951-ae8cd00a5b7d",
   "metadata": {},
   "outputs": [],
   "source": [
    "movie_info_template= \"overview: {page_content}, title: {title}\"\n",
    "document_prompt = PromptTemplate(input_variables=[\"page_content\", \"title\"],\n",
    "                                 template=movie_info_template\n",
    "                                 )\n"
   ]
  },
  {
   "cell_type": "code",
   "execution_count": 35,
   "id": "d8d6bbad-7907-45f1-b3ef-f745fa839860",
   "metadata": {},
   "outputs": [],
   "source": [
    "theme_group_retriever = theme_group_vectorstore.as_retriever(search_kwargs={\"k\": 5})\n",
    "theme_retriever = theme_vectorstore.as_retriever(search_kwargs={\"k\":15})\n",
    "movie_retriever = movie_vectorstore.as_retriever(search_kwargs={\"k\": 30})\n",
    "\n",
    "retrieval_qa_chat_prompt = hub.pull(\"langchain-ai/retrieval-qa-chat\")\n",
    "\n",
    "combine_docs_chain = create_stuff_documents_chain(\n",
    "    ChatOpenAI(temperature=0, openai_api_key=openai_api_key), prompt, document_prompt=document_prompt\n",
    "\n",
    ")\n",
    "theme_group_chain = create_retrieval_chain(theme_group_retriever, combine_docs_chain)\n",
    "theme_chain = create_retrieval_chain(theme_retriever, combine_docs_chain)\n",
    "movie_chain = create_retrieval_chain(movie_retriever, combine_docs_chain)"
   ]
  },
  {
   "cell_type": "code",
   "execution_count": 40,
   "id": "297c5589-262c-495d-bf9e-ddf58406aa42",
   "metadata": {},
   "outputs": [
    {
     "name": "stderr",
     "output_type": "stream",
     "text": [
      "Warning: model not found. Using cl100k_base encoding.\n"
     ]
    },
    {
     "data": {
      "text/plain": [
       "[Document(page_content='The curse of Count Dracula lives on in shark-infested waters, claiming the lives of a tourist community. A sea hunt for the new species results in monsters, madness and bloodshed. This great white is putting the bite back into terror, and it has help with the aid of new vampires intent on seeing it survive.', metadata={'title': 'Sharkula'}),\n",
       " Document(page_content=\"Camille cultivates flowers on 7000 meters square in Aveyron, France. During all year, « le Jardin de Veillac » structures itself : building a new greenhouse, preparing seedlings, collecting flowers, preparing bouquets and, finally, selling them on Rodez's marketplace, where flowers unveil their beauty and spread in the city.\", metadata={'title': 'La Ferme florale de Camille'}),\n",
       " Document(page_content='During the seed harvest season in Ban Rabue Village, Ngern is responsible for collecting and storing seeds for the upcoming year. Unfortunately, a group of black-faced thieves attempt to steal the seeds, and Ngern unintentionally kills them. Wanting to avoid any trouble, Ngern, along with his two friends, sets out to find guns and bring them back to protect the village.', metadata={'title': '3 Idiot Heroes'}),\n",
       " Document(page_content='Adapted from the 2010 Creature Feature of the same name by Roger Corman, a group of people on a cruise ship are suddenly attacked by a mutated shark crossed with an octopus creature.', metadata={'title': 'Sharktopus'}),\n",
       " Document(page_content='In 1989, mexican direct to video superstar Ricky Valente was in line to write and direct NARCO SHARK, a wild and ambitious film about a Detective/Saxophonist who battles the Mexican Yakuza and a cocaine fueled Killer Shark while trying to save his marriage from falling apart and helping his awkwardly shy but sexually depraved brother in law learn some breakdancing moves.  Sadly, the film was never made… until now.', metadata={'title': 'Narco Shark'}),\n",
       " Document(page_content='Illa de Arousa, 1971. Maria is a woman who earns her living by seafood. She is also known on the island for helping other women in childbirth with special dedication and care. After an unexpected event, she is forced to flee and begins a dangerous journey that will make her fight for her survival. Seeking her freedom, Maria decides to cross the border by one of the smuggling routes between Galicia and Portugal.', metadata={'title': 'The Rye Horn'}),\n",
       " Document(page_content='In a not so distant future, great white sharks have gone extinct. Over fishing, climate change, pollution have all contributed to the species complete annihilation from the seas... but, land may be their new hunting ground! When a mad scientist plays god and genetically engineers a shark/human, he unleashes the highly viral monster on the unsuspecting citizens of a nearby small town. Now, a group of friends must band together if they are to survive the “sharkocalypse”. Run, hide, fight... or be turned into CHUM!', metadata={'title': 'CHUM!', 'tagline': 'You’re Gonna Need A Better Vaccine'}),\n",
       " Document(page_content='An astonishing legacy of ice harvesting is now endangered as an ice house in Maine faces the impact of global warming.', metadata={'title': 'Frozen Harvest'}),\n",
       " Document(page_content='Sequel to the cult film Ouija Shark.', metadata={'title': 'Ouija Shark 2'}),\n",
       " Document(page_content='At the end of the 18th century, hundreds of Indian sailors, known as lascars, worked amongst European settlers in Aotearoa New Zealand - often under the gruesome working conditions of seal hunting gangs.  The story follows a lascar, Dasa, who has been abandoned on the coast of Aotearoa NZ by the East India Company, alongside his sealing gang. When Dasa finds himself in the middle of a conflict between his abusive British superior and two Māori traders, he is faced with a choice: bend the knee or take a stand.', metadata={'title': 'The Lascar', 'tagline': \"Survival. Betrayal. Honor. In the harsh realm of Aotearoa's untamed shores, one lascar must navigate treacherous waters of loyalty to rewrite his destiny.\"}),\n",
       " Document(page_content='The film takes the viewer on an embodied journey moving through a space in which its existence in the real or imagined is debatable. Alike how the alleyway is a physical bridge between two main streets, the film presents a series of juxtaposed images that might seem opposing at a glance – the seer and the seen, the outside and inside, young and old, low and high, the leaving, coming, and returning – but are co-existing elements that sustain the living and breathing of the alleyway. The tactility of witnessing inherently embodied by the 16 mm celluloid is mirrored by the witnessing(s) of the tourists, the residents, the non-human subjects in the space. Via a constructed soundscape in which sonic elements from eastern spirituality find their prominence amongst real-life sounds, and through an embodied camera eye that moves freely in the geographical space of the alley, the film evokes a sense of magical realism which gives texture to the meditation on the Chinese American identity.', metadata={'title': 'Fortune'}),\n",
       " Document(page_content='In Camouflage (Boulder/Iceland) I utilize the photograph object to investigate the difference between a lithic and a human sense of time. My embodiment as a boulder within the Icelandic landscape is intended to reference a glacial erratic—a tangible remnant of geologic memory and time within the landscape.', metadata={'title': 'Camouflage (Boulder/Iceland)'}),\n",
       " Document(page_content='Yan Xin, a female scientist at Hainan Xingye Torch Company, used gene editing technology to cultivate super rubber seeds and went to Yinfan Island overseas for trial planting, hoping to turn it into a rich new world. Lin Xiang of the International Security Company personally led the team to this crisis-ridden land in order to protect his still beloved ex-wife Yan Xin. Since their arrival, conflicts and conspiracies have been taking turns, with the figure of local drug lord Li Wenyao looming behind them. Unknown dangers, the ultimate showdown, the two people opposing good and evil cannot escape the destined battle.', metadata={'title': 'Cruel War'}),\n",
       " Document(page_content=\"Taking the shape of a deep sea voyage, 'Les Fruits de la Mère' is an experimental animation exploring the challenges regarding climatic changes, the seafood overconsumption and the possible future of the human race in a aquatic environment.\", metadata={'title': 'Les Fruits de la Mère'}),\n",
       " Document(page_content='Lights shining, drums rolling, here starts the show.  Curtains falling, winds howling, sheds swaying, up there sits the moon.  LIANG-JUN gazes silently at her mother, not daring to say a word.', metadata={'title': 'Susan'}),\n",
       " Document(page_content='James Lea’s love for sharks turns into a mission to save them from the devastating shark fin trade, driven by heartbreak and determination.', metadata={'title': 'Older Than Trees'}),\n",
       " Document(page_content='A solo trip aboard a yacht takes a terrifying turn when a woman encounters three drug traffickers clinging to the shattered remains of a boat. They soon force her to dive into shark-infested waters to retrieve kilos of cocaine from the sunken wreck.', metadata={'title': 'Deep Fear'}),\n",
       " Document(page_content='A large number of sharks suddenly appeared in Japan in the new era of \"Reiwa\" and devoured the Japanese people. The battle of the last man in Japan begins.', metadata={'title': 'Reiwa Shark'}),\n",
       " Document(page_content='A mafia drug lord has unleashed a new, highly addictive stimulant on the streets called HT25, derived from sharks held captive in a secret lab, and which causes monstrous side effects. After an explosion and leak at the lab, an army of mutated, bloodthirsty sharks and other creatures are set loose on the world.', metadata={'title': 'Cocaine Shark'}),\n",
       " Document(page_content=\"'Human Comedy in Tokyo', describes ordinary everyday lives without any significant incidents. Various dialogues are elaborately woven to bring tiny splits in human relationships to light, and through the three episodes the characters have their moments of realizing that they are actually in solitude.\", metadata={'title': 'Human Comedy in Tokyo'})]"
      ]
     },
     "execution_count": 40,
     "metadata": {},
     "output_type": "execute_result"
    }
   ],
   "source": [
    "theme_group_retriever.get_relevant_documents(\"sharks\")"
   ]
  },
  {
   "cell_type": "code",
   "execution_count": 36,
   "id": "8b35b008-aefc-4d72-afd2-f33ea1e244a7",
   "metadata": {},
   "outputs": [
    {
     "name": "stderr",
     "output_type": "stream",
     "text": [
      "Warning: model not found. Using cl100k_base encoding.\n"
     ]
    },
    {
     "data": {
      "text/plain": [
       "{'input': 'Find as many movies as you can about sharks.',\n",
       " 'context': [Document(page_content=\"V is a writer who doesn't write, P is an actor who doesn't act, so to fill the void they go and see old movies and tell each other it was better before.\", metadata={'title': 'Cary & James'}),\n",
       "  Document(page_content='Trouble with Johnny explores the recurrence of loop, tempo, and flicker. The project uses found footage as a method for emphasizing the cinematic collisions between audio and visual composition. Working within the margins of structural filmmaking, Trouble with Johnny creates a visceral experience of fragmented sounds and cyclical imagery.  Likewise, Trouble with Johnny functions as a parody of the mainstream movie industry. The source material derives from the 1980’s coming of age film, The Karate Kid. Throughout the story, the main antagonist, a bully who goes by the name “Johnny”, is revered by a dedicated clique of subservient underlings. Applied as an experimental technique, the repetitive use of the word “Johnny” draws attention to the stereotypical and recurring tropes found in many teen movies.', metadata={'title': 'Trouble with Johnny'}),\n",
       "  Document(page_content=\"Camila is a high school girl who lives life for no purpose. Her escape from reality goes back to the movie scripts she writes in her notebook. Bruno, a clumsy misfit dreamy boy, sets out to make friends with her, and upon discovering Camila's love for movies and stories, he proposes to create a movie.\", metadata={'title': 'Mi Ópera Prima'}),\n",
       "  Document(page_content='On May 18, 2023, Cuban movie posters were inscribed on the UNESCO Memory Of The World Register. Cine Libre tells the story of this invention and its creators.', metadata={'title': 'Cine Libre'}),\n",
       "  Document(page_content='An erotic film about the owner of a skincare shop who enslaves his customers and employees.', metadata={'title': 'Kim Jang-won Murder Case'}),\n",
       "  Document(page_content='A documentary on the rise and fall and recent return of sexy movies in Philippine cinema. Featuring interviews from the sexy movie icons of the past and the rising sexy stars of the present.', metadata={'title': 'Seksi: Pantasya at Pelikula'}),\n",
       "  Document(page_content=\"Alina is a movie sound engineer. One day she receives an offer to do the direct sound for an erotic film featuring Maria Black, a famous star of the genre who had already retired. When Maria has a heart attack and dies in the middle of the shoot, and the producers decide not to call the police, a series of sinister and unexpected events are unleashed that will endanger everyone's lives.\", metadata={'title': 'Maria'}),\n",
       "  Document(page_content='In an attempt to make a British version of the infamous STAB movies, a terrifying case of murders appears in a small town, with only one link between them all...', metadata={'title': \"Cooper Studios' Scream\", 'tagline': 'British Remakes Are Always The Best...'}),\n",
       "  Document(page_content='A cinematic essay interweaving private archive images and a mixture of reflective, speculative and poetic intertitles that, like “an old movie from the 20th century”, invites us to meditate on what Des Pallières once liked to call “our old homeland”.', metadata={'title': 'American Journal'}),\n",
       "  Document(page_content='Filmmaker and musician Carl Weingarten recounts growing up in St. Louis in the 1970s and his teenage hobby of shooting aerial movies with a Super8 camera mounted on top of model rockets. Decades before video cameras, GoPros and Drones, the film shows vintage Super8 footage and photographs, all shot, developed and edited with music composed by Weingarten for his DIY NASA inspired rocket launches and regional aerial photography explorations.', metadata={'title': 'The Rocket Movies'}),\n",
       "  Document(page_content='After her friend goes missing, Sadie discovers a killer on the loose may be connected to five star reviews on a particular movie.', metadata={'title': 'Five Stars'}),\n",
       "  Document(page_content='In this dialogue-driven, \"second coming of age\" comedic drama, Felix has all but given up on his pursuit of becoming a filmmaker when he meets Stella, a down to Earth, chain-smoking cinephile, whose unexpected friendship inspires him to start writing again–and falling for her. Never hesitating to take steps outside of reality through the use of movies within movies, found footage and action sequences, Mountainside is also a love letter to film itself.', metadata={'title': 'Mountainside'}),\n",
       "  Document(page_content='Dickinsonia is a 550 million year old oceanic species. As their soft bodies rarely leave fossils, traumas, marked by forgetting and dissociation, also seem to leave very few traces.', metadata={'title': 'Dickinsonia'}),\n",
       "  Document(page_content='A skilled commercial diver in Malta, Tara Salgaonkar is a mystery to everyone around her. A strong girl who defies social conventions, she is trying to come to terms with her dark past.', metadata={'title': 'Starfish'}),\n",
       "  Document(page_content='Emmy award-winning filmmaker and marine biologist Rick Rosenthal teams up with science fiction writer Chris Carter on an investigative journey to explore evidence of intelligent life, not in space, but in the sea – specifically, manta rays. Might these alien-looking animals be trying to make contact with us? There are intriguing clues.', metadata={'title': 'Alien Contact'}),\n",
       "  Document(page_content=\"Troubled waters and accursed thaumaturges: Lovecraft's haunting vision of the sea and the unfathomable mysteries that lie within its depths, but also the ancient lore hidden beneath the waters.\", metadata={'title': 'Ancient Lore'}),\n",
       "  Document(page_content='A woman with weird superpowers, a turtle with obsessive-compulsive disorder and a cloud with rain incontinence on an unusual journey to the depths of the ocean.', metadata={'title': 'Bizarre Fish from the Abyssal Zone'}),\n",
       "  Document(page_content=\"It follows a Japanese-Canadian woman grappling with the death of her mother as she brings her family to a retreat. When her relationship with her husband begins to affect the children's emotional security, the family is forever changed.\", metadata={'title': 'Seagrass'}),\n",
       "  Document(page_content=\"Sea Monster pals Tickles and Toothy McGru can't seem to fit in with the fish in the reef. In fact they can't even figure out what types of fish they are! Could it have to do with Halloween? With the help of Fifi and Lily the pals set off on a quest to learn their true identity.  Get ready for an underwater Halloween adventure for the ages. It's Sea Monsters 3.\", metadata={'title': 'Sea Monsters 3'}),\n",
       "  Document(page_content='Sea monsters, self help and sexual utopia. With his marriage crumbling, Seamus, a struggling fisherman, is unexpectedly offered the delicious pleasures of an unusual new life. But to turn his desperation into hope, Seamus will need to put his trust in a group of misfits whose project becomes more and more deranged. This absurdist dark comedy asks if there really is more out there for each of us or \"IS THIS IT?\"', metadata={'title': 'The Highest Brasil'})],\n",
       " 'answer': \"I'm sorry, but there are no movies about sharks in the provided context. If you have any other movie-related questions or need information about the movies mentioned in the context, feel free to ask!\"}"
      ]
     },
     "execution_count": 36,
     "metadata": {},
     "output_type": "execute_result"
    }
   ],
   "source": [
    "theme_group_chain.invoke({\"input\": \"Find as many movies as you can about sharks.\"})"
   ]
  },
  {
   "cell_type": "code",
   "execution_count": 31,
   "id": "fcbf042d-9262-4a2a-adb1-eb89e800b56b",
   "metadata": {},
   "outputs": [
    {
     "name": "stderr",
     "output_type": "stream",
     "text": [
      "Warning: model not found. Using cl100k_base encoding.\n"
     ]
    },
    {
     "data": {
      "text/plain": [
       "{'input': 'Find as many movies as you can about sharks.',\n",
       " 'context': [Document(page_content=\"V is a writer who doesn't write, P is an actor who doesn't act, so to fill the void they go and see old movies and tell each other it was better before.\", metadata={'title': 'Cary & James'}),\n",
       "  Document(page_content='Trouble with Johnny explores the recurrence of loop, tempo, and flicker. The project uses found footage as a method for emphasizing the cinematic collisions between audio and visual composition. Working within the margins of structural filmmaking, Trouble with Johnny creates a visceral experience of fragmented sounds and cyclical imagery.  Likewise, Trouble with Johnny functions as a parody of the mainstream movie industry. The source material derives from the 1980’s coming of age film, The Karate Kid. Throughout the story, the main antagonist, a bully who goes by the name “Johnny”, is revered by a dedicated clique of subservient underlings. Applied as an experimental technique, the repetitive use of the word “Johnny” draws attention to the stereotypical and recurring tropes found in many teen movies.', metadata={'title': 'Trouble with Johnny'}),\n",
       "  Document(page_content=\"Camila is a high school girl who lives life for no purpose. Her escape from reality goes back to the movie scripts she writes in her notebook. Bruno, a clumsy misfit dreamy boy, sets out to make friends with her, and upon discovering Camila's love for movies and stories, he proposes to create a movie.\", metadata={'title': 'Mi Ópera Prima'}),\n",
       "  Document(page_content='On May 18, 2023, Cuban movie posters were inscribed on the UNESCO Memory Of The World Register. Cine Libre tells the story of this invention and its creators.', metadata={'title': 'Cine Libre'}),\n",
       "  Document(page_content='An erotic film about the owner of a skincare shop who enslaves his customers and employees.', metadata={'title': 'Kim Jang-won Murder Case'}),\n",
       "  Document(page_content='A documentary on the rise and fall and recent return of sexy movies in Philippine cinema. Featuring interviews from the sexy movie icons of the past and the rising sexy stars of the present.', metadata={'title': 'Seksi: Pantasya at Pelikula'}),\n",
       "  Document(page_content=\"Alina is a movie sound engineer. One day she receives an offer to do the direct sound for an erotic film featuring Maria Black, a famous star of the genre who had already retired. When Maria has a heart attack and dies in the middle of the shoot, and the producers decide not to call the police, a series of sinister and unexpected events are unleashed that will endanger everyone's lives.\", metadata={'title': 'Maria'}),\n",
       "  Document(page_content='In an attempt to make a British version of the infamous STAB movies, a terrifying case of murders appears in a small town, with only one link between them all...', metadata={'title': \"Cooper Studios' Scream\", 'tagline': 'British Remakes Are Always The Best...'}),\n",
       "  Document(page_content='A cinematic essay interweaving private archive images and a mixture of reflective, speculative and poetic intertitles that, like “an old movie from the 20th century”, invites us to meditate on what Des Pallières once liked to call “our old homeland”.', metadata={'title': 'American Journal'}),\n",
       "  Document(page_content='Filmmaker and musician Carl Weingarten recounts growing up in St. Louis in the 1970s and his teenage hobby of shooting aerial movies with a Super8 camera mounted on top of model rockets. Decades before video cameras, GoPros and Drones, the film shows vintage Super8 footage and photographs, all shot, developed and edited with music composed by Weingarten for his DIY NASA inspired rocket launches and regional aerial photography explorations.', metadata={'title': 'The Rocket Movies'}),\n",
       "  Document(page_content='After her friend goes missing, Sadie discovers a killer on the loose may be connected to five star reviews on a particular movie.', metadata={'title': 'Five Stars'}),\n",
       "  Document(page_content='In this dialogue-driven, \"second coming of age\" comedic drama, Felix has all but given up on his pursuit of becoming a filmmaker when he meets Stella, a down to Earth, chain-smoking cinephile, whose unexpected friendship inspires him to start writing again–and falling for her. Never hesitating to take steps outside of reality through the use of movies within movies, found footage and action sequences, Mountainside is also a love letter to film itself.', metadata={'title': 'Mountainside'}),\n",
       "  Document(page_content='Dickinsonia is a 550 million year old oceanic species. As their soft bodies rarely leave fossils, traumas, marked by forgetting and dissociation, also seem to leave very few traces.', metadata={'title': 'Dickinsonia'}),\n",
       "  Document(page_content='A skilled commercial diver in Malta, Tara Salgaonkar is a mystery to everyone around her. A strong girl who defies social conventions, she is trying to come to terms with her dark past.', metadata={'title': 'Starfish'}),\n",
       "  Document(page_content='Emmy award-winning filmmaker and marine biologist Rick Rosenthal teams up with science fiction writer Chris Carter on an investigative journey to explore evidence of intelligent life, not in space, but in the sea – specifically, manta rays. Might these alien-looking animals be trying to make contact with us? There are intriguing clues.', metadata={'title': 'Alien Contact'}),\n",
       "  Document(page_content=\"Troubled waters and accursed thaumaturges: Lovecraft's haunting vision of the sea and the unfathomable mysteries that lie within its depths, but also the ancient lore hidden beneath the waters.\", metadata={'title': 'Ancient Lore'}),\n",
       "  Document(page_content='A woman with weird superpowers, a turtle with obsessive-compulsive disorder and a cloud with rain incontinence on an unusual journey to the depths of the ocean.', metadata={'title': 'Bizarre Fish from the Abyssal Zone'}),\n",
       "  Document(page_content=\"It follows a Japanese-Canadian woman grappling with the death of her mother as she brings her family to a retreat. When her relationship with her husband begins to affect the children's emotional security, the family is forever changed.\", metadata={'title': 'Seagrass'}),\n",
       "  Document(page_content=\"Sea Monster pals Tickles and Toothy McGru can't seem to fit in with the fish in the reef. In fact they can't even figure out what types of fish they are! Could it have to do with Halloween? With the help of Fifi and Lily the pals set off on a quest to learn their true identity.  Get ready for an underwater Halloween adventure for the ages. It's Sea Monsters 3.\", metadata={'title': 'Sea Monsters 3'}),\n",
       "  Document(page_content='Sea monsters, self help and sexual utopia. With his marriage crumbling, Seamus, a struggling fisherman, is unexpectedly offered the delicious pleasures of an unusual new life. But to turn his desperation into hope, Seamus will need to put his trust in a group of misfits whose project becomes more and more deranged. This absurdist dark comedy asks if there really is more out there for each of us or \"IS THIS IT?\"', metadata={'title': 'The Highest Brasil'})],\n",
       " 'answer': \"I'm sorry, but there are no movies about sharks in the provided context. If you have any other movie-related questions or need information about specific movies listed in the context, feel free to ask!\"}"
      ]
     },
     "execution_count": 31,
     "metadata": {},
     "output_type": "execute_result"
    }
   ],
   "source": [
    "theme_chain.invoke({\"input\": \"Find as many movies as you can about sharks.\"})"
   ]
  },
  {
   "cell_type": "code",
   "execution_count": 18,
   "id": "1d775e19-caaf-45d8-86c5-3f3ee1747e1a",
   "metadata": {},
   "outputs": [
    {
     "name": "stderr",
     "output_type": "stream",
     "text": [
      "Warning: model not found. Using cl100k_base encoding.\n"
     ]
    },
    {
     "data": {
      "text/plain": [
       "{'input': 'Find as many movies as you can about sharks.',\n",
       " 'context': [Document(page_content=\"The ultimate deep dive into the world of shark cinema: filmmakers, critics, scholars and conservationists explore the weird, wild cinematic legacy of sharks on film and audiences' undying fascination with these misunderstood creatures.\", metadata={'title': 'Sharksploitation'}),\n",
       "  Document(page_content='In a not so distant future, great white sharks have gone extinct. Over fishing, climate change, pollution have all contributed to the species complete annihilation from the seas... but, land may be their new hunting ground! When a mad scientist plays god and genetically engineers a shark/human, he unleashes the highly viral monster on the unsuspecting citizens of a nearby small town. Now, a group of friends must band together if they are to survive the “sharkocalypse”. Run, hide, fight... or be turned into CHUM!', metadata={'title': 'CHUM!', 'tagline': 'You’re Gonna Need A Better Vaccine'}),\n",
       "  Document(page_content='The curse of Count Dracula lives on in shark-infested waters, claiming the lives of a tourist community. A sea hunt for the new species results in monsters, madness and bloodshed. This great white is putting the bite back into terror, and it has help with the aid of new vampires intent on seeing it survive.', metadata={'title': 'Sharkula'}),\n",
       "  Document(page_content='Baby Shark is forced to leave the world he loves behind after his family’s move to the big city, and must adjust to his new life without his best friend, William. When Baby Shark encounters an evil pop starfish named Stariana who plans to steal his gift of song in order to dominate all underwater music, he must break her spell to restore harmony to the seas.', metadata={'title': \"Baby Shark's Big Movie\"}),\n",
       "  Document(page_content='James Lea’s love for sharks turns into a mission to save them from the devastating shark fin trade, driven by heartbreak and determination.', metadata={'title': 'Older Than Trees'}),\n",
       "  Document(page_content='Sequel to the cult film Ouija Shark.', metadata={'title': 'Ouija Shark 2'}),\n",
       "  Document(page_content='Adapted from the 2010 Creature Feature of the same name by Roger Corman, a group of people on a cruise ship are suddenly attacked by a mutated shark crossed with an octopus creature.', metadata={'title': 'Sharktopus'}),\n",
       "  Document(page_content='In 1989, mexican direct to video superstar Ricky Valente was in line to write and direct NARCO SHARK, a wild and ambitious film about a Detective/Saxophonist who battles the Mexican Yakuza and a cocaine fueled Killer Shark while trying to save his marriage from falling apart and helping his awkwardly shy but sexually depraved brother in law learn some breakdancing moves.  Sadly, the film was never made… until now.', metadata={'title': 'Narco Shark'}),\n",
       "  Document(page_content=\"A filmmaker makes a movie in a way that's never been done before, leading to unimaginable results.\", metadata={'title': 'Stock Shark', 'tagline': 'A shark movie comprised entirely of stock footage. But also much, much more.'}),\n",
       "  Document(page_content='A solo trip aboard a yacht takes a terrifying turn when a woman encounters three drug traffickers clinging to the shattered remains of a boat. They soon force her to dive into shark-infested waters to retrieve kilos of cocaine from the sunken wreck.', metadata={'title': 'Deep Fear'}),\n",
       "  Document(page_content=\"A video was submitted to Big Summer's psychic investigator team. The video shows a couple visiting an abandoned well at a haunted place, the woman was attacked by a deformed monster that appeared from the well. The boyfriend now asks the team to investigate.\", metadata={'title': 'Ido Shark'}),\n",
       "  Document(page_content='A feature documentary drama about enigmatic Rugby League legend Mark “SHARKO” Graham, and his filmmaker son, Luke. In his prime, Mark was the best rugby league player in the world. Known for his size, speed, skill and toughness, he was a predator in a sea of sharks. Mark changed the sport and carried his teams and country to the doorstep of greatness, while remaining a mystery to his biggest fan, his son.', metadata={'title': 'Sharko'}),\n",
       "  Document(page_content='A mafia drug lord has unleashed a new, highly addictive stimulant on the streets called HT25, derived from sharks held captive in a secret lab, and which causes monstrous side effects. After an explosion and leak at the lab, an army of mutated, bloodthirsty sharks and other creatures are set loose on the world.', metadata={'title': 'Cocaine Shark'}),\n",
       "  Document(page_content=\"Sea Monster pals Tickles and Toothy McGru can't seem to fit in with the fish in the reef. In fact they can't even figure out what types of fish they are! Could it have to do with Halloween? With the help of Fifi and Lily the pals set off on a quest to learn their true identity.  Get ready for an underwater Halloween adventure for the ages. It's Sea Monsters 3.\", metadata={'title': 'Sea Monsters 3'}),\n",
       "  Document(page_content='Amsterdam - a city known for its wild debauchery, legal sex and drugs, and sharks?! When sex and drug obsessed Tommy takes a trip to Amsterdam to visit a brothel in the Red Light District, he tries the newest experimental drug available on the black market that turns him into a HALF MAN, HALF SHARK, FULL ON KILLING MACHINE! Will the ladies of the brothel survive the night? Hope ya’ got your rubbers!', metadata={'title': 'Red Light District Shark Attack', 'tagline': 'Got Ya’ Rubbers?'}),\n",
       "  Document(page_content='A large number of sharks suddenly appeared in Japan in the new era of \"Reiwa\" and devoured the Japanese people. The battle of the last man in Japan begins.', metadata={'title': 'Reiwa Shark'}),\n",
       "  Document(page_content='In the shallow waters of the Red Sea, a happy-go-lucky fish is forced to set out on a journey to save the sea creatures from the soulless monster before it kills all life underwater', metadata={'title': 'The Menace From Above'}),\n",
       "  Document(page_content='A documentary discussing various so-called monsters around the world', metadata={'title': 'Scariest Monsters in the World', 'tagline': 'Sequel to Scariest Monsters in America'}),\n",
       "  Document(page_content='IN THE WHALE is a feature-length documentary film about arguably the greatest fish story ever told, though this one is true. It’s the account of Michael Packard, a Cape Cod fisherman, who survived to tell the tale of being swallowed by a whale, and what happened after he was spit out.', metadata={'title': 'In the Whale'}),\n",
       "  Document(page_content='A guy researches how to publish a movie onto TMDB', metadata={'title': 'A Movie With No Views On Letterboxd'}),\n",
       "  Document(page_content='Follows a group of surfer friends looking out for waves in a mysterious island that’s been erased from all maps.', metadata={'title': 'Pacific Fear'}),\n",
       "  Document(page_content='A collage film composed of archival materials invites viewers to the depths of the seas and oceans to encounter the surreal world. The observer, who has taken a walk underwater, finds himself the object of intense scrutiny with growing unease. The film was made in collaboration with composer Raquel García-Tomás.', metadata={'title': 'Sightings'}),\n",
       "  Document(page_content='The film follows renowned skipper Matt Knight, who teams up with world-class big wave surfer Andrew Cotton to adventure into the most dangerous waters of the Atlantic. Their journey is inspired by a passage in a 19th century treasure hunter’s journal. Joined by family and friends, the pair are faced with life-threatening challenges on their quest.', metadata={'title': 'Savage Waters'}),\n",
       "  Document(page_content='Movie that tries to answer the century old question - why do we love movies?', metadata={'title': 'Why Movies?'}),\n",
       "  Document(page_content='A filmmaker experiments with sand and dried fish to animate the state of fisherfolk in the Philippines.', metadata={'title': 'Because Sometimes, A Sea is Just a Salted, Sand-filled Slaughterhouse'}),\n",
       "  Document(page_content='A swimmer drops his sandwich in the pool, confronting his fear of water to get it back. But what starts as a quest for his snack turns into a desperate fight for breath and survival underwater.', metadata={'title': 'The Sandwich Symphony'}),\n",
       "  Document(page_content='A short film on the chaos that is happening in the world.', metadata={'title': 'JAWS OF HELL'}),\n",
       "  Document(page_content='Movie (Choke)', metadata={'title': 'Movie (Choke)'}),\n",
       "  Document(page_content='Squatch Junkies a movie about Bigfoot getting a hold of meth and moonshine and going wild.', metadata={'title': 'Squatch Junkies'}),\n",
       "  Document(page_content='I believe that there is a beast in each of us, and maybe several. This film tells about the animals that came to me and helped me cope with life.', metadata={'title': 'Beasts Inside'})],\n",
       " 'answer': \"1. **Sharksploitation**\\n2. **CHUM!**\\n3. **Sharkula**\\n4. **Baby Shark's Big Movie**\\n5. **Ouija Shark 2**\\n6. **Sharktopus**\\n7. **Narco Shark**\\n8. **Cocaine Shark**\\n9. **Reiwa Shark**\\n10. **Deep Fear**\\n11. **Ido Shark**\\n12. **Stock Shark**\\n13. **Older Than Trees**\\n14. **Sharko**\\n15. **Red Light District Shark Attack**\"}"
      ]
     },
     "execution_count": 18,
     "metadata": {},
     "output_type": "execute_result"
    }
   ],
   "source": [
    "movie_chain.invoke({\"input\": \"Find as many movies as you can about sharks.\"})"
   ]
  },
  {
   "cell_type": "code",
   "execution_count": 37,
   "id": "19c7ebe8-3810-4ef4-981b-884c07469f99",
   "metadata": {},
   "outputs": [
    {
     "name": "stderr",
     "output_type": "stream",
     "text": [
      "Warning: model not found. Using cl100k_base encoding.\n"
     ]
    },
    {
     "data": {
      "text/plain": [
       "{'input': 'Find as many movies as you can about high school.',\n",
       " 'context': [Document(page_content=\"V is a writer who doesn't write, P is an actor who doesn't act, so to fill the void they go and see old movies and tell each other it was better before.\", metadata={'title': 'Cary & James'}),\n",
       "  Document(page_content='Trouble with Johnny explores the recurrence of loop, tempo, and flicker. The project uses found footage as a method for emphasizing the cinematic collisions between audio and visual composition. Working within the margins of structural filmmaking, Trouble with Johnny creates a visceral experience of fragmented sounds and cyclical imagery.  Likewise, Trouble with Johnny functions as a parody of the mainstream movie industry. The source material derives from the 1980’s coming of age film, The Karate Kid. Throughout the story, the main antagonist, a bully who goes by the name “Johnny”, is revered by a dedicated clique of subservient underlings. Applied as an experimental technique, the repetitive use of the word “Johnny” draws attention to the stereotypical and recurring tropes found in many teen movies.', metadata={'title': 'Trouble with Johnny'}),\n",
       "  Document(page_content=\"Camila is a high school girl who lives life for no purpose. Her escape from reality goes back to the movie scripts she writes in her notebook. Bruno, a clumsy misfit dreamy boy, sets out to make friends with her, and upon discovering Camila's love for movies and stories, he proposes to create a movie.\", metadata={'title': 'Mi Ópera Prima'}),\n",
       "  Document(page_content='On May 18, 2023, Cuban movie posters were inscribed on the UNESCO Memory Of The World Register. Cine Libre tells the story of this invention and its creators.', metadata={'title': 'Cine Libre'}),\n",
       "  Document(page_content='An erotic film about the owner of a skincare shop who enslaves his customers and employees.', metadata={'title': 'Kim Jang-won Murder Case'}),\n",
       "  Document(page_content='A documentary on the rise and fall and recent return of sexy movies in Philippine cinema. Featuring interviews from the sexy movie icons of the past and the rising sexy stars of the present.', metadata={'title': 'Seksi: Pantasya at Pelikula'}),\n",
       "  Document(page_content=\"Alina is a movie sound engineer. One day she receives an offer to do the direct sound for an erotic film featuring Maria Black, a famous star of the genre who had already retired. When Maria has a heart attack and dies in the middle of the shoot, and the producers decide not to call the police, a series of sinister and unexpected events are unleashed that will endanger everyone's lives.\", metadata={'title': 'Maria'}),\n",
       "  Document(page_content='In an attempt to make a British version of the infamous STAB movies, a terrifying case of murders appears in a small town, with only one link between them all...', metadata={'title': \"Cooper Studios' Scream\", 'tagline': 'British Remakes Are Always The Best...'}),\n",
       "  Document(page_content='A cinematic essay interweaving private archive images and a mixture of reflective, speculative and poetic intertitles that, like “an old movie from the 20th century”, invites us to meditate on what Des Pallières once liked to call “our old homeland”.', metadata={'title': 'American Journal'}),\n",
       "  Document(page_content='Filmmaker and musician Carl Weingarten recounts growing up in St. Louis in the 1970s and his teenage hobby of shooting aerial movies with a Super8 camera mounted on top of model rockets. Decades before video cameras, GoPros and Drones, the film shows vintage Super8 footage and photographs, all shot, developed and edited with music composed by Weingarten for his DIY NASA inspired rocket launches and regional aerial photography explorations.', metadata={'title': 'The Rocket Movies'}),\n",
       "  Document(page_content='After her friend goes missing, Sadie discovers a killer on the loose may be connected to five star reviews on a particular movie.', metadata={'title': 'Five Stars'}),\n",
       "  Document(page_content='In this dialogue-driven, \"second coming of age\" comedic drama, Felix has all but given up on his pursuit of becoming a filmmaker when he meets Stella, a down to Earth, chain-smoking cinephile, whose unexpected friendship inspires him to start writing again–and falling for her. Never hesitating to take steps outside of reality through the use of movies within movies, found footage and action sequences, Mountainside is also a love letter to film itself.', metadata={'title': 'Mountainside'}),\n",
       "  Document(page_content='Iris, a mischievous and imaginative young girl, encounters a toddler who has ventured away from his parents, setting off a road movie filled with pills, cash, and a unicorn.', metadata={'title': 'Iris'}),\n",
       "  Document(page_content='Near Lunar New Year, Liang Zhe makes the long trek home to his village in rural Shanxi. Along the way, he encounters acquaintances, estranged friends, and potential love interests. Though everyone seems impressed by his life in Beijing, Zhe can’t help but reflect on his failures both past and present. Based on his own experiences, Jian Haodong’s take on the well-worn road movie genre is a melancholic and quietly engrossing journey of self-reflection, relatable to anyone who has left home for greener pastures. Best Film, Pingyao Film Festival.', metadata={'title': 'Night Falls'}),\n",
       "  Document(page_content='A road movie on a sailboat on the Conero: the film follows a group of friends, former classmates, who venture on a holiday in search of a lost paradise made of laughter, lightness and dreams. But the dynamics of the past and the tensions accumulated over the years are put to the test when a mysterious intruder joins their journey, bringing out sunken truths.', metadata={'title': 'La spiaggia dei gabbiani'}),\n",
       "  Document(page_content=\"Current and former collaborators of Cinusp — the movie theater inside University of Sao Paulo's main campus — tell some tales of its 30 years history.\", metadata={'title': 'Cinusp, 3 décadas de cinema'}),\n",
       "  Document(page_content=\"An unlucky musician returns back home on the day of his younger brother's movie premiere to steal and sell his computer to the paparazzi.\", metadata={'title': 'Shadow Brother Sunday'}),\n",
       "  Document(page_content=\"What does a man do who has dedicated over 70 years of his life to live in the world of movies when that whole world suddenly shuts down? When film productions stop and cinemas are closing. In this new restricted world of his, he spends his time going through his rich film archive and calls directors and actors around the whole world: Isabella Rossellini, John Sayles, Oliver Assayas and many more. A film about the film's ability to travel into other worlds and give us the strength to endure our own difficult existence.\", metadata={'title': 'The Movie Man'}),\n",
       "  Document(page_content=\"Mickey and Thomas, stars on the rise, and their friends and crew find themselves trapped in a deadly game by a killer who has dubbed himself 'The Auteur'.\", metadata={'title': 'Last Friday'}),\n",
       "  Document(page_content='Deliberately rebelling against no-frills entertainment films, the trio of Clara Winter, Miiel Ferráez, and Megan Marsh present themselves in their debut feature Wikiriders – an ironic road movie in which their alter egos cross Texas and Mexico in search of the legacy of colonialism. They ultimately encounter it in the form of an influential aristocratic family – a family far more alive than they would like.', metadata={'title': 'Wikiriders'})],\n",
       " 'answer': \"I found one movie related to high school:\\n1. **Mi Ópera Prima**: Camila is a high school girl who lives life for no purpose. Her escape from reality goes back to the movie scripts she writes in her notebook. Bruno, a clumsy misfit dreamy boy, sets out to make friends with her, and upon discovering Camila's love for movies and stories, he proposes to create a movie.\"}"
      ]
     },
     "execution_count": 37,
     "metadata": {},
     "output_type": "execute_result"
    }
   ],
   "source": [
    "theme_group_chain.invoke({\"input\": \"Find as many movies as you can about high school.\"})"
   ]
  },
  {
   "cell_type": "code",
   "execution_count": 20,
   "id": "28e5225a-41e8-4967-acdc-00c34f4aeb5e",
   "metadata": {},
   "outputs": [
    {
     "name": "stderr",
     "output_type": "stream",
     "text": [
      "Warning: model not found. Using cl100k_base encoding.\n"
     ]
    },
    {
     "data": {
      "text/plain": [
       "{'input': 'Find as many movies as you can about high school.',\n",
       " 'context': [Document(page_content=\"V is a writer who doesn't write, P is an actor who doesn't act, so to fill the void they go and see old movies and tell each other it was better before.\", metadata={'title': 'Cary & James'}),\n",
       "  Document(page_content='Trouble with Johnny explores the recurrence of loop, tempo, and flicker. The project uses found footage as a method for emphasizing the cinematic collisions between audio and visual composition. Working within the margins of structural filmmaking, Trouble with Johnny creates a visceral experience of fragmented sounds and cyclical imagery.  Likewise, Trouble with Johnny functions as a parody of the mainstream movie industry. The source material derives from the 1980’s coming of age film, The Karate Kid. Throughout the story, the main antagonist, a bully who goes by the name “Johnny”, is revered by a dedicated clique of subservient underlings. Applied as an experimental technique, the repetitive use of the word “Johnny” draws attention to the stereotypical and recurring tropes found in many teen movies.', metadata={'title': 'Trouble with Johnny'}),\n",
       "  Document(page_content=\"Camila is a high school girl who lives life for no purpose. Her escape from reality goes back to the movie scripts she writes in her notebook. Bruno, a clumsy misfit dreamy boy, sets out to make friends with her, and upon discovering Camila's love for movies and stories, he proposes to create a movie.\", metadata={'title': 'Mi Ópera Prima'}),\n",
       "  Document(page_content='On May 18, 2023, Cuban movie posters were inscribed on the UNESCO Memory Of The World Register. Cine Libre tells the story of this invention and its creators.', metadata={'title': 'Cine Libre'}),\n",
       "  Document(page_content='An erotic film about the owner of a skincare shop who enslaves his customers and employees.', metadata={'title': 'Kim Jang-won Murder Case'}),\n",
       "  Document(page_content='A documentary on the rise and fall and recent return of sexy movies in Philippine cinema. Featuring interviews from the sexy movie icons of the past and the rising sexy stars of the present.', metadata={'title': 'Seksi: Pantasya at Pelikula'}),\n",
       "  Document(page_content=\"Alina is a movie sound engineer. One day she receives an offer to do the direct sound for an erotic film featuring Maria Black, a famous star of the genre who had already retired. When Maria has a heart attack and dies in the middle of the shoot, and the producers decide not to call the police, a series of sinister and unexpected events are unleashed that will endanger everyone's lives.\", metadata={'title': 'Maria'}),\n",
       "  Document(page_content='In an attempt to make a British version of the infamous STAB movies, a terrifying case of murders appears in a small town, with only one link between them all...', metadata={'title': \"Cooper Studios' Scream\", 'tagline': 'British Remakes Are Always The Best...'}),\n",
       "  Document(page_content='A cinematic essay interweaving private archive images and a mixture of reflective, speculative and poetic intertitles that, like “an old movie from the 20th century”, invites us to meditate on what Des Pallières once liked to call “our old homeland”.', metadata={'title': 'American Journal'}),\n",
       "  Document(page_content='Filmmaker and musician Carl Weingarten recounts growing up in St. Louis in the 1970s and his teenage hobby of shooting aerial movies with a Super8 camera mounted on top of model rockets. Decades before video cameras, GoPros and Drones, the film shows vintage Super8 footage and photographs, all shot, developed and edited with music composed by Weingarten for his DIY NASA inspired rocket launches and regional aerial photography explorations.', metadata={'title': 'The Rocket Movies'}),\n",
       "  Document(page_content='After her friend goes missing, Sadie discovers a killer on the loose may be connected to five star reviews on a particular movie.', metadata={'title': 'Five Stars'}),\n",
       "  Document(page_content='In this dialogue-driven, \"second coming of age\" comedic drama, Felix has all but given up on his pursuit of becoming a filmmaker when he meets Stella, a down to Earth, chain-smoking cinephile, whose unexpected friendship inspires him to start writing again–and falling for her. Never hesitating to take steps outside of reality through the use of movies within movies, found footage and action sequences, Mountainside is also a love letter to film itself.', metadata={'title': 'Mountainside'}),\n",
       "  Document(page_content='Iris, a mischievous and imaginative young girl, encounters a toddler who has ventured away from his parents, setting off a road movie filled with pills, cash, and a unicorn.', metadata={'title': 'Iris'}),\n",
       "  Document(page_content='Near Lunar New Year, Liang Zhe makes the long trek home to his village in rural Shanxi. Along the way, he encounters acquaintances, estranged friends, and potential love interests. Though everyone seems impressed by his life in Beijing, Zhe can’t help but reflect on his failures both past and present. Based on his own experiences, Jian Haodong’s take on the well-worn road movie genre is a melancholic and quietly engrossing journey of self-reflection, relatable to anyone who has left home for greener pastures. Best Film, Pingyao Film Festival.', metadata={'title': 'Night Falls'}),\n",
       "  Document(page_content='A road movie on a sailboat on the Conero: the film follows a group of friends, former classmates, who venture on a holiday in search of a lost paradise made of laughter, lightness and dreams. But the dynamics of the past and the tensions accumulated over the years are put to the test when a mysterious intruder joins their journey, bringing out sunken truths.', metadata={'title': 'La spiaggia dei gabbiani'}),\n",
       "  Document(page_content=\"Current and former collaborators of Cinusp — the movie theater inside University of Sao Paulo's main campus — tell some tales of its 30 years history.\", metadata={'title': 'Cinusp, 3 décadas de cinema'}),\n",
       "  Document(page_content=\"An unlucky musician returns back home on the day of his younger brother's movie premiere to steal and sell his computer to the paparazzi.\", metadata={'title': 'Shadow Brother Sunday'}),\n",
       "  Document(page_content=\"What does a man do who has dedicated over 70 years of his life to live in the world of movies when that whole world suddenly shuts down? When film productions stop and cinemas are closing. In this new restricted world of his, he spends his time going through his rich film archive and calls directors and actors around the whole world: Isabella Rossellini, John Sayles, Oliver Assayas and many more. A film about the film's ability to travel into other worlds and give us the strength to endure our own difficult existence.\", metadata={'title': 'The Movie Man'}),\n",
       "  Document(page_content=\"Mickey and Thomas, stars on the rise, and their friends and crew find themselves trapped in a deadly game by a killer who has dubbed himself 'The Auteur'.\", metadata={'title': 'Last Friday'}),\n",
       "  Document(page_content='Deliberately rebelling against no-frills entertainment films, the trio of Clara Winter, Miiel Ferráez, and Megan Marsh present themselves in their debut feature Wikiriders – an ironic road movie in which their alter egos cross Texas and Mexico in search of the legacy of colonialism. They ultimately encounter it in the form of an influential aristocratic family – a family far more alive than they would like.', metadata={'title': 'Wikiriders'})],\n",
       " 'answer': \"I found one movie related to high school:\\n1. **Mi Ópera Prima**: Camila is a high school girl who lives life for no purpose. Her escape from reality goes back to the movie scripts she writes in her notebook. Bruno, a clumsy misfit dreamy boy, sets out to make friends with her, and upon discovering Camila's love for movies and stories, he proposes to create a movie.\"}"
      ]
     },
     "execution_count": 20,
     "metadata": {},
     "output_type": "execute_result"
    }
   ],
   "source": [
    "summary_chain.invoke({\"input\": \"Find as many movies as you can about high school.\"})"
   ]
  },
  {
   "cell_type": "code",
   "execution_count": null,
   "id": "ffb1859e-9db1-4e52-8c33-0c6c32e902e4",
   "metadata": {},
   "outputs": [],
   "source": []
  }
 ],
 "metadata": {
  "kernelspec": {
   "display_name": "chatbot",
   "language": "python",
   "name": "chatbot"
  },
  "language_info": {
   "codemirror_mode": {
    "name": "ipython",
    "version": 3
   },
   "file_extension": ".py",
   "mimetype": "text/x-python",
   "name": "python",
   "nbconvert_exporter": "python",
   "pygments_lexer": "ipython3",
   "version": "3.11.7"
  }
 },
 "nbformat": 4,
 "nbformat_minor": 5
}
