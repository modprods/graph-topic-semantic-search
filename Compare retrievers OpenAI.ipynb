{
 "cells": [
  {
   "cell_type": "code",
   "execution_count": 2,
   "id": "802bc414-f911-4bad-9431-e2e651aeb5c8",
   "metadata": {},
   "outputs": [
    {
     "name": "stderr",
     "output_type": "stream",
     "text": [
      "/Users/nathansmith/anaconda3/envs/chatbot/lib/python3.11/site-packages/tqdm/auto.py:21: TqdmWarning: IProgress not found. Please update jupyter and ipywidgets. See https://ipywidgets.readthedocs.io/en/stable/user_install.html\n",
      "  from .autonotebook import tqdm as notebook_tqdm\n"
     ]
    }
   ],
   "source": [
    "from langchain_openai import OpenAIEmbeddings\n",
    "from langchain_community.vectorstores.neo4j_vector import Neo4jVector\n",
    "from langchain.chains.combine_documents import create_stuff_documents_chain\n",
    "from langchain.chains import create_retrieval_chain\n",
    "from getpass import getpass\n",
    "from langchain.prompts import ChatPromptTemplate, MessagesPlaceholder, HumanMessagePromptTemplate, PromptTemplate\n",
    "from langchain import hub\n",
    "from langchain_openai import ChatOpenAI\n",
    "from graphdatascience import GraphDataScience\n",
    "import pandas as pd"
   ]
  },
  {
   "cell_type": "code",
   "execution_count": 3,
   "id": "40155249-2f11-4d97-80b4-6cc6e7e30a1c",
   "metadata": {},
   "outputs": [
    {
     "name": "stdin",
     "output_type": "stream",
     "text": [
      " ········\n"
     ]
    }
   ],
   "source": [
    "openai_api_key = getpass()"
   ]
  },
  {
   "cell_type": "code",
   "execution_count": 4,
   "id": "aa350128-8eb6-4b9f-a059-c1d6abfb2fd6",
   "metadata": {},
   "outputs": [
    {
     "name": "stdin",
     "output_type": "stream",
     "text": [
      " ········\n"
     ]
    }
   ],
   "source": [
    "neo4j_password = getpass()"
   ]
  },
  {
   "cell_type": "code",
   "execution_count": 5,
   "id": "13cdc1e9-316c-4d3b-bc8b-a7066ffed29a",
   "metadata": {},
   "outputs": [],
   "source": [
    "neo4j_uri = \"neo4j+s://2fe3bf28.databases.neo4j.io\"\n",
    "neo4j_user = \"neo4j\""
   ]
  },
  {
   "cell_type": "code",
   "execution_count": 6,
   "id": "204ae571-90a6-497d-9ce5-ab069cf52ad2",
   "metadata": {},
   "outputs": [],
   "source": [
    "gds = GraphDataScience(neo4j_uri, auth=(neo4j_user, neo4j_password))"
   ]
  },
  {
   "cell_type": "code",
   "execution_count": 1,
   "id": "1169a9e3-161e-4349-ab11-0f28573e69da",
   "metadata": {},
   "outputs": [],
   "source": [
    "def query_movies(query_string, query_type):\n",
    "    queries = {\n",
    "        \"movie\": \"\"\"\n",
    "                    WITH genai.vector.encode($queryString, \"OpenAI\", {token:$token, model: \"text-embedding-3-small\"}) as v\n",
    "                    CALL db.index.vector.queryNodes(\"movie_text_vectors\", 50, v) YIELD node, score \n",
    "                    RETURN score, node.title AS title, node.overview AS overview\n",
    "                    ORDER BY score DESC\"\"\",\n",
    "        \"theme\": \"\"\"\n",
    "                    WITH genai.vector.encode($queryString, \"OpenAI\", {token:$token, model: \"text-embedding-3-small\"}) as v\n",
    "                    CALL db.index.vector.queryNodes(\"theme_vectors\", 25, v) YIELD node, score \n",
    "                    MATCH (node)<-[:HAS_THEME]-(m)\n",
    "                    RETURN node.description AS theme, score, m.title AS title, m.overview AS overview\n",
    "                    ORDER BY score DESC\n",
    "                    LIMIT 50\n",
    "                    \"\"\",\n",
    "        \"theme_group\": \"\"\"\n",
    "                    WITH genai.vector.encode($queryString, \"OpenAI\", {token:$token, model: \"text-embedding-3-small\"}) as v\n",
    "                    CALL db.index.vector.queryNodes(\"theme_group_summary_vectors\", 25, v) YIELD node, score \n",
    "                    MATCH (node)<-[:IN_GROUP]-()<-[:HAS_THEME]-(m)\n",
    "                    RETURN node.descriptions AS themes, score, m.title AS title, m.overview AS overview\n",
    "                    ORDER BY score DESC\n",
    "                    LIMIT 50\"\"\"\n",
    "    }\n",
    "        \n",
    "    movie_df = gds.run_cypher(queries[query_type], {\"queryString\": query_string, \"token\":openai_api_key})\n",
    "    return movie_df"
   ]
  },
  {
   "cell_type": "code",
   "execution_count": 286,
   "id": "be351c08-8d97-46cd-9673-20d0ed697555",
   "metadata": {},
   "outputs": [
    {
     "name": "stderr",
     "output_type": "stream",
     "text": [
      "Warning: model not found. Using cl100k_base encoding.\n",
      "Warning: model not found. Using cl100k_base encoding.\n",
      "Warning: model not found. Using cl100k_base encoding.\n"
     ]
    }
   ],
   "source": [
    "theme_group_query = \"\"\"\n",
    "MATCH (node)<-[:IN_GROUP]-()<-[:HAS_THEME]-(m)\n",
    "WITH m, max(score) AS score, collect(node.descriptions)[0] AS themes \n",
    "RETURN m.overview AS text, score, m{.title, themes:themes} AS metadata\n",
    "ORDER BY score DESC \n",
    "LIMIT 60\n",
    "\"\"\"\n",
    "\n",
    "theme_query = \"\"\"\n",
    "MATCH (node)<-[:HAS_THEME]-(m)\n",
    "WITH m, max(score) AS score \n",
    "RETURN m.overview AS text, score, m{.title, .url} AS metadata\n",
    "ORDER BY score DESC\n",
    "limit 60\n",
    "\"\"\"\n",
    "\n",
    "movie_query = \"\"\"\n",
    "MATCH (node)\n",
    "RETURN node.overview AS text, score, node{.title, .url} AS metadata\n",
    "\"\"\"\n",
    "\n",
    "prompt = ChatPromptTemplate.from_messages([\n",
    "    (\"system\", \"\"\"You are a movie expert providing information about movies.\n",
    "                  Be as helpful as possible and return as much information as possible.\n",
    "                  Do not answer any questions that do not relate to movies.\n",
    "                  Provide your answer as a pipe-separated list of movie titles.\n",
    "                  Answer any questions based solely on the context below:\n",
    "                  <context>\n",
    "                  {context}\n",
    "                  </context>\"\"\"),\n",
    "    MessagesPlaceholder(variable_name=\"chat_history\", optional=True),\n",
    "    (\"user\", \"{input}\"),\n",
    "])\n",
    "\n",
    "movie_info_template= \"overview: {page_content}, title: {title}\"\n",
    "document_prompt = PromptTemplate(input_variables=[\"page_content\", \"title\"],\n",
    "                                 template=movie_info_template\n",
    "                                 )\n",
    "\n",
    "combine_docs_chain = create_stuff_documents_chain(\n",
    "    ChatOpenAI(temperature=0, openai_api_key=openai_api_key), prompt, document_prompt=document_prompt)\n",
    "\n",
    "\n",
    "def make_chain(query, index, k):\n",
    "    vectorstore = Neo4jVector.from_existing_index(\n",
    "        OpenAIEmbeddings(model=\"text-embedding-3-small\", openai_api_key=openai_api_key),\n",
    "        index_name=index,\n",
    "        retrieval_query=query,\n",
    "        url=neo4j_uri,\n",
    "        username=neo4j_user,\n",
    "        password=neo4j_password)\n",
    "    retriever = vectorstore.as_retriever(search_kwargs={\"k\": k})\n",
    "    chain = create_retrieval_chain(retriever, combine_docs_chain)\n",
    "    return chain\n",
    "\n",
    "movie_chain = make_chain(movie_query, \"movie_text_vectors\", 60)\n",
    "theme_chain = make_chain(theme_query, \"theme_vectors\", 10)\n",
    "theme_group_chain = make_chain(theme_group_query, \"theme_group_summary_vectors\", 5)\n"
   ]
  },
  {
   "cell_type": "code",
   "execution_count": 282,
   "id": "d68faf82-e575-4698-8f41-99d82b7e9ff2",
   "metadata": {},
   "outputs": [],
   "source": [
    "def get_selected_movies(response, query, retriever):\n",
    "    context = response['context']\n",
    "    answers = response['answer'].split(\", \")\n",
    "    movie_list = []\n",
    "    for answer in answers:\n",
    "        matched_context = [{\"title\":answer, \"overview\": doc.page_content}\n",
    "                           for doc in context if doc.metadata['title'] == answer]\n",
    "        if len(matched_context) == 1:\n",
    "            movie_list.append(matched_context[0])\n",
    "        else:\n",
    "            movie_list.append({\"title\":answer})\n",
    "    selected_movie_df = pd.DataFrame(movie_list)\n",
    "    selected_movie_df['query'] = query\n",
    "    selected_movie_df['retriever'] = retriever\n",
    "    return selected_movie_df\n",
    "\n",
    "def compare_searches(query):\n",
    "    movie_result = movie_chain.invoke({\"input\": query})\n",
    "    theme_result = theme_chain.invoke({\"input\": query})\n",
    "    theme_group_result = theme_group_chain.invoke({\"input\": query})\n",
    "    \n",
    "    movie_selected = get_selected_movies(movie_result, query, \"movie\")\n",
    "    theme_selected = get_selected_movies(theme_result, query, \"theme\")\n",
    "    theme_group_selected = get_selected_movies(theme_group_result, query, \"theme_group\")\n",
    "    selected_df = pd.concat([movie_selected, theme_selected, theme_group_selected])\n",
    "    \n",
    "    movie_set = set([document.metadata['title'] for document in movie_result['context']])\n",
    "    theme_set = set([document.metadata['title'] for document in theme_result['context']])\n",
    "    theme_group_set = set([document.metadata['title'] for document in theme_group_result['context']])\n",
    "\n",
    "    movie_only = movie_set.difference(theme_set.union(theme_group_set))\n",
    "    theme_only = theme_set.difference(movie_set.union(theme_group_set))\n",
    "    theme_group_only = theme_group_set.difference(movie_set.union(theme_set))\n",
    "    movie_theme = movie_set.intersection(theme_set).difference(theme_group_set)\n",
    "    movie_theme_group = movie_set.intersection(theme_group_set).difference(theme_set)\n",
    "    theme_theme_group = theme_set.intersection(theme_group_set).difference(movie_set)\n",
    "    all_lists = movie_set.intersection(theme_set).intersection(theme_group_set)\n",
    "    \n",
    "    output_df = pd.DataFrame()\n",
    "    output_df.loc[\"movie_answer\", \"result\"] = movie_result['answer']\n",
    "    output_df.loc[\"theme_answer\", \"result\"] = theme_result['answer']\n",
    "    output_df.loc[\"theme_group_answer\", \"result\"] = theme_group_result['answer']\n",
    "    output_df.loc[\"movie_only_context\", \"result\"] = movie_only\n",
    "    output_df.loc[\"theme_only_context\", \"result\"] = theme_only\n",
    "    output_df.loc[\"theme_group_only_context\", \"result\"] = theme_group_only\n",
    "    output_df.loc[\"movie_theme_context\", \"result\"] = movie_theme\n",
    "    output_df.loc[\"movie_theme_group_context\", \"result\"] = movie_theme_group\n",
    "    output_df.loc[\"theme_theme_group_context\", \"result\"] = theme_theme_group\n",
    "    output_df.loc[\"all_context\", \"result\"] = all_lists\n",
    "    \n",
    "    return output_df, selected_df"
   ]
  },
  {
   "cell_type": "code",
   "execution_count": 57,
   "id": "9f80ba5c-3a57-430e-a41a-720ce567cc1b",
   "metadata": {},
   "outputs": [],
   "source": [
    "pd.set_option('display.max_colwidth', None)"
   ]
  },
  {
   "cell_type": "code",
   "execution_count": 277,
   "id": "ca876b27-dec6-4490-8db6-1e7feae99150",
   "metadata": {},
   "outputs": [
    {
     "name": "stderr",
     "output_type": "stream",
     "text": [
      "Warning: model not found. Using cl100k_base encoding.\n",
      "Warning: model not found. Using cl100k_base encoding.\n",
      "Warning: model not found. Using cl100k_base encoding.\n"
     ]
    },
    {
     "data": {
      "text/html": [
       "<div>\n",
       "<style scoped>\n",
       "    .dataframe tbody tr th:only-of-type {\n",
       "        vertical-align: middle;\n",
       "    }\n",
       "\n",
       "    .dataframe tbody tr th {\n",
       "        vertical-align: top;\n",
       "    }\n",
       "\n",
       "    .dataframe thead th {\n",
       "        text-align: right;\n",
       "    }\n",
       "</style>\n",
       "<table border=\"1\" class=\"dataframe\">\n",
       "  <thead>\n",
       "    <tr style=\"text-align: right;\">\n",
       "      <th></th>\n",
       "      <th>result</th>\n",
       "    </tr>\n",
       "  </thead>\n",
       "  <tbody>\n",
       "    <tr>\n",
       "      <th>movie_answer</th>\n",
       "      <td>Pioniere der Filmmusik - Europas Sound für Hollywood | Lenechka | Symphonic Sketches | A Piano Tune | Symphony of Suffering | The Piper | IN THE BASEMENT OF APOLLO HALL | Sergey Slonimsky. Bells | Cici's Sonata | Passing Time</td>\n",
       "    </tr>\n",
       "    <tr>\n",
       "      <th>theme_answer</th>\n",
       "      <td>Symphony n. 9 by Ludwig van Beethoven in St. Mark’s Square | Als ik zelf de zon ben | Symphonic Sketches | Crescendo | Pioniere der Filmmusik - Europas Sound für Hollywood | Beautiful Pleasant Trivial | Double Around the Interlude</td>\n",
       "    </tr>\n",
       "    <tr>\n",
       "      <th>theme_group_answer</th>\n",
       "      <td>Symphony n. 9 by Ludwig van Beethoven in St. Mark’s Square | Als ik zelf de zon ben | Symphonic Sketches | Crescendo | Mozart's Requiem | The Only Girl in the Orchestra | The Orchestra Chuck Built | Celtic Woman: 20th Anniversary Show | My Favorite Things: The Rodgers &amp; Hammerstein 80th Anniversary Concert | Música! | Do You See Me? | Eye for an Eye | Femboy Beat Making: The Making of Trout Jazz | Bee's Knee's | Le Nozze Di Figaro - Opera Ballet Vlaanderen | Horrible Histories: 'Orrible Opera | Das Märchen von der Zauberflöte | Goddess of Speed | The Runaway | My Name's Ben Folds – I Play Piano | Fantasymphony II - A Concert of Fire and Magic | Nosferatu: A Symphony of Horror | American Symphony | I Hear a Symphony | Doraemon the Movie: Nobita's Earth Symphony</td>\n",
       "    </tr>\n",
       "    <tr>\n",
       "      <th>movie_only_context</th>\n",
       "      <td>{Out of Jungle, Dancing Fruit, Drift, Tempo, Greetings from Crîngași, Fuego Sagrado, Sergey Slonimsky. Bells, Casanova and The Three Graces, Poster Child, Meshes, IN THE BASEMENT OF APOLLO HALL, Chamariz, The Battle for Swan Lake, Cici's Sonata, Asfalto che suona, In The Shadow Of The Horns, The Cigarette, Vampire Stories: Bluttanz, My Fear in My Arms, Pleiades (or Going Home), Moro, Ladan, The More I Zoom in on the Image of These Dogs, The Clearer it Becomes That They Are Related to the Stars., Shards of Moon, Film Fest Gent, A Love Letter to Cinema, Untitled, The Piper, The Swell, Songs from the Hole, fly, Sanctuary, A Piano Tune, Symphony of Suffering, In the Conservatory, Milestones, Istanbul Trilogy: Music, A Slippage in Five Movements, Passing Time, Lenechka, Music Genres. Voices of the World, The Musical Mind: A Portrait in Process, echo}</td>\n",
       "    </tr>\n",
       "    <tr>\n",
       "      <th>theme_only_context</th>\n",
       "      <td>{Angelheaded Hipster: The Songs of Marc Bolan &amp; T. Rex, Double Around the Interlude, We'll be Singing by September, Vika!, The Tragic Death of a Frenchman, Pretty Ugly - The Story Of The Lunachicks, Blockbuster}</td>\n",
       "    </tr>\n",
       "    <tr>\n",
       "      <th>theme_group_only_context</th>\n",
       "      <td>{Celtic Woman: 20th Anniversary Show, Música!, Femboy Beat Making: The Making of Trout Jazz, Eye for an Eye, My Name's Ben Folds – I Play Piano, Do You See Me?, Mozart's Requiem, Bee's Knee's, American Symphony, The Orchestra Chuck Built, My Favorite Things: The Rodgers &amp; Hammerstein 80th Anniversary Concert, The Runaway, Le Nozze Di Figaro - Opera Ballet Vlaanderen, Between the Temples, Das Märchen von der Zauberflöte, The Only Girl in the Orchestra, Stars, The Devil Went Down To Islington, Horrible Histories: 'Orrible Opera, Goddess of Speed}</td>\n",
       "    </tr>\n",
       "    <tr>\n",
       "      <th>movie_theme_context</th>\n",
       "      <td>{Beautiful Pleasant Trivial, Pioniere der Filmmusik - Europas Sound für Hollywood}</td>\n",
       "    </tr>\n",
       "    <tr>\n",
       "      <th>movie_theme_group_context</th>\n",
       "      <td>{I Hear a Symphony, Nosferatu: A Symphony of Horror, Fantasymphony II - A Concert of Fire and Magic, Doraemon the Movie: Nobita's Earth Symphony}</td>\n",
       "    </tr>\n",
       "    <tr>\n",
       "      <th>theme_theme_group_context</th>\n",
       "      <td>{Crescendo, Symphony n. 9 by Ludwig van Beethoven in St. Mark’s Square, Als ik zelf de zon ben}</td>\n",
       "    </tr>\n",
       "    <tr>\n",
       "      <th>all_context</th>\n",
       "      <td>{Symphonic Sketches}</td>\n",
       "    </tr>\n",
       "  </tbody>\n",
       "</table>\n",
       "</div>"
      ],
      "text/plain": [
       "                                                                                                                                                                                                                                                                                                                                                                                                                                                                                                                                                                                                                                                                                                                                                                                                                                                                                                              result\n",
       "movie_answer                                                                                                                                                                                                                                                                                                                                                                                                                                                                                                                                                                                                                                                                       Pioniere der Filmmusik - Europas Sound für Hollywood | Lenechka | Symphonic Sketches | A Piano Tune | Symphony of Suffering | The Piper | IN THE BASEMENT OF APOLLO HALL | Sergey Slonimsky. Bells | Cici's Sonata | Passing Time\n",
       "theme_answer                                                                                                                                                                                                                                                                                                                                                                                                                                                                                                                                                                                                                                                                  Symphony n. 9 by Ludwig van Beethoven in St. Mark’s Square | Als ik zelf de zon ben | Symphonic Sketches | Crescendo | Pioniere der Filmmusik - Europas Sound für Hollywood | Beautiful Pleasant Trivial | Double Around the Interlude\n",
       "theme_group_answer                                                                                                Symphony n. 9 by Ludwig van Beethoven in St. Mark’s Square | Als ik zelf de zon ben | Symphonic Sketches | Crescendo | Mozart's Requiem | The Only Girl in the Orchestra | The Orchestra Chuck Built | Celtic Woman: 20th Anniversary Show | My Favorite Things: The Rodgers & Hammerstein 80th Anniversary Concert | Música! | Do You See Me? | Eye for an Eye | Femboy Beat Making: The Making of Trout Jazz | Bee's Knee's | Le Nozze Di Figaro - Opera Ballet Vlaanderen | Horrible Histories: 'Orrible Opera | Das Märchen von der Zauberflöte | Goddess of Speed | The Runaway | My Name's Ben Folds – I Play Piano | Fantasymphony II - A Concert of Fire and Magic | Nosferatu: A Symphony of Horror | American Symphony | I Hear a Symphony | Doraemon the Movie: Nobita's Earth Symphony\n",
       "movie_only_context         {Out of Jungle, Dancing Fruit, Drift, Tempo, Greetings from Crîngași, Fuego Sagrado, Sergey Slonimsky. Bells, Casanova and The Three Graces, Poster Child, Meshes, IN THE BASEMENT OF APOLLO HALL, Chamariz, The Battle for Swan Lake, Cici's Sonata, Asfalto che suona, In The Shadow Of The Horns, The Cigarette, Vampire Stories: Bluttanz, My Fear in My Arms, Pleiades (or Going Home), Moro, Ladan, The More I Zoom in on the Image of These Dogs, The Clearer it Becomes That They Are Related to the Stars., Shards of Moon, Film Fest Gent, A Love Letter to Cinema, Untitled, The Piper, The Swell, Songs from the Hole, fly, Sanctuary, A Piano Tune, Symphony of Suffering, In the Conservatory, Milestones, Istanbul Trilogy: Music, A Slippage in Five Movements, Passing Time, Lenechka, Music Genres. Voices of the World, The Musical Mind: A Portrait in Process, echo}\n",
       "theme_only_context                                                                                                                                                                                                                                                                                                                                                                                                                                                                                                                                                                                                                                                                               {Angelheaded Hipster: The Songs of Marc Bolan & T. Rex, Double Around the Interlude, We'll be Singing by September, Vika!, The Tragic Death of a Frenchman, Pretty Ugly - The Story Of The Lunachicks, Blockbuster}\n",
       "theme_group_only_context                                                                                                                                                                                                                                                                                                                      {Celtic Woman: 20th Anniversary Show, Música!, Femboy Beat Making: The Making of Trout Jazz, Eye for an Eye, My Name's Ben Folds – I Play Piano, Do You See Me?, Mozart's Requiem, Bee's Knee's, American Symphony, The Orchestra Chuck Built, My Favorite Things: The Rodgers & Hammerstein 80th Anniversary Concert, The Runaway, Le Nozze Di Figaro - Opera Ballet Vlaanderen, Between the Temples, Das Märchen von der Zauberflöte, The Only Girl in the Orchestra, Stars, The Devil Went Down To Islington, Horrible Histories: 'Orrible Opera, Goddess of Speed}\n",
       "movie_theme_context                                                                                                                                                                                                                                                                                                                                                                                                                                                                                                                                                                                                                                                                                                                                                                                                               {Beautiful Pleasant Trivial, Pioniere der Filmmusik - Europas Sound für Hollywood}\n",
       "movie_theme_group_context                                                                                                                                                                                                                                                                                                                                                                                                                                                                                                                                                                                                                                                                                                                                          {I Hear a Symphony, Nosferatu: A Symphony of Horror, Fantasymphony II - A Concert of Fire and Magic, Doraemon the Movie: Nobita's Earth Symphony}\n",
       "theme_theme_group_context                                                                                                                                                                                                                                                                                                                                                                                                                                                                                                                                                                                                                                                                                                                                                                                            {Crescendo, Symphony n. 9 by Ludwig van Beethoven in St. Mark’s Square, Als ik zelf de zon ben}\n",
       "all_context                                                                                                                                                                                                                                                                                                                                                                                                                                                                                                                                                                                                                                                                                                                                                                                                                                                                                     {Symphonic Sketches}"
      ]
     },
     "execution_count": 277,
     "metadata": {},
     "output_type": "execute_result"
    }
   ],
   "source": [
    "output_df, current_selected_df = compare_searches(\"What are some titles of movies about classical music?\")\n",
    "selected_df = current_selected_df\n",
    "output_df"
   ]
  },
  {
   "cell_type": "code",
   "execution_count": 265,
   "id": "490f023a-a634-4d7a-b19b-79a46edb5072",
   "metadata": {},
   "outputs": [
    {
     "name": "stderr",
     "output_type": "stream",
     "text": [
      "Warning: model not found. Using cl100k_base encoding.\n",
      "Warning: model not found. Using cl100k_base encoding.\n",
      "Warning: model not found. Using cl100k_base encoding.\n"
     ]
    },
    {
     "data": {
      "text/html": [
       "<div>\n",
       "<style scoped>\n",
       "    .dataframe tbody tr th:only-of-type {\n",
       "        vertical-align: middle;\n",
       "    }\n",
       "\n",
       "    .dataframe tbody tr th {\n",
       "        vertical-align: top;\n",
       "    }\n",
       "\n",
       "    .dataframe thead th {\n",
       "        text-align: right;\n",
       "    }\n",
       "</style>\n",
       "<table border=\"1\" class=\"dataframe\">\n",
       "  <thead>\n",
       "    <tr style=\"text-align: right;\">\n",
       "      <th></th>\n",
       "      <th>result</th>\n",
       "    </tr>\n",
       "  </thead>\n",
       "  <tbody>\n",
       "    <tr>\n",
       "      <th>movie_answer</th>\n",
       "      <td>Thunder Rolls! The World of Blind Baseball, Indoor Baseball, unDEFILED, Below the Rim, Carson Bigbee: The Pirate of America's Pastime, The Hurler: A Campion's Tale, Sole: The Movie</td>\n",
       "    </tr>\n",
       "    <tr>\n",
       "      <th>theme_answer</th>\n",
       "      <td>The Astros Edge, Shame, Smashing Pumpkins, Swimming in a Sand Pool, Consumed, Indoor Baseball, Thunder Rolls! The World of Blind Baseball</td>\n",
       "    </tr>\n",
       "    <tr>\n",
       "      <th>theme_group_answer</th>\n",
       "      <td>Carson Bigbee: The Pirate of America's Pastime, unDEFILED, Monster Under The River, Heritage Minutes: Mary \"Bonnie\" Baker, Samurai Japan: The Story Behind the WBC Clean Sweep, The Astros Edge, Shame</td>\n",
       "    </tr>\n",
       "    <tr>\n",
       "      <th>movie_only_context</th>\n",
       "      <td>{Movie (Choke), Falling in Love Like in Movies, How India Stole and Killed Cricket, Ethan the Roid Junkie, The Power of the Strike, Brothers, Groundbreakers, Below the Rim, BRADMAN: The Movie, Bowlhead, The Movie Man, Holiday Heist, Labranza, Squatch Junkies, Frank Capra: Mr. America, Young Again, The Big Catch, Blood Money, No Ball Games, Blue Star, Swing Bout, Humbly Super Famous, Shohei Ohtani: Beyond the Dream, Joe, The Hurler: A Campion's Tale, Left Brain, A Movie With No Views On Letterboxd, Sole: The Movie, Because They Believed, Butchy's Big Pitch, Kanashimi, Fuggeddaboutitt, Why Movies?, Heads and Tails, Made in Massachusetts: 100 Years of Filmmaking in the Bay State, Diamante – Fussballgott, I'll Crush Y'all, The Godfrey Project}</td>\n",
       "    </tr>\n",
       "    <tr>\n",
       "      <th>theme_only_context</th>\n",
       "      <td>{Trouble with Johnny, The Tragic Death of a Frenchman, Consumed, Swimming in a Sand Pool}</td>\n",
       "    </tr>\n",
       "    <tr>\n",
       "      <th>theme_group_only_context</th>\n",
       "      <td>{The Many Worlds of George Goodman, Divine Providence, Al Chile!, Sue Bird: In the Clutch, 5th QTR, One More Shot, Charles Barkley Comes Out, After Dawn, Wardell Stephen Curry, Out of Bounds, Heritage Minutes: Mary \"Bonnie\" Baker, The Ticket, Big Time, Giannis: The Marvelous Journey, Rudy Gobert N°27, Backboard, Leo, Pickup, Eureka, Hard Feelings, Hada, The Netflix Slam, Hoop Cities - NBA Feature Documentary, The Hoop Dreams Holiday Special, Djokovic Unmasked, Imbroda, el legado del maestro, Home and Away, Kingdome, Young Guns: The New Tennis Titans, La cancha, Rally, Dealova, Warrior Strong}</td>\n",
       "    </tr>\n",
       "    <tr>\n",
       "      <th>movie_theme_context</th>\n",
       "      <td>{Thunder Rolls! The World of Blind Baseball, Indoor Baseball}</td>\n",
       "    </tr>\n",
       "    <tr>\n",
       "      <th>movie_theme_group_context</th>\n",
       "      <td>{Lady Ballers, Iceman: A George Gervin Story, GROUNDED., Carson Bigbee: The Pirate of America's Pastime, Freaky Tales, Samurai Japan: The Story Behind the WBC Clean Sweep, Gold Blooded - NBA Feature Documentary, Monster Under The River, unDEFILED}</td>\n",
       "    </tr>\n",
       "    <tr>\n",
       "      <th>theme_theme_group_context</th>\n",
       "      <td>{Shame, Smashing Pumpkins}</td>\n",
       "    </tr>\n",
       "    <tr>\n",
       "      <th>all_context</th>\n",
       "      <td>{The Astros Edge}</td>\n",
       "    </tr>\n",
       "  </tbody>\n",
       "</table>\n",
       "</div>"
      ],
      "text/plain": [
       "                                                                                                                                                                                                                                                                                                                                                                                                                                                                                                                                                                                                                                                                                                                                                                                                  result\n",
       "movie_answer                                                                                                                                                                                                                                                                                                                                                                                                                                                                                                                                                                                                        Thunder Rolls! The World of Blind Baseball, Indoor Baseball, unDEFILED, Below the Rim, Carson Bigbee: The Pirate of America's Pastime, The Hurler: A Campion's Tale, Sole: The Movie\n",
       "theme_answer                                                                                                                                                                                                                                                                                                                                                                                                                                                                                                                                                                                                                                                   The Astros Edge, Shame, Smashing Pumpkins, Swimming in a Sand Pool, Consumed, Indoor Baseball, Thunder Rolls! The World of Blind Baseball\n",
       "theme_group_answer                                                                                                                                                                                                                                                                                                                                                                                                                                                                                                                                                                                Carson Bigbee: The Pirate of America's Pastime, unDEFILED, Monster Under The River, Heritage Minutes: Mary \"Bonnie\" Baker, Samurai Japan: The Story Behind the WBC Clean Sweep, The Astros Edge, Shame\n",
       "movie_only_context         {Movie (Choke), Falling in Love Like in Movies, How India Stole and Killed Cricket, Ethan the Roid Junkie, The Power of the Strike, Brothers, Groundbreakers, Below the Rim, BRADMAN: The Movie, Bowlhead, The Movie Man, Holiday Heist, Labranza, Squatch Junkies, Frank Capra: Mr. America, Young Again, The Big Catch, Blood Money, No Ball Games, Blue Star, Swing Bout, Humbly Super Famous, Shohei Ohtani: Beyond the Dream, Joe, The Hurler: A Campion's Tale, Left Brain, A Movie With No Views On Letterboxd, Sole: The Movie, Because They Believed, Butchy's Big Pitch, Kanashimi, Fuggeddaboutitt, Why Movies?, Heads and Tails, Made in Massachusetts: 100 Years of Filmmaking in the Bay State, Diamante – Fussballgott, I'll Crush Y'all, The Godfrey Project}\n",
       "theme_only_context                                                                                                                                                                                                                                                                                                                                                                                                                                                                                                                                                                                                                                                                                             {Trouble with Johnny, The Tragic Death of a Frenchman, Consumed, Swimming in a Sand Pool}\n",
       "theme_group_only_context                                                                                                                                                         {The Many Worlds of George Goodman, Divine Providence, Al Chile!, Sue Bird: In the Clutch, 5th QTR, One More Shot, Charles Barkley Comes Out, After Dawn, Wardell Stephen Curry, Out of Bounds, Heritage Minutes: Mary \"Bonnie\" Baker, The Ticket, Big Time, Giannis: The Marvelous Journey, Rudy Gobert N°27, Backboard, Leo, Pickup, Eureka, Hard Feelings, Hada, The Netflix Slam, Hoop Cities - NBA Feature Documentary, The Hoop Dreams Holiday Special, Djokovic Unmasked, Imbroda, el legado del maestro, Home and Away, Kingdome, Young Guns: The New Tennis Titans, La cancha, Rally, Dealova, Warrior Strong}\n",
       "movie_theme_context                                                                                                                                                                                                                                                                                                                                                                                                                                                                                                                                                                                                                                                                                                                        {Thunder Rolls! The World of Blind Baseball, Indoor Baseball}\n",
       "movie_theme_group_context                                                                                                                                                                                                                                                                                                                                                                                                                                                                                                                        {Lady Ballers, Iceman: A George Gervin Story, GROUNDED., Carson Bigbee: The Pirate of America's Pastime, Freaky Tales, Samurai Japan: The Story Behind the WBC Clean Sweep, Gold Blooded - NBA Feature Documentary, Monster Under The River, unDEFILED}\n",
       "theme_theme_group_context                                                                                                                                                                                                                                                                                                                                                                                                                                                                                                                                                                                                                                                                                                                                                     {Shame, Smashing Pumpkins}\n",
       "all_context                                                                                                                                                                                                                                                                                                                                                                                                                                                                                                                                                                                                                                                                                                                                                                            {The Astros Edge}"
      ]
     },
     "execution_count": 265,
     "metadata": {},
     "output_type": "execute_result"
    }
   ],
   "source": [
    "output_df, current_selected_df = compare_searches(\"What are some titles of movies about baseball?\")\n",
    "selected_df = pd.concat([selected_df, current_selected_df])\n",
    "output_df"
   ]
  },
  {
   "cell_type": "code",
   "execution_count": 266,
   "id": "ec850ff5-d658-4a65-9687-f0a2135b6bb2",
   "metadata": {},
   "outputs": [
    {
     "name": "stderr",
     "output_type": "stream",
     "text": [
      "Warning: model not found. Using cl100k_base encoding.\n",
      "Warning: model not found. Using cl100k_base encoding.\n",
      "Warning: model not found. Using cl100k_base encoding.\n"
     ]
    },
    {
     "data": {
      "text/html": [
       "<div>\n",
       "<style scoped>\n",
       "    .dataframe tbody tr th:only-of-type {\n",
       "        vertical-align: middle;\n",
       "    }\n",
       "\n",
       "    .dataframe tbody tr th {\n",
       "        vertical-align: top;\n",
       "    }\n",
       "\n",
       "    .dataframe thead th {\n",
       "        text-align: right;\n",
       "    }\n",
       "</style>\n",
       "<table border=\"1\" class=\"dataframe\">\n",
       "  <thead>\n",
       "    <tr style=\"text-align: right;\">\n",
       "      <th></th>\n",
       "      <th>result</th>\n",
       "    </tr>\n",
       "  </thead>\n",
       "  <tbody>\n",
       "    <tr>\n",
       "      <th>movie_answer</th>\n",
       "      <td>Liberty, Naked Nations – Tribe Hong Kong, American Outlaws, FOUR DAYS FOR FREEDOM: NAPLES 1943, If Everyone Just Leaves, The Conqueror (Hollywood Fallout), Trailer of a Film That Will Never Exist: Phony Wars, Celluloid Underground, Love of the Soviet Union, The Movie Man, Communist Osman, From 8 Movies To 1, Poor Things, Silent Cries, The Godfrey Project, Cine Libre, Why Movies?, Lines of Resistence, Nobody Leaves Alive, Fly Free, When We Return, What is the Point?, The Busy World Around Me, My Sister's Keeper, Exile, Che, Letters To Freedom, Infinity!, Showdown at the Grand, Memories, Air Force Two, Under a Blue Sun, Land of My Dreams, A Long Shot, Fly Hard, Prisoners, Waterbird, Landless, The Nice Trip, Exit, Happy Places, Kanaani, In Freedom, Kannagi</td>\n",
       "    </tr>\n",
       "    <tr>\n",
       "      <th>theme_answer</th>\n",
       "      <td>FREEDOM MAN: THE BALLAD OF THE BRICK, It's A Gray Gray World, Sabittri, The Ticket, Getting Fired From Office, Defend Your Name, Breaking the Ice, Our Land, Our Freedom, Decisions Decisions, Stamp Our Story, Code Break, My Freedom, Hunting Party, FOUR DAYS FOR FREEDOM: NAPLES 1943, Sorbeltza, Feet Fear Freedom, Rise, 4 Walls, Blue, Nyanga, Dealer, The Prince of Egypt: The Musical, The Prisoner of Wakhan, Amanita, Rencores, Ukrainian Identity, Freedom, Zindagi Zindabaad, Not Born Yesterday, Psychedelic Revolution: The Secret History of the LSD Trade, Gendelyk, Free Beats: The Musical Journey of CHEN Ming Chang, Girl, The History of Indian Elections, Transformation, Fille Fleur, Night in Newark, Boots On The Ground, Flowing - My Dream of More Freedom, El Grito De Emma, The Last Thread, No Way Through, Ex You, The Strike, Here and Nowhere, Please Look Up, Dream Kite, Bad Romance: The Vicky White Story</td>\n",
       "    </tr>\n",
       "    <tr>\n",
       "      <th>theme_group_answer</th>\n",
       "      <td>Bad Romance: The Vicky White Story, Hunting Party, Notes on a Summer, Breaking the Ice, Decisions Decisions, Stamp Our Story, Code Break, My Freedom, Rise, Metal Belt, Sorbeltza, FOUR DAYS FOR FREEDOM: NAPLES 1943, Zindagi Zindabaad, My Freedom, The Prisoner of Wakhan, Amanita, Rencores, Ukrainian Identity, Freedom, Boots On The Ground, Flowing - My Dream of More Freedom, No Way Through, Ex You, The Strike, Here and Nowhere, Beyond the Blue Border, Water under the bridge, Naked Nations – Tribe Hong Kong, Na Marei, Derwila, Getting Fired From Office</td>\n",
       "    </tr>\n",
       "    <tr>\n",
       "      <th>movie_only_context</th>\n",
       "      <td>{Movie (Choke), Nobody Leaves Alive, Silent Cries, Winner, Liberty, Celluloid Underground, Lines of Resistence, The Movie Man, Exit, Happy Places, Fly Hard, Love of the Soviet Union, Communist Osman, Kannagi, I Believe in America, Showdown at the Grand, Infinity!, Fly Free, PRODUCT, If Everyone Just Leaves, Landless, Little Death, Air Force Two, Prisoners, Poor Things, The Busy World Around Me., Cine Libre, Exile, Kanaani, Waterbird, My Sister's Keeper, From 8 Movies To 1, The Nice Trip, Memories, Under a Blue Sun, What is the Point?, Letters To Freedom, Why Movies?, When We Return, A Long Shot, The Conqueror (Hollywood Fallout), In Freedom, The Godfrey Project, Che, Trailer of a Film That Will Never Exist: Phony Wars, Land of My Dreams, American Outlaws}</td>\n",
       "    </tr>\n",
       "    <tr>\n",
       "      <th>theme_only_context</th>\n",
       "      <td>{FREEDOM MAN: THE BALLAD OF THE BRICK, The Ticket, Shyamchi Aai, Sabittri, Sedin Kuyasha Chilo, It's A Gray Gray World!}</td>\n",
       "    </tr>\n",
       "    <tr>\n",
       "      <th>theme_group_only_context</th>\n",
       "      <td>{Beyond the Blue Border, Na Marei, Water under the bridge, Outside It's Burning, Derwila}</td>\n",
       "    </tr>\n",
       "    <tr>\n",
       "      <th>movie_theme_context</th>\n",
       "      <td>{}</td>\n",
       "    </tr>\n",
       "    <tr>\n",
       "      <th>movie_theme_group_context</th>\n",
       "      <td>{Naked Nations – Tribe Hong Kong}</td>\n",
       "    </tr>\n",
       "    <tr>\n",
       "      <th>theme_theme_group_context</th>\n",
       "      <td>{Not Born Yesterday, Stamp Our Story, Dealer, The History of Indian Elections, Gendelyk, Our Land, Our Freedom, Ex You, Notes on a Summer, Bad Romance: The Vicky White Story, The Prince of Egypt: The Musical, Transformation, Amanita, Water Baby, The Prisoner of Wakhan, Please Look Up, Nyanga, Boots On The Ground, Two Balloons, Sorbeltza, 1984 at the BBC, 4 Walls, Feet Fear Freedom, Rencores, Girl, Paradise Is Burning, Zindagi Zindabaad, Psychedelic Revolution: The Secret History of the LSD Trade, Breath, Flowing - My Dream of More Freedom, Breaking the Ice, Night in Newark, Ukrainian Identity, 1989: Chceme dýchat, Feather Family, The Last Thread, The Strike, Code Break, Bloc Party: So Here We Are, Metal Belt, Fille Fleur, Ado Japan Tour 2023 \"MARS\", My Freedom, No Way Through, Free Beats: The Musical Journey of CHEN Ming Chang, El Grito De Emma, Blue, Defend Your Name, Hunting Party, Dream Kite, Decisions Decisions, Getting Fired From Office, Rise}</td>\n",
       "    </tr>\n",
       "    <tr>\n",
       "      <th>all_context</th>\n",
       "      <td>{FOUR DAYS FOR FREEDOM: NAPLES 1943, Here and Nowhere}</td>\n",
       "    </tr>\n",
       "  </tbody>\n",
       "</table>\n",
       "</div>"
      ],
      "text/plain": [
       "                                                                                                                                                                                                                                                                                                                                                                                                                                                                                                                                                                                                                                                                                                                                                                                                                                                                                                                                                                                                                       result\n",
       "movie_answer                                                                                                                                                                                                                      Liberty, Naked Nations – Tribe Hong Kong, American Outlaws, FOUR DAYS FOR FREEDOM: NAPLES 1943, If Everyone Just Leaves, The Conqueror (Hollywood Fallout), Trailer of a Film That Will Never Exist: Phony Wars, Celluloid Underground, Love of the Soviet Union, The Movie Man, Communist Osman, From 8 Movies To 1, Poor Things, Silent Cries, The Godfrey Project, Cine Libre, Why Movies?, Lines of Resistence, Nobody Leaves Alive, Fly Free, When We Return, What is the Point?, The Busy World Around Me, My Sister's Keeper, Exile, Che, Letters To Freedom, Infinity!, Showdown at the Grand, Memories, Air Force Two, Under a Blue Sun, Land of My Dreams, A Long Shot, Fly Hard, Prisoners, Waterbird, Landless, The Nice Trip, Exit, Happy Places, Kanaani, In Freedom, Kannagi\n",
       "theme_answer                                                                  FREEDOM MAN: THE BALLAD OF THE BRICK, It's A Gray Gray World, Sabittri, The Ticket, Getting Fired From Office, Defend Your Name, Breaking the Ice, Our Land, Our Freedom, Decisions Decisions, Stamp Our Story, Code Break, My Freedom, Hunting Party, FOUR DAYS FOR FREEDOM: NAPLES 1943, Sorbeltza, Feet Fear Freedom, Rise, 4 Walls, Blue, Nyanga, Dealer, The Prince of Egypt: The Musical, The Prisoner of Wakhan, Amanita, Rencores, Ukrainian Identity, Freedom, Zindagi Zindabaad, Not Born Yesterday, Psychedelic Revolution: The Secret History of the LSD Trade, Gendelyk, Free Beats: The Musical Journey of CHEN Ming Chang, Girl, The History of Indian Elections, Transformation, Fille Fleur, Night in Newark, Boots On The Ground, Flowing - My Dream of More Freedom, El Grito De Emma, The Last Thread, No Way Through, Ex You, The Strike, Here and Nowhere, Please Look Up, Dream Kite, Bad Romance: The Vicky White Story\n",
       "theme_group_answer                                                                                                                                                                                                                                                                                                                                                                                                                                 Bad Romance: The Vicky White Story, Hunting Party, Notes on a Summer, Breaking the Ice, Decisions Decisions, Stamp Our Story, Code Break, My Freedom, Rise, Metal Belt, Sorbeltza, FOUR DAYS FOR FREEDOM: NAPLES 1943, Zindagi Zindabaad, My Freedom, The Prisoner of Wakhan, Amanita, Rencores, Ukrainian Identity, Freedom, Boots On The Ground, Flowing - My Dream of More Freedom, No Way Through, Ex You, The Strike, Here and Nowhere, Beyond the Blue Border, Water under the bridge, Naked Nations – Tribe Hong Kong, Na Marei, Derwila, Getting Fired From Office\n",
       "movie_only_context                                                                                                                                                                                                              {Movie (Choke), Nobody Leaves Alive, Silent Cries, Winner, Liberty, Celluloid Underground, Lines of Resistence, The Movie Man, Exit, Happy Places, Fly Hard, Love of the Soviet Union, Communist Osman, Kannagi, I Believe in America, Showdown at the Grand, Infinity!, Fly Free, PRODUCT, If Everyone Just Leaves, Landless, Little Death, Air Force Two, Prisoners, Poor Things, The Busy World Around Me., Cine Libre, Exile, Kanaani, Waterbird, My Sister's Keeper, From 8 Movies To 1, The Nice Trip, Memories, Under a Blue Sun, What is the Point?, Letters To Freedom, Why Movies?, When We Return, A Long Shot, The Conqueror (Hollywood Fallout), In Freedom, The Godfrey Project, Che, Trailer of a Film That Will Never Exist: Phony Wars, Land of My Dreams, American Outlaws}\n",
       "theme_only_context                                                                                                                                                                                                                                                                                                                                                                                                                                                                                                                                                                                                                                                                                                                                                                                                                                                                                   {FREEDOM MAN: THE BALLAD OF THE BRICK, The Ticket, Shyamchi Aai, Sabittri, Sedin Kuyasha Chilo, It's A Gray Gray World!}\n",
       "theme_group_only_context                                                                                                                                                                                                                                                                                                                                                                                                                                                                                                                                                                                                                                                                                                                                                                                                                                                                                                            {Beyond the Blue Border, Na Marei, Water under the bridge, Outside It's Burning, Derwila}\n",
       "movie_theme_context                                                                                                                                                                                                                                                                                                                                                                                                                                                                                                                                                                                                                                                                                                                                                                                                                                                                                                                                                                                                        {}\n",
       "movie_theme_group_context                                                                                                                                                                                                                                                                                                                                                                                                                                                                                                                                                                                                                                                                                                                                                                                                                                                                                                                                                                   {Naked Nations – Tribe Hong Kong}\n",
       "theme_theme_group_context  {Not Born Yesterday, Stamp Our Story, Dealer, The History of Indian Elections, Gendelyk, Our Land, Our Freedom, Ex You, Notes on a Summer, Bad Romance: The Vicky White Story, The Prince of Egypt: The Musical, Transformation, Amanita, Water Baby, The Prisoner of Wakhan, Please Look Up, Nyanga, Boots On The Ground, Two Balloons, Sorbeltza, 1984 at the BBC, 4 Walls, Feet Fear Freedom, Rencores, Girl, Paradise Is Burning, Zindagi Zindabaad, Psychedelic Revolution: The Secret History of the LSD Trade, Breath, Flowing - My Dream of More Freedom, Breaking the Ice, Night in Newark, Ukrainian Identity, 1989: Chceme dýchat, Feather Family, The Last Thread, The Strike, Code Break, Bloc Party: So Here We Are, Metal Belt, Fille Fleur, Ado Japan Tour 2023 \"MARS\", My Freedom, No Way Through, Free Beats: The Musical Journey of CHEN Ming Chang, El Grito De Emma, Blue, Defend Your Name, Hunting Party, Dream Kite, Decisions Decisions, Getting Fired From Office, Rise}\n",
       "all_context                                                                                                                                                                                                                                                                                                                                                                                                                                                                                                                                                                                                                                                                                                                                                                                                                                                                                                                                                            {FOUR DAYS FOR FREEDOM: NAPLES 1943, Here and Nowhere}"
      ]
     },
     "execution_count": 266,
     "metadata": {},
     "output_type": "execute_result"
    }
   ],
   "source": [
    "output_df, current_selected_df = compare_searches(\"What are some movie titles about freedom?\")\n",
    "selected_df = pd.concat([selected_df, current_selected_df])\n",
    "output_df"
   ]
  },
  {
   "cell_type": "code",
   "execution_count": 267,
   "id": "29b75f70-7278-46f9-801c-f2205b9e82f7",
   "metadata": {},
   "outputs": [
    {
     "name": "stderr",
     "output_type": "stream",
     "text": [
      "Warning: model not found. Using cl100k_base encoding.\n",
      "Warning: model not found. Using cl100k_base encoding.\n",
      "Warning: model not found. Using cl100k_base encoding.\n"
     ]
    },
    {
     "data": {
      "text/html": [
       "<div>\n",
       "<style scoped>\n",
       "    .dataframe tbody tr th:only-of-type {\n",
       "        vertical-align: middle;\n",
       "    }\n",
       "\n",
       "    .dataframe tbody tr th {\n",
       "        vertical-align: top;\n",
       "    }\n",
       "\n",
       "    .dataframe thead th {\n",
       "        text-align: right;\n",
       "    }\n",
       "</style>\n",
       "<table border=\"1\" class=\"dataframe\">\n",
       "  <thead>\n",
       "    <tr style=\"text-align: right;\">\n",
       "      <th></th>\n",
       "      <th>result</th>\n",
       "    </tr>\n",
       "  </thead>\n",
       "  <tbody>\n",
       "    <tr>\n",
       "      <th>movie_answer</th>\n",
       "      <td>Night, Silence, Et Tu, Affirmations, Ab Absurdo, The Butler, End All, Say All, The Beast of Comedy, Dindin, Dead Serious, For When You Get Lost, The Roommate</td>\n",
       "    </tr>\n",
       "    <tr>\n",
       "      <th>theme_answer</th>\n",
       "      <td>Barely Breathing, Irish Catholic, End All, Say All, Dindin, Klokkenluider, Silence, Fishmonger, Død af grin, Do Not Expect Too Much from the End of the World, Natural Causes, Triple Oh!, Accessory, Sleepyhead, World's Greatest Dad, Deal of a Lifetime, Funny Not Funny, Mole, Stand-Up - My Life Is A Joke, Mike Ward : Noir, Sheryl, Death Perception, The Year of Staring at Noses, Affirmations, Eppura, Sweet Dreams, Sam Jay: Salute Me or Shoot Me, Abomination, Thiraiyin Marupakkam, Double Trouble, Anemone: A Fairy Tale for No Kids, Otto Baxter: Not A F***ing Horror Story, Should Be Long Gone, Holiday Heist, Au Revoir, Slumdogz, The Emu War, Home Town Down Time, The Moon Is Upside Down, Void, The Choice Has Been Made, Cannibal Mukbang, The Puppet Asylum, The Treasure of the Cyclops, Red Light District Shark Attack, The Happy Hotel, In Search Of...Detective Barnaby And His Descent Into The Haunted Mansion, Paranormal Drunktivity, Shaky Shivers, The Haunted Baby Carriage From Hell, Dare!, Ghost Babe, Horny Teenagers Must Die!, Chona 2: La puerca asesina</td>\n",
       "    </tr>\n",
       "    <tr>\n",
       "      <th>theme_group_answer</th>\n",
       "      <td>Dindin, Stand-Up - My Life Is A Joke, World's Greatest Dad, Silence, Død af grin, Fishmonger, Barely Breathing, Klokkenluider, Mole, With Love, from AIDAN, Do Not Expect Too Much from the End of the World, Death Perception, Home Town Down Time, Mike Ward : Noir, Accessory, The Choice Has Been Made, Funny Not Funny, Deal of a Lifetime, Natural Causes, Eppura, The Moon Is Upside Down, I'm Not a Robot, Irish Catholic, Affirmations, The Year of Staring at Noses, Abomination, Sam Jay: Salute Me or Shoot Me, Anemone: A Fairy Tale for No Kids, Sweet Dreams, Au Revoir, Slumdogz, Holiday Heist, Should Be Long Gone, Honto ni Atta! Noroi no Video 105, Honto ni Atta! Noroi no Video 104, V/H/S/85, Tenants, Chona 2: La puerca asesina, Horny Teenagers Must Die!, Ghost Babe, Dare!, The Haunted Baby Carriage From Hell, Shaky Shivers, Paranormal Drunktivity, Pinoy Ghost Tales, In Search Of...Detective Barnaby And His Descent Into The Haunted Mansion, The Happy Hotel, Red Light District Shark Attack, Dean of the Dead Presents: Holiday Horrors, Honto ni Atta! Noroi no Video 103, Otto Baxter: Not A F***ing Horror Story</td>\n",
       "    </tr>\n",
       "    <tr>\n",
       "      <th>movie_only_context</th>\n",
       "      <td>{Movie (Choke), Egun, mother, son, Comedy!, The Darker The Shadow, The Brighter The Light, Night, The Roommate, DarkGame, Dead Serious, Stitches, What's Behind You, Tastes of Horror, Et Tu, To the Brink, Into the Darkness, Kill The Lights, What the Blood Moon Brings: Messiah of Evil, A New American Nightmare, The Beast of Comedy, American Comedy, In The Shadow Of The Horns, GrimTrax, The Day Is Long and Dark, The Martini Shot, Elegy - Director's Cut, Little Death, The Butler, My Movie, For When You Get Lost, The Terror of Tarheel State: Making The Dark Power, Date Night, Ab Absurdo, Darkling, Power Cut, The Electric Fleapit, Murder In The Theater, MrMrMILKMAN in Donnie Darko, Brave the Dark, The Critic, Pattaya Explicit, What Happens in the Dark, Her Dark Reflection}</td>\n",
       "    </tr>\n",
       "    <tr>\n",
       "      <th>theme_only_context</th>\n",
       "      <td>{The Puppet Asylum, The Treasure of the Cyclops, The Emu War, Cannibal Mukbang}</td>\n",
       "    </tr>\n",
       "    <tr>\n",
       "      <th>theme_group_only_context</th>\n",
       "      <td>{I'm Not a Robot, V/H/S/85, Honto ni Atta! Noroi no Video 104, Honto ni Atta! Noroi no Video 103, With Love, from AIDAN, Honto ni Atta! Noroi no Video 105, Lessons of Tolerance, Pinoy Ghost Tales, Los, Tenants, Dean of the Dead Presents: Holiday Horrors, The End of Voyage}</td>\n",
       "    </tr>\n",
       "    <tr>\n",
       "      <th>movie_theme_context</th>\n",
       "      <td>{}</td>\n",
       "    </tr>\n",
       "    <tr>\n",
       "      <th>movie_theme_group_context</th>\n",
       "      <td>{}</td>\n",
       "    </tr>\n",
       "    <tr>\n",
       "      <th>theme_theme_group_context</th>\n",
       "      <td>{Shaky Shivers, Ghost Babe, Sleepyhead, Abomination, Double Trouble, Klokkenluider, World's Greatest Dad, Au Revoir, Slumdogz, The Choice Has Been Made, Triple Oh!, Chona 2: La puerca asesina, Thiraiyin Marupakkam, Dare!, Should Be Long Gone, Red Light District Shark Attack, Home Town Down Time, Barely Breathing, Sheryl, The Happy Hotel, Horny Teenagers Must Die!, Paranormal Drunktivity, Natural Causes, Do Not Expect Too Much from the End of the World, Deal of a Lifetime, Funny Not Funny, Fishmonger, Mole, The Moon Is Upside Down, Void, The Year of Staring at Noses, Sweet Dreams, Irish Catholic, The Haunted Baby Carriage From Hell, Mike Ward : Noir, Otto Baxter: Not A F***ing Horror Story, Eppura, Sam Jay: Salute Me or Shoot Me, Anemone: A Fairy Tale for No Kids}</td>\n",
       "    </tr>\n",
       "    <tr>\n",
       "      <th>all_context</th>\n",
       "      <td>{Accessory, Stand-Up - My Life Is A Joke, In Search Of...Detective Barnaby And His Descent Into The Haunted Mansion, Dindin, Affirmations, End All, Say All, Død af grin, Holiday Heist, Death Perception, Silence}</td>\n",
       "    </tr>\n",
       "  </tbody>\n",
       "</table>\n",
       "</div>"
      ],
      "text/plain": [
       "                                                                                                                                                                                                                                                                                                                                                                                                                                                                                                                                                                                                                                                                                                                                                                                                                                                                                                                                                                                                                                                                                                                                                                                result\n",
       "movie_answer                                                                                                                                                                                                                                                                                                                                                                                                                                                                                                                                                                                                                                                                                                                                                                                                                                                                                                                                                                                                             Night, Silence, Et Tu, Affirmations, Ab Absurdo, The Butler, End All, Say All, The Beast of Comedy, Dindin, Dead Serious, For When You Get Lost, The Roommate\n",
       "theme_answer                                                                     Barely Breathing, Irish Catholic, End All, Say All, Dindin, Klokkenluider, Silence, Fishmonger, Død af grin, Do Not Expect Too Much from the End of the World, Natural Causes, Triple Oh!, Accessory, Sleepyhead, World's Greatest Dad, Deal of a Lifetime, Funny Not Funny, Mole, Stand-Up - My Life Is A Joke, Mike Ward : Noir, Sheryl, Death Perception, The Year of Staring at Noses, Affirmations, Eppura, Sweet Dreams, Sam Jay: Salute Me or Shoot Me, Abomination, Thiraiyin Marupakkam, Double Trouble, Anemone: A Fairy Tale for No Kids, Otto Baxter: Not A F***ing Horror Story, Should Be Long Gone, Holiday Heist, Au Revoir, Slumdogz, The Emu War, Home Town Down Time, The Moon Is Upside Down, Void, The Choice Has Been Made, Cannibal Mukbang, The Puppet Asylum, The Treasure of the Cyclops, Red Light District Shark Attack, The Happy Hotel, In Search Of...Detective Barnaby And His Descent Into The Haunted Mansion, Paranormal Drunktivity, Shaky Shivers, The Haunted Baby Carriage From Hell, Dare!, Ghost Babe, Horny Teenagers Must Die!, Chona 2: La puerca asesina\n",
       "theme_group_answer         Dindin, Stand-Up - My Life Is A Joke, World's Greatest Dad, Silence, Død af grin, Fishmonger, Barely Breathing, Klokkenluider, Mole, With Love, from AIDAN, Do Not Expect Too Much from the End of the World, Death Perception, Home Town Down Time, Mike Ward : Noir, Accessory, The Choice Has Been Made, Funny Not Funny, Deal of a Lifetime, Natural Causes, Eppura, The Moon Is Upside Down, I'm Not a Robot, Irish Catholic, Affirmations, The Year of Staring at Noses, Abomination, Sam Jay: Salute Me or Shoot Me, Anemone: A Fairy Tale for No Kids, Sweet Dreams, Au Revoir, Slumdogz, Holiday Heist, Should Be Long Gone, Honto ni Atta! Noroi no Video 105, Honto ni Atta! Noroi no Video 104, V/H/S/85, Tenants, Chona 2: La puerca asesina, Horny Teenagers Must Die!, Ghost Babe, Dare!, The Haunted Baby Carriage From Hell, Shaky Shivers, Paranormal Drunktivity, Pinoy Ghost Tales, In Search Of...Detective Barnaby And His Descent Into The Haunted Mansion, The Happy Hotel, Red Light District Shark Attack, Dean of the Dead Presents: Holiday Horrors, Honto ni Atta! Noroi no Video 103, Otto Baxter: Not A F***ing Horror Story\n",
       "movie_only_context                                                                                                                                                                                                                                                                                                                                                           {Movie (Choke), Egun, mother, son, Comedy!, The Darker The Shadow, The Brighter The Light, Night, The Roommate, DarkGame, Dead Serious, Stitches, What's Behind You, Tastes of Horror, Et Tu, To the Brink, Into the Darkness, Kill The Lights, What the Blood Moon Brings: Messiah of Evil, A New American Nightmare, The Beast of Comedy, American Comedy, In The Shadow Of The Horns, GrimTrax, The Day Is Long and Dark, The Martini Shot, Elegy - Director's Cut, Little Death, The Butler, My Movie, For When You Get Lost, The Terror of Tarheel State: Making The Dark Power, Date Night, Ab Absurdo, Darkling, Power Cut, The Electric Fleapit, Murder In The Theater, MrMrMILKMAN in Donnie Darko, Brave the Dark, The Critic, Pattaya Explicit, What Happens in the Dark, Her Dark Reflection}\n",
       "theme_only_context                                                                                                                                                                                                                                                                                                                                                                                                                                                                                                                                                                                                                                                                                                                                                                                                                                                                                                                                                                                                                                                                                     {The Puppet Asylum, The Treasure of the Cyclops, The Emu War, Cannibal Mukbang}\n",
       "theme_group_only_context                                                                                                                                                                                                                                                                                                                                                                                                                                                                                                                                                                                                                                                                                                                                                                                                                                                                             {I'm Not a Robot, V/H/S/85, Honto ni Atta! Noroi no Video 104, Honto ni Atta! Noroi no Video 103, With Love, from AIDAN, Honto ni Atta! Noroi no Video 105, Lessons of Tolerance, Pinoy Ghost Tales, Los, Tenants, Dean of the Dead Presents: Holiday Horrors, The End of Voyage}\n",
       "movie_theme_context                                                                                                                                                                                                                                                                                                                                                                                                                                                                                                                                                                                                                                                                                                                                                                                                                                                                                                                                                                                                                                                                                                                                                                 {}\n",
       "movie_theme_group_context                                                                                                                                                                                                                                                                                                                                                                                                                                                                                                                                                                                                                                                                                                                                                                                                                                                                                                                                                                                                                                                                                                                                                           {}\n",
       "theme_theme_group_context                                                                                                                                                                                                                                                                                                                                                        {Shaky Shivers, Ghost Babe, Sleepyhead, Abomination, Double Trouble, Klokkenluider, World's Greatest Dad, Au Revoir, Slumdogz, The Choice Has Been Made, Triple Oh!, Chona 2: La puerca asesina, Thiraiyin Marupakkam, Dare!, Should Be Long Gone, Red Light District Shark Attack, Home Town Down Time, Barely Breathing, Sheryl, The Happy Hotel, Horny Teenagers Must Die!, Paranormal Drunktivity, Natural Causes, Do Not Expect Too Much from the End of the World, Deal of a Lifetime, Funny Not Funny, Fishmonger, Mole, The Moon Is Upside Down, Void, The Year of Staring at Noses, Sweet Dreams, Irish Catholic, The Haunted Baby Carriage From Hell, Mike Ward : Noir, Otto Baxter: Not A F***ing Horror Story, Eppura, Sam Jay: Salute Me or Shoot Me, Anemone: A Fairy Tale for No Kids}\n",
       "all_context                                                                                                                                                                                                                                                                                                                                                                                                                                                                                                                                                                                                                                                                                                                                                                                                                                                                                                                                                        {Accessory, Stand-Up - My Life Is A Joke, In Search Of...Detective Barnaby And His Descent Into The Haunted Mansion, Dindin, Affirmations, End All, Say All, Død af grin, Holiday Heist, Death Perception, Silence}"
      ]
     },
     "execution_count": 267,
     "metadata": {},
     "output_type": "execute_result"
    }
   ],
   "source": [
    "output_df, current_selected_df = compare_searches(\"What are some titles of dark comedy movies?\")\n",
    "selected_df = pd.concat([selected_df, current_selected_df])\n",
    "output_df"
   ]
  },
  {
   "cell_type": "code",
   "execution_count": 268,
   "id": "24ad987a-e10f-41f0-a645-bb4d399090be",
   "metadata": {},
   "outputs": [
    {
     "name": "stderr",
     "output_type": "stream",
     "text": [
      "Warning: model not found. Using cl100k_base encoding.\n",
      "Warning: model not found. Using cl100k_base encoding.\n",
      "Warning: model not found. Using cl100k_base encoding.\n"
     ]
    },
    {
     "data": {
      "text/html": [
       "<div>\n",
       "<style scoped>\n",
       "    .dataframe tbody tr th:only-of-type {\n",
       "        vertical-align: middle;\n",
       "    }\n",
       "\n",
       "    .dataframe tbody tr th {\n",
       "        vertical-align: top;\n",
       "    }\n",
       "\n",
       "    .dataframe thead th {\n",
       "        text-align: right;\n",
       "    }\n",
       "</style>\n",
       "<table border=\"1\" class=\"dataframe\">\n",
       "  <thead>\n",
       "    <tr style=\"text-align: right;\">\n",
       "      <th></th>\n",
       "      <th>result</th>\n",
       "    </tr>\n",
       "  </thead>\n",
       "  <tbody>\n",
       "    <tr>\n",
       "      <th>movie_answer</th>\n",
       "      <td>The Diary of Sisyphus, Synthesis, Original Short Film, The Conscious \"I\", Mad Scientists: A.I. Maxima, 3 Dialogues About the Future, The Creator, William Quail’s Pyramid, Fair Weather Friends, A.I. Perversion, Flash Wars - Autonomous Weapons, A.I. and the Future of Warfare, To Live and Die in AI, Blue Fire, Primacy, Ilya, AI Lobotomy, 512X512, Double iSmart, Cyborg Society, Love Machina, Human or AI? The future of beauty standards, 4°C, EDDY BAIR, T-130, The Perfect Human, Telephones 4 Eyes, The Electric Kiss, Literally No Place, Sci-fi Silence, Two Gracious Uncles Smooched to the Beat, To The Future: The Movie, Deep Fake Love, The Beast, Teri Baaton Mein Aisa Uljha Jiya, The Vivid Unknown, AIMEE: The Visitor, A.I. Made Me Do It: Ophelia, Cosmic Miniatures, Storyteller, H-151: Perfect Machine, Aire: Just Breathe, Intercept: A Century of Signals Intelligence, Death Cleaning, Impossible Decision</td>\n",
       "    </tr>\n",
       "    <tr>\n",
       "      <th>theme_answer</th>\n",
       "      <td>CCC, Lady, Primacy, You Are Human, and You Are Lover, Landless, Illusions of Movement, Pesudo, So Unreal, CAPTCHA, The Creator, The Female Side Effect, 3 Dialogues About the Future, Love Me, The Beast, i ai, Cyborg Society, Blue Fire, H.O.M.E., Lights Over Montgomery County, Two Gracious Uncles Smooched to the Beat, A.I. Perversion, Cybergrime, The Conscious \"I\", Ilya, Love Machina, Sucker, Mad Scientists: A.I. Maxima, Bell Jingler 2023</td>\n",
       "    </tr>\n",
       "    <tr>\n",
       "      <th>theme_group_answer</th>\n",
       "      <td>CCC, The Perfect Human, CAPTCHA, i ai, The Beast, So Unreal, The Female Side Effect, Mad Scientists: A.I. Maxima, Lady, Cyborg Society, Pesudo, Illusions of Movement, 3 Dialogues About the Future, Love Me, You Are Human, and You Are Lover, Primacy, The Creator, Ilya, Landless, The Electric Kiss, Flash Wars - Autonomous Weapons, A.I. and the Future of Warfare, Smog, EDDY BAIR, Whisper of a Butterfly, Synthesis, Agents, A.I. Made Me Do It: Ophelia, Exit Pangea, Artificial Intelligence, 2023, 4°C, Fair Weather Friends, AIMEE: The Visitor, AI History 1890-2090, To Live and Die in AI, Dotty and the Tower of Eternity, The AI Report, A Tree Once Grew Here, Ghost in the Shell: SAC_2045 The Last Human, Voice in My Head, With Love, from AIDAN, Cosmic Miniatures, Aire: Just Breathe, MOVE, Literally No Place, Human or AI? The future of beauty standards, Storyteller, AI Lobotomy, Cybergrime, A.I. Perversion, Two Gracious Uncles Smooched to the Beat, Lights Over Montgomery County, H.O.M.E., Blue Fire, JUST DESSERTS, The Conscious \"I\", Sucker, Motherboard, Mis-Alignment, Taeter Burger, 21.10.23</td>\n",
       "    </tr>\n",
       "    <tr>\n",
       "      <th>movie_only_context</th>\n",
       "      <td>{William Quail’s Pyramid, Intercept: A Century of Signals Intelligence, Double iSmart, Impossible Decision, T-130, Death Cleaning, To The Future: The Movie, The Vivid Unknown, The Diary of Sisyphus, 512X512, Sci-fi Silence, H-151: Perfect Machine, Telephones 4 Eyes, Teri Baaton Mein Aisa Uljha Jiya, Original Short Film, Deep Fake Love}</td>\n",
       "    </tr>\n",
       "    <tr>\n",
       "      <th>theme_only_context</th>\n",
       "      <td>{Bell Jingler 2023}</td>\n",
       "    </tr>\n",
       "    <tr>\n",
       "      <th>theme_group_only_context</th>\n",
       "      <td>{Voice in My Head, Dotty and the Tower of Eternity, Mis-Alignment, Motherboard, Whisper of a Butterfly, Taeter Burger, Smog, Ghost in the Shell: SAC_2045 The Last Human, Agents, A Tree Once Grew Here, Exit Pangea, JUST DESSERTS, MOVE, 21.10.23}</td>\n",
       "    </tr>\n",
       "    <tr>\n",
       "      <th>movie_theme_context</th>\n",
       "      <td>{Love Machina}</td>\n",
       "    </tr>\n",
       "    <tr>\n",
       "      <th>movie_theme_group_context</th>\n",
       "      <td>{Artificial Intelligence, 2023, Human or AI? The future of beauty standards, Aire: Just Breathe, Synthesis, Storyteller, AI Lobotomy, The Perfect Human, The Electric Kiss, Fair Weather Friends, With Love, from AIDAN, Cosmic Miniatures, 4°C, Literally No Place, Flash Wars - Autonomous Weapons, A.I. and the Future of Warfare, A.I. Made Me Do It: Ophelia, EDDY BAIR, The AI Report, AIMEE: The Visitor, AI History 1890-2090, To Live and Die in AI}</td>\n",
       "    </tr>\n",
       "    <tr>\n",
       "      <th>theme_theme_group_context</th>\n",
       "      <td>{CAPTCHA, Lady, Landless, Lights Over Montgomery County, i ai, CCC, Pesudo, Sucker, H.O.M.E., You Are Human, and You Are Lover, The Female Side Effect, Love Me, Cybergrime}</td>\n",
       "    </tr>\n",
       "    <tr>\n",
       "      <th>all_context</th>\n",
       "      <td>{A.I. Perversion, The Conscious \"I\", The Beast, Primacy, Blue Fire, 3 Dialogues About the Future, Ilya, So Unreal, Mad Scientists: A.I. Maxima, Illusions of Movement, The Creator, Cyborg Society, Two Gracious Uncles Smooched to the Beat}</td>\n",
       "    </tr>\n",
       "  </tbody>\n",
       "</table>\n",
       "</div>"
      ],
      "text/plain": [
       "                                                                                                                                                                                                                                                                                                                                                                                                                                                                                                                                                                                                                                                                                                                                                                                                                                                                                                                                                                                                                                                                                                                                                             result\n",
       "movie_answer                                                                                                                                                                                                             The Diary of Sisyphus, Synthesis, Original Short Film, The Conscious \"I\", Mad Scientists: A.I. Maxima, 3 Dialogues About the Future, The Creator, William Quail’s Pyramid, Fair Weather Friends, A.I. Perversion, Flash Wars - Autonomous Weapons, A.I. and the Future of Warfare, To Live and Die in AI, Blue Fire, Primacy, Ilya, AI Lobotomy, 512X512, Double iSmart, Cyborg Society, Love Machina, Human or AI? The future of beauty standards, 4°C, EDDY BAIR, T-130, The Perfect Human, Telephones 4 Eyes, The Electric Kiss, Literally No Place, Sci-fi Silence, Two Gracious Uncles Smooched to the Beat, To The Future: The Movie, Deep Fake Love, The Beast, Teri Baaton Mein Aisa Uljha Jiya, The Vivid Unknown, AIMEE: The Visitor, A.I. Made Me Do It: Ophelia, Cosmic Miniatures, Storyteller, H-151: Perfect Machine, Aire: Just Breathe, Intercept: A Century of Signals Intelligence, Death Cleaning, Impossible Decision\n",
       "theme_answer                                                                                                                                                                                                                                                                                                                                                                                                                                                                                                                                                                                                                                                                                               CCC, Lady, Primacy, You Are Human, and You Are Lover, Landless, Illusions of Movement, Pesudo, So Unreal, CAPTCHA, The Creator, The Female Side Effect, 3 Dialogues About the Future, Love Me, The Beast, i ai, Cyborg Society, Blue Fire, H.O.M.E., Lights Over Montgomery County, Two Gracious Uncles Smooched to the Beat, A.I. Perversion, Cybergrime, The Conscious \"I\", Ilya, Love Machina, Sucker, Mad Scientists: A.I. Maxima, Bell Jingler 2023\n",
       "theme_group_answer         CCC, The Perfect Human, CAPTCHA, i ai, The Beast, So Unreal, The Female Side Effect, Mad Scientists: A.I. Maxima, Lady, Cyborg Society, Pesudo, Illusions of Movement, 3 Dialogues About the Future, Love Me, You Are Human, and You Are Lover, Primacy, The Creator, Ilya, Landless, The Electric Kiss, Flash Wars - Autonomous Weapons, A.I. and the Future of Warfare, Smog, EDDY BAIR, Whisper of a Butterfly, Synthesis, Agents, A.I. Made Me Do It: Ophelia, Exit Pangea, Artificial Intelligence, 2023, 4°C, Fair Weather Friends, AIMEE: The Visitor, AI History 1890-2090, To Live and Die in AI, Dotty and the Tower of Eternity, The AI Report, A Tree Once Grew Here, Ghost in the Shell: SAC_2045 The Last Human, Voice in My Head, With Love, from AIDAN, Cosmic Miniatures, Aire: Just Breathe, MOVE, Literally No Place, Human or AI? The future of beauty standards, Storyteller, AI Lobotomy, Cybergrime, A.I. Perversion, Two Gracious Uncles Smooched to the Beat, Lights Over Montgomery County, H.O.M.E., Blue Fire, JUST DESSERTS, The Conscious \"I\", Sucker, Motherboard, Mis-Alignment, Taeter Burger, 21.10.23\n",
       "movie_only_context                                                                                                                                                                                                                                                                                                                                                                                                                                                                                                                                                                                                                                                                                                                                                                                                {William Quail’s Pyramid, Intercept: A Century of Signals Intelligence, Double iSmart, Impossible Decision, T-130, Death Cleaning, To The Future: The Movie, The Vivid Unknown, The Diary of Sisyphus, 512X512, Sci-fi Silence, H-151: Perfect Machine, Telephones 4 Eyes, Teri Baaton Mein Aisa Uljha Jiya, Original Short Film, Deep Fake Love}\n",
       "theme_only_context                                                                                                                                                                                                                                                                                                                                                                                                                                                                                                                                                                                                                                                                                                                                                                                                                                                                                                                                                                                                                                                                                                                              {Bell Jingler 2023}\n",
       "theme_group_only_context                                                                                                                                                                                                                                                                                                                                                                                                                                                                                                                                                                                                                                                                                                                                                                                                                                                                                       {Voice in My Head, Dotty and the Tower of Eternity, Mis-Alignment, Motherboard, Whisper of a Butterfly, Taeter Burger, Smog, Ghost in the Shell: SAC_2045 The Last Human, Agents, A Tree Once Grew Here, Exit Pangea, JUST DESSERTS, MOVE, 21.10.23}\n",
       "movie_theme_context                                                                                                                                                                                                                                                                                                                                                                                                                                                                                                                                                                                                                                                                                                                                                                                                                                                                                                                                                                                                                                                                                                                                  {Love Machina}\n",
       "movie_theme_group_context                                                                                                                                                                                                                                                                                                                                                                                                                                                                                                                                                                                                                                                                             {Artificial Intelligence, 2023, Human or AI? The future of beauty standards, Aire: Just Breathe, Synthesis, Storyteller, AI Lobotomy, The Perfect Human, The Electric Kiss, Fair Weather Friends, With Love, from AIDAN, Cosmic Miniatures, 4°C, Literally No Place, Flash Wars - Autonomous Weapons, A.I. and the Future of Warfare, A.I. Made Me Do It: Ophelia, EDDY BAIR, The AI Report, AIMEE: The Visitor, AI History 1890-2090, To Live and Die in AI}\n",
       "theme_theme_group_context                                                                                                                                                                                                                                                                                                                                                                                                                                                                                                                                                                                                                                                                                                                                                                                                                                                                                                                                                              {CAPTCHA, Lady, Landless, Lights Over Montgomery County, i ai, CCC, Pesudo, Sucker, H.O.M.E., You Are Human, and You Are Lover, The Female Side Effect, Love Me, Cybergrime}\n",
       "all_context                                                                                                                                                                                                                                                                                                                                                                                                                                                                                                                                                                                                                                                                                                                                                                                                                                                                                                           {A.I. Perversion, The Conscious \"I\", The Beast, Primacy, Blue Fire, 3 Dialogues About the Future, Ilya, So Unreal, Mad Scientists: A.I. Maxima, Illusions of Movement, The Creator, Cyborg Society, Two Gracious Uncles Smooched to the Beat}"
      ]
     },
     "execution_count": 268,
     "metadata": {},
     "output_type": "execute_result"
    }
   ],
   "source": [
    "output_df, current_selected_df = compare_searches(\"What are some movies about artificial intelligence?\")\n",
    "selected_df = pd.concat([selected_df, current_selected_df])\n",
    "output_df"
   ]
  },
  {
   "cell_type": "code",
   "execution_count": 269,
   "id": "23a4fc12-5f2a-49b1-8344-d500958c0bf8",
   "metadata": {},
   "outputs": [
    {
     "name": "stderr",
     "output_type": "stream",
     "text": [
      "Warning: model not found. Using cl100k_base encoding.\n",
      "Warning: model not found. Using cl100k_base encoding.\n",
      "Warning: model not found. Using cl100k_base encoding.\n"
     ]
    },
    {
     "data": {
      "text/html": [
       "<div>\n",
       "<style scoped>\n",
       "    .dataframe tbody tr th:only-of-type {\n",
       "        vertical-align: middle;\n",
       "    }\n",
       "\n",
       "    .dataframe tbody tr th {\n",
       "        vertical-align: top;\n",
       "    }\n",
       "\n",
       "    .dataframe thead th {\n",
       "        text-align: right;\n",
       "    }\n",
       "</style>\n",
       "<table border=\"1\" class=\"dataframe\">\n",
       "  <thead>\n",
       "    <tr style=\"text-align: right;\">\n",
       "      <th></th>\n",
       "      <th>result</th>\n",
       "    </tr>\n",
       "  </thead>\n",
       "  <tbody>\n",
       "    <tr>\n",
       "      <th>movie_answer</th>\n",
       "      <td>The Boyz, A Boy and a Girl, Letters Home, Lunar Oddities, Little Hollywood, The Tree Without Leaves, Into the Wild, Strawberry Fields Forever, Far From the Tree, Drugstore June, Golden City, The Garage, LOCALS, Rabbit Hole, Salman Society, Not Friends, Tyler, Skive, Life Inside the Seed, Ten Years, Ripples of Life, Happy Holla Day, Lost in the Night, Dasama, 8mm Boys, Five More Minutes, Woolly, Freaky Tales, Old Fox, Here and Nowhere, Pillow Talk, Lantrani, A Small Town Christmas, Happy Campers, Growing Up Green, The Boy from Lookout Mountain, The Old Man and The Land, Ein kleines Stück Kohle, Prisoners, Moving On, Old Times, Runaway</td>\n",
       "    </tr>\n",
       "    <tr>\n",
       "      <th>theme_answer</th>\n",
       "      <td>Smalltown Beast, That's How It Is, The Tree Without Leaves, Born Crying, The Yardley Boys, Lost in the Night, Sticky Fingers, The B in LGBT, The Pumpkin Man, Amandla, The Ridge Grave Girls</td>\n",
       "    </tr>\n",
       "    <tr>\n",
       "      <th>theme_group_answer</th>\n",
       "      <td>Sticky Fingers, The Yardley Boys, Warrior Strong, Hellcat, The B in LGBT, Takeshi, Amandla, Escape the Usual, Far From the Tree, Troublesome Creek, Lonely, A Harvest Homecoming, The Christmas Classic</td>\n",
       "    </tr>\n",
       "    <tr>\n",
       "      <th>movie_only_context</th>\n",
       "      <td>{Ein kleines Stück Kohle, The Boy from Lookout Mountain, Little Hollywood, Strawberry Fields Forever, Good Times, Tyler, Golden City, Here and Nowhere, Ten Years, Period, Dasama, A Small Town Christmas, Old Fox, Freaky Tales, Growing Up Green, Not Friends, Lantrani, The Old Man and The Land, A Boy and a Girl, Where the Tumbleweeds Grow, The Fell We Climb, 8mm Boys, Lunar Oddities, LOCALS, Little Death, Happy Holla Day, Prisoners, Skive, Into the Wild, Runaway, The Boyz, Salman Society, Pillow Talk, Woolly, Rabbit Hole, Drugstore June, Letters Home, Moving On, The Garage, Old Times, Happy Campers, The Godfrey Project, Life Inside the Seed, Five More Minutes}</td>\n",
       "    </tr>\n",
       "    <tr>\n",
       "      <th>theme_only_context</th>\n",
       "      <td>{Pet Sematary: Bloodlines, Öğretmen, Smalltown Beast, A Cowboy Christmas, Bizkarsoro, Kanni, Hometown Prison, Frogs, Meet Me at the Christmas Train Parade, Rickerl – Musik is höchstens a Hobby, Les més grans, Record Without Words, Samosa &amp; Sons, Die Drei von der Müllabfuhr - Altlasten, Born Crying}</td>\n",
       "    </tr>\n",
       "    <tr>\n",
       "      <th>theme_group_only_context</th>\n",
       "      <td>{Fruit of the Poisonous Tree, Yaan Superstar, Pushing, Takeshi, Barkley Dubis' Danse Macabre, Troublesome Creek, Mavera, Nadhikalil Sundari Yamuna, Trueville: The Hole Story, Lonely, A Harvest Homecoming, Who's Yer Father?, Pimpi, Escape the Usual, Mark of the Werebeard, The Great Indian Family, Kahi De Ne Prem Chhe}</td>\n",
       "    </tr>\n",
       "    <tr>\n",
       "      <th>movie_theme_context</th>\n",
       "      <td>{Lost in the Night, That's How It Is, The Tree Without Leaves}</td>\n",
       "    </tr>\n",
       "    <tr>\n",
       "      <th>movie_theme_group_context</th>\n",
       "      <td>{Far From the Tree}</td>\n",
       "    </tr>\n",
       "    <tr>\n",
       "      <th>theme_theme_group_context</th>\n",
       "      <td>{The Pumpkin Man, Cooper Studios' Scream, Yuletide the Knot, HockeyTown Hoedown, Amandla, A Gluten-Free Christmas, The Yardley Boys, Field Day, Torn Heaven, Wild Woman, Christmas with a Kiss, ¿Quién es Keili González?, The White Crows, Adire, At The Roadhouse, Axeman at Cutters Creek 2, CHUM!, Holidays, River of Ghosts, The B in LGBT, The Perfect In-Laws, Mystery on Mistletoe Lane, La Suprema, Where the Cold Wind Blows, Squealer, Youth Haunted: Return of the Phantom Driver, A Town Called Love, Hellcat, The Ridge Grave Girls, Red Right Hand, The Christmas Classic, Me &amp; Her, Whisky Business, Time for Her to Come Home for Christmas, The Naughty List, Zombie Town, To All a Good Night, Hotel Gran Victoria, Warrior Strong, Hello Stranger}</td>\n",
       "    </tr>\n",
       "    <tr>\n",
       "      <th>all_context</th>\n",
       "      <td>{Sticky Fingers, Ripples of Life}</td>\n",
       "    </tr>\n",
       "  </tbody>\n",
       "</table>\n",
       "</div>"
      ],
      "text/plain": [
       "                                                                                                                                                                                                                                                                                                                                                                                                                                                                                                                                                                                                                                                                                                                                                                                           result\n",
       "movie_answer                                                                                                                    The Boyz, A Boy and a Girl, Letters Home, Lunar Oddities, Little Hollywood, The Tree Without Leaves, Into the Wild, Strawberry Fields Forever, Far From the Tree, Drugstore June, Golden City, The Garage, LOCALS, Rabbit Hole, Salman Society, Not Friends, Tyler, Skive, Life Inside the Seed, Ten Years, Ripples of Life, Happy Holla Day, Lost in the Night, Dasama, 8mm Boys, Five More Minutes, Woolly, Freaky Tales, Old Fox, Here and Nowhere, Pillow Talk, Lantrani, A Small Town Christmas, Happy Campers, Growing Up Green, The Boy from Lookout Mountain, The Old Man and The Land, Ein kleines Stück Kohle, Prisoners, Moving On, Old Times, Runaway\n",
       "theme_answer                                                                                                                                                                                                                                                                                                                                                                                                                                                                                                                                                                                         Smalltown Beast, That's How It Is, The Tree Without Leaves, Born Crying, The Yardley Boys, Lost in the Night, Sticky Fingers, The B in LGBT, The Pumpkin Man, Amandla, The Ridge Grave Girls\n",
       "theme_group_answer                                                                                                                                                                                                                                                                                                                                                                                                                                                                                                                                                                        Sticky Fingers, The Yardley Boys, Warrior Strong, Hellcat, The B in LGBT, Takeshi, Amandla, Escape the Usual, Far From the Tree, Troublesome Creek, Lonely, A Harvest Homecoming, The Christmas Classic\n",
       "movie_only_context                                                                                      {Ein kleines Stück Kohle, The Boy from Lookout Mountain, Little Hollywood, Strawberry Fields Forever, Good Times, Tyler, Golden City, Here and Nowhere, Ten Years, Period, Dasama, A Small Town Christmas, Old Fox, Freaky Tales, Growing Up Green, Not Friends, Lantrani, The Old Man and The Land, A Boy and a Girl, Where the Tumbleweeds Grow, The Fell We Climb, 8mm Boys, Lunar Oddities, LOCALS, Little Death, Happy Holla Day, Prisoners, Skive, Into the Wild, Runaway, The Boyz, Salman Society, Pillow Talk, Woolly, Rabbit Hole, Drugstore June, Letters Home, Moving On, The Garage, Old Times, Happy Campers, The Godfrey Project, Life Inside the Seed, Five More Minutes}\n",
       "theme_only_context                                                                                                                                                                                                                                                                                                                                                                                                                                                                    {Pet Sematary: Bloodlines, Öğretmen, Smalltown Beast, A Cowboy Christmas, Bizkarsoro, Kanni, Hometown Prison, Frogs, Meet Me at the Christmas Train Parade, Rickerl – Musik is höchstens a Hobby, Les més grans, Record Without Words, Samosa & Sons, Die Drei von der Müllabfuhr - Altlasten, Born Crying}\n",
       "theme_group_only_context                                                                                                                                                                                                                                                                                                                                                                                                                                           {Fruit of the Poisonous Tree, Yaan Superstar, Pushing, Takeshi, Barkley Dubis' Danse Macabre, Troublesome Creek, Mavera, Nadhikalil Sundari Yamuna, Trueville: The Hole Story, Lonely, A Harvest Homecoming, Who's Yer Father?, Pimpi, Escape the Usual, Mark of the Werebeard, The Great Indian Family, Kahi De Ne Prem Chhe}\n",
       "movie_theme_context                                                                                                                                                                                                                                                                                                                                                                                                                                                                                                                                                                                                                                                                                                                {Lost in the Night, That's How It Is, The Tree Without Leaves}\n",
       "movie_theme_group_context                                                                                                                                                                                                                                                                                                                                                                                                                                                                                                                                                                                                                                                                                                                                                     {Far From the Tree}\n",
       "theme_theme_group_context  {The Pumpkin Man, Cooper Studios' Scream, Yuletide the Knot, HockeyTown Hoedown, Amandla, A Gluten-Free Christmas, The Yardley Boys, Field Day, Torn Heaven, Wild Woman, Christmas with a Kiss, ¿Quién es Keili González?, The White Crows, Adire, At The Roadhouse, Axeman at Cutters Creek 2, CHUM!, Holidays, River of Ghosts, The B in LGBT, The Perfect In-Laws, Mystery on Mistletoe Lane, La Suprema, Where the Cold Wind Blows, Squealer, Youth Haunted: Return of the Phantom Driver, A Town Called Love, Hellcat, The Ridge Grave Girls, Red Right Hand, The Christmas Classic, Me & Her, Whisky Business, Time for Her to Come Home for Christmas, The Naughty List, Zombie Town, To All a Good Night, Hotel Gran Victoria, Warrior Strong, Hello Stranger}\n",
       "all_context                                                                                                                                                                                                                                                                                                                                                                                                                                                                                                                                                                                                                                                                                                                                                     {Sticky Fingers, Ripples of Life}"
      ]
     },
     "execution_count": 269,
     "metadata": {},
     "output_type": "execute_result"
    }
   ],
   "source": [
    "output_df, current_selected_df = compare_searches(\"What are some movies about growing up in a small town?\")\n",
    "selected_df = pd.concat([selected_df, current_selected_df])\n",
    "output_df"
   ]
  },
  {
   "cell_type": "code",
   "execution_count": 270,
   "id": "d0c38346-b2cc-4628-9e5a-b1404c539af5",
   "metadata": {},
   "outputs": [
    {
     "name": "stderr",
     "output_type": "stream",
     "text": [
      "Warning: model not found. Using cl100k_base encoding.\n",
      "Warning: model not found. Using cl100k_base encoding.\n",
      "Warning: model not found. Using cl100k_base encoding.\n"
     ]
    },
    {
     "data": {
      "text/html": [
       "<div>\n",
       "<style scoped>\n",
       "    .dataframe tbody tr th:only-of-type {\n",
       "        vertical-align: middle;\n",
       "    }\n",
       "\n",
       "    .dataframe tbody tr th {\n",
       "        vertical-align: top;\n",
       "    }\n",
       "\n",
       "    .dataframe thead th {\n",
       "        text-align: right;\n",
       "    }\n",
       "</style>\n",
       "<table border=\"1\" class=\"dataframe\">\n",
       "  <thead>\n",
       "    <tr style=\"text-align: right;\">\n",
       "      <th></th>\n",
       "      <th>result</th>\n",
       "    </tr>\n",
       "  </thead>\n",
       "  <tbody>\n",
       "    <tr>\n",
       "      <th>movie_answer</th>\n",
       "      <td>Thanksgiving, Giving Thanks, Turkey Trouble, A Thanksgiving Christmas, Thanksgiving Roast 2, When the Trash Man Knocks, How to Ruin the Holidays</td>\n",
       "    </tr>\n",
       "    <tr>\n",
       "      <th>theme_answer</th>\n",
       "      <td>Giving Thanks, Thanksgiving Roast 2, A Thanksgiving Christmas, Turkey Trouble</td>\n",
       "    </tr>\n",
       "    <tr>\n",
       "      <th>theme_group_answer</th>\n",
       "      <td>When the Trash Man Knocks, Giving Thanks, Thanksgiving, Holiday Boyfriend, Thanksgiving Roast 2, A Thanksgiving Christmas</td>\n",
       "    </tr>\n",
       "    <tr>\n",
       "      <th>movie_only_context</th>\n",
       "      <td>{How to Ruin the Holidays, Family Ornaments, Istanbul Trilogy: Meze, The Poker Night, The Last Dinner, El banquete, The Departure, Holiday Road, Holiday Heist, The Last Supper, A Home for the Holidays, Dindin, Christmas with the Foxes, A Christmas Movie, Carmen &amp; Moony, Dinner Time, A restaurant, a mouse, a dead man, a very particular family and a rainy dark night..., Renters: The Holiday Special, Happy Holla Day, Stir, The Ravioli Movie, The Amityville Whorror, The Hoop Dreams Holiday Special, The Holdovers, Momma Said Come Home For Christmas, The Role, The Perfect Christmas, Family Photo, Moving, Tomb Sweeping, Picking Mangoes, Going Home, Titanic, Suitable Version for Iranian Families, Whirlwind, El sabor de la Navidad, A Perfect Christmas Carol, Whatever It Takes, A Gettysburg Christmas, Table for Six 2, Christmas with Jerks, Pun Intended}</td>\n",
       "    </tr>\n",
       "    <tr>\n",
       "      <th>theme_only_context</th>\n",
       "      <td>{The Holiday Proposal Plan, Barry Manilow's A Very Barry Christmas, Dealing with Christmas, 'Twas the Text Before Christmas, Country Hearts Christmas, The Unofficial Science of Die Hard, Trouble with Johnny, I Love Nancy Meyers, A Biltmore Christmas}</td>\n",
       "    </tr>\n",
       "    <tr>\n",
       "      <th>theme_group_only_context</th>\n",
       "      <td>{Pokémon Original Short Animation: Homecoming, The Many Worlds of George Goodman, Guess Who, Noël Joyeux, Month of Madhu, Only Love Matters, My Big Fat Greek Wedding 3, Such a Lovely Day, André Rieu's White Christmas, Haul Out the Holly: Lit Up, Honeybun, No Love Lost, Never Been Chris'd, On the Shore, Locked Up, Marimacha, A Very Demi Holiday Special, Animal Crossing Christmas Festival: The Movie!, Lord Mayor's Christmas Carols, A Christmas for the Ages, Wide Closed, A Day and a Half, Christmas at Carbell Family Farm, Blood Actually: A Murder, They Hope Mystery, Holidays, Snot and Splash, The Ghost Lullaby, Nigella’s Amsterdam Christmas, Million to One, Big Brood, Leave, Thus Love Me, Enough for Now, Friends &amp; Family Christmas, Mystic Christmas, Did You See The Hole That Mom Dig?, The Wasp and the Orchid, The Hatchling, Legend of El Cucuy, Ambrosia, A Spectacle, Heat Wave, Keys to the Heart, Figs, Band Four, Letters to Santa, Life and Death of a Christmas Tree}</td>\n",
       "    </tr>\n",
       "    <tr>\n",
       "      <th>movie_theme_context</th>\n",
       "      <td>{Just Like a Christmas Movie, Turkey Trouble}</td>\n",
       "    </tr>\n",
       "    <tr>\n",
       "      <th>movie_theme_group_context</th>\n",
       "      <td>{Sunday Dinner, Christmas on Cherry Lane, Family Time}</td>\n",
       "    </tr>\n",
       "    <tr>\n",
       "      <th>theme_theme_group_context</th>\n",
       "      <td>{A Little Gay, Ein Regenbogen zu Weihnachten, Los Mosquitos}</td>\n",
       "    </tr>\n",
       "    <tr>\n",
       "      <th>all_context</th>\n",
       "      <td>{Thanksgiving, A Thanksgiving Christmas, Holiday Boyfriend, When the Trash Man Knocks, The Great Turkey Town Miracle, Myristica, Giving Thanks, Thanksgiving Roast 2}</td>\n",
       "    </tr>\n",
       "  </tbody>\n",
       "</table>\n",
       "</div>"
      ],
      "text/plain": [
       "                                                                                                                                                                                                                                                                                                                                                                                                                                                                                                                                                                                                                                                                                                                                                                                                                                                                                                                                                                                                                                     result\n",
       "movie_answer                                                                                                                                                                                                                                                                                                                                                                                                                                                                                                                                                                                                                                                                                                                                                                                                                                                                               Thanksgiving, Giving Thanks, Turkey Trouble, A Thanksgiving Christmas, Thanksgiving Roast 2, When the Trash Man Knocks, How to Ruin the Holidays\n",
       "theme_answer                                                                                                                                                                                                                                                                                                                                                                                                                                                                                                                                                                                                                                                                                                                                                                                                                                                                                                                                                  Giving Thanks, Thanksgiving Roast 2, A Thanksgiving Christmas, Turkey Trouble\n",
       "theme_group_answer                                                                                                                                                                                                                                                                                                                                                                                                                                                                                                                                                                                                                                                                                                                                                                                                                                                                                                When the Trash Man Knocks, Giving Thanks, Thanksgiving, Holiday Boyfriend, Thanksgiving Roast 2, A Thanksgiving Christmas\n",
       "movie_only_context                                                                                                                                  {How to Ruin the Holidays, Family Ornaments, Istanbul Trilogy: Meze, The Poker Night, The Last Dinner, El banquete, The Departure, Holiday Road, Holiday Heist, The Last Supper, A Home for the Holidays, Dindin, Christmas with the Foxes, A Christmas Movie, Carmen & Moony, Dinner Time, A restaurant, a mouse, a dead man, a very particular family and a rainy dark night..., Renters: The Holiday Special, Happy Holla Day, Stir, The Ravioli Movie, The Amityville Whorror, The Hoop Dreams Holiday Special, The Holdovers, Momma Said Come Home For Christmas, The Role, The Perfect Christmas, Family Photo, Moving, Tomb Sweeping, Picking Mangoes, Going Home, Titanic, Suitable Version for Iranian Families, Whirlwind, El sabor de la Navidad, A Perfect Christmas Carol, Whatever It Takes, A Gettysburg Christmas, Table for Six 2, Christmas with Jerks, Pun Intended}\n",
       "theme_only_context                                                                                                                                                                                                                                                                                                                                                                                                                                                                                                                                                                                                                                                                                                                                                               {The Holiday Proposal Plan, Barry Manilow's A Very Barry Christmas, Dealing with Christmas, 'Twas the Text Before Christmas, Country Hearts Christmas, The Unofficial Science of Die Hard, Trouble with Johnny, I Love Nancy Meyers, A Biltmore Christmas}\n",
       "theme_group_only_context   {Pokémon Original Short Animation: Homecoming, The Many Worlds of George Goodman, Guess Who, Noël Joyeux, Month of Madhu, Only Love Matters, My Big Fat Greek Wedding 3, Such a Lovely Day, André Rieu's White Christmas, Haul Out the Holly: Lit Up, Honeybun, No Love Lost, Never Been Chris'd, On the Shore, Locked Up, Marimacha, A Very Demi Holiday Special, Animal Crossing Christmas Festival: The Movie!, Lord Mayor's Christmas Carols, A Christmas for the Ages, Wide Closed, A Day and a Half, Christmas at Carbell Family Farm, Blood Actually: A Murder, They Hope Mystery, Holidays, Snot and Splash, The Ghost Lullaby, Nigella’s Amsterdam Christmas, Million to One, Big Brood, Leave, Thus Love Me, Enough for Now, Friends & Family Christmas, Mystic Christmas, Did You See The Hole That Mom Dig?, The Wasp and the Orchid, The Hatchling, Legend of El Cucuy, Ambrosia, A Spectacle, Heat Wave, Keys to the Heart, Figs, Band Four, Letters to Santa, Life and Death of a Christmas Tree}\n",
       "movie_theme_context                                                                                                                                                                                                                                                                                                                                                                                                                                                                                                                                                                                                                                                                                                                                                                                                                                                                                                                                                                           {Just Like a Christmas Movie, Turkey Trouble}\n",
       "movie_theme_group_context                                                                                                                                                                                                                                                                                                                                                                                                                                                                                                                                                                                                                                                                                                                                                                                                                                                                                                                                                            {Sunday Dinner, Christmas on Cherry Lane, Family Time}\n",
       "theme_theme_group_context                                                                                                                                                                                                                                                                                                                                                                                                                                                                                                                                                                                                                                                                                                                                                                                                                                                                                                                                                      {A Little Gay, Ein Regenbogen zu Weihnachten, Los Mosquitos}\n",
       "all_context                                                                                                                                                                                                                                                                                                                                                                                                                                                                                                                                                                                                                                                                                                                                                                                                                                                           {Thanksgiving, A Thanksgiving Christmas, Holiday Boyfriend, When the Trash Man Knocks, The Great Turkey Town Miracle, Myristica, Giving Thanks, Thanksgiving Roast 2}"
      ]
     },
     "execution_count": 270,
     "metadata": {},
     "output_type": "execute_result"
    }
   ],
   "source": [
    "output_df, current_selected_df = compare_searches(\"What are some movies about Thanksgiving dinner?\")\n",
    "selected_df = pd.concat([selected_df, current_selected_df])\n",
    "output_df"
   ]
  },
  {
   "cell_type": "code",
   "execution_count": 278,
   "id": "ac7b26e1-b192-4cd6-8f43-81383bcd0d03",
   "metadata": {},
   "outputs": [
    {
     "name": "stderr",
     "output_type": "stream",
     "text": [
      "Warning: model not found. Using cl100k_base encoding.\n",
      "Warning: model not found. Using cl100k_base encoding.\n",
      "Warning: model not found. Using cl100k_base encoding.\n"
     ]
    },
    {
     "data": {
      "text/html": [
       "<div>\n",
       "<style scoped>\n",
       "    .dataframe tbody tr th:only-of-type {\n",
       "        vertical-align: middle;\n",
       "    }\n",
       "\n",
       "    .dataframe tbody tr th {\n",
       "        vertical-align: top;\n",
       "    }\n",
       "\n",
       "    .dataframe thead th {\n",
       "        text-align: right;\n",
       "    }\n",
       "</style>\n",
       "<table border=\"1\" class=\"dataframe\">\n",
       "  <thead>\n",
       "    <tr style=\"text-align: right;\">\n",
       "      <th></th>\n",
       "      <th>result</th>\n",
       "    </tr>\n",
       "  </thead>\n",
       "  <tbody>\n",
       "    <tr>\n",
       "      <th>movie_answer</th>\n",
       "      <td>Yesterday | Sea-64 | Dream Time | Pioniere der Filmmusik - Europas Sound für Hollywood | All Men Become Brothers | Finally Dawn | Fasolákia | Europa | The European Dream | Motherland | Keep Looking | From 8 Movies To 1 | Here | Celluloid Underground</td>\n",
       "    </tr>\n",
       "    <tr>\n",
       "      <th>theme_answer</th>\n",
       "      <td>The Eye of Spring | Oh Sweetie! | All That Is Sacred | 30 Kilometres per Second | Der Funker | Jokes &amp; Cigarettes | Sea-64</td>\n",
       "    </tr>\n",
       "    <tr>\n",
       "      <th>theme_group_answer</th>\n",
       "      <td>Lex Barker - Westernheld und Playboy</td>\n",
       "    </tr>\n",
       "    <tr>\n",
       "      <th>movie_only_context</th>\n",
       "      <td>{Dream Time, The Earthly Paradise, Romeo 1980, It's a Zabriskie, Zabriskie, Zabriskie, Zabriskie Point, Celluloid Underground, The Belgian Wave, All Men Become Brothers, The Movie Man, More Than Strangers, À la Recherche, The Great Glitch / Children of Paradise, Speak Sunlight, Storm Children, Keep Looking, Finally Dawn, Cinema's First Nasty Women, Manhattan Zodiac '77, Somewhere In Time, Scala!!!, Just Like in the Movies, La Reine, I’m Not Everything I Want To Be, \"WORDS\", Nowhere, Solitude, It's That, Motherland, Queeroslavia, The Male Gaze: A Better Tomorrow, Pink Triangles, Homosexuals Facing Nazism, From 8 Movies To 1, Fasolákia, Paris-Bruxelles, Here, Ecumenopolis, Casablanca, Soundtrack to a Coup d'État, Un'altra Italia era possibile - Il cinema di Giuseppe De Santis, Heiresses, yours,, Escape to Berlin, The European Dream, Surf on, Europe!}</td>\n",
       "    </tr>\n",
       "    <tr>\n",
       "      <th>theme_only_context</th>\n",
       "      <td>{Pressure Makes Diamonds, The Man from Nowhere, Я тебя люблю — Je t’aime, Spede, The Movie Emperor, Oh Sweetie!, Burnt Flowers, Housewife of the Year, Holy Family, 30 Kilometres per Second, The Red Vanity Case, All That Is Sacred, Child No. 182, Psychedelicized: The Electric Circus Story, Richland Descending, The Eye of Spring, The Archies, Anibal's Paradise, Onódy, a hatvanas évek császára, He Went That Way, Der Funker, Cart Return, This Is Ours, The First Women, Photosynthesis}</td>\n",
       "    </tr>\n",
       "    <tr>\n",
       "      <th>theme_group_only_context</th>\n",
       "      <td>{The House That Stood, El aprendiz, Légua, Agent of Solitude, Ancella d'Amore, Francisco Martins Rodrigues: Revolução ou Morte, Migrant Sea, Mothership, A Royal Christmas Holiday, The Walk, Seaside Special, Adriana Varejão: Between Flesh and Oceans, Tale of the Three Flames, 31 Ottobre, Para Norte, Walls, Chasing the Dazzling Light, Many Moons, Sounds of Codfish, Irreversível, 800 giorni, Her Name Was Gisberta, SAUDADE, Un hipster en la España vacía, Pepi Fandango, Nous n'avons pas peur des ruines, Alma Anciana, Dormouse Detectives, Made in Europe, To Be at Home, PosSession of the Spirit, Amelia’s Children, A Tomato Tragedy, From the Observatory they saw me, Clandestina, Dolce Far Niente (Sweet Doing Nothing), Lex Barker - Westernheld und Playboy, Fioretta, Goodbye First Love, The Permanent Picture, After Everything, Nativity, Tales of Oblivion}</td>\n",
       "    </tr>\n",
       "    <tr>\n",
       "      <th>movie_theme_context</th>\n",
       "      <td>{Lady with Lipstick, Yesterday}</td>\n",
       "    </tr>\n",
       "    <tr>\n",
       "      <th>movie_theme_group_context</th>\n",
       "      <td>{Europa, Runaway brains, Pioniere der Filmmusik - Europas Sound für Hollywood, Europe since Maastricht - A Journey through the Continent, to open a window}</td>\n",
       "    </tr>\n",
       "    <tr>\n",
       "      <th>theme_theme_group_context</th>\n",
       "      <td>{Jokes &amp; Cigarettes}</td>\n",
       "    </tr>\n",
       "    <tr>\n",
       "      <th>all_context</th>\n",
       "      <td>{Sea-64}</td>\n",
       "    </tr>\n",
       "  </tbody>\n",
       "</table>\n",
       "</div>"
      ],
      "text/plain": [
       "                                                                                                                                                                                                                                                                                                                                                                                                                                                                                                                                                                                                                                                                                                                                                                                                                                                                                                                 result\n",
       "movie_answer                                                                                                                                                                                                                                                                                                                                                                                                                                                                                                                                                                                                                                                  Yesterday | Sea-64 | Dream Time | Pioniere der Filmmusik - Europas Sound für Hollywood | All Men Become Brothers | Finally Dawn | Fasolákia | Europa | The European Dream | Motherland | Keep Looking | From 8 Movies To 1 | Here | Celluloid Underground\n",
       "theme_answer                                                                                                                                                                                                                                                                                                                                                                                                                                                                                                                                                                                                                                                                                                                                                                                 The Eye of Spring | Oh Sweetie! | All That Is Sacred | 30 Kilometres per Second | Der Funker | Jokes & Cigarettes | Sea-64\n",
       "theme_group_answer                                                                                                                                                                                                                                                                                                                                                                                                                                                                                                                                                                                                                                                                                                                                                                                                                                                                 Lex Barker - Westernheld und Playboy\n",
       "movie_only_context         {Dream Time, The Earthly Paradise, Romeo 1980, It's a Zabriskie, Zabriskie, Zabriskie, Zabriskie Point, Celluloid Underground, The Belgian Wave, All Men Become Brothers, The Movie Man, More Than Strangers, À la Recherche, The Great Glitch / Children of Paradise, Speak Sunlight, Storm Children, Keep Looking, Finally Dawn, Cinema's First Nasty Women, Manhattan Zodiac '77, Somewhere In Time, Scala!!!, Just Like in the Movies, La Reine, I’m Not Everything I Want To Be, \"WORDS\", Nowhere, Solitude, It's That, Motherland, Queeroslavia, The Male Gaze: A Better Tomorrow, Pink Triangles, Homosexuals Facing Nazism, From 8 Movies To 1, Fasolákia, Paris-Bruxelles, Here, Ecumenopolis, Casablanca, Soundtrack to a Coup d'État, Un'altra Italia era possibile - Il cinema di Giuseppe De Santis, Heiresses, yours,, Escape to Berlin, The European Dream, Surf on, Europe!}\n",
       "theme_only_context                                                                                                                                                                                                                                                                                                                                                                                                 {Pressure Makes Diamonds, The Man from Nowhere, Я тебя люблю — Je t’aime, Spede, The Movie Emperor, Oh Sweetie!, Burnt Flowers, Housewife of the Year, Holy Family, 30 Kilometres per Second, The Red Vanity Case, All That Is Sacred, Child No. 182, Psychedelicized: The Electric Circus Story, Richland Descending, The Eye of Spring, The Archies, Anibal's Paradise, Onódy, a hatvanas évek császára, He Went That Way, Der Funker, Cart Return, This Is Ours, The First Women, Photosynthesis}\n",
       "theme_group_only_context      {The House That Stood, El aprendiz, Légua, Agent of Solitude, Ancella d'Amore, Francisco Martins Rodrigues: Revolução ou Morte, Migrant Sea, Mothership, A Royal Christmas Holiday, The Walk, Seaside Special, Adriana Varejão: Between Flesh and Oceans, Tale of the Three Flames, 31 Ottobre, Para Norte, Walls, Chasing the Dazzling Light, Many Moons, Sounds of Codfish, Irreversível, 800 giorni, Her Name Was Gisberta, SAUDADE, Un hipster en la España vacía, Pepi Fandango, Nous n'avons pas peur des ruines, Alma Anciana, Dormouse Detectives, Made in Europe, To Be at Home, PosSession of the Spirit, Amelia’s Children, A Tomato Tragedy, From the Observatory they saw me, Clandestina, Dolce Far Niente (Sweet Doing Nothing), Lex Barker - Westernheld und Playboy, Fioretta, Goodbye First Love, The Permanent Picture, After Everything, Nativity, Tales of Oblivion}\n",
       "movie_theme_context                                                                                                                                                                                                                                                                                                                                                                                                                                                                                                                                                                                                                                                                                                                                                                                                                                                                     {Lady with Lipstick, Yesterday}\n",
       "movie_theme_group_context                                                                                                                                                                                                                                                                                                                                                                                                                                                                                                                                                                                                                                                                                                                                   {Europa, Runaway brains, Pioniere der Filmmusik - Europas Sound für Hollywood, Europe since Maastricht - A Journey through the Continent, to open a window}\n",
       "theme_theme_group_context                                                                                                                                                                                                                                                                                                                                                                                                                                                                                                                                                                                                                                                                                                                                                                                                                                                                          {Jokes & Cigarettes}\n",
       "all_context                                                                                                                                                                                                                                                                                                                                                                                                                                                                                                                                                                                                                                                                                                                                                                                                                                                                                                    {Sea-64}"
      ]
     },
     "execution_count": 278,
     "metadata": {},
     "output_type": "execute_result"
    }
   ],
   "source": [
    "output_df, current_selected_df = compare_searches(\"What are some movies about Europe in the 1960s?\")\n",
    "selected_df = pd.concat([selected_df, current_selected_df])\n",
    "output_df"
   ]
  },
  {
   "cell_type": "code",
   "execution_count": 272,
   "id": "fc75b746-499d-43d7-93c0-9dcf415281ac",
   "metadata": {},
   "outputs": [
    {
     "data": {
      "text/html": [
       "<div>\n",
       "<style scoped>\n",
       "    .dataframe tbody tr th:only-of-type {\n",
       "        vertical-align: middle;\n",
       "    }\n",
       "\n",
       "    .dataframe tbody tr th {\n",
       "        vertical-align: top;\n",
       "    }\n",
       "\n",
       "    .dataframe thead th {\n",
       "        text-align: right;\n",
       "    }\n",
       "</style>\n",
       "<table border=\"1\" class=\"dataframe\">\n",
       "  <thead>\n",
       "    <tr style=\"text-align: right;\">\n",
       "      <th></th>\n",
       "      <th>title</th>\n",
       "      <th>overview</th>\n",
       "      <th>query</th>\n",
       "      <th>retriever</th>\n",
       "    </tr>\n",
       "  </thead>\n",
       "  <tbody>\n",
       "    <tr>\n",
       "      <th>0</th>\n",
       "      <td>Pioniere der Filmmusik - Europas Sound für Hollywood</td>\n",
       "      <td>Hollywood film music has its roots in Europe. Three composers who fled war and National Socialism to the USA created the sound that still shapes film music today: Erich Wolfgang Korngold, Max Steiner and Franz Waxman. In the early 20th century, these classically trained composers transformed the methods acquired in Vienna and Berlin into a new American art form: film music. They balanced the relationship between image and sound and developed techniques and dramaturgical tricks to achieve the greatest possible effect on the viewer. Their influence is visible in the work of contemporary US composers such as John Williams and Jerry Goldsmith. Today, Oscar winner Hans Zimmer, Ramin Djawadi and Harold Faltermeyer continue this tradition. Their melodies are part of humanity's collective memory and reflect the combined traditions of European and American musical history. The documentary accompanies composers in their work and explores the European roots of Hollywood.</td>\n",
       "      <td>What are some titles of movies about classical music?</td>\n",
       "      <td>movie</td>\n",
       "    </tr>\n",
       "    <tr>\n",
       "      <th>1</th>\n",
       "      <td>Lenechka</td>\n",
       "      <td>Leonid Desyatnikov is the most played Russian composer of today. Unparalleled, his music is performed all over the world from the Bolshoi Theatre and Paris’s Opéra Garnier to Milan’s La Scala and New York’s Carnegie Hall. While he usually shuns publicity, this time, he will open up to share some of his innermost thoughts. From the genius’s weekday routine and musings to the bold premiere involving the iconic conductor Teodor Currentzis, this movie is an attempt at unraveling the enigma that is the paradox of the composer’s music and persona.</td>\n",
       "      <td>What are some titles of movies about classical music?</td>\n",
       "      <td>movie</td>\n",
       "    </tr>\n",
       "    <tr>\n",
       "      <th>2</th>\n",
       "      <td>Symphonic Sketches</td>\n",
       "      <td>“Symphonic Sketches” tells the story of one classical music concert performed by the Denver Philharmonic Orchestra.  Musicians from diverse racial backgrounds connect to the repertoire in unique ways and stage an unforgettable performance.</td>\n",
       "      <td>What are some titles of movies about classical music?</td>\n",
       "      <td>movie</td>\n",
       "    </tr>\n",
       "    <tr>\n",
       "      <th>3</th>\n",
       "      <td>A Piano Tune</td>\n",
       "      <td>In a world imbued with magical realism, a few musical notes are enough to reunite those who love each other. Gabo, a man swept up in the whirlwind of war, dreams of this piano tune that will bring him home.  With its use of magical realism and family love themes, 'A Piano Tune' will embark you into a life's journey in time, full of tense moments and pure emotion.\\r The film is also a tribute to author Gabriel García Márquez, an emblematic figure of Colombian culture.</td>\n",
       "      <td>What are some titles of movies about classical music?</td>\n",
       "      <td>movie</td>\n",
       "    </tr>\n",
       "    <tr>\n",
       "      <th>4</th>\n",
       "      <td>Symphony of Suffering</td>\n",
       "      <td>Symphony of Suffering is a showcase of shorts from some of the most prominent filmmakers within the fetish-gore sub-genre. An anthology with films from Jonathan Doe (Erotic Grotesque Nonsense trilogy), Jack Mulvanerty (Scarlet Piss Princess), White Gardenia (Mutilation Theater), and Blucifer (Putrid Menstrual Slime). With the feature scored to the Hurrian Hymn to Nikkal, the oldest known melody in recorded history; Symphony of Suffering attempts to showcase that the intertwining of pain and art are just as deeply infused and rooted in human expression as the origin of music itself.</td>\n",
       "      <td>What are some titles of movies about classical music?</td>\n",
       "      <td>movie</td>\n",
       "    </tr>\n",
       "    <tr>\n",
       "      <th>...</th>\n",
       "      <td>...</td>\n",
       "      <td>...</td>\n",
       "      <td>...</td>\n",
       "      <td>...</td>\n",
       "    </tr>\n",
       "    <tr>\n",
       "      <th>7</th>\n",
       "      <td>He Went That Way</td>\n",
       "      <td>Set in 1964, a three-day journey along Route 66 begins when Bobby Falls, a 19-year-old serial killer, hitches a ride with Jim Goodwin, a celebrity animal handler travelling with his precious cargo: his TV chimpanzee, Spanky.</td>\n",
       "      <td>What are some movies about Europe in the 1960s?</td>\n",
       "      <td>theme</td>\n",
       "    </tr>\n",
       "    <tr>\n",
       "      <th>8</th>\n",
       "      <td>Burnt Flowers</td>\n",
       "      <td>Following a visit from a mysterious femme fatale, detective Francis Alban finds herself embroiled in a missing persons case in which all is not what it seems. The trail leads her to a 1960s serial killer who was never caught and a violent gangster. As Detective Alban delves deeper into the criminal underbelly of Swinging Sixties London, will she uncover more about herself than she is willing to face? Past crimes, revenge and obsessive love collide in this haunting and surreal Horror-Noir.</td>\n",
       "      <td>What are some movies about Europe in the 1960s?</td>\n",
       "      <td>theme</td>\n",
       "    </tr>\n",
       "    <tr>\n",
       "      <th>9</th>\n",
       "      <td>Jokes &amp; Cigarettes</td>\n",
       "      <td>Barcelona, Spain, in the late sixties. Eugenio, a young jeweler who has fallen in love with Conchita, a singer, to the point of learning to play the guitar to accompany her in her performances, will first have to learn to overcome his stage fright.</td>\n",
       "      <td>What are some movies about Europe in the 1960s?</td>\n",
       "      <td>theme</td>\n",
       "    </tr>\n",
       "    <tr>\n",
       "      <th>10</th>\n",
       "      <td>Sea-64</td>\n",
       "      <td>Portugal in the 60’s. A young country woman finds an intriguing object in the fields: a television set. She decides to take it home, soon to become, with her boyfriend, bewitched by it. With a growing power coming from the tv set, they are consumed in a hypnotic ordeal with tragical consequences.</td>\n",
       "      <td>What are some movies about Europe in the 1960s?</td>\n",
       "      <td>theme</td>\n",
       "    </tr>\n",
       "    <tr>\n",
       "      <th>0</th>\n",
       "      <td>Lex Barker - Westernheld und Playboy</td>\n",
       "      <td>He is the most sought-after man in Europe in the 1960s. Lex Barker embodies the flawless hero in his films and, as Old Shatterhand, becomes a role model for generations of fans. Revered in Europe, misunderstood and almost forgotten in his native America. But who was this American who rode through Yugoslavia in a leather costume for the European audience? In 1973, Lex Barker died of a heart attack on the streets of Manhattan in New York. But no one recognizes the man who was Tarzan in Hollywood. Nobody knows him or cares about that he, as Winnetou's friend, is revered as an icon in Europe. Lex Barker's European western adventures are just a footnote in American film history. On the occasion of the 50th anniversary of his death, the documentary tells the story of one of the most beautiful men who ever flickered across Europe's cinema screens, for whom European cinema proved to be a stroke of luck and for whom a failed Hollywood career took him via Italy to Germany.</td>\n",
       "      <td>What are some movies about Europe in the 1960s?</td>\n",
       "      <td>theme_group</td>\n",
       "    </tr>\n",
       "  </tbody>\n",
       "</table>\n",
       "<p>557 rows × 4 columns</p>\n",
       "</div>"
      ],
      "text/plain": [
       "                                                   title  \\\n",
       "0   Pioniere der Filmmusik - Europas Sound für Hollywood   \n",
       "1                                               Lenechka   \n",
       "2                                     Symphonic Sketches   \n",
       "3                                           A Piano Tune   \n",
       "4                                  Symphony of Suffering   \n",
       "..                                                   ...   \n",
       "7                                       He Went That Way   \n",
       "8                                          Burnt Flowers   \n",
       "9                                     Jokes & Cigarettes   \n",
       "10                                                Sea-64   \n",
       "0                   Lex Barker - Westernheld und Playboy   \n",
       "\n",
       "                                                                                                                                                                                                                                                                                                                                                                                                                                                                                                                                                                                                                                                                                                                                                                                                                                                                                                                                                                                                             overview  \\\n",
       "0      Hollywood film music has its roots in Europe. Three composers who fled war and National Socialism to the USA created the sound that still shapes film music today: Erich Wolfgang Korngold, Max Steiner and Franz Waxman. In the early 20th century, these classically trained composers transformed the methods acquired in Vienna and Berlin into a new American art form: film music. They balanced the relationship between image and sound and developed techniques and dramaturgical tricks to achieve the greatest possible effect on the viewer. Their influence is visible in the work of contemporary US composers such as John Williams and Jerry Goldsmith. Today, Oscar winner Hans Zimmer, Ramin Djawadi and Harold Faltermeyer continue this tradition. Their melodies are part of humanity's collective memory and reflect the combined traditions of European and American musical history. The documentary accompanies composers in their work and explores the European roots of Hollywood.   \n",
       "1                                                                                                                                                                                                                                                                                                                                                                                                                                                 Leonid Desyatnikov is the most played Russian composer of today. Unparalleled, his music is performed all over the world from the Bolshoi Theatre and Paris’s Opéra Garnier to Milan’s La Scala and New York’s Carnegie Hall. While he usually shuns publicity, this time, he will open up to share some of his innermost thoughts. From the genius’s weekday routine and musings to the bold premiere involving the iconic conductor Teodor Currentzis, this movie is an attempt at unraveling the enigma that is the paradox of the composer’s music and persona.   \n",
       "2                                                                                                                                                                                                                                                                                                                                                                                                                                                                                                                                                                                                                                                                                                                                                                     “Symphonic Sketches” tells the story of one classical music concert performed by the Denver Philharmonic Orchestra.  Musicians from diverse racial backgrounds connect to the repertoire in unique ways and stage an unforgettable performance.   \n",
       "3                                                                                                                                                                                                                                                                                                                                                                                                                                                                                                                             In a world imbued with magical realism, a few musical notes are enough to reunite those who love each other. Gabo, a man swept up in the whirlwind of war, dreams of this piano tune that will bring him home.  With its use of magical realism and family love themes, 'A Piano Tune' will embark you into a life's journey in time, full of tense moments and pure emotion.\\r The film is also a tribute to author Gabriel García Márquez, an emblematic figure of Colombian culture.   \n",
       "4                                                                                                                                                                                                                                                                                                                                                                                                        Symphony of Suffering is a showcase of shorts from some of the most prominent filmmakers within the fetish-gore sub-genre. An anthology with films from Jonathan Doe (Erotic Grotesque Nonsense trilogy), Jack Mulvanerty (Scarlet Piss Princess), White Gardenia (Mutilation Theater), and Blucifer (Putrid Menstrual Slime). With the feature scored to the Hurrian Hymn to Nikkal, the oldest known melody in recorded history; Symphony of Suffering attempts to showcase that the intertwining of pain and art are just as deeply infused and rooted in human expression as the origin of music itself.   \n",
       "..                                                                                                                                                                                                                                                                                                                                                                                                                                                                                                                                                                                                                                                                                                                                                                                                                                                                                                                                                                                                                ...   \n",
       "7                                                                                                                                                                                                                                                                                                                                                                                                                                                                                                                                                                                                                                                                                                                                                                                    Set in 1964, a three-day journey along Route 66 begins when Bobby Falls, a 19-year-old serial killer, hitches a ride with Jim Goodwin, a celebrity animal handler travelling with his precious cargo: his TV chimpanzee, Spanky.   \n",
       "8                                                                                                                                                                                                                                                                                                                                                                                                                                                                                                       Following a visit from a mysterious femme fatale, detective Francis Alban finds herself embroiled in a missing persons case in which all is not what it seems. The trail leads her to a 1960s serial killer who was never caught and a violent gangster. As Detective Alban delves deeper into the criminal underbelly of Swinging Sixties London, will she uncover more about herself than she is willing to face? Past crimes, revenge and obsessive love collide in this haunting and surreal Horror-Noir.   \n",
       "9                                                                                                                                                                                                                                                                                                                                                                                                                                                                                                                                                                                                                                                                                                                                                            Barcelona, Spain, in the late sixties. Eugenio, a young jeweler who has fallen in love with Conchita, a singer, to the point of learning to play the guitar to accompany her in her performances, will first have to learn to overcome his stage fright.   \n",
       "10                                                                                                                                                                                                                                                                                                                                                                                                                                                                                                                                                                                                                                                                                                          Portugal in the 60’s. A young country woman finds an intriguing object in the fields: a television set. She decides to take it home, soon to become, with her boyfriend, bewitched by it. With a growing power coming from the tv set, they are consumed in a hypnotic ordeal with tragical consequences.   \n",
       "0   He is the most sought-after man in Europe in the 1960s. Lex Barker embodies the flawless hero in his films and, as Old Shatterhand, becomes a role model for generations of fans. Revered in Europe, misunderstood and almost forgotten in his native America. But who was this American who rode through Yugoslavia in a leather costume for the European audience? In 1973, Lex Barker died of a heart attack on the streets of Manhattan in New York. But no one recognizes the man who was Tarzan in Hollywood. Nobody knows him or cares about that he, as Winnetou's friend, is revered as an icon in Europe. Lex Barker's European western adventures are just a footnote in American film history. On the occasion of the 50th anniversary of his death, the documentary tells the story of one of the most beautiful men who ever flickered across Europe's cinema screens, for whom European cinema proved to be a stroke of luck and for whom a failed Hollywood career took him via Italy to Germany.   \n",
       "\n",
       "                                                    query    retriever  \n",
       "0   What are some titles of movies about classical music?        movie  \n",
       "1   What are some titles of movies about classical music?        movie  \n",
       "2   What are some titles of movies about classical music?        movie  \n",
       "3   What are some titles of movies about classical music?        movie  \n",
       "4   What are some titles of movies about classical music?        movie  \n",
       "..                                                    ...          ...  \n",
       "7         What are some movies about Europe in the 1960s?        theme  \n",
       "8         What are some movies about Europe in the 1960s?        theme  \n",
       "9         What are some movies about Europe in the 1960s?        theme  \n",
       "10        What are some movies about Europe in the 1960s?        theme  \n",
       "0         What are some movies about Europe in the 1960s?  theme_group  \n",
       "\n",
       "[557 rows x 4 columns]"
      ]
     },
     "execution_count": 272,
     "metadata": {},
     "output_type": "execute_result"
    }
   ],
   "source": [
    "selected_df"
   ]
  },
  {
   "cell_type": "code",
   "execution_count": 274,
   "id": "d4423308-b564-409e-ac38-82bfcd192d51",
   "metadata": {},
   "outputs": [],
   "source": [
    "selected_df.to_csv(\"movie_answers.csv\", index=False, header=True)"
   ]
  },
  {
   "cell_type": "code",
   "execution_count": 8,
   "id": "36fa3afd-e1df-4b2f-beaf-f37a11ce2abc",
   "metadata": {},
   "outputs": [
    {
     "name": "stderr",
     "output_type": "stream",
     "text": [
      "Warning: model not found. Using cl100k_base encoding.\n"
     ]
    }
   ],
   "source": [
    "movie_query = \"\"\"\n",
    "MATCH (node)\n",
    "RETURN node.overview AS text, score, node{.title, .tagline} AS metadata\n",
    "\"\"\"\n",
    "\n",
    "movie_vectorstore = Neo4jVector.from_existing_index(\n",
    "    OpenAIEmbeddings(model=\"text-embedding-3-small\", openai_api_key=openai_api_key),\n",
    "    index_name=\"movie_text_vectors\",\n",
    "    retrieval_query=movie_query,\n",
    "    url=neo4j_uri,\n",
    "    username=neo4j_user,\n",
    "    password=neo4j_password\n",
    ")"
   ]
  },
  {
   "cell_type": "code",
   "execution_count": 26,
   "id": "4b44ee0e-323d-4a91-9ef1-31f3d417d65e",
   "metadata": {},
   "outputs": [],
   "source": [
    "prompt = ChatPromptTemplate.from_messages([\n",
    "    (\"system\", \"\"\"You are a movie expert providing information about movies.\n",
    "                  Be as helpful as possible and return as much information as possible.\n",
    "                  Do not answer any questions that do not relate to movies.\n",
    "                  Always include the title of the movie in your answer.\n",
    "                  Answer any questions based solely on the context below:\n",
    "                  <context>\n",
    "                  {context}\n",
    "                  </context>\"\"\"),\n",
    "    MessagesPlaceholder(variable_name=\"chat_history\", optional=True),\n",
    "    (\"user\", \"{input}\"),\n",
    "])"
   ]
  },
  {
   "cell_type": "code",
   "execution_count": 10,
   "id": "feb600a3-bf43-4d36-b951-ae8cd00a5b7d",
   "metadata": {},
   "outputs": [],
   "source": [
    "movie_info_template= \"overview: {page_content}, title: {title}\"\n",
    "document_prompt = PromptTemplate(input_variables=[\"page_content\", \"title\"],\n",
    "                                 template=movie_info_template\n",
    "                                 )\n"
   ]
  },
  {
   "cell_type": "code",
   "execution_count": 35,
   "id": "d8d6bbad-7907-45f1-b3ef-f745fa839860",
   "metadata": {},
   "outputs": [],
   "source": [
    "theme_group_retriever = theme_group_vectorstore.as_retriever(search_kwargs={\"k\": 5})\n",
    "theme_retriever = theme_vectorstore.as_retriever(search_kwargs={\"k\":15})\n",
    "movie_retriever = movie_vectorstore.as_retriever(search_kwargs={\"k\": 30})\n",
    "\n",
    "retrieval_qa_chat_prompt = hub.pull(\"langchain-ai/retrieval-qa-chat\")\n",
    "\n",
    "combine_docs_chain = create_stuff_documents_chain(\n",
    "    ChatOpenAI(temperature=0, openai_api_key=openai_api_key), prompt, document_prompt=document_prompt\n",
    "\n",
    ")\n",
    "theme_group_chain = create_retrieval_chain(theme_group_retriever, combine_docs_chain)\n",
    "theme_chain = create_retrieval_chain(theme_retriever, combine_docs_chain)\n",
    "movie_chain = create_retrieval_chain(movie_retriever, combine_docs_chain)"
   ]
  },
  {
   "cell_type": "code",
   "execution_count": 40,
   "id": "297c5589-262c-495d-bf9e-ddf58406aa42",
   "metadata": {},
   "outputs": [
    {
     "name": "stderr",
     "output_type": "stream",
     "text": [
      "Warning: model not found. Using cl100k_base encoding.\n"
     ]
    },
    {
     "data": {
      "text/plain": [
       "[Document(page_content='The curse of Count Dracula lives on in shark-infested waters, claiming the lives of a tourist community. A sea hunt for the new species results in monsters, madness and bloodshed. This great white is putting the bite back into terror, and it has help with the aid of new vampires intent on seeing it survive.', metadata={'title': 'Sharkula'}),\n",
       " Document(page_content=\"Camille cultivates flowers on 7000 meters square in Aveyron, France. During all year, « le Jardin de Veillac » structures itself : building a new greenhouse, preparing seedlings, collecting flowers, preparing bouquets and, finally, selling them on Rodez's marketplace, where flowers unveil their beauty and spread in the city.\", metadata={'title': 'La Ferme florale de Camille'}),\n",
       " Document(page_content='During the seed harvest season in Ban Rabue Village, Ngern is responsible for collecting and storing seeds for the upcoming year. Unfortunately, a group of black-faced thieves attempt to steal the seeds, and Ngern unintentionally kills them. Wanting to avoid any trouble, Ngern, along with his two friends, sets out to find guns and bring them back to protect the village.', metadata={'title': '3 Idiot Heroes'}),\n",
       " Document(page_content='Adapted from the 2010 Creature Feature of the same name by Roger Corman, a group of people on a cruise ship are suddenly attacked by a mutated shark crossed with an octopus creature.', metadata={'title': 'Sharktopus'}),\n",
       " Document(page_content='In 1989, mexican direct to video superstar Ricky Valente was in line to write and direct NARCO SHARK, a wild and ambitious film about a Detective/Saxophonist who battles the Mexican Yakuza and a cocaine fueled Killer Shark while trying to save his marriage from falling apart and helping his awkwardly shy but sexually depraved brother in law learn some breakdancing moves.  Sadly, the film was never made… until now.', metadata={'title': 'Narco Shark'}),\n",
       " Document(page_content='Illa de Arousa, 1971. Maria is a woman who earns her living by seafood. She is also known on the island for helping other women in childbirth with special dedication and care. After an unexpected event, she is forced to flee and begins a dangerous journey that will make her fight for her survival. Seeking her freedom, Maria decides to cross the border by one of the smuggling routes between Galicia and Portugal.', metadata={'title': 'The Rye Horn'}),\n",
       " Document(page_content='In a not so distant future, great white sharks have gone extinct. Over fishing, climate change, pollution have all contributed to the species complete annihilation from the seas... but, land may be their new hunting ground! When a mad scientist plays god and genetically engineers a shark/human, he unleashes the highly viral monster on the unsuspecting citizens of a nearby small town. Now, a group of friends must band together if they are to survive the “sharkocalypse”. Run, hide, fight... or be turned into CHUM!', metadata={'title': 'CHUM!', 'tagline': 'You’re Gonna Need A Better Vaccine'}),\n",
       " Document(page_content='An astonishing legacy of ice harvesting is now endangered as an ice house in Maine faces the impact of global warming.', metadata={'title': 'Frozen Harvest'}),\n",
       " Document(page_content='Sequel to the cult film Ouija Shark.', metadata={'title': 'Ouija Shark 2'}),\n",
       " Document(page_content='At the end of the 18th century, hundreds of Indian sailors, known as lascars, worked amongst European settlers in Aotearoa New Zealand - often under the gruesome working conditions of seal hunting gangs.  The story follows a lascar, Dasa, who has been abandoned on the coast of Aotearoa NZ by the East India Company, alongside his sealing gang. When Dasa finds himself in the middle of a conflict between his abusive British superior and two Māori traders, he is faced with a choice: bend the knee or take a stand.', metadata={'title': 'The Lascar', 'tagline': \"Survival. Betrayal. Honor. In the harsh realm of Aotearoa's untamed shores, one lascar must navigate treacherous waters of loyalty to rewrite his destiny.\"}),\n",
       " Document(page_content='The film takes the viewer on an embodied journey moving through a space in which its existence in the real or imagined is debatable. Alike how the alleyway is a physical bridge between two main streets, the film presents a series of juxtaposed images that might seem opposing at a glance – the seer and the seen, the outside and inside, young and old, low and high, the leaving, coming, and returning – but are co-existing elements that sustain the living and breathing of the alleyway. The tactility of witnessing inherently embodied by the 16 mm celluloid is mirrored by the witnessing(s) of the tourists, the residents, the non-human subjects in the space. Via a constructed soundscape in which sonic elements from eastern spirituality find their prominence amongst real-life sounds, and through an embodied camera eye that moves freely in the geographical space of the alley, the film evokes a sense of magical realism which gives texture to the meditation on the Chinese American identity.', metadata={'title': 'Fortune'}),\n",
       " Document(page_content='In Camouflage (Boulder/Iceland) I utilize the photograph object to investigate the difference between a lithic and a human sense of time. My embodiment as a boulder within the Icelandic landscape is intended to reference a glacial erratic—a tangible remnant of geologic memory and time within the landscape.', metadata={'title': 'Camouflage (Boulder/Iceland)'}),\n",
       " Document(page_content='Yan Xin, a female scientist at Hainan Xingye Torch Company, used gene editing technology to cultivate super rubber seeds and went to Yinfan Island overseas for trial planting, hoping to turn it into a rich new world. Lin Xiang of the International Security Company personally led the team to this crisis-ridden land in order to protect his still beloved ex-wife Yan Xin. Since their arrival, conflicts and conspiracies have been taking turns, with the figure of local drug lord Li Wenyao looming behind them. Unknown dangers, the ultimate showdown, the two people opposing good and evil cannot escape the destined battle.', metadata={'title': 'Cruel War'}),\n",
       " Document(page_content=\"Taking the shape of a deep sea voyage, 'Les Fruits de la Mère' is an experimental animation exploring the challenges regarding climatic changes, the seafood overconsumption and the possible future of the human race in a aquatic environment.\", metadata={'title': 'Les Fruits de la Mère'}),\n",
       " Document(page_content='Lights shining, drums rolling, here starts the show.  Curtains falling, winds howling, sheds swaying, up there sits the moon.  LIANG-JUN gazes silently at her mother, not daring to say a word.', metadata={'title': 'Susan'}),\n",
       " Document(page_content='James Lea’s love for sharks turns into a mission to save them from the devastating shark fin trade, driven by heartbreak and determination.', metadata={'title': 'Older Than Trees'}),\n",
       " Document(page_content='A solo trip aboard a yacht takes a terrifying turn when a woman encounters three drug traffickers clinging to the shattered remains of a boat. They soon force her to dive into shark-infested waters to retrieve kilos of cocaine from the sunken wreck.', metadata={'title': 'Deep Fear'}),\n",
       " Document(page_content='A large number of sharks suddenly appeared in Japan in the new era of \"Reiwa\" and devoured the Japanese people. The battle of the last man in Japan begins.', metadata={'title': 'Reiwa Shark'}),\n",
       " Document(page_content='A mafia drug lord has unleashed a new, highly addictive stimulant on the streets called HT25, derived from sharks held captive in a secret lab, and which causes monstrous side effects. After an explosion and leak at the lab, an army of mutated, bloodthirsty sharks and other creatures are set loose on the world.', metadata={'title': 'Cocaine Shark'}),\n",
       " Document(page_content=\"'Human Comedy in Tokyo', describes ordinary everyday lives without any significant incidents. Various dialogues are elaborately woven to bring tiny splits in human relationships to light, and through the three episodes the characters have their moments of realizing that they are actually in solitude.\", metadata={'title': 'Human Comedy in Tokyo'})]"
      ]
     },
     "execution_count": 40,
     "metadata": {},
     "output_type": "execute_result"
    }
   ],
   "source": [
    "theme_group_retriever.get_relevant_documents(\"sharks\")"
   ]
  },
  {
   "cell_type": "code",
   "execution_count": 36,
   "id": "8b35b008-aefc-4d72-afd2-f33ea1e244a7",
   "metadata": {},
   "outputs": [
    {
     "name": "stderr",
     "output_type": "stream",
     "text": [
      "Warning: model not found. Using cl100k_base encoding.\n"
     ]
    },
    {
     "data": {
      "text/plain": [
       "{'input': 'Find as many movies as you can about sharks.',\n",
       " 'context': [Document(page_content=\"V is a writer who doesn't write, P is an actor who doesn't act, so to fill the void they go and see old movies and tell each other it was better before.\", metadata={'title': 'Cary & James'}),\n",
       "  Document(page_content='Trouble with Johnny explores the recurrence of loop, tempo, and flicker. The project uses found footage as a method for emphasizing the cinematic collisions between audio and visual composition. Working within the margins of structural filmmaking, Trouble with Johnny creates a visceral experience of fragmented sounds and cyclical imagery.  Likewise, Trouble with Johnny functions as a parody of the mainstream movie industry. The source material derives from the 1980’s coming of age film, The Karate Kid. Throughout the story, the main antagonist, a bully who goes by the name “Johnny”, is revered by a dedicated clique of subservient underlings. Applied as an experimental technique, the repetitive use of the word “Johnny” draws attention to the stereotypical and recurring tropes found in many teen movies.', metadata={'title': 'Trouble with Johnny'}),\n",
       "  Document(page_content=\"Camila is a high school girl who lives life for no purpose. Her escape from reality goes back to the movie scripts she writes in her notebook. Bruno, a clumsy misfit dreamy boy, sets out to make friends with her, and upon discovering Camila's love for movies and stories, he proposes to create a movie.\", metadata={'title': 'Mi Ópera Prima'}),\n",
       "  Document(page_content='On May 18, 2023, Cuban movie posters were inscribed on the UNESCO Memory Of The World Register. Cine Libre tells the story of this invention and its creators.', metadata={'title': 'Cine Libre'}),\n",
       "  Document(page_content='An erotic film about the owner of a skincare shop who enslaves his customers and employees.', metadata={'title': 'Kim Jang-won Murder Case'}),\n",
       "  Document(page_content='A documentary on the rise and fall and recent return of sexy movies in Philippine cinema. Featuring interviews from the sexy movie icons of the past and the rising sexy stars of the present.', metadata={'title': 'Seksi: Pantasya at Pelikula'}),\n",
       "  Document(page_content=\"Alina is a movie sound engineer. One day she receives an offer to do the direct sound for an erotic film featuring Maria Black, a famous star of the genre who had already retired. When Maria has a heart attack and dies in the middle of the shoot, and the producers decide not to call the police, a series of sinister and unexpected events are unleashed that will endanger everyone's lives.\", metadata={'title': 'Maria'}),\n",
       "  Document(page_content='In an attempt to make a British version of the infamous STAB movies, a terrifying case of murders appears in a small town, with only one link between them all...', metadata={'title': \"Cooper Studios' Scream\", 'tagline': 'British Remakes Are Always The Best...'}),\n",
       "  Document(page_content='A cinematic essay interweaving private archive images and a mixture of reflective, speculative and poetic intertitles that, like “an old movie from the 20th century”, invites us to meditate on what Des Pallières once liked to call “our old homeland”.', metadata={'title': 'American Journal'}),\n",
       "  Document(page_content='Filmmaker and musician Carl Weingarten recounts growing up in St. Louis in the 1970s and his teenage hobby of shooting aerial movies with a Super8 camera mounted on top of model rockets. Decades before video cameras, GoPros and Drones, the film shows vintage Super8 footage and photographs, all shot, developed and edited with music composed by Weingarten for his DIY NASA inspired rocket launches and regional aerial photography explorations.', metadata={'title': 'The Rocket Movies'}),\n",
       "  Document(page_content='After her friend goes missing, Sadie discovers a killer on the loose may be connected to five star reviews on a particular movie.', metadata={'title': 'Five Stars'}),\n",
       "  Document(page_content='In this dialogue-driven, \"second coming of age\" comedic drama, Felix has all but given up on his pursuit of becoming a filmmaker when he meets Stella, a down to Earth, chain-smoking cinephile, whose unexpected friendship inspires him to start writing again–and falling for her. Never hesitating to take steps outside of reality through the use of movies within movies, found footage and action sequences, Mountainside is also a love letter to film itself.', metadata={'title': 'Mountainside'}),\n",
       "  Document(page_content='Dickinsonia is a 550 million year old oceanic species. As their soft bodies rarely leave fossils, traumas, marked by forgetting and dissociation, also seem to leave very few traces.', metadata={'title': 'Dickinsonia'}),\n",
       "  Document(page_content='A skilled commercial diver in Malta, Tara Salgaonkar is a mystery to everyone around her. A strong girl who defies social conventions, she is trying to come to terms with her dark past.', metadata={'title': 'Starfish'}),\n",
       "  Document(page_content='Emmy award-winning filmmaker and marine biologist Rick Rosenthal teams up with science fiction writer Chris Carter on an investigative journey to explore evidence of intelligent life, not in space, but in the sea – specifically, manta rays. Might these alien-looking animals be trying to make contact with us? There are intriguing clues.', metadata={'title': 'Alien Contact'}),\n",
       "  Document(page_content=\"Troubled waters and accursed thaumaturges: Lovecraft's haunting vision of the sea and the unfathomable mysteries that lie within its depths, but also the ancient lore hidden beneath the waters.\", metadata={'title': 'Ancient Lore'}),\n",
       "  Document(page_content='A woman with weird superpowers, a turtle with obsessive-compulsive disorder and a cloud with rain incontinence on an unusual journey to the depths of the ocean.', metadata={'title': 'Bizarre Fish from the Abyssal Zone'}),\n",
       "  Document(page_content=\"It follows a Japanese-Canadian woman grappling with the death of her mother as she brings her family to a retreat. When her relationship with her husband begins to affect the children's emotional security, the family is forever changed.\", metadata={'title': 'Seagrass'}),\n",
       "  Document(page_content=\"Sea Monster pals Tickles and Toothy McGru can't seem to fit in with the fish in the reef. In fact they can't even figure out what types of fish they are! Could it have to do with Halloween? With the help of Fifi and Lily the pals set off on a quest to learn their true identity.  Get ready for an underwater Halloween adventure for the ages. It's Sea Monsters 3.\", metadata={'title': 'Sea Monsters 3'}),\n",
       "  Document(page_content='Sea monsters, self help and sexual utopia. With his marriage crumbling, Seamus, a struggling fisherman, is unexpectedly offered the delicious pleasures of an unusual new life. But to turn his desperation into hope, Seamus will need to put his trust in a group of misfits whose project becomes more and more deranged. This absurdist dark comedy asks if there really is more out there for each of us or \"IS THIS IT?\"', metadata={'title': 'The Highest Brasil'})],\n",
       " 'answer': \"I'm sorry, but there are no movies about sharks in the provided context. If you have any other movie-related questions or need information about the movies mentioned in the context, feel free to ask!\"}"
      ]
     },
     "execution_count": 36,
     "metadata": {},
     "output_type": "execute_result"
    }
   ],
   "source": [
    "theme_group_chain.invoke({\"input\": \"Find as many movies as you can about sharks.\"})"
   ]
  },
  {
   "cell_type": "code",
   "execution_count": 31,
   "id": "fcbf042d-9262-4a2a-adb1-eb89e800b56b",
   "metadata": {},
   "outputs": [
    {
     "name": "stderr",
     "output_type": "stream",
     "text": [
      "Warning: model not found. Using cl100k_base encoding.\n"
     ]
    },
    {
     "data": {
      "text/plain": [
       "{'input': 'Find as many movies as you can about sharks.',\n",
       " 'context': [Document(page_content=\"V is a writer who doesn't write, P is an actor who doesn't act, so to fill the void they go and see old movies and tell each other it was better before.\", metadata={'title': 'Cary & James'}),\n",
       "  Document(page_content='Trouble with Johnny explores the recurrence of loop, tempo, and flicker. The project uses found footage as a method for emphasizing the cinematic collisions between audio and visual composition. Working within the margins of structural filmmaking, Trouble with Johnny creates a visceral experience of fragmented sounds and cyclical imagery.  Likewise, Trouble with Johnny functions as a parody of the mainstream movie industry. The source material derives from the 1980’s coming of age film, The Karate Kid. Throughout the story, the main antagonist, a bully who goes by the name “Johnny”, is revered by a dedicated clique of subservient underlings. Applied as an experimental technique, the repetitive use of the word “Johnny” draws attention to the stereotypical and recurring tropes found in many teen movies.', metadata={'title': 'Trouble with Johnny'}),\n",
       "  Document(page_content=\"Camila is a high school girl who lives life for no purpose. Her escape from reality goes back to the movie scripts she writes in her notebook. Bruno, a clumsy misfit dreamy boy, sets out to make friends with her, and upon discovering Camila's love for movies and stories, he proposes to create a movie.\", metadata={'title': 'Mi Ópera Prima'}),\n",
       "  Document(page_content='On May 18, 2023, Cuban movie posters were inscribed on the UNESCO Memory Of The World Register. Cine Libre tells the story of this invention and its creators.', metadata={'title': 'Cine Libre'}),\n",
       "  Document(page_content='An erotic film about the owner of a skincare shop who enslaves his customers and employees.', metadata={'title': 'Kim Jang-won Murder Case'}),\n",
       "  Document(page_content='A documentary on the rise and fall and recent return of sexy movies in Philippine cinema. Featuring interviews from the sexy movie icons of the past and the rising sexy stars of the present.', metadata={'title': 'Seksi: Pantasya at Pelikula'}),\n",
       "  Document(page_content=\"Alina is a movie sound engineer. One day she receives an offer to do the direct sound for an erotic film featuring Maria Black, a famous star of the genre who had already retired. When Maria has a heart attack and dies in the middle of the shoot, and the producers decide not to call the police, a series of sinister and unexpected events are unleashed that will endanger everyone's lives.\", metadata={'title': 'Maria'}),\n",
       "  Document(page_content='In an attempt to make a British version of the infamous STAB movies, a terrifying case of murders appears in a small town, with only one link between them all...', metadata={'title': \"Cooper Studios' Scream\", 'tagline': 'British Remakes Are Always The Best...'}),\n",
       "  Document(page_content='A cinematic essay interweaving private archive images and a mixture of reflective, speculative and poetic intertitles that, like “an old movie from the 20th century”, invites us to meditate on what Des Pallières once liked to call “our old homeland”.', metadata={'title': 'American Journal'}),\n",
       "  Document(page_content='Filmmaker and musician Carl Weingarten recounts growing up in St. Louis in the 1970s and his teenage hobby of shooting aerial movies with a Super8 camera mounted on top of model rockets. Decades before video cameras, GoPros and Drones, the film shows vintage Super8 footage and photographs, all shot, developed and edited with music composed by Weingarten for his DIY NASA inspired rocket launches and regional aerial photography explorations.', metadata={'title': 'The Rocket Movies'}),\n",
       "  Document(page_content='After her friend goes missing, Sadie discovers a killer on the loose may be connected to five star reviews on a particular movie.', metadata={'title': 'Five Stars'}),\n",
       "  Document(page_content='In this dialogue-driven, \"second coming of age\" comedic drama, Felix has all but given up on his pursuit of becoming a filmmaker when he meets Stella, a down to Earth, chain-smoking cinephile, whose unexpected friendship inspires him to start writing again–and falling for her. Never hesitating to take steps outside of reality through the use of movies within movies, found footage and action sequences, Mountainside is also a love letter to film itself.', metadata={'title': 'Mountainside'}),\n",
       "  Document(page_content='Dickinsonia is a 550 million year old oceanic species. As their soft bodies rarely leave fossils, traumas, marked by forgetting and dissociation, also seem to leave very few traces.', metadata={'title': 'Dickinsonia'}),\n",
       "  Document(page_content='A skilled commercial diver in Malta, Tara Salgaonkar is a mystery to everyone around her. A strong girl who defies social conventions, she is trying to come to terms with her dark past.', metadata={'title': 'Starfish'}),\n",
       "  Document(page_content='Emmy award-winning filmmaker and marine biologist Rick Rosenthal teams up with science fiction writer Chris Carter on an investigative journey to explore evidence of intelligent life, not in space, but in the sea – specifically, manta rays. Might these alien-looking animals be trying to make contact with us? There are intriguing clues.', metadata={'title': 'Alien Contact'}),\n",
       "  Document(page_content=\"Troubled waters and accursed thaumaturges: Lovecraft's haunting vision of the sea and the unfathomable mysteries that lie within its depths, but also the ancient lore hidden beneath the waters.\", metadata={'title': 'Ancient Lore'}),\n",
       "  Document(page_content='A woman with weird superpowers, a turtle with obsessive-compulsive disorder and a cloud with rain incontinence on an unusual journey to the depths of the ocean.', metadata={'title': 'Bizarre Fish from the Abyssal Zone'}),\n",
       "  Document(page_content=\"It follows a Japanese-Canadian woman grappling with the death of her mother as she brings her family to a retreat. When her relationship with her husband begins to affect the children's emotional security, the family is forever changed.\", metadata={'title': 'Seagrass'}),\n",
       "  Document(page_content=\"Sea Monster pals Tickles and Toothy McGru can't seem to fit in with the fish in the reef. In fact they can't even figure out what types of fish they are! Could it have to do with Halloween? With the help of Fifi and Lily the pals set off on a quest to learn their true identity.  Get ready for an underwater Halloween adventure for the ages. It's Sea Monsters 3.\", metadata={'title': 'Sea Monsters 3'}),\n",
       "  Document(page_content='Sea monsters, self help and sexual utopia. With his marriage crumbling, Seamus, a struggling fisherman, is unexpectedly offered the delicious pleasures of an unusual new life. But to turn his desperation into hope, Seamus will need to put his trust in a group of misfits whose project becomes more and more deranged. This absurdist dark comedy asks if there really is more out there for each of us or \"IS THIS IT?\"', metadata={'title': 'The Highest Brasil'})],\n",
       " 'answer': \"I'm sorry, but there are no movies about sharks in the provided context. If you have any other movie-related questions or need information about specific movies listed in the context, feel free to ask!\"}"
      ]
     },
     "execution_count": 31,
     "metadata": {},
     "output_type": "execute_result"
    }
   ],
   "source": [
    "theme_chain.invoke({\"input\": \"Find as many movies as you can about sharks.\"})"
   ]
  },
  {
   "cell_type": "code",
   "execution_count": 18,
   "id": "1d775e19-caaf-45d8-86c5-3f3ee1747e1a",
   "metadata": {},
   "outputs": [
    {
     "name": "stderr",
     "output_type": "stream",
     "text": [
      "Warning: model not found. Using cl100k_base encoding.\n"
     ]
    },
    {
     "data": {
      "text/plain": [
       "{'input': 'Find as many movies as you can about sharks.',\n",
       " 'context': [Document(page_content=\"The ultimate deep dive into the world of shark cinema: filmmakers, critics, scholars and conservationists explore the weird, wild cinematic legacy of sharks on film and audiences' undying fascination with these misunderstood creatures.\", metadata={'title': 'Sharksploitation'}),\n",
       "  Document(page_content='In a not so distant future, great white sharks have gone extinct. Over fishing, climate change, pollution have all contributed to the species complete annihilation from the seas... but, land may be their new hunting ground! When a mad scientist plays god and genetically engineers a shark/human, he unleashes the highly viral monster on the unsuspecting citizens of a nearby small town. Now, a group of friends must band together if they are to survive the “sharkocalypse”. Run, hide, fight... or be turned into CHUM!', metadata={'title': 'CHUM!', 'tagline': 'You’re Gonna Need A Better Vaccine'}),\n",
       "  Document(page_content='The curse of Count Dracula lives on in shark-infested waters, claiming the lives of a tourist community. A sea hunt for the new species results in monsters, madness and bloodshed. This great white is putting the bite back into terror, and it has help with the aid of new vampires intent on seeing it survive.', metadata={'title': 'Sharkula'}),\n",
       "  Document(page_content='Baby Shark is forced to leave the world he loves behind after his family’s move to the big city, and must adjust to his new life without his best friend, William. When Baby Shark encounters an evil pop starfish named Stariana who plans to steal his gift of song in order to dominate all underwater music, he must break her spell to restore harmony to the seas.', metadata={'title': \"Baby Shark's Big Movie\"}),\n",
       "  Document(page_content='James Lea’s love for sharks turns into a mission to save them from the devastating shark fin trade, driven by heartbreak and determination.', metadata={'title': 'Older Than Trees'}),\n",
       "  Document(page_content='Sequel to the cult film Ouija Shark.', metadata={'title': 'Ouija Shark 2'}),\n",
       "  Document(page_content='Adapted from the 2010 Creature Feature of the same name by Roger Corman, a group of people on a cruise ship are suddenly attacked by a mutated shark crossed with an octopus creature.', metadata={'title': 'Sharktopus'}),\n",
       "  Document(page_content='In 1989, mexican direct to video superstar Ricky Valente was in line to write and direct NARCO SHARK, a wild and ambitious film about a Detective/Saxophonist who battles the Mexican Yakuza and a cocaine fueled Killer Shark while trying to save his marriage from falling apart and helping his awkwardly shy but sexually depraved brother in law learn some breakdancing moves.  Sadly, the film was never made… until now.', metadata={'title': 'Narco Shark'}),\n",
       "  Document(page_content=\"A filmmaker makes a movie in a way that's never been done before, leading to unimaginable results.\", metadata={'title': 'Stock Shark', 'tagline': 'A shark movie comprised entirely of stock footage. But also much, much more.'}),\n",
       "  Document(page_content='A solo trip aboard a yacht takes a terrifying turn when a woman encounters three drug traffickers clinging to the shattered remains of a boat. They soon force her to dive into shark-infested waters to retrieve kilos of cocaine from the sunken wreck.', metadata={'title': 'Deep Fear'}),\n",
       "  Document(page_content=\"A video was submitted to Big Summer's psychic investigator team. The video shows a couple visiting an abandoned well at a haunted place, the woman was attacked by a deformed monster that appeared from the well. The boyfriend now asks the team to investigate.\", metadata={'title': 'Ido Shark'}),\n",
       "  Document(page_content='A feature documentary drama about enigmatic Rugby League legend Mark “SHARKO” Graham, and his filmmaker son, Luke. In his prime, Mark was the best rugby league player in the world. Known for his size, speed, skill and toughness, he was a predator in a sea of sharks. Mark changed the sport and carried his teams and country to the doorstep of greatness, while remaining a mystery to his biggest fan, his son.', metadata={'title': 'Sharko'}),\n",
       "  Document(page_content='A mafia drug lord has unleashed a new, highly addictive stimulant on the streets called HT25, derived from sharks held captive in a secret lab, and which causes monstrous side effects. After an explosion and leak at the lab, an army of mutated, bloodthirsty sharks and other creatures are set loose on the world.', metadata={'title': 'Cocaine Shark'}),\n",
       "  Document(page_content=\"Sea Monster pals Tickles and Toothy McGru can't seem to fit in with the fish in the reef. In fact they can't even figure out what types of fish they are! Could it have to do with Halloween? With the help of Fifi and Lily the pals set off on a quest to learn their true identity.  Get ready for an underwater Halloween adventure for the ages. It's Sea Monsters 3.\", metadata={'title': 'Sea Monsters 3'}),\n",
       "  Document(page_content='Amsterdam - a city known for its wild debauchery, legal sex and drugs, and sharks?! When sex and drug obsessed Tommy takes a trip to Amsterdam to visit a brothel in the Red Light District, he tries the newest experimental drug available on the black market that turns him into a HALF MAN, HALF SHARK, FULL ON KILLING MACHINE! Will the ladies of the brothel survive the night? Hope ya’ got your rubbers!', metadata={'title': 'Red Light District Shark Attack', 'tagline': 'Got Ya’ Rubbers?'}),\n",
       "  Document(page_content='A large number of sharks suddenly appeared in Japan in the new era of \"Reiwa\" and devoured the Japanese people. The battle of the last man in Japan begins.', metadata={'title': 'Reiwa Shark'}),\n",
       "  Document(page_content='In the shallow waters of the Red Sea, a happy-go-lucky fish is forced to set out on a journey to save the sea creatures from the soulless monster before it kills all life underwater', metadata={'title': 'The Menace From Above'}),\n",
       "  Document(page_content='A documentary discussing various so-called monsters around the world', metadata={'title': 'Scariest Monsters in the World', 'tagline': 'Sequel to Scariest Monsters in America'}),\n",
       "  Document(page_content='IN THE WHALE is a feature-length documentary film about arguably the greatest fish story ever told, though this one is true. It’s the account of Michael Packard, a Cape Cod fisherman, who survived to tell the tale of being swallowed by a whale, and what happened after he was spit out.', metadata={'title': 'In the Whale'}),\n",
       "  Document(page_content='A guy researches how to publish a movie onto TMDB', metadata={'title': 'A Movie With No Views On Letterboxd'}),\n",
       "  Document(page_content='Follows a group of surfer friends looking out for waves in a mysterious island that’s been erased from all maps.', metadata={'title': 'Pacific Fear'}),\n",
       "  Document(page_content='A collage film composed of archival materials invites viewers to the depths of the seas and oceans to encounter the surreal world. The observer, who has taken a walk underwater, finds himself the object of intense scrutiny with growing unease. The film was made in collaboration with composer Raquel García-Tomás.', metadata={'title': 'Sightings'}),\n",
       "  Document(page_content='The film follows renowned skipper Matt Knight, who teams up with world-class big wave surfer Andrew Cotton to adventure into the most dangerous waters of the Atlantic. Their journey is inspired by a passage in a 19th century treasure hunter’s journal. Joined by family and friends, the pair are faced with life-threatening challenges on their quest.', metadata={'title': 'Savage Waters'}),\n",
       "  Document(page_content='Movie that tries to answer the century old question - why do we love movies?', metadata={'title': 'Why Movies?'}),\n",
       "  Document(page_content='A filmmaker experiments with sand and dried fish to animate the state of fisherfolk in the Philippines.', metadata={'title': 'Because Sometimes, A Sea is Just a Salted, Sand-filled Slaughterhouse'}),\n",
       "  Document(page_content='A swimmer drops his sandwich in the pool, confronting his fear of water to get it back. But what starts as a quest for his snack turns into a desperate fight for breath and survival underwater.', metadata={'title': 'The Sandwich Symphony'}),\n",
       "  Document(page_content='A short film on the chaos that is happening in the world.', metadata={'title': 'JAWS OF HELL'}),\n",
       "  Document(page_content='Movie (Choke)', metadata={'title': 'Movie (Choke)'}),\n",
       "  Document(page_content='Squatch Junkies a movie about Bigfoot getting a hold of meth and moonshine and going wild.', metadata={'title': 'Squatch Junkies'}),\n",
       "  Document(page_content='I believe that there is a beast in each of us, and maybe several. This film tells about the animals that came to me and helped me cope with life.', metadata={'title': 'Beasts Inside'})],\n",
       " 'answer': \"1. **Sharksploitation**\\n2. **CHUM!**\\n3. **Sharkula**\\n4. **Baby Shark's Big Movie**\\n5. **Ouija Shark 2**\\n6. **Sharktopus**\\n7. **Narco Shark**\\n8. **Cocaine Shark**\\n9. **Reiwa Shark**\\n10. **Deep Fear**\\n11. **Ido Shark**\\n12. **Stock Shark**\\n13. **Older Than Trees**\\n14. **Sharko**\\n15. **Red Light District Shark Attack**\"}"
      ]
     },
     "execution_count": 18,
     "metadata": {},
     "output_type": "execute_result"
    }
   ],
   "source": [
    "movie_chain.invoke({\"input\": \"Find as many movies as you can about sharks.\"})"
   ]
  },
  {
   "cell_type": "code",
   "execution_count": 37,
   "id": "19c7ebe8-3810-4ef4-981b-884c07469f99",
   "metadata": {},
   "outputs": [
    {
     "name": "stderr",
     "output_type": "stream",
     "text": [
      "Warning: model not found. Using cl100k_base encoding.\n"
     ]
    },
    {
     "data": {
      "text/plain": [
       "{'input': 'Find as many movies as you can about high school.',\n",
       " 'context': [Document(page_content=\"V is a writer who doesn't write, P is an actor who doesn't act, so to fill the void they go and see old movies and tell each other it was better before.\", metadata={'title': 'Cary & James'}),\n",
       "  Document(page_content='Trouble with Johnny explores the recurrence of loop, tempo, and flicker. The project uses found footage as a method for emphasizing the cinematic collisions between audio and visual composition. Working within the margins of structural filmmaking, Trouble with Johnny creates a visceral experience of fragmented sounds and cyclical imagery.  Likewise, Trouble with Johnny functions as a parody of the mainstream movie industry. The source material derives from the 1980’s coming of age film, The Karate Kid. Throughout the story, the main antagonist, a bully who goes by the name “Johnny”, is revered by a dedicated clique of subservient underlings. Applied as an experimental technique, the repetitive use of the word “Johnny” draws attention to the stereotypical and recurring tropes found in many teen movies.', metadata={'title': 'Trouble with Johnny'}),\n",
       "  Document(page_content=\"Camila is a high school girl who lives life for no purpose. Her escape from reality goes back to the movie scripts she writes in her notebook. Bruno, a clumsy misfit dreamy boy, sets out to make friends with her, and upon discovering Camila's love for movies and stories, he proposes to create a movie.\", metadata={'title': 'Mi Ópera Prima'}),\n",
       "  Document(page_content='On May 18, 2023, Cuban movie posters were inscribed on the UNESCO Memory Of The World Register. Cine Libre tells the story of this invention and its creators.', metadata={'title': 'Cine Libre'}),\n",
       "  Document(page_content='An erotic film about the owner of a skincare shop who enslaves his customers and employees.', metadata={'title': 'Kim Jang-won Murder Case'}),\n",
       "  Document(page_content='A documentary on the rise and fall and recent return of sexy movies in Philippine cinema. Featuring interviews from the sexy movie icons of the past and the rising sexy stars of the present.', metadata={'title': 'Seksi: Pantasya at Pelikula'}),\n",
       "  Document(page_content=\"Alina is a movie sound engineer. One day she receives an offer to do the direct sound for an erotic film featuring Maria Black, a famous star of the genre who had already retired. When Maria has a heart attack and dies in the middle of the shoot, and the producers decide not to call the police, a series of sinister and unexpected events are unleashed that will endanger everyone's lives.\", metadata={'title': 'Maria'}),\n",
       "  Document(page_content='In an attempt to make a British version of the infamous STAB movies, a terrifying case of murders appears in a small town, with only one link between them all...', metadata={'title': \"Cooper Studios' Scream\", 'tagline': 'British Remakes Are Always The Best...'}),\n",
       "  Document(page_content='A cinematic essay interweaving private archive images and a mixture of reflective, speculative and poetic intertitles that, like “an old movie from the 20th century”, invites us to meditate on what Des Pallières once liked to call “our old homeland”.', metadata={'title': 'American Journal'}),\n",
       "  Document(page_content='Filmmaker and musician Carl Weingarten recounts growing up in St. Louis in the 1970s and his teenage hobby of shooting aerial movies with a Super8 camera mounted on top of model rockets. Decades before video cameras, GoPros and Drones, the film shows vintage Super8 footage and photographs, all shot, developed and edited with music composed by Weingarten for his DIY NASA inspired rocket launches and regional aerial photography explorations.', metadata={'title': 'The Rocket Movies'}),\n",
       "  Document(page_content='After her friend goes missing, Sadie discovers a killer on the loose may be connected to five star reviews on a particular movie.', metadata={'title': 'Five Stars'}),\n",
       "  Document(page_content='In this dialogue-driven, \"second coming of age\" comedic drama, Felix has all but given up on his pursuit of becoming a filmmaker when he meets Stella, a down to Earth, chain-smoking cinephile, whose unexpected friendship inspires him to start writing again–and falling for her. Never hesitating to take steps outside of reality through the use of movies within movies, found footage and action sequences, Mountainside is also a love letter to film itself.', metadata={'title': 'Mountainside'}),\n",
       "  Document(page_content='Iris, a mischievous and imaginative young girl, encounters a toddler who has ventured away from his parents, setting off a road movie filled with pills, cash, and a unicorn.', metadata={'title': 'Iris'}),\n",
       "  Document(page_content='Near Lunar New Year, Liang Zhe makes the long trek home to his village in rural Shanxi. Along the way, he encounters acquaintances, estranged friends, and potential love interests. Though everyone seems impressed by his life in Beijing, Zhe can’t help but reflect on his failures both past and present. Based on his own experiences, Jian Haodong’s take on the well-worn road movie genre is a melancholic and quietly engrossing journey of self-reflection, relatable to anyone who has left home for greener pastures. Best Film, Pingyao Film Festival.', metadata={'title': 'Night Falls'}),\n",
       "  Document(page_content='A road movie on a sailboat on the Conero: the film follows a group of friends, former classmates, who venture on a holiday in search of a lost paradise made of laughter, lightness and dreams. But the dynamics of the past and the tensions accumulated over the years are put to the test when a mysterious intruder joins their journey, bringing out sunken truths.', metadata={'title': 'La spiaggia dei gabbiani'}),\n",
       "  Document(page_content=\"Current and former collaborators of Cinusp — the movie theater inside University of Sao Paulo's main campus — tell some tales of its 30 years history.\", metadata={'title': 'Cinusp, 3 décadas de cinema'}),\n",
       "  Document(page_content=\"An unlucky musician returns back home on the day of his younger brother's movie premiere to steal and sell his computer to the paparazzi.\", metadata={'title': 'Shadow Brother Sunday'}),\n",
       "  Document(page_content=\"What does a man do who has dedicated over 70 years of his life to live in the world of movies when that whole world suddenly shuts down? When film productions stop and cinemas are closing. In this new restricted world of his, he spends his time going through his rich film archive and calls directors and actors around the whole world: Isabella Rossellini, John Sayles, Oliver Assayas and many more. A film about the film's ability to travel into other worlds and give us the strength to endure our own difficult existence.\", metadata={'title': 'The Movie Man'}),\n",
       "  Document(page_content=\"Mickey and Thomas, stars on the rise, and their friends and crew find themselves trapped in a deadly game by a killer who has dubbed himself 'The Auteur'.\", metadata={'title': 'Last Friday'}),\n",
       "  Document(page_content='Deliberately rebelling against no-frills entertainment films, the trio of Clara Winter, Miiel Ferráez, and Megan Marsh present themselves in their debut feature Wikiriders – an ironic road movie in which their alter egos cross Texas and Mexico in search of the legacy of colonialism. They ultimately encounter it in the form of an influential aristocratic family – a family far more alive than they would like.', metadata={'title': 'Wikiriders'})],\n",
       " 'answer': \"I found one movie related to high school:\\n1. **Mi Ópera Prima**: Camila is a high school girl who lives life for no purpose. Her escape from reality goes back to the movie scripts she writes in her notebook. Bruno, a clumsy misfit dreamy boy, sets out to make friends with her, and upon discovering Camila's love for movies and stories, he proposes to create a movie.\"}"
      ]
     },
     "execution_count": 37,
     "metadata": {},
     "output_type": "execute_result"
    }
   ],
   "source": [
    "theme_group_chain.invoke({\"input\": \"Find as many movies as you can about high school.\"})"
   ]
  },
  {
   "cell_type": "code",
   "execution_count": 20,
   "id": "28e5225a-41e8-4967-acdc-00c34f4aeb5e",
   "metadata": {},
   "outputs": [
    {
     "name": "stderr",
     "output_type": "stream",
     "text": [
      "Warning: model not found. Using cl100k_base encoding.\n"
     ]
    },
    {
     "data": {
      "text/plain": [
       "{'input': 'Find as many movies as you can about high school.',\n",
       " 'context': [Document(page_content=\"V is a writer who doesn't write, P is an actor who doesn't act, so to fill the void they go and see old movies and tell each other it was better before.\", metadata={'title': 'Cary & James'}),\n",
       "  Document(page_content='Trouble with Johnny explores the recurrence of loop, tempo, and flicker. The project uses found footage as a method for emphasizing the cinematic collisions between audio and visual composition. Working within the margins of structural filmmaking, Trouble with Johnny creates a visceral experience of fragmented sounds and cyclical imagery.  Likewise, Trouble with Johnny functions as a parody of the mainstream movie industry. The source material derives from the 1980’s coming of age film, The Karate Kid. Throughout the story, the main antagonist, a bully who goes by the name “Johnny”, is revered by a dedicated clique of subservient underlings. Applied as an experimental technique, the repetitive use of the word “Johnny” draws attention to the stereotypical and recurring tropes found in many teen movies.', metadata={'title': 'Trouble with Johnny'}),\n",
       "  Document(page_content=\"Camila is a high school girl who lives life for no purpose. Her escape from reality goes back to the movie scripts she writes in her notebook. Bruno, a clumsy misfit dreamy boy, sets out to make friends with her, and upon discovering Camila's love for movies and stories, he proposes to create a movie.\", metadata={'title': 'Mi Ópera Prima'}),\n",
       "  Document(page_content='On May 18, 2023, Cuban movie posters were inscribed on the UNESCO Memory Of The World Register. Cine Libre tells the story of this invention and its creators.', metadata={'title': 'Cine Libre'}),\n",
       "  Document(page_content='An erotic film about the owner of a skincare shop who enslaves his customers and employees.', metadata={'title': 'Kim Jang-won Murder Case'}),\n",
       "  Document(page_content='A documentary on the rise and fall and recent return of sexy movies in Philippine cinema. Featuring interviews from the sexy movie icons of the past and the rising sexy stars of the present.', metadata={'title': 'Seksi: Pantasya at Pelikula'}),\n",
       "  Document(page_content=\"Alina is a movie sound engineer. One day she receives an offer to do the direct sound for an erotic film featuring Maria Black, a famous star of the genre who had already retired. When Maria has a heart attack and dies in the middle of the shoot, and the producers decide not to call the police, a series of sinister and unexpected events are unleashed that will endanger everyone's lives.\", metadata={'title': 'Maria'}),\n",
       "  Document(page_content='In an attempt to make a British version of the infamous STAB movies, a terrifying case of murders appears in a small town, with only one link between them all...', metadata={'title': \"Cooper Studios' Scream\", 'tagline': 'British Remakes Are Always The Best...'}),\n",
       "  Document(page_content='A cinematic essay interweaving private archive images and a mixture of reflective, speculative and poetic intertitles that, like “an old movie from the 20th century”, invites us to meditate on what Des Pallières once liked to call “our old homeland”.', metadata={'title': 'American Journal'}),\n",
       "  Document(page_content='Filmmaker and musician Carl Weingarten recounts growing up in St. Louis in the 1970s and his teenage hobby of shooting aerial movies with a Super8 camera mounted on top of model rockets. Decades before video cameras, GoPros and Drones, the film shows vintage Super8 footage and photographs, all shot, developed and edited with music composed by Weingarten for his DIY NASA inspired rocket launches and regional aerial photography explorations.', metadata={'title': 'The Rocket Movies'}),\n",
       "  Document(page_content='After her friend goes missing, Sadie discovers a killer on the loose may be connected to five star reviews on a particular movie.', metadata={'title': 'Five Stars'}),\n",
       "  Document(page_content='In this dialogue-driven, \"second coming of age\" comedic drama, Felix has all but given up on his pursuit of becoming a filmmaker when he meets Stella, a down to Earth, chain-smoking cinephile, whose unexpected friendship inspires him to start writing again–and falling for her. Never hesitating to take steps outside of reality through the use of movies within movies, found footage and action sequences, Mountainside is also a love letter to film itself.', metadata={'title': 'Mountainside'}),\n",
       "  Document(page_content='Iris, a mischievous and imaginative young girl, encounters a toddler who has ventured away from his parents, setting off a road movie filled with pills, cash, and a unicorn.', metadata={'title': 'Iris'}),\n",
       "  Document(page_content='Near Lunar New Year, Liang Zhe makes the long trek home to his village in rural Shanxi. Along the way, he encounters acquaintances, estranged friends, and potential love interests. Though everyone seems impressed by his life in Beijing, Zhe can’t help but reflect on his failures both past and present. Based on his own experiences, Jian Haodong’s take on the well-worn road movie genre is a melancholic and quietly engrossing journey of self-reflection, relatable to anyone who has left home for greener pastures. Best Film, Pingyao Film Festival.', metadata={'title': 'Night Falls'}),\n",
       "  Document(page_content='A road movie on a sailboat on the Conero: the film follows a group of friends, former classmates, who venture on a holiday in search of a lost paradise made of laughter, lightness and dreams. But the dynamics of the past and the tensions accumulated over the years are put to the test when a mysterious intruder joins their journey, bringing out sunken truths.', metadata={'title': 'La spiaggia dei gabbiani'}),\n",
       "  Document(page_content=\"Current and former collaborators of Cinusp — the movie theater inside University of Sao Paulo's main campus — tell some tales of its 30 years history.\", metadata={'title': 'Cinusp, 3 décadas de cinema'}),\n",
       "  Document(page_content=\"An unlucky musician returns back home on the day of his younger brother's movie premiere to steal and sell his computer to the paparazzi.\", metadata={'title': 'Shadow Brother Sunday'}),\n",
       "  Document(page_content=\"What does a man do who has dedicated over 70 years of his life to live in the world of movies when that whole world suddenly shuts down? When film productions stop and cinemas are closing. In this new restricted world of his, he spends his time going through his rich film archive and calls directors and actors around the whole world: Isabella Rossellini, John Sayles, Oliver Assayas and many more. A film about the film's ability to travel into other worlds and give us the strength to endure our own difficult existence.\", metadata={'title': 'The Movie Man'}),\n",
       "  Document(page_content=\"Mickey and Thomas, stars on the rise, and their friends and crew find themselves trapped in a deadly game by a killer who has dubbed himself 'The Auteur'.\", metadata={'title': 'Last Friday'}),\n",
       "  Document(page_content='Deliberately rebelling against no-frills entertainment films, the trio of Clara Winter, Miiel Ferráez, and Megan Marsh present themselves in their debut feature Wikiriders – an ironic road movie in which their alter egos cross Texas and Mexico in search of the legacy of colonialism. They ultimately encounter it in the form of an influential aristocratic family – a family far more alive than they would like.', metadata={'title': 'Wikiriders'})],\n",
       " 'answer': \"I found one movie related to high school:\\n1. **Mi Ópera Prima**: Camila is a high school girl who lives life for no purpose. Her escape from reality goes back to the movie scripts she writes in her notebook. Bruno, a clumsy misfit dreamy boy, sets out to make friends with her, and upon discovering Camila's love for movies and stories, he proposes to create a movie.\"}"
      ]
     },
     "execution_count": 20,
     "metadata": {},
     "output_type": "execute_result"
    }
   ],
   "source": [
    "summary_chain.invoke({\"input\": \"Find as many movies as you can about high school.\"})"
   ]
  },
  {
   "cell_type": "code",
   "execution_count": null,
   "id": "ffb1859e-9db1-4e52-8c33-0c6c32e902e4",
   "metadata": {},
   "outputs": [],
   "source": []
  }
 ],
 "metadata": {
  "kernelspec": {
   "display_name": "chatbot",
   "language": "python",
   "name": "chatbot"
  },
  "language_info": {
   "codemirror_mode": {
    "name": "ipython",
    "version": 3
   },
   "file_extension": ".py",
   "mimetype": "text/x-python",
   "name": "python",
   "nbconvert_exporter": "python",
   "pygments_lexer": "ipython3",
   "version": "3.11.7"
  }
 },
 "nbformat": 4,
 "nbformat_minor": 5
}
